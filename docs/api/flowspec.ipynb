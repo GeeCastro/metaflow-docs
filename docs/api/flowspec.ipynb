{
 "cells": [
  {
   "cell_type": "markdown",
   "id": "eb7388b6",
   "metadata": {},
   "source": [
    "# FlowSpec - Constructing flows"
   ]
  },
  {
   "cell_type": "markdown",
   "id": "576777f8",
   "metadata": {},
   "source": [
    "Metaflow [flows are defined](/metaflow/basics) by inhering from the `FlowSpec` class:\n",
    "```python\n",
    "from metaflow import FlowSpec, step\n",
    "\n",
    "class MyFlow(FlowSpec):\n",
    "\n",
    "    @step\n",
    "    def start(self):\n",
    "        self.next(self.end)\n",
    "       \n",
    "    @step\n",
    "    def end(self):\n",
    "        pass\n",
    "\n",
    "if __name__ == '__main__':\n",
    "    MyFlow()\n",
    "```\n",
    "\n",
    "This class has no other uses. It can't be instantiated directly.\n",
    "\n",
    "`FlowSpec` exposes a few methods and attributes that you can use to construct a flow, which are listed below. You can add more functionality in your flows through [decorators](decorators). To query and manipulate the currently executing run inside your flow, see the [`current`](current) object. To access results produced by a flow, see the [Client API](client)."
   ]
  },
  {
   "cell_type": "code",
   "execution_count": 1,
   "id": "a5ef9454",
   "metadata": {
    "execution": {
     "iopub.execute_input": "2022-07-25T22:37:50.258787Z",
     "iopub.status.busy": "2022-07-25T22:37:50.256860Z",
     "iopub.status.idle": "2022-07-25T22:37:51.283015Z",
     "shell.execute_reply": "2022-07-25T22:37:51.284484Z"
    }
   },
   "outputs": [
    {
     "data": {
      "text/plain": [
       "'0.0.82'"
      ]
     },
     "execution_count": 1,
     "metadata": {},
     "output_type": "execute_result"
    }
   ],
   "source": [
    "#meta:tag=hide\n",
    "from functools import partial\n",
    "from nbdoc.showdoc import ShowDoc\n",
    "ShowDoc = partial(ShowDoc, module_nm='metaflow')\n",
    "from metaflow import FlowSpec\n",
    "import nbdoc\n",
    "nbdoc.__version__"
   ]
  },
  {
   "cell_type": "markdown",
   "id": "5eb37ad8",
   "metadata": {},
   "source": [
    "### Defining a workflow"
   ]
  },
  {
   "cell_type": "markdown",
   "id": "6437a330",
   "metadata": {},
   "source": [
    "Annotate methods that are a part of your Metaflow workflow with [the `@step` decorator](/api/step-decorators/step). Use `FlowSpec.next` to define transitions between steps:"
   ]
  },
  {
   "cell_type": "code",
   "execution_count": 2,
   "id": "5ff62112",
   "metadata": {
    "execution": {
     "iopub.execute_input": "2022-07-25T22:37:51.293476Z",
     "iopub.status.busy": "2022-07-25T22:37:51.291399Z",
     "iopub.status.idle": "2022-07-25T22:37:51.301687Z",
     "shell.execute_reply": "2022-07-25T22:37:51.303062Z"
    }
   },
   "outputs": [
    {
     "data": {
      "text/html": [
       "<HTMLRemove>\n",
       "<h4> <code>method</code> <span style=\"color:Brown\">FlowSpec.next</span> <em>*dsts, foreach=None</em><a href=\"https://github.com/Netflix/metaflow/tree/master/metaflow/flowspec.py#L492\" style=\"float:right\">[source]</a></h4><p><blockquote>Indicates&nbsp;the&nbsp;next&nbsp;step&nbsp;to&nbsp;execute&nbsp;after&nbsp;this&nbsp;step&nbsp;has&nbsp;completed.<br><br>This&nbsp;statement&nbsp;should&nbsp;appear&nbsp;as&nbsp;the&nbsp;last&nbsp;statement&nbsp;of&nbsp;each&nbsp;step,&nbsp;except<br>the&nbsp;end&nbsp;step.<br><br>There&nbsp;are&nbsp;several&nbsp;valid&nbsp;formats&nbsp;to&nbsp;specify&nbsp;the&nbsp;next&nbsp;step:<br><br>-&nbsp;Straight-line&nbsp;connection:&nbsp;`self.next(self.next_step)`&nbsp;where&nbsp;`next_step`&nbsp;is&nbsp;a&nbsp;method&nbsp;in<br>&nbsp;&nbsp;the&nbsp;current&nbsp;class&nbsp;decorated&nbsp;with&nbsp;the&nbsp;`@step`&nbsp;decorator.<br><br>-&nbsp;Static&nbsp;fan-out&nbsp;connection:&nbsp;`self.next(self.step1,&nbsp;self.step2,&nbsp;...)`&nbsp;where&nbsp;`stepX`&nbsp;are<br>&nbsp;&nbsp;methods&nbsp;in&nbsp;the&nbsp;current&nbsp;class&nbsp;decorated&nbsp;with&nbsp;the&nbsp;`@step`&nbsp;decorator.<br><br>-&nbsp;Foreach&nbsp;branch:<br>&nbsp;&nbsp;```<br>&nbsp;&nbsp;self.next(self.foreach_step,&nbsp;foreach='foreach_iterator')<br>&nbsp;&nbsp;```<br>&nbsp;&nbsp;In&nbsp;this&nbsp;situation,&nbsp;`foreach_step`&nbsp;is&nbsp;a&nbsp;method&nbsp;in&nbsp;the&nbsp;current&nbsp;class&nbsp;decorated&nbsp;with&nbsp;the<br>&nbsp;&nbsp;`@step`&nbsp;docorator&nbsp;and&nbsp;`foreach_iterator`&nbsp;is&nbsp;a&nbsp;variable&nbsp;name&nbsp;in&nbsp;the&nbsp;current&nbsp;class&nbsp;that<br>&nbsp;&nbsp;evaluates&nbsp;to&nbsp;an&nbsp;iterator.&nbsp;A&nbsp;task&nbsp;will&nbsp;be&nbsp;launched&nbsp;for&nbsp;each&nbsp;value&nbsp;in&nbsp;the&nbsp;iterator&nbsp;and<br>&nbsp;&nbsp;each&nbsp;task&nbsp;will&nbsp;execute&nbsp;the&nbsp;code&nbsp;specified&nbsp;by&nbsp;the&nbsp;step&nbsp;`foreach_step`.<br><br>Parameters<br>----------<br>dsts&nbsp;:&nbsp;Method<br>&nbsp;&nbsp;&nbsp;&nbsp;One&nbsp;or&nbsp;more&nbsp;methods&nbsp;annotated&nbsp;with&nbsp;`@step`.<br><br>Raises<br>------<br>InvalidNextException<br>&nbsp;&nbsp;&nbsp;&nbsp;Raised&nbsp;if&nbsp;the&nbsp;format&nbsp;of&nbsp;the&nbsp;arguments&nbsp;does&nbsp;not&nbsp;match&nbsp;one&nbsp;of&nbsp;the&nbsp;ones&nbsp;given&nbsp;above.</blockquote></p>\n",
       "</HTMLRemove>\n",
       "<DocSection type=\"method\" name=\"FlowSpec.next\" module=\"metaflow\" show_import=\"False\" heading_level=\"4\" link=\"https://github.com/Netflix/metaflow/tree/master/metaflow/flowspec.py#L492\">\n",
       "<SigArgSection>\n",
       "<SigArg name=\"*dsts, foreach=None\" />\n",
       "</SigArgSection>\n",
       "<Description summary=\"Indicates the next step to execute after this step has completed.\" extended_summary=\"This statement should appear as the last statement of each step, except\\nthe end step.\\n\\nThere are several valid formats to specify the next step:\\n\\n- Straight-line connection: `self.next(self.next_step)` where `next_step` is a method in\\n  the current class decorated with the `@step` decorator.\\n\\n- Static fan-out connection: `self.next(self.step1, self.step2, ...)` where `stepX` are\\n  methods in the current class decorated with the `@step` decorator.\\n\\n- Foreach branch:\\n  ```\\n  self.next(self.foreach_step, foreach='foreach_iterator')\\n  ```\\n  In this situation, `foreach_step` is a method in the current class decorated with the\\n  `@step` docorator and `foreach_iterator` is a variable name in the current class that\\n  evaluates to an iterator. A task will be launched for each value in the iterator and\\n  each task will execute the code specified by the step `foreach_step`.\" />\n",
       "<ParamSection name=\"Parameters\">\n",
       "\t<Parameter name=\"dsts\" type=\"Method\" desc=\"One or more methods annotated with `@step`.\" />\n",
       "</ParamSection>\n",
       "<ParamSection name=\"Raises\">\n",
       "\t<Parameter type=\"InvalidNextException\" desc=\"Raised if the format of the arguments does not match one of the ones given above.\" />\n",
       "</ParamSection>\n",
       "</DocSection>"
      ],
      "text/plain": [
       "<nbdoc.showdoc.ShowDoc at 0x7fac5cdb07c0>"
      ]
     },
     "execution_count": 2,
     "metadata": {},
     "output_type": "execute_result"
    }
   ],
   "source": [
    "ShowDoc(FlowSpec.next, spoofstr=('*dsts, foreach=None'))"
   ]
  },
  {
   "cell_type": "markdown",
   "id": "0a58fbeb",
   "metadata": {},
   "source": [
    "### Working with foreaches\n",
    "\n",
    "Use the operations below, `FlowSpec.input`, `FlowSpec.index`, and `FlowSpec.foreach_stack` to query the status of the currently executing foreach branch. Use `FlowSpec.merge_artifacts()` to handle incoming artifacts in a join step."
   ]
  },
  {
   "cell_type": "code",
   "execution_count": 3,
   "id": "64fcbf33",
   "metadata": {
    "execution": {
     "iopub.execute_input": "2022-07-25T22:37:51.309309Z",
     "iopub.status.busy": "2022-07-25T22:37:51.307938Z",
     "iopub.status.idle": "2022-07-25T22:37:51.312531Z",
     "shell.execute_reply": "2022-07-25T22:37:51.313482Z"
    }
   },
   "outputs": [
    {
     "data": {
      "text/html": [
       "<HTMLRemove>\n",
       "<h4> <code>property</code> <span style=\"color:Brown\">FlowSpec.input</span> <em></em><a href=\"https://github.com/Netflix/metaflow/tree/master/\" style=\"float:right\">[source]</a></h4><p><blockquote>The&nbsp;value&nbsp;of&nbsp;the&nbsp;foreach&nbsp;artifact&nbsp;in&nbsp;this&nbsp;foreach&nbsp;branch.<br><br>In&nbsp;a&nbsp;foreach&nbsp;step,&nbsp;multiple&nbsp;instances&nbsp;of&nbsp;this&nbsp;step&nbsp;(tasks)&nbsp;will&nbsp;be&nbsp;executed,<br>one&nbsp;for&nbsp;each&nbsp;element&nbsp;in&nbsp;the&nbsp;foreach.&nbsp;This&nbsp;property&nbsp;returns&nbsp;the&nbsp;element&nbsp;passed<br>to&nbsp;the&nbsp;current&nbsp;task.&nbsp;If&nbsp;this&nbsp;is&nbsp;not&nbsp;a&nbsp;foreach&nbsp;step,&nbsp;this&nbsp;returns&nbsp;None.<br><br>If&nbsp;you&nbsp;need&nbsp;to&nbsp;know&nbsp;the&nbsp;values&nbsp;of&nbsp;the&nbsp;parent&nbsp;tasks&nbsp;in&nbsp;a&nbsp;nested&nbsp;foreach,&nbsp;use<br>`FlowSpec.foreach_stack`.<br><br>Returns<br>-------<br>object<br>&nbsp;&nbsp;&nbsp;&nbsp;Input&nbsp;passed&nbsp;to&nbsp;the&nbsp;foreach&nbsp;task.</blockquote></p>\n",
       "</HTMLRemove>\n",
       "<DocSection type=\"property\" name=\"FlowSpec.input\" module=\"metaflow.flowspec\" show_import=\"False\" heading_level=\"4\" link=\"https://github.com/Netflix/metaflow/tree/master/\">\n",
       "\n",
       "<Description summary=\"The value of the foreach artifact in this foreach branch.\\n\\nIn a foreach step, multiple instances of this step (tasks) will be executed,\\none for each element in the foreach. This property returns the element passed\\nto the current task. If this is not a foreach step, this returns None.\\n\\nIf you need to know the values of the parent tasks in a nested foreach, use\\n`FlowSpec.foreach_stack`.\\n\" />\n",
       "<ParamSection name=\"Returns\">\n",
       "<Parameter type=\"object\" desc=\"Input passed to the foreach task.\" />\n",
       "</ParamSection>\n",
       "</DocSection>"
      ],
      "text/plain": [
       "<nbdoc.showdoc.ShowDoc at 0x7fac5cdb0100>"
      ]
     },
     "execution_count": 3,
     "metadata": {},
     "output_type": "execute_result"
    }
   ],
   "source": [
    "ShowDoc(FlowSpec.input)"
   ]
  },
  {
   "cell_type": "code",
   "execution_count": 4,
   "id": "13dacb8d",
   "metadata": {
    "execution": {
     "iopub.execute_input": "2022-07-25T22:37:51.319395Z",
     "iopub.status.busy": "2022-07-25T22:37:51.318173Z",
     "iopub.status.idle": "2022-07-25T22:37:51.322320Z",
     "shell.execute_reply": "2022-07-25T22:37:51.323246Z"
    }
   },
   "outputs": [
    {
     "data": {
      "text/html": [
       "<HTMLRemove>\n",
       "<h4> <code>property</code> <span style=\"color:Brown\">FlowSpec.index</span> <em></em><a href=\"https://github.com/Netflix/metaflow/tree/master/\" style=\"float:right\">[source]</a></h4><p><blockquote>The&nbsp;index&nbsp;of&nbsp;this&nbsp;foreach&nbsp;branch.<br><br>In&nbsp;a&nbsp;foreach&nbsp;step,&nbsp;multiple&nbsp;instances&nbsp;of&nbsp;this&nbsp;step&nbsp;(tasks)&nbsp;will&nbsp;be&nbsp;executed,<br>one&nbsp;for&nbsp;each&nbsp;element&nbsp;in&nbsp;the&nbsp;foreach.&nbsp;This&nbsp;property&nbsp;returns&nbsp;the&nbsp;zero&nbsp;based&nbsp;index<br>of&nbsp;the&nbsp;current&nbsp;task.&nbsp;If&nbsp;this&nbsp;is&nbsp;not&nbsp;a&nbsp;foreach&nbsp;step,&nbsp;this&nbsp;returns&nbsp;None.<br><br>If&nbsp;you&nbsp;need&nbsp;to&nbsp;know&nbsp;the&nbsp;indices&nbsp;of&nbsp;the&nbsp;parent&nbsp;tasks&nbsp;in&nbsp;a&nbsp;nested&nbsp;foreach,&nbsp;use<br>`FlowSpec.foreach_stack`.<br><br>Returns<br>-------<br>int<br>&nbsp;&nbsp;&nbsp;&nbsp;Index&nbsp;of&nbsp;the&nbsp;task&nbsp;in&nbsp;a&nbsp;foreach&nbsp;step.</blockquote></p>\n",
       "</HTMLRemove>\n",
       "<DocSection type=\"property\" name=\"FlowSpec.index\" module=\"metaflow.flowspec\" show_import=\"False\" heading_level=\"4\" link=\"https://github.com/Netflix/metaflow/tree/master/\">\n",
       "\n",
       "<Description summary=\"The index of this foreach branch.\\n\\nIn a foreach step, multiple instances of this step (tasks) will be executed,\\none for each element in the foreach. This property returns the zero based index\\nof the current task. If this is not a foreach step, this returns None.\\n\\nIf you need to know the indices of the parent tasks in a nested foreach, use\\n`FlowSpec.foreach_stack`.\\n\" />\n",
       "<ParamSection name=\"Returns\">\n",
       "<Parameter type=\"int\" desc=\"Index of the task in a foreach step.\" />\n",
       "</ParamSection>\n",
       "</DocSection>"
      ],
      "text/plain": [
       "<nbdoc.showdoc.ShowDoc at 0x7fac5cdb03d0>"
      ]
     },
     "execution_count": 4,
     "metadata": {},
     "output_type": "execute_result"
    }
   ],
   "source": [
    "ShowDoc(FlowSpec.index)"
   ]
  },
  {
   "cell_type": "code",
   "execution_count": 5,
   "id": "684b4601",
   "metadata": {
    "execution": {
     "iopub.execute_input": "2022-07-25T22:37:51.329214Z",
     "iopub.status.busy": "2022-07-25T22:37:51.327770Z",
     "iopub.status.idle": "2022-07-25T22:37:51.334219Z",
     "shell.execute_reply": "2022-07-25T22:37:51.333254Z"
    }
   },
   "outputs": [
    {
     "data": {
      "text/html": [
       "<HTMLRemove>\n",
       "<h4> <code>method</code> <span style=\"color:Brown\">FlowSpec.foreach_stack</span> <em>(self)</em><a href=\"https://github.com/Netflix/metaflow/tree/master/metaflow/flowspec.py#L273\" style=\"float:right\">[source]</a></h4><p><blockquote>Returns&nbsp;the&nbsp;current&nbsp;stack&nbsp;of&nbsp;foreach&nbsp;indexes&nbsp;and&nbsp;values&nbsp;for&nbsp;the&nbsp;current&nbsp;step.<br><br>Use&nbsp;this&nbsp;information&nbsp;to&nbsp;understand&nbsp;what&nbsp;data&nbsp;is&nbsp;being&nbsp;processed&nbsp;in&nbsp;the&nbsp;current<br>foreach&nbsp;branch.&nbsp;For&nbsp;example,&nbsp;considering&nbsp;the&nbsp;following&nbsp;code:<br>```<br>@step<br>def&nbsp;root(self):<br>&nbsp;&nbsp;&nbsp;&nbsp;self.split_1&nbsp;=&nbsp;['a',&nbsp;'b',&nbsp;'c']<br>&nbsp;&nbsp;&nbsp;&nbsp;self.next(self.nest_1,&nbsp;foreach='split_1')<br><br>@step<br>def&nbsp;nest_1(self):<br>&nbsp;&nbsp;&nbsp;&nbsp;self.split_2&nbsp;=&nbsp;['d',&nbsp;'e',&nbsp;'f',&nbsp;'g']<br>&nbsp;&nbsp;&nbsp;&nbsp;self.next(self.nest_2,&nbsp;foreach='split_2'):<br><br>@step<br>def&nbsp;nest_2(self):<br>&nbsp;&nbsp;&nbsp;&nbsp;foo&nbsp;=&nbsp;self.foreach_stack()<br>```<br><br>`foo`&nbsp;will&nbsp;take&nbsp;the&nbsp;following&nbsp;values&nbsp;in&nbsp;the&nbsp;various&nbsp;tasks&nbsp;for&nbsp;nest_2:<br>```<br>&nbsp;&nbsp;&nbsp;&nbsp;[(0,&nbsp;3,&nbsp;'a'),&nbsp;(0,&nbsp;4,&nbsp;'d')]<br>&nbsp;&nbsp;&nbsp;&nbsp;[(0,&nbsp;3,&nbsp;'a'),&nbsp;(1,&nbsp;4,&nbsp;'e')]<br>&nbsp;&nbsp;&nbsp;&nbsp;...<br>&nbsp;&nbsp;&nbsp;&nbsp;[(0,&nbsp;3,&nbsp;'a'),&nbsp;(3,&nbsp;4,&nbsp;'g')]<br>&nbsp;&nbsp;&nbsp;&nbsp;[(1,&nbsp;3,&nbsp;'b'),&nbsp;(0,&nbsp;4,&nbsp;'d')]<br>&nbsp;&nbsp;&nbsp;&nbsp;...<br>```<br>where&nbsp;each&nbsp;tuple&nbsp;corresponds&nbsp;to:<br><br>-&nbsp;The&nbsp;index&nbsp;of&nbsp;the&nbsp;task&nbsp;for&nbsp;that&nbsp;level&nbsp;of&nbsp;the&nbsp;loop.<br>-&nbsp;The&nbsp;number&nbsp;of&nbsp;splits&nbsp;for&nbsp;that&nbsp;level&nbsp;of&nbsp;the&nbsp;loop.<br>-&nbsp;The&nbsp;value&nbsp;for&nbsp;that&nbsp;level&nbsp;of&nbsp;the&nbsp;loop.<br><br>Note&nbsp;that&nbsp;the&nbsp;last&nbsp;tuple&nbsp;returned&nbsp;in&nbsp;a&nbsp;task&nbsp;corresponds&nbsp;to:<br><br>-&nbsp;1st&nbsp;element:&nbsp;value&nbsp;returned&nbsp;by&nbsp;`self.index`.<br>-&nbsp;3rd&nbsp;element:&nbsp;value&nbsp;returned&nbsp;by&nbsp;`self.input`.<br><br>Returns<br>-------<br>List[Tuple[int,&nbsp;int,&nbsp;object]]<br>&nbsp;&nbsp;&nbsp;&nbsp;An&nbsp;array&nbsp;describing&nbsp;the&nbsp;current&nbsp;stack&nbsp;of&nbsp;foreach&nbsp;steps.</blockquote></p>\n",
       "</HTMLRemove>\n",
       "<DocSection type=\"method\" name=\"FlowSpec.foreach_stack\" module=\"metaflow\" show_import=\"False\" heading_level=\"4\" link=\"https://github.com/Netflix/metaflow/tree/master/metaflow/flowspec.py#L273\">\n",
       "<SigArgSection>\n",
       "<SigArg name=\"self\" />\n",
       "</SigArgSection>\n",
       "<Description summary=\"Returns the current stack of foreach indexes and values for the current step.\" extended_summary=\"Use this information to understand what data is being processed in the current\\nforeach branch. For example, considering the following code:\\n```\\n@step\\ndef root(self):\\n    self.split_1 = ['a', 'b', 'c']\\n    self.next(self.nest_1, foreach='split_1')\\n\\n@step\\ndef nest_1(self):\\n    self.split_2 = ['d', 'e', 'f', 'g']\\n    self.next(self.nest_2, foreach='split_2'):\\n\\n@step\\ndef nest_2(self):\\n    foo = self.foreach_stack()\\n```\\n\\n`foo` will take the following values in the various tasks for nest_2:\\n```\\n    [(0, 3, 'a'), (0, 4, 'd')]\\n    [(0, 3, 'a'), (1, 4, 'e')]\\n    ...\\n    [(0, 3, 'a'), (3, 4, 'g')]\\n    [(1, 3, 'b'), (0, 4, 'd')]\\n    ...\\n```\\nwhere each tuple corresponds to:\\n\\n- The index of the task for that level of the loop.\\n- The number of splits for that level of the loop.\\n- The value for that level of the loop.\\n\\nNote that the last tuple returned in a task corresponds to:\\n\\n- 1st element: value returned by `self.index`.\\n- 3rd element: value returned by `self.input`.\" />\n",
       "<ParamSection name=\"Returns\">\n",
       "\t<Parameter type=\"List[Tuple[int, int, object]]\" desc=\"An array describing the current stack of foreach steps.\" />\n",
       "</ParamSection>\n",
       "</DocSection>"
      ],
      "text/plain": [
       "<nbdoc.showdoc.ShowDoc at 0x7fac5cdb0eb0>"
      ]
     },
     "execution_count": 5,
     "metadata": {},
     "output_type": "execute_result"
    }
   ],
   "source": [
    "ShowDoc(FlowSpec.foreach_stack)"
   ]
  },
  {
   "cell_type": "code",
   "execution_count": 6,
   "id": "e45999eb",
   "metadata": {
    "execution": {
     "iopub.execute_input": "2022-07-25T22:37:51.340084Z",
     "iopub.status.busy": "2022-07-25T22:37:51.338831Z",
     "iopub.status.idle": "2022-07-25T22:37:51.345904Z",
     "shell.execute_reply": "2022-07-25T22:37:51.347130Z"
    }
   },
   "outputs": [
    {
     "data": {
      "text/html": [
       "<HTMLRemove>\n",
       "<h4> <code>method</code> <span style=\"color:Brown\">FlowSpec.merge_artifacts</span> <em>(self, inputs, exclude=[], include=[])</em><a href=\"https://github.com/Netflix/metaflow/tree/master/metaflow/flowspec.py#L357\" style=\"float:right\">[source]</a></h4><p><blockquote>Helper&nbsp;function&nbsp;for&nbsp;merging&nbsp;artifacts&nbsp;in&nbsp;a&nbsp;join&nbsp;step.<br><br>This&nbsp;function&nbsp;takes&nbsp;all&nbsp;the&nbsp;artifacts&nbsp;coming&nbsp;from&nbsp;the&nbsp;branches&nbsp;of&nbsp;a<br>join&nbsp;point&nbsp;and&nbsp;assigns&nbsp;them&nbsp;to&nbsp;self&nbsp;in&nbsp;the&nbsp;calling&nbsp;step.&nbsp;Only&nbsp;artifacts<br>not&nbsp;set&nbsp;in&nbsp;the&nbsp;current&nbsp;step&nbsp;are&nbsp;considered.&nbsp;If,&nbsp;for&nbsp;a&nbsp;given&nbsp;artifact,&nbsp;different<br>values&nbsp;are&nbsp;present&nbsp;on&nbsp;the&nbsp;incoming&nbsp;edges,&nbsp;an&nbsp;error&nbsp;will&nbsp;be&nbsp;thrown&nbsp;and&nbsp;the&nbsp;artifacts<br>that&nbsp;conflict&nbsp;will&nbsp;be&nbsp;reported.<br><br>As&nbsp;a&nbsp;few&nbsp;examples,&nbsp;in&nbsp;the&nbsp;simple&nbsp;graph:&nbsp;A&nbsp;splitting&nbsp;into&nbsp;B&nbsp;and&nbsp;C&nbsp;and&nbsp;joining&nbsp;in&nbsp;D:<br>```<br>A:<br>&nbsp;&nbsp;self.x&nbsp;=&nbsp;5<br>&nbsp;&nbsp;self.y&nbsp;=&nbsp;6<br>B:<br>&nbsp;&nbsp;self.b_var&nbsp;=&nbsp;1<br>&nbsp;&nbsp;self.x&nbsp;=&nbsp;from_b<br>C:<br>&nbsp;&nbsp;self.x&nbsp;=&nbsp;from_c<br><br>D:<br>&nbsp;&nbsp;merge_artifacts(inputs)<br>```<br>In&nbsp;D,&nbsp;the&nbsp;following&nbsp;artifacts&nbsp;are&nbsp;set:<br>&nbsp;&nbsp;-&nbsp;`y`&nbsp;(value:&nbsp;6),&nbsp;`b_var`&nbsp;(value:&nbsp;1)<br>&nbsp;&nbsp;-&nbsp;if&nbsp;`from_b`&nbsp;and&nbsp;`from_c`&nbsp;are&nbsp;the&nbsp;same,&nbsp;`x`&nbsp;will&nbsp;be&nbsp;accessible&nbsp;and&nbsp;have&nbsp;value&nbsp;`from_b`<br>&nbsp;&nbsp;-&nbsp;if&nbsp;`from_b`&nbsp;and&nbsp;`from_c`&nbsp;are&nbsp;different,&nbsp;an&nbsp;error&nbsp;will&nbsp;be&nbsp;thrown.&nbsp;To&nbsp;prevent&nbsp;this&nbsp;error,<br>&nbsp;&nbsp;&nbsp;&nbsp;you&nbsp;need&nbsp;to&nbsp;manually&nbsp;set&nbsp;`self.x`&nbsp;in&nbsp;D&nbsp;to&nbsp;a&nbsp;merged&nbsp;value&nbsp;(for&nbsp;example&nbsp;the&nbsp;max)&nbsp;prior&nbsp;to<br>&nbsp;&nbsp;&nbsp;&nbsp;calling&nbsp;`merge_artifacts`.<br><br>Parameters<br>----------<br>inputs&nbsp;:&nbsp;List[Steps]<br>&nbsp;&nbsp;&nbsp;&nbsp;Incoming&nbsp;steps&nbsp;to&nbsp;the&nbsp;join&nbsp;point.<br>exclude&nbsp;:&nbsp;List[str],&nbsp;optional<br>&nbsp;&nbsp;&nbsp;&nbsp;If&nbsp;specified,&nbsp;do&nbsp;not&nbsp;consider&nbsp;merging&nbsp;artifacts&nbsp;with&nbsp;a&nbsp;name&nbsp;in&nbsp;`exclude`.<br>&nbsp;&nbsp;&nbsp;&nbsp;Cannot&nbsp;specify&nbsp;if&nbsp;`include`&nbsp;is&nbsp;also&nbsp;specified.<br>include&nbsp;:&nbsp;List[str],&nbsp;optional<br>&nbsp;&nbsp;&nbsp;&nbsp;If&nbsp;specified,&nbsp;only&nbsp;merge&nbsp;artifacts&nbsp;specified.&nbsp;Cannot&nbsp;specify&nbsp;if&nbsp;`exclude`&nbsp;is<br>&nbsp;&nbsp;&nbsp;&nbsp;also&nbsp;specified.<br><br>Raises<br>------<br>MetaflowException<br>&nbsp;&nbsp;&nbsp;&nbsp;This&nbsp;exception&nbsp;is&nbsp;thrown&nbsp;if&nbsp;this&nbsp;is&nbsp;not&nbsp;called&nbsp;in&nbsp;a&nbsp;join&nbsp;step.<br>UnhandledInMergeArtifactsException<br>&nbsp;&nbsp;&nbsp;&nbsp;This&nbsp;exception&nbsp;is&nbsp;thrown&nbsp;in&nbsp;case&nbsp;of&nbsp;unresolved&nbsp;conflicts.<br>MissingInMergeArtifactsException<br>&nbsp;&nbsp;&nbsp;&nbsp;This&nbsp;exception&nbsp;is&nbsp;thrown&nbsp;in&nbsp;case&nbsp;an&nbsp;artifact&nbsp;specified&nbsp;in&nbsp;`include`&nbsp;cannot<br>&nbsp;&nbsp;&nbsp;&nbsp;be&nbsp;found.</blockquote></p>\n",
       "</HTMLRemove>\n",
       "<DocSection type=\"method\" name=\"FlowSpec.merge_artifacts\" module=\"metaflow\" show_import=\"False\" heading_level=\"4\" link=\"https://github.com/Netflix/metaflow/tree/master/metaflow/flowspec.py#L357\">\n",
       "<SigArgSection>\n",
       "<SigArg name=\"self\" /><SigArg name=\"inputs\" /><SigArg name=\"exclude\" default=\"[]\" /><SigArg name=\"include\" default=\"[]\" />\n",
       "</SigArgSection>\n",
       "<Description summary=\"Helper function for merging artifacts in a join step.\" extended_summary=\"This function takes all the artifacts coming from the branches of a\\njoin point and assigns them to self in the calling step. Only artifacts\\nnot set in the current step are considered. If, for a given artifact, different\\nvalues are present on the incoming edges, an error will be thrown and the artifacts\\nthat conflict will be reported.\\n\\nAs a few examples, in the simple graph: A splitting into B and C and joining in D:\\n```\\nA:\\n  self.x = 5\\n  self.y = 6\\nB:\\n  self.b_var = 1\\n  self.x = from_b\\nC:\\n  self.x = from_c\\n\\nD:\\n  merge_artifacts(inputs)\\n```\\nIn D, the following artifacts are set:\\n  - `y` (value: 6), `b_var` (value: 1)\\n  - if `from_b` and `from_c` are the same, `x` will be accessible and have value `from_b`\\n  - if `from_b` and `from_c` are different, an error will be thrown. To prevent this error,\\n    you need to manually set `self.x` in D to a merged value (for example the max) prior to\\n    calling `merge_artifacts`.\" />\n",
       "<ParamSection name=\"Parameters\">\n",
       "\t<Parameter name=\"inputs\" type=\"List[Steps]\" desc=\"Incoming steps to the join point.\" />\n",
       "\t<Parameter name=\"exclude\" type=\"List[str], optional\" desc=\"If specified, do not consider merging artifacts with a name in `exclude`.\\nCannot specify if `include` is also specified.\" />\n",
       "\t<Parameter name=\"include\" type=\"List[str], optional\" desc=\"If specified, only merge artifacts specified. Cannot specify if `exclude` is\\nalso specified.\" />\n",
       "</ParamSection>\n",
       "<ParamSection name=\"Raises\">\n",
       "\t<Parameter type=\"MetaflowException\" desc=\"This exception is thrown if this is not called in a join step.\" />\n",
       "\t<Parameter type=\"UnhandledInMergeArtifactsException\" desc=\"This exception is thrown in case of unresolved conflicts.\" />\n",
       "\t<Parameter type=\"MissingInMergeArtifactsException\" desc=\"This exception is thrown in case an artifact specified in `include` cannot\\nbe found.\" />\n",
       "</ParamSection>\n",
       "</DocSection>"
      ],
      "text/plain": [
       "<nbdoc.showdoc.ShowDoc at 0x7fac5cdb0fd0>"
      ]
     },
     "execution_count": 6,
     "metadata": {},
     "output_type": "execute_result"
    }
   ],
   "source": [
    "ShowDoc(FlowSpec.merge_artifacts)"
   ]
  },
  {
   "cell_type": "code",
   "execution_count": null,
   "id": "7c65906c",
   "metadata": {},
   "outputs": [],
   "source": []
  }
 ],
 "metadata": {
  "kernelspec": {
   "display_name": "Python 3",
   "language": "python",
   "name": "python3"
  },
  "language_info": {
   "codemirror_mode": {
    "name": "ipython",
    "version": 3
   },
   "file_extension": ".py",
   "mimetype": "text/x-python",
   "name": "python",
   "nbconvert_exporter": "python",
   "pygments_lexer": "ipython3",
   "version": "3.9.1"
  }
 },
 "nbformat": 4,
 "nbformat_minor": 5
}
