{
 "cells": [
  {
   "cell_type": "markdown",
   "id": "c0ed0370",
   "metadata": {},
   "source": [
    "# Current - Operating a run"
   ]
  },
  {
   "cell_type": "markdown",
   "id": "cc1c501a",
   "metadata": {},
   "source": [
    "The `current` object is used to inspect and manipulate the currently executing run. It is only available during flow execution, i.e. inside a `FlowSpec` class and functions called from its steps. You can access the object simply by importing it: `from metaflow import current`.\n",
    "\n",
    "The attributes available in `current` depend on the decorators assigned to the flow and the step where `current` is used. Attributes that are always available are listed under *Common Attributes* below. Decorator-specific attributes are listed under the decorator name."
   ]
  },
  {
   "cell_type": "code",
   "execution_count": 1,
   "id": "d4c02781",
   "metadata": {
    "execution": {
     "iopub.execute_input": "2022-07-21T17:58:21.095436Z",
     "iopub.status.busy": "2022-07-21T17:58:21.094048Z",
     "iopub.status.idle": "2022-07-21T17:58:21.985259Z",
     "shell.execute_reply": "2022-07-21T17:58:21.986210Z"
    }
   },
   "outputs": [],
   "source": [
    "#meta:tag=hide\n",
    "from functools import partial\n",
    "from nbdoc.showdoc import ShowDoc\n",
    "ShowDoc = partial(ShowDoc, module_nm='metaflow')\n",
    "\n",
    "from metaflow.current import Current\n",
    "\n",
    "# Create a fake object to show 'current' instead of 'Current'.\n",
    "# We can't use \"from metaflow import current\" directly as it is\n",
    "# an instance of Current, but ShowDoc needs to refer to a class\n",
    "PROPS = [\n",
    "    'is_running_flow',\n",
    "    'flow_name',\n",
    "    'run_id',\n",
    "    'step_name',\n",
    "    'task_id',\n",
    "    'retry_count',\n",
    "    'origin_run_id',\n",
    "    'pathspec',\n",
    "    'namespace',\n",
    "    'username'\n",
    "]\n",
    "\n",
    "\n",
    "class current:\n",
    "    \n",
    "    # TODO: Move these docs to project_decorator.py\n",
    "    @property\n",
    "    def project_name(self):\n",
    "        \"\"\"\n",
    "        The name of the project assigned to this flow,\n",
    "        i.e. X in @project(name=X).\n",
    "\n",
    "        Returns\n",
    "        -------\n",
    "        str\n",
    "            Project name\n",
    "        \"\"\"\n",
    "        pass\n",
    "\n",
    "    @property\n",
    "    def project_flow_name(self):\n",
    "        \"\"\"\n",
    "        The flow name prefixed with the current project\n",
    "        and branch. This name identifies the deployment\n",
    "        on a production scheduler.\n",
    "    \n",
    "        Returns\n",
    "        -------\n",
    "        str\n",
    "            Flow name prefixed with project information\n",
    "        \"\"\"\n",
    "        pass\n",
    "    \n",
    "    @property\n",
    "    def branch_name(self):\n",
    "        \"\"\"\n",
    "        The current branch, i.e. X in\n",
    "        --branch=X set during deployment.\n",
    "\n",
    "        Returns\n",
    "        -------\n",
    "        str\n",
    "            Branch name\n",
    "        \"\"\"\n",
    "        pass\n",
    "\n",
    "    @property\n",
    "    def is_user_branch(self):\n",
    "        \"\"\"\n",
    "        True if the flow is deployed without a\n",
    "        specific --branch or a --production flag.\n",
    "\n",
    "        Returns\n",
    "        -------\n",
    "        bool\n",
    "            True if the deployment does not correspond to a specific branch.\n",
    "        \"\"\"\n",
    "        pass\n",
    "\n",
    "    @property\n",
    "    def is_production(self):\n",
    "        \"\"\"\n",
    "        True if the flow is deployed with the --production\n",
    "        flag.\n",
    "        \n",
    "        Returns\n",
    "        -------\n",
    "        bool\n",
    "            True if the flow is deployed in --production.\n",
    "        \"\"\"\n",
    "        pass\n",
    "    \n",
    "for n in PROPS:\n",
    "    f = lambda self: None\n",
    "    f.__qualname__ = 'current.' + n\n",
    "    f.__doc__ = getattr(Current, n).__doc__\n",
    "    setattr(current, n, property(f))"
   ]
  },
  {
   "cell_type": "markdown",
   "id": "4e89ee3c",
   "metadata": {},
   "source": [
    "## Common Attributes\n",
    "\n",
    "These attributes are always available in the `current` object."
   ]
  },
  {
   "cell_type": "code",
   "execution_count": 2,
   "id": "7fdb7184",
   "metadata": {
    "execution": {
     "iopub.execute_input": "2022-07-21T17:58:21.992754Z",
     "iopub.status.busy": "2022-07-21T17:58:21.990829Z",
     "iopub.status.idle": "2022-07-21T17:58:22.000310Z",
     "shell.execute_reply": "2022-07-21T17:58:22.001259Z"
    }
   },
   "outputs": [
    {
     "data": {
      "text/html": [
       "<HTMLRemove>\n",
       "<h4> <code>property</code> <span style=\"color:Brown\">current.is_running_flow</span> <em></em></h4><p><blockquote>Returns&nbsp;True&nbsp;if&nbsp;called&nbsp;inside&nbsp;a&nbsp;running&nbsp;Flow,&nbsp;False&nbsp;otherwise.<br><br>You&nbsp;can&nbsp;use&nbsp;this&nbsp;property&nbsp;e.g.&nbsp;inside&nbsp;a&nbsp;library&nbsp;to&nbsp;choose&nbsp;the&nbsp;desired<br>behavior&nbsp;depending&nbsp;on&nbsp;the&nbsp;execution&nbsp;context.<br><br>Returns<br>-------<br>bool<br>&nbsp;&nbsp;&nbsp;&nbsp;True&nbsp;if&nbsp;called&nbsp;inside&nbsp;a&nbsp;run,&nbsp;False&nbsp;otherwise.</blockquote></p>\n",
       "</HTMLRemove>\n",
       "<DocSection type=\"property\" name=\"current.is_running_flow\" module=\"__main__\" show_import=\"False\" heading_level=\"4\">\n",
       "\n",
       "<Description summary=\"Returns True if called inside a running Flow, False otherwise.\\n\\nYou can use this property e.g. inside a library to choose the desired\\nbehavior depending on the execution context.\\n\" />\n",
       "<ParamSection name=\"Returns\">\n",
       "<Parameter type=\"bool\" desc=\"True if called inside a run, False otherwise.\" />\n",
       "</ParamSection>\n",
       "</DocSection>"
      ],
      "text/plain": [
       "<nbdoc.showdoc.ShowDoc at 0x7fc5f67c17f0>"
      ]
     },
     "execution_count": 2,
     "metadata": {},
     "output_type": "execute_result"
    }
   ],
   "source": [
    "ShowDoc(current.is_running_flow)"
   ]
  },
  {
   "cell_type": "code",
   "execution_count": 3,
   "id": "fa61bd9b",
   "metadata": {
    "execution": {
     "iopub.execute_input": "2022-07-21T17:58:22.008395Z",
     "iopub.status.busy": "2022-07-21T17:58:22.006680Z",
     "iopub.status.idle": "2022-07-21T17:58:22.012315Z",
     "shell.execute_reply": "2022-07-21T17:58:22.011264Z"
    }
   },
   "outputs": [
    {
     "data": {
      "text/html": [
       "<HTMLRemove>\n",
       "<h4> <code>property</code> <span style=\"color:Brown\">current.flow_name</span> <em></em></h4><p><blockquote>The&nbsp;name&nbsp;of&nbsp;the&nbsp;currently&nbsp;executing&nbsp;flow.<br><br>Returns<br>-------<br>str<br>&nbsp;&nbsp;&nbsp;&nbsp;Flow&nbsp;name.</blockquote></p>\n",
       "</HTMLRemove>\n",
       "<DocSection type=\"property\" name=\"current.flow_name\" module=\"__main__\" show_import=\"False\" heading_level=\"4\">\n",
       "\n",
       "<Description summary=\"The name of the currently executing flow.\\n\" />\n",
       "<ParamSection name=\"Returns\">\n",
       "<Parameter type=\"str\" desc=\"Flow name.\" />\n",
       "</ParamSection>\n",
       "</DocSection>"
      ],
      "text/plain": [
       "<nbdoc.showdoc.ShowDoc at 0x7fc5f76413a0>"
      ]
     },
     "execution_count": 3,
     "metadata": {},
     "output_type": "execute_result"
    }
   ],
   "source": [
    "ShowDoc(current.flow_name)"
   ]
  },
  {
   "cell_type": "code",
   "execution_count": 4,
   "id": "16a90815",
   "metadata": {
    "execution": {
     "iopub.execute_input": "2022-07-21T17:58:22.018366Z",
     "iopub.status.busy": "2022-07-21T17:58:22.017033Z",
     "iopub.status.idle": "2022-07-21T17:58:22.021714Z",
     "shell.execute_reply": "2022-07-21T17:58:22.022593Z"
    }
   },
   "outputs": [
    {
     "data": {
      "text/html": [
       "<HTMLRemove>\n",
       "<h4> <code>property</code> <span style=\"color:Brown\">current.run_id</span> <em></em></h4><p><blockquote>The&nbsp;run&nbsp;ID&nbsp;of&nbsp;the&nbsp;currently&nbsp;executing&nbsp;run.<br><br>Returns<br>-------<br>str<br>&nbsp;&nbsp;&nbsp;&nbsp;Run&nbsp;ID.</blockquote></p>\n",
       "</HTMLRemove>\n",
       "<DocSection type=\"property\" name=\"current.run_id\" module=\"__main__\" show_import=\"False\" heading_level=\"4\">\n",
       "\n",
       "<Description summary=\"The run ID of the currently executing run.\\n\" />\n",
       "<ParamSection name=\"Returns\">\n",
       "<Parameter type=\"str\" desc=\"Run ID.\" />\n",
       "</ParamSection>\n",
       "</DocSection>"
      ],
      "text/plain": [
       "<nbdoc.showdoc.ShowDoc at 0x7fc5f67c1dc0>"
      ]
     },
     "execution_count": 4,
     "metadata": {},
     "output_type": "execute_result"
    }
   ],
   "source": [
    "ShowDoc(current.run_id)"
   ]
  },
  {
   "cell_type": "code",
   "execution_count": 5,
   "id": "f278667f",
   "metadata": {
    "execution": {
     "iopub.execute_input": "2022-07-21T17:58:22.029637Z",
     "iopub.status.busy": "2022-07-21T17:58:22.028022Z",
     "iopub.status.idle": "2022-07-21T17:58:22.033602Z",
     "shell.execute_reply": "2022-07-21T17:58:22.032709Z"
    }
   },
   "outputs": [
    {
     "data": {
      "text/html": [
       "<HTMLRemove>\n",
       "<h4> <code>property</code> <span style=\"color:Brown\">current.step_name</span> <em></em></h4><p><blockquote>The&nbsp;name&nbsp;of&nbsp;the&nbsp;currently&nbsp;executing&nbsp;step.<br><br>Returns<br>-------<br>str<br>&nbsp;&nbsp;&nbsp;&nbsp;Step&nbsp;name.</blockquote></p>\n",
       "</HTMLRemove>\n",
       "<DocSection type=\"property\" name=\"current.step_name\" module=\"__main__\" show_import=\"False\" heading_level=\"4\">\n",
       "\n",
       "<Description summary=\"The name of the currently executing step.\\n\" />\n",
       "<ParamSection name=\"Returns\">\n",
       "<Parameter type=\"str\" desc=\"Step name.\" />\n",
       "</ParamSection>\n",
       "</DocSection>"
      ],
      "text/plain": [
       "<nbdoc.showdoc.ShowDoc at 0x7fc5f74a2f70>"
      ]
     },
     "execution_count": 5,
     "metadata": {},
     "output_type": "execute_result"
    }
   ],
   "source": [
    "ShowDoc(current.step_name)"
   ]
  },
  {
   "cell_type": "code",
   "execution_count": 6,
   "id": "f4be98ad",
   "metadata": {
    "execution": {
     "iopub.execute_input": "2022-07-21T17:58:22.041269Z",
     "iopub.status.busy": "2022-07-21T17:58:22.039407Z",
     "iopub.status.idle": "2022-07-21T17:58:22.045040Z",
     "shell.execute_reply": "2022-07-21T17:58:22.044139Z"
    }
   },
   "outputs": [
    {
     "data": {
      "text/html": [
       "<HTMLRemove>\n",
       "<h4> <code>property</code> <span style=\"color:Brown\">current.task_id</span> <em></em></h4><p><blockquote>The&nbsp;task&nbsp;ID&nbsp;of&nbsp;the&nbsp;currently&nbsp;executing&nbsp;task.<br><br>Returns<br>-------<br>str<br>&nbsp;&nbsp;&nbsp;&nbsp;Task&nbsp;ID.</blockquote></p>\n",
       "</HTMLRemove>\n",
       "<DocSection type=\"property\" name=\"current.task_id\" module=\"__main__\" show_import=\"False\" heading_level=\"4\">\n",
       "\n",
       "<Description summary=\"The task ID of the currently executing task.\\n\" />\n",
       "<ParamSection name=\"Returns\">\n",
       "<Parameter type=\"str\" desc=\"Task ID.\" />\n",
       "</ParamSection>\n",
       "</DocSection>"
      ],
      "text/plain": [
       "<nbdoc.showdoc.ShowDoc at 0x7fc5f67bcd00>"
      ]
     },
     "execution_count": 6,
     "metadata": {},
     "output_type": "execute_result"
    }
   ],
   "source": [
    "ShowDoc(current.task_id)"
   ]
  },
  {
   "cell_type": "code",
   "execution_count": 7,
   "id": "a97ad305",
   "metadata": {
    "execution": {
     "iopub.execute_input": "2022-07-21T17:58:22.051780Z",
     "iopub.status.busy": "2022-07-21T17:58:22.049981Z",
     "iopub.status.idle": "2022-07-21T17:58:22.057155Z",
     "shell.execute_reply": "2022-07-21T17:58:22.055572Z"
    }
   },
   "outputs": [
    {
     "data": {
      "text/html": [
       "<HTMLRemove>\n",
       "<h4> <code>property</code> <span style=\"color:Brown\">current.retry_count</span> <em></em></h4><p><blockquote>The&nbsp;index&nbsp;of&nbsp;the&nbsp;task&nbsp;exeuction&nbsp;attempt.<br><br>This&nbsp;property&nbsp;returns&nbsp;0&nbsp;for&nbsp;the&nbsp;first&nbsp;attempt&nbsp;to&nbsp;execute&nbsp;the&nbsp;task.<br>If&nbsp;the&nbsp;@retry&nbsp;decorator&nbsp;is&nbsp;used&nbsp;and&nbsp;the&nbsp;first&nbsp;attempt&nbsp;fails,&nbsp;this&nbsp;<br>property&nbsp;returns&nbsp;the&nbsp;number&nbsp;of&nbsp;times&nbsp;the&nbsp;task&nbsp;was&nbsp;attempted&nbsp;prior<br>to&nbsp;the&nbsp;current&nbsp;attempt.<br><br>Returns<br>-------<br>int<br>&nbsp;&nbsp;&nbsp;&nbsp;The&nbsp;retry&nbsp;count.</blockquote></p>\n",
       "</HTMLRemove>\n",
       "<DocSection type=\"property\" name=\"current.retry_count\" module=\"__main__\" show_import=\"False\" heading_level=\"4\">\n",
       "\n",
       "<Description summary=\"The index of the task exeuction attempt.\\n\\nThis property returns 0 for the first attempt to execute the task.\\nIf the @retry decorator is used and the first attempt fails, this \\nproperty returns the number of times the task was attempted prior\\nto the current attempt.\\n\" />\n",
       "<ParamSection name=\"Returns\">\n",
       "<Parameter type=\"int\" desc=\"The retry count.\" />\n",
       "</ParamSection>\n",
       "</DocSection>"
      ],
      "text/plain": [
       "<nbdoc.showdoc.ShowDoc at 0x7fc5f67bc100>"
      ]
     },
     "execution_count": 7,
     "metadata": {},
     "output_type": "execute_result"
    }
   ],
   "source": [
    "ShowDoc(current.retry_count)"
   ]
  },
  {
   "cell_type": "code",
   "execution_count": 8,
   "id": "b73e163c",
   "metadata": {
    "execution": {
     "iopub.execute_input": "2022-07-21T17:58:22.065044Z",
     "iopub.status.busy": "2022-07-21T17:58:22.063519Z",
     "iopub.status.idle": "2022-07-21T17:58:22.070271Z",
     "shell.execute_reply": "2022-07-21T17:58:22.068760Z"
    }
   },
   "outputs": [
    {
     "data": {
      "text/html": [
       "<HTMLRemove>\n",
       "<h4> <code>property</code> <span style=\"color:Brown\">current.origin_run_id</span> <em></em></h4><p><blockquote>The&nbsp;run&nbsp;ID&nbsp;of&nbsp;the&nbsp;original&nbsp;run&nbsp;this&nbsp;run&nbsp;was&nbsp;resumed&nbsp;from.<br><br>This&nbsp;property&nbsp;returns&nbsp;None&nbsp;for&nbsp;ordinary&nbsp;runs.&nbsp;If&nbsp;the&nbsp;run<br>was&nbsp;started&nbsp;by&nbsp;the&nbsp;resume&nbsp;command,&nbsp;the&nbsp;property&nbsp;returns<br>the&nbsp;ID&nbsp;of&nbsp;the&nbsp;original&nbsp;run.<br><br>You&nbsp;can&nbsp;use&nbsp;this&nbsp;property&nbsp;to&nbsp;detect&nbsp;if&nbsp;the&nbsp;run&nbsp;is&nbsp;resumed<br>or&nbsp;not.<br><br>Returns<br>-------<br>str<br>&nbsp;&nbsp;&nbsp;&nbsp;Run&nbsp;ID&nbsp;of&nbsp;the&nbsp;original&nbsp;run.</blockquote></p>\n",
       "</HTMLRemove>\n",
       "<DocSection type=\"property\" name=\"current.origin_run_id\" module=\"__main__\" show_import=\"False\" heading_level=\"4\">\n",
       "\n",
       "<Description summary=\"The run ID of the original run this run was resumed from.\\n\\nThis property returns None for ordinary runs. If the run\\nwas started by the resume command, the property returns\\nthe ID of the original run.\\n\\nYou can use this property to detect if the run is resumed\\nor not.\\n\" />\n",
       "<ParamSection name=\"Returns\">\n",
       "<Parameter type=\"str\" desc=\"Run ID of the original run.\" />\n",
       "</ParamSection>\n",
       "</DocSection>"
      ],
      "text/plain": [
       "<nbdoc.showdoc.ShowDoc at 0x7fc5f67bc280>"
      ]
     },
     "execution_count": 8,
     "metadata": {},
     "output_type": "execute_result"
    }
   ],
   "source": [
    "ShowDoc(current.origin_run_id)"
   ]
  },
  {
   "cell_type": "code",
   "execution_count": 9,
   "id": "16dd0a74",
   "metadata": {
    "execution": {
     "iopub.execute_input": "2022-07-21T17:58:22.080551Z",
     "iopub.status.busy": "2022-07-21T17:58:22.078433Z",
     "iopub.status.idle": "2022-07-21T17:58:22.084580Z",
     "shell.execute_reply": "2022-07-21T17:58:22.086222Z"
    }
   },
   "outputs": [
    {
     "data": {
      "text/html": [
       "<HTMLRemove>\n",
       "<h4> <code>property</code> <span style=\"color:Brown\">current.pathspec</span> <em></em></h4><p><blockquote>Pathspec&nbsp;of&nbsp;the&nbsp;current&nbsp;run,&nbsp;i.e.&nbsp;a&nbsp;unique<br>identifier&nbsp;of&nbsp;the&nbsp;current&nbsp;task.&nbsp;The&nbsp;returned<br>string&nbsp;follows&nbsp;this&nbsp;format:<br><br>{flow_name}/{run_id}/{step_name}/{task_id}<br><br>Returns<br>-------<br>str<br>&nbsp;&nbsp;&nbsp;&nbsp;Pathspec.</blockquote></p>\n",
       "</HTMLRemove>\n",
       "<DocSection type=\"property\" name=\"current.pathspec\" module=\"__main__\" show_import=\"False\" heading_level=\"4\">\n",
       "\n",
       "<Description summary=\"Pathspec of the current run, i.e. a unique\\nidentifier of the current task. The returned\\nstring follows this format:\\n\\n{flow_name}/{run_id}/{step_name}/{task_id}\\n\" />\n",
       "<ParamSection name=\"Returns\">\n",
       "<Parameter type=\"str\" desc=\"Pathspec.\" />\n",
       "</ParamSection>\n",
       "</DocSection>"
      ],
      "text/plain": [
       "<nbdoc.showdoc.ShowDoc at 0x7fc5f6782dc0>"
      ]
     },
     "execution_count": 9,
     "metadata": {},
     "output_type": "execute_result"
    }
   ],
   "source": [
    "ShowDoc(current.pathspec)"
   ]
  },
  {
   "cell_type": "code",
   "execution_count": 10,
   "id": "8f758f03",
   "metadata": {
    "execution": {
     "iopub.execute_input": "2022-07-21T17:58:22.094882Z",
     "iopub.status.busy": "2022-07-21T17:58:22.092796Z",
     "iopub.status.idle": "2022-07-21T17:58:22.102275Z",
     "shell.execute_reply": "2022-07-21T17:58:22.098503Z"
    }
   },
   "outputs": [
    {
     "data": {
      "text/html": [
       "<HTMLRemove>\n",
       "<h4> <code>property</code> <span style=\"color:Brown\">current.namespace</span> <em></em></h4><p><blockquote>The&nbsp;current&nbsp;namespace.<br><br>Returns<br>-------<br>str<br>&nbsp;&nbsp;&nbsp;&nbsp;Namespace.</blockquote></p>\n",
       "</HTMLRemove>\n",
       "<DocSection type=\"property\" name=\"current.namespace\" module=\"__main__\" show_import=\"False\" heading_level=\"4\">\n",
       "\n",
       "<Description summary=\"The current namespace.\\n\" />\n",
       "<ParamSection name=\"Returns\">\n",
       "<Parameter type=\"str\" desc=\"Namespace.\" />\n",
       "</ParamSection>\n",
       "</DocSection>"
      ],
      "text/plain": [
       "<nbdoc.showdoc.ShowDoc at 0x7fc5f67bc8b0>"
      ]
     },
     "execution_count": 10,
     "metadata": {},
     "output_type": "execute_result"
    }
   ],
   "source": [
    "ShowDoc(current.namespace)"
   ]
  },
  {
   "cell_type": "code",
   "execution_count": 11,
   "id": "feaa6830",
   "metadata": {
    "execution": {
     "iopub.execute_input": "2022-07-21T17:58:22.111285Z",
     "iopub.status.busy": "2022-07-21T17:58:22.108722Z",
     "iopub.status.idle": "2022-07-21T17:58:22.115632Z",
     "shell.execute_reply": "2022-07-21T17:58:22.117001Z"
    }
   },
   "outputs": [
    {
     "data": {
      "text/html": [
       "<HTMLRemove>\n",
       "<h4> <code>property</code> <span style=\"color:Brown\">current.username</span> <em></em></h4><p><blockquote>The&nbsp;name&nbsp;of&nbsp;the&nbsp;user&nbsp;who&nbsp;started&nbsp;the&nbsp;run,&nbsp;if&nbsp;available.<br><br>Returns<br>-------<br>str<br>&nbsp;&nbsp;&nbsp;&nbsp;User&nbsp;name.</blockquote></p>\n",
       "</HTMLRemove>\n",
       "<DocSection type=\"property\" name=\"current.username\" module=\"__main__\" show_import=\"False\" heading_level=\"4\">\n",
       "\n",
       "<Description summary=\"The name of the user who started the run, if available.\\n\" />\n",
       "<ParamSection name=\"Returns\">\n",
       "<Parameter type=\"str\" desc=\"User name.\" />\n",
       "</ParamSection>\n",
       "</DocSection>"
      ],
      "text/plain": [
       "<nbdoc.showdoc.ShowDoc at 0x7fc5f67bc220>"
      ]
     },
     "execution_count": 11,
     "metadata": {},
     "output_type": "execute_result"
    }
   ],
   "source": [
    "ShowDoc(current.username)"
   ]
  },
  {
   "cell_type": "markdown",
   "id": "12733ec9",
   "metadata": {},
   "source": [
    "## Decorator-specific attributes\n",
    "\n",
    "These attributes are only available when the decorator is present."
   ]
  },
  {
   "cell_type": "markdown",
   "id": "820a3734",
   "metadata": {},
   "source": [
    "### @project\n",
    "\n",
    "[The @project decorator](/going-to-production-with-metaflow/coordinating-larger-metaflow-projects) exposes attributes related to the current deployment."
   ]
  },
  {
   "cell_type": "code",
   "execution_count": 12,
   "id": "437b253d",
   "metadata": {
    "execution": {
     "iopub.execute_input": "2022-07-21T17:58:22.125666Z",
     "iopub.status.busy": "2022-07-21T17:58:22.123829Z",
     "iopub.status.idle": "2022-07-21T17:58:22.130985Z",
     "shell.execute_reply": "2022-07-21T17:58:22.132168Z"
    }
   },
   "outputs": [
    {
     "data": {
      "text/html": [
       "<HTMLRemove>\n",
       "<h4> <code>property</code> <span style=\"color:Brown\">current.project_name</span> <em></em></h4><p><blockquote>The&nbsp;name&nbsp;of&nbsp;the&nbsp;project&nbsp;assigned&nbsp;to&nbsp;this&nbsp;flow,<br>i.e.&nbsp;X&nbsp;in&nbsp;@project(name=X).<br><br>Returns<br>-------<br>str<br>&nbsp;&nbsp;&nbsp;&nbsp;Project&nbsp;name</blockquote></p>\n",
       "</HTMLRemove>\n",
       "<DocSection type=\"property\" name=\"current.project_name\" module=\"__main__\" show_import=\"False\" heading_level=\"4\">\n",
       "\n",
       "<Description summary=\"The name of the project assigned to this flow,\\ni.e. X in @project(name=X).\\n\" />\n",
       "<ParamSection name=\"Returns\">\n",
       "<Parameter type=\"str\" desc=\"Project name\" />\n",
       "</ParamSection>\n",
       "</DocSection>"
      ],
      "text/plain": [
       "<nbdoc.showdoc.ShowDoc at 0x7fc5f860f070>"
      ]
     },
     "execution_count": 12,
     "metadata": {},
     "output_type": "execute_result"
    }
   ],
   "source": [
    "ShowDoc(current.project_name)"
   ]
  },
  {
   "cell_type": "code",
   "execution_count": 13,
   "id": "fe5e9e0a",
   "metadata": {},
   "outputs": [
    {
     "data": {
      "text/html": [
       "<HTMLRemove>\n",
       "<h4> <code>property</code> <span style=\"color:Brown\">current.project_flow_name</span> <em></em></h4><p><blockquote>The&nbsp;flow&nbsp;name&nbsp;prefixed&nbsp;with&nbsp;the&nbsp;current&nbsp;project<br>and&nbsp;branch.&nbsp;This&nbsp;name&nbsp;identifies&nbsp;the&nbsp;deployment<br>on&nbsp;a&nbsp;production&nbsp;scheduler.<br><br>Returns<br>-------<br>str<br>&nbsp;&nbsp;&nbsp;&nbsp;Flow&nbsp;name&nbsp;prefixed&nbsp;with&nbsp;project&nbsp;information</blockquote></p>\n",
       "</HTMLRemove>\n",
       "<DocSection type=\"property\" name=\"current.project_flow_name\" module=\"__main__\" show_import=\"False\" heading_level=\"4\">\n",
       "\n",
       "<Description summary=\"The flow name prefixed with the current project\\nand branch. This name identifies the deployment\\non a production scheduler.\\n\" />\n",
       "<ParamSection name=\"Returns\">\n",
       "<Parameter type=\"str\" desc=\"Flow name prefixed with project information\" />\n",
       "</ParamSection>\n",
       "</DocSection>"
      ],
      "text/plain": [
       "<nbdoc.showdoc.ShowDoc at 0x7fc5f860f280>"
      ]
     },
     "execution_count": 13,
     "metadata": {},
     "output_type": "execute_result"
    }
   ],
   "source": [
    "ShowDoc(current.project_flow_name)"
   ]
  },
  {
   "cell_type": "code",
   "execution_count": 14,
   "id": "e3ada92e",
   "metadata": {},
   "outputs": [
    {
     "data": {
      "text/html": [
       "<HTMLRemove>\n",
       "<h4> <code>property</code> <span style=\"color:Brown\">current.branch_name</span> <em></em></h4><p><blockquote>The&nbsp;current&nbsp;branch,&nbsp;i.e.&nbsp;X&nbsp;in<br>--branch=X&nbsp;set&nbsp;during&nbsp;deployment.<br><br>Returns<br>-------<br>str<br>&nbsp;&nbsp;&nbsp;&nbsp;Branch&nbsp;name</blockquote></p>\n",
       "</HTMLRemove>\n",
       "<DocSection type=\"property\" name=\"current.branch_name\" module=\"__main__\" show_import=\"False\" heading_level=\"4\">\n",
       "\n",
       "<Description summary=\"The current branch, i.e. X in\\n--branch=X set during deployment.\\n\" />\n",
       "<ParamSection name=\"Returns\">\n",
       "<Parameter type=\"str\" desc=\"Branch name\" />\n",
       "</ParamSection>\n",
       "</DocSection>"
      ],
      "text/plain": [
       "<nbdoc.showdoc.ShowDoc at 0x7fc5f860f9d0>"
      ]
     },
     "execution_count": 14,
     "metadata": {},
     "output_type": "execute_result"
    }
   ],
   "source": [
    "ShowDoc(current.branch_name)"
   ]
  },
  {
   "cell_type": "code",
   "execution_count": 15,
   "id": "794cd19f",
   "metadata": {},
   "outputs": [
    {
     "data": {
      "text/html": [
       "<HTMLRemove>\n",
       "<h4> <code>property</code> <span style=\"color:Brown\">current.is_user_branch</span> <em></em></h4><p><blockquote>True&nbsp;if&nbsp;the&nbsp;flow&nbsp;is&nbsp;deployed&nbsp;without&nbsp;a<br>specific&nbsp;--branch&nbsp;or&nbsp;a&nbsp;--production&nbsp;flag.<br><br>Returns<br>-------<br>bool<br>&nbsp;&nbsp;&nbsp;&nbsp;True&nbsp;if&nbsp;the&nbsp;deployment&nbsp;does&nbsp;not&nbsp;correspond&nbsp;to&nbsp;a&nbsp;specific&nbsp;branch.</blockquote></p>\n",
       "</HTMLRemove>\n",
       "<DocSection type=\"property\" name=\"current.is_user_branch\" module=\"__main__\" show_import=\"False\" heading_level=\"4\">\n",
       "\n",
       "<Description summary=\"True if the flow is deployed without a\\nspecific --branch or a --production flag.\\n\" />\n",
       "<ParamSection name=\"Returns\">\n",
       "<Parameter type=\"bool\" desc=\"True if the deployment does not correspond to a specific branch.\" />\n",
       "</ParamSection>\n",
       "</DocSection>"
      ],
      "text/plain": [
       "<nbdoc.showdoc.ShowDoc at 0x7fc5f860fd30>"
      ]
     },
     "execution_count": 15,
     "metadata": {},
     "output_type": "execute_result"
    }
   ],
   "source": [
    "ShowDoc(current.is_user_branch)"
   ]
  },
  {
   "cell_type": "code",
   "execution_count": 16,
   "id": "77fbbf3a",
   "metadata": {},
   "outputs": [
    {
     "data": {
      "text/html": [
       "<HTMLRemove>\n",
       "<h4> <code>property</code> <span style=\"color:Brown\">current.is_production</span> <em></em></h4><p><blockquote>True&nbsp;if&nbsp;the&nbsp;flow&nbsp;is&nbsp;deployed&nbsp;with&nbsp;the&nbsp;--production<br>flag.<br><br>Returns<br>-------<br>bool<br>&nbsp;&nbsp;&nbsp;&nbsp;True&nbsp;if&nbsp;the&nbsp;flow&nbsp;is&nbsp;deployed&nbsp;in&nbsp;--production.</blockquote></p>\n",
       "</HTMLRemove>\n",
       "<DocSection type=\"property\" name=\"current.is_production\" module=\"__main__\" show_import=\"False\" heading_level=\"4\">\n",
       "\n",
       "<Description summary=\"True if the flow is deployed with the --production\\nflag.\\n\" />\n",
       "<ParamSection name=\"Returns\">\n",
       "<Parameter type=\"bool\" desc=\"True if the flow is deployed in --production.\" />\n",
       "</ParamSection>\n",
       "</DocSection>"
      ],
      "text/plain": [
       "<nbdoc.showdoc.ShowDoc at 0x7fc5f860f970>"
      ]
     },
     "execution_count": 16,
     "metadata": {},
     "output_type": "execute_result"
    }
   ],
   "source": [
    "ShowDoc(current.is_production)"
   ]
  },
  {
   "cell_type": "markdown",
   "id": "7896581a",
   "metadata": {},
   "source": [
    "### @card\n",
    "\n",
    "[The @card decorator](/metaflow/visualizing-results) exposes functions that allow you to customize\n",
    "the contents of cards output by the task."
   ]
  },
  {
   "cell_type": "code",
   "execution_count": null,
   "id": "365239aa",
   "metadata": {},
   "outputs": [],
   "source": []
  }
 ],
 "metadata": {
  "kernelspec": {
   "display_name": "Python 3",
   "language": "python",
   "name": "python3"
  },
  "language_info": {
   "codemirror_mode": {
    "name": "ipython",
    "version": 3
   },
   "file_extension": ".py",
   "mimetype": "text/x-python",
   "name": "python",
   "nbconvert_exporter": "python",
   "pygments_lexer": "ipython3",
   "version": "3.9.1"
  }
 },
 "nbformat": 4,
 "nbformat_minor": 5
}
