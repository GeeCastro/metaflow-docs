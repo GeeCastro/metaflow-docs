{
 "cells": [
  {
   "cell_type": "markdown",
   "id": "d1023227",
   "metadata": {},
   "source": [
    "# @conda\n",
    "\n",
    "The `@conda` decorator specifies what libraries should be made available for a step.\n",
    "\n",
    "The libraries are installed from [Conda repositories](https://anaconda.org/). For more information, see [Managing External Libraries](/scaling/dependencies)."
   ]
  },
  {
   "cell_type": "code",
   "execution_count": 1,
   "id": "8d5bb116",
   "metadata": {
    "execution": {
     "iopub.execute_input": "2023-05-07T04:01:48.953851Z",
     "iopub.status.busy": "2023-05-07T04:01:48.953520Z",
     "iopub.status.idle": "2023-05-07T04:01:49.388702Z",
     "shell.execute_reply": "2023-05-07T04:01:49.388378Z"
    }
   },
   "outputs": [],
   "source": [
    "#meta:tag=hide\n",
    "from functools import partial\n",
    "from nbdoc.showdoc import ShowDoc\n",
    "ShowDoc = partial(ShowDoc, module_nm='metaflow')\n",
    "\n",
    "from metaflow import conda"
   ]
  },
  {
   "cell_type": "code",
   "execution_count": 2,
   "id": "29af6ee3",
   "metadata": {
    "execution": {
     "iopub.execute_input": "2023-05-07T04:01:49.391334Z",
     "iopub.status.busy": "2023-05-07T04:01:49.391163Z",
     "iopub.status.idle": "2023-05-07T04:01:49.400562Z",
     "shell.execute_reply": "2023-05-07T04:01:49.400273Z"
    }
   },
   "outputs": [
    {
     "data": {
      "text/html": [
       "<HTMLRemove>\n",
       "<h3> <code>decorator</code> <span style=\"color:Brown\">@conda</span> <em>(...)</em><a href=\"https://github.com/Netflix/metaflow/tree/master/metaflow/plugins/conda/conda_step_decorator.py#L40\" style=\"float:right\">[source]</a></h3><strong>metaflow</strong><p><blockquote>Specifies&nbsp;the&nbsp;Conda&nbsp;environment&nbsp;for&nbsp;the&nbsp;step.<br><br>Information&nbsp;in&nbsp;this&nbsp;decorator&nbsp;will&nbsp;augment&nbsp;any<br>attributes&nbsp;set&nbsp;in&nbsp;the&nbsp;`@conda_base`&nbsp;flow-level&nbsp;decorator.&nbsp;Hence,<br>you&nbsp;can&nbsp;use&nbsp;`@conda_base`&nbsp;to&nbsp;set&nbsp;common&nbsp;libraries&nbsp;required&nbsp;by&nbsp;all<br>steps&nbsp;and&nbsp;use&nbsp;`@conda`&nbsp;to&nbsp;specify&nbsp;step-specific&nbsp;additions.<br><br>Parameters<br>----------<br>libraries&nbsp;:&nbsp;Dict[str,&nbsp;str],&nbsp;default:&nbsp;{}<br>&nbsp;&nbsp;&nbsp;&nbsp;Libraries&nbsp;to&nbsp;use&nbsp;for&nbsp;this&nbsp;step.&nbsp;The&nbsp;key&nbsp;is&nbsp;the&nbsp;name&nbsp;of&nbsp;the&nbsp;package<br>&nbsp;&nbsp;&nbsp;&nbsp;and&nbsp;the&nbsp;value&nbsp;is&nbsp;the&nbsp;version&nbsp;to&nbsp;use.<br>python&nbsp;:&nbsp;str,&nbsp;optional<br>&nbsp;&nbsp;&nbsp;&nbsp;Version&nbsp;of&nbsp;Python&nbsp;to&nbsp;use,&nbsp;e.g.&nbsp;'3.7.4'.&nbsp;A&nbsp;default&nbsp;value&nbsp;of&nbsp;None&nbsp;means&nbsp;to<br>&nbsp;&nbsp;&nbsp;&nbsp;use&nbsp;the&nbsp;current&nbsp;Python&nbsp;version.<br>disabled&nbsp;:&nbsp;bool,&nbsp;default:&nbsp;False<br>&nbsp;&nbsp;&nbsp;&nbsp;If&nbsp;set&nbsp;to&nbsp;True,&nbsp;disables&nbsp;Conda.</blockquote></p>\n",
       "</HTMLRemove>\n",
       "<DocSection type=\"decorator\" name=\"conda\" module=\"metaflow\" show_import=\"True\" heading_level=\"3\" link=\"https://github.com/Netflix/metaflow/tree/master/metaflow/plugins/conda/conda_step_decorator.py#L40\">\n",
       "<SigArgSection>\n",
       "<SigArg name=\"...\" />\n",
       "</SigArgSection>\n",
       "<Description summary=\"Specifies the Conda environment for the step.\" extended_summary=\"Information in this decorator will augment any\\nattributes set in the `@conda_base` flow-level decorator. Hence,\\nyou can use `@conda_base` to set common libraries required by all\\nsteps and use `@conda` to specify step-specific additions.\" />\n",
       "<ParamSection name=\"Parameters\">\n",
       "\t<Parameter name=\"libraries\" type=\"Dict[str, str], default: {}\" desc=\"Libraries to use for this step. The key is the name of the package\\nand the value is the version to use.\" />\n",
       "\t<Parameter name=\"python\" type=\"str, optional\" desc=\"Version of Python to use, e.g. '3.7.4'. A default value of None means to\\nuse the current Python version.\" />\n",
       "\t<Parameter name=\"disabled\" type=\"bool, default: False\" desc=\"If set to True, disables Conda.\" />\n",
       "</ParamSection>\n",
       "</DocSection>"
      ],
      "text/plain": [
       "<nbdoc.showdoc.ShowDoc at 0x10e28d8d0>"
      ]
     },
     "execution_count": 2,
     "metadata": {},
     "output_type": "execute_result"
    }
   ],
   "source": [
    "ShowDoc(conda,  skip_sections='Attributes', show_import=True)"
   ]
  },
  {
   "cell_type": "code",
   "execution_count": null,
   "id": "0a84d95f",
   "metadata": {},
   "outputs": [],
   "source": []
  }
 ],
 "metadata": {
  "kernelspec": {
   "display_name": "Python 3",
   "language": "python",
   "name": "python3"
  },
  "language_info": {
   "codemirror_mode": {
    "name": "ipython",
    "version": 3
   },
   "file_extension": ".py",
   "mimetype": "text/x-python",
   "name": "python",
   "nbconvert_exporter": "python",
   "pygments_lexer": "ipython3",
   "version": "3.11.0"
  }
 },
 "nbformat": 4,
 "nbformat_minor": 5
}
