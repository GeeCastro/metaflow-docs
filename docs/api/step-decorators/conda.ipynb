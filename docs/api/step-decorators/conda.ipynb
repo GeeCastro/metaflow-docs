{
 "cells": [
  {
   "cell_type": "markdown",
   "id": "d1023227",
   "metadata": {},
   "source": [
    "# @conda\n",
    "\n",
    "The `@conda` decorator specifies what libraries should be made available for a step.\n",
    "\n",
    "The libraries are installed from [Conda repositories](https://anaconda.org/). For more information, see [Managing External Libraries](/metaflow/dependencies)."
   ]
  },
  {
   "cell_type": "code",
   "execution_count": 1,
   "id": "8d5bb116",
   "metadata": {
    "execution": {
     "iopub.execute_input": "2022-07-25T21:55:51.978452Z",
     "iopub.status.busy": "2022-07-25T21:55:51.976049Z",
     "iopub.status.idle": "2022-07-25T21:55:52.860262Z",
     "shell.execute_reply": "2022-07-25T21:55:52.863094Z"
    }
   },
   "outputs": [],
   "source": [
    "#meta:tag=hide\n",
    "from functools import partial\n",
    "from nbdoc.showdoc import ShowDoc\n",
    "ShowDoc = partial(ShowDoc, module_nm='metaflow')\n",
    "\n",
    "from metaflow import conda"
   ]
  },
  {
   "cell_type": "code",
   "execution_count": 2,
   "id": "29af6ee3",
   "metadata": {
    "execution": {
     "iopub.execute_input": "2022-07-25T21:55:52.876329Z",
     "iopub.status.busy": "2022-07-25T21:55:52.873776Z",
     "iopub.status.idle": "2022-07-25T21:55:52.917856Z",
     "shell.execute_reply": "2022-07-25T21:55:52.919534Z"
    }
   },
   "outputs": [
    {
     "data": {
      "text/html": [
       "<HTMLRemove>\n",
       "<h3> <code>decorator</code> <span style=\"color:Brown\">@conda</span> <em>(...)</em><a href=\"https://github.com/Netflix/metaflow/tree/master/metaflow/plugins/conda/conda_step_decorator.py#L38\" style=\"float:right\">[source]</a></h3><strong>metaflow</strong><p><blockquote>Specifies&nbsp;the&nbsp;Conda&nbsp;environment&nbsp;for&nbsp;the&nbsp;step.<br><br>Information&nbsp;in&nbsp;this&nbsp;decorator&nbsp;will&nbsp;augment&nbsp;any&nbsp;<br>attributes&nbsp;set&nbsp;in&nbsp;the&nbsp;`@conda_base`&nbsp;flow-level&nbsp;decorator.&nbsp;Hence<br>you&nbsp;can&nbsp;use&nbsp;`@conda_base`&nbsp;to&nbsp;set&nbsp;common&nbsp;libraries&nbsp;required&nbsp;by&nbsp;all<br>steps&nbsp;and&nbsp;use&nbsp;`@conda`&nbsp;to&nbsp;specify&nbsp;step-specific&nbsp;additions.&nbsp;<br><br>Parameters<br>----------<br>libraries&nbsp;:&nbsp;Dict<br>&nbsp;&nbsp;&nbsp;&nbsp;Libraries&nbsp;to&nbsp;use&nbsp;for&nbsp;this&nbsp;flow.&nbsp;The&nbsp;key&nbsp;is&nbsp;the&nbsp;name&nbsp;of&nbsp;the&nbsp;package<br>&nbsp;&nbsp;&nbsp;&nbsp;and&nbsp;the&nbsp;value&nbsp;is&nbsp;the&nbsp;version&nbsp;to&nbsp;use&nbsp;(Default:&nbsp;{}).<br>python&nbsp;:&nbsp;string<br>&nbsp;&nbsp;&nbsp;&nbsp;Version&nbsp;of&nbsp;Python&nbsp;to&nbsp;use,&nbsp;e.g.&nbsp;'3.7.4'<br>&nbsp;&nbsp;&nbsp;&nbsp;(Default:&nbsp;None,&nbsp;i.e.&nbsp;the&nbsp;current&nbsp;Python&nbsp;version).<br>disabled&nbsp;:&nbsp;bool<br>&nbsp;&nbsp;&nbsp;&nbsp;If&nbsp;set&nbsp;to&nbsp;True,&nbsp;disables&nbsp;Conda&nbsp;(Default:&nbsp;False).</blockquote></p>\n",
       "</HTMLRemove>\n",
       "<DocSection type=\"decorator\" name=\"conda\" module=\"metaflow\" show_import=\"True\" heading_level=\"3\" link=\"https://github.com/Netflix/metaflow/tree/master/metaflow/plugins/conda/conda_step_decorator.py#L38\">\n",
       "<SigArgSection>\n",
       "<SigArg name=\"...\" />\n",
       "</SigArgSection>\n",
       "<Description summary=\"Specifies the Conda environment for the step.\" extended_summary=\"Information in this decorator will augment any \\nattributes set in the `@conda_base` flow-level decorator. Hence\\nyou can use `@conda_base` to set common libraries required by all\\nsteps and use `@conda` to specify step-specific additions. \" />\n",
       "<ParamSection name=\"Parameters\">\n",
       "\t<Parameter name=\"libraries\" type=\"Dict\" desc=\"Libraries to use for this flow. The key is the name of the package\\nand the value is the version to use (Default: {}).\" />\n",
       "\t<Parameter name=\"python\" type=\"string\" desc=\"Version of Python to use, e.g. '3.7.4'\\n(Default: None, i.e. the current Python version).\" />\n",
       "\t<Parameter name=\"disabled\" type=\"bool\" desc=\"If set to True, disables Conda (Default: False).\" />\n",
       "</ParamSection>\n",
       "</DocSection>"
      ],
      "text/plain": [
       "<nbdoc.showdoc.ShowDoc at 0x7fab85cdd5e0>"
      ]
     },
     "execution_count": 2,
     "metadata": {},
     "output_type": "execute_result"
    }
   ],
   "source": [
    "ShowDoc(conda,  skip_sections='Attributes', show_import=True)"
   ]
  },
  {
   "cell_type": "code",
   "execution_count": null,
   "id": "0a84d95f",
   "metadata": {},
   "outputs": [],
   "source": []
  }
 ],
 "metadata": {
  "kernelspec": {
   "display_name": "Python 3",
   "language": "python",
   "name": "python3"
  },
  "language_info": {
   "codemirror_mode": {
    "name": "ipython",
    "version": 3
   },
   "file_extension": ".py",
   "mimetype": "text/x-python",
   "name": "python",
   "nbconvert_exporter": "python",
   "pygments_lexer": "ipython3",
   "version": "3.9.1"
  }
 },
 "nbformat": 4,
 "nbformat_minor": 5
}
