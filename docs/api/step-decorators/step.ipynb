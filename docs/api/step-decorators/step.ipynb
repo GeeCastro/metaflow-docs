{
 "cells": [
  {
   "cell_type": "markdown",
   "id": "4cfff8e2",
   "metadata": {},
   "source": [
    "# @step\n",
    "\n",
    "The `@step` decorator converts a method to a step of a flow.\n",
    "\n",
    "Use `@step` to construct Metaflow workflows. For more information, see [Basics of Metaflow](/metaflow/basics)."
   ]
  },
  {
   "cell_type": "code",
   "execution_count": 1,
   "id": "627487a4",
   "metadata": {
    "execution": {
     "iopub.execute_input": "2023-05-16T22:27:23.838778Z",
     "iopub.status.busy": "2023-05-16T22:27:23.838496Z",
     "iopub.status.idle": "2023-05-16T22:27:24.439528Z",
     "shell.execute_reply": "2023-05-16T22:27:24.438822Z"
    }
   },
   "outputs": [],
   "source": [
    "#meta:tag=hide\n",
    "from functools import partial\n",
    "from nbdoc.showdoc import ShowDoc\n",
    "ShowDoc = partial(ShowDoc, module_nm='metaflow')\n",
    "\n",
    "from metaflow import step"
   ]
  },
  {
   "cell_type": "code",
   "execution_count": 2,
   "id": "af50a6d2",
   "metadata": {
    "execution": {
     "iopub.execute_input": "2023-05-16T22:27:24.444659Z",
     "iopub.status.busy": "2023-05-16T22:27:24.444077Z",
     "iopub.status.idle": "2023-05-16T22:27:24.451468Z",
     "shell.execute_reply": "2023-05-16T22:27:24.450816Z"
    }
   },
   "outputs": [
    {
     "data": {
      "text/html": [
       "<HTMLRemove>\n",
       "<h3> <code>function</code> <span style=\"color:Brown\">step</span> <em></em><a href=\"https://github.com/Netflix/metaflow/tree/master/metaflow/decorators.py#L552\" style=\"float:right\">[source]</a></h3><strong>metaflow</strong><p><blockquote>The&nbsp;step&nbsp;decorator.&nbsp;Makes&nbsp;a&nbsp;method&nbsp;a&nbsp;step&nbsp;in&nbsp;the&nbsp;workflow.</blockquote></p>\n",
       "</HTMLRemove>\n",
       "<DocSection type=\"function\" name=\"step\" module=\"metaflow\" show_import=\"True\" heading_level=\"3\" link=\"https://github.com/Netflix/metaflow/tree/master/metaflow/decorators.py#L552\">\n",
       "<SigArgSection>\n",
       "<SigArg name=\"\" />\n",
       "</SigArgSection>\n",
       "<Description summary=\"The step decorator. Makes a method a step in the workflow.\" />\n",
       "\n",
       "</DocSection>"
      ],
      "text/plain": [
       "<nbdoc.showdoc.ShowDoc at 0x111a8dd90>"
      ]
     },
     "execution_count": 2,
     "metadata": {},
     "output_type": "execute_result"
    }
   ],
   "source": [
    "ShowDoc(step, spoofstr='', skip_sections='Attributes', show_import=True)"
   ]
  },
  {
   "cell_type": "code",
   "execution_count": null,
   "id": "70b7a22c",
   "metadata": {},
   "outputs": [],
   "source": []
  }
 ],
 "metadata": {
  "kernelspec": {
   "display_name": "Python 3",
   "language": "python",
   "name": "python3"
  },
  "language_info": {
   "codemirror_mode": {
    "name": "ipython",
    "version": 3
   },
   "file_extension": ".py",
   "mimetype": "text/x-python",
   "name": "python",
   "nbconvert_exporter": "python",
   "pygments_lexer": "ipython3",
   "version": "3.11.0"
  }
 },
 "nbformat": 4,
 "nbformat_minor": 5
}
