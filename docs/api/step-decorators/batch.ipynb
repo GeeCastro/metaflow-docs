{
 "cells": [
  {
   "cell_type": "markdown",
   "id": "eb7388b6",
   "metadata": {},
   "source": [
    "# @batch"
   ]
  },
  {
   "cell_type": "markdown",
   "id": "576777f8",
   "metadata": {},
   "source": [
    "The `@batch` decorator sends a step for execution on the [AWS Batch](https://aws.amazon.com/batch/) compute layer. For more information, see [Effortless Scaling with AWS Batch](/metaflow/scaling-out-and-up/effortless-scaling-with-aws-batch)."
   ]
  },
  {
   "cell_type": "code",
   "execution_count": 1,
   "id": "a5ef9454",
   "metadata": {
    "execution": {
     "iopub.execute_input": "2022-07-25T21:55:51.823680Z",
     "iopub.status.busy": "2022-07-25T21:55:51.821549Z",
     "iopub.status.idle": "2022-07-25T21:55:52.663660Z",
     "shell.execute_reply": "2022-07-25T21:55:52.664913Z"
    }
   },
   "outputs": [],
   "source": [
    "#meta:tag=hide\n",
    "from functools import partial\n",
    "from nbdoc.showdoc import ShowDoc\n",
    "ShowDoc = partial(ShowDoc, module_nm='metaflow')\n",
    "\n",
    "from metaflow import batch"
   ]
  },
  {
   "cell_type": "code",
   "execution_count": 2,
   "id": "09970e68",
   "metadata": {
    "execution": {
     "iopub.execute_input": "2022-07-25T21:55:52.672416Z",
     "iopub.status.busy": "2022-07-25T21:55:52.670939Z",
     "iopub.status.idle": "2022-07-25T21:55:52.699580Z",
     "shell.execute_reply": "2022-07-25T21:55:52.700566Z"
    }
   },
   "outputs": [
    {
     "data": {
      "text/html": [
       "<HTMLRemove>\n",
       "<h3> <code>decorator</code> <span style=\"color:Brown\">@batch</span> <em>(...)</em><a href=\"https://github.com/Netflix/metaflow/tree/master/metaflow/plugins/aws/batch/batch_decorator.py#L30\" style=\"float:right\">[source]</a></h3><strong>metaflow</strong><p><blockquote>Specifies&nbsp;that&nbsp;this&nbsp;step&nbsp;should&nbsp;execute&nbsp;on&nbsp;[AWS&nbsp;Batch](https://aws.amazon.com/batch/).<br><br>Parameters<br>----------<br>cpu&nbsp;:&nbsp;int<br>&nbsp;&nbsp;&nbsp;&nbsp;Number&nbsp;of&nbsp;CPUs&nbsp;required&nbsp;for&nbsp;this&nbsp;step.&nbsp;Defaults&nbsp;to&nbsp;1.&nbsp;If&nbsp;`@resources`&nbsp;is<br>&nbsp;&nbsp;&nbsp;&nbsp;also&nbsp;present,&nbsp;the&nbsp;maximum&nbsp;value&nbsp;from&nbsp;all&nbsp;decorators&nbsp;is&nbsp;used.<br>gpu&nbsp;:&nbsp;int<br>&nbsp;&nbsp;&nbsp;&nbsp;Number&nbsp;of&nbsp;GPUs&nbsp;required&nbsp;for&nbsp;this&nbsp;step.&nbsp;Defaults&nbsp;to&nbsp;0.&nbsp;If&nbsp;`@resources`&nbsp;is<br>&nbsp;&nbsp;&nbsp;&nbsp;also&nbsp;present,&nbsp;the&nbsp;maximum&nbsp;value&nbsp;from&nbsp;all&nbsp;decorators&nbsp;is&nbsp;used.<br>memory&nbsp;:&nbsp;int<br>&nbsp;&nbsp;&nbsp;&nbsp;Memory&nbsp;size&nbsp;(in&nbsp;MB)&nbsp;required&nbsp;for&nbsp;this&nbsp;step.&nbsp;Defaults&nbsp;to&nbsp;4096&nbsp;(4GB).&nbsp;If<br>&nbsp;&nbsp;&nbsp;&nbsp;`@resources`&nbsp;is&nbsp;also&nbsp;present,&nbsp;the&nbsp;maximum&nbsp;value&nbsp;from&nbsp;all&nbsp;decorators&nbsp;is<br>&nbsp;&nbsp;&nbsp;&nbsp;used.<br>image&nbsp;:&nbsp;string<br>&nbsp;&nbsp;&nbsp;&nbsp;Docker&nbsp;image&nbsp;to&nbsp;use&nbsp;when&nbsp;launching&nbsp;on&nbsp;AWS&nbsp;Batch.&nbsp;If&nbsp;not&nbsp;specified,&nbsp;a<br>&nbsp;&nbsp;&nbsp;&nbsp;default&nbsp;Docker&nbsp;image&nbsp;mapping&nbsp;to&nbsp;the&nbsp;current&nbsp;version&nbsp;of&nbsp;Python&nbsp;is&nbsp;used.<br>queue&nbsp;:&nbsp;string<br>&nbsp;&nbsp;&nbsp;&nbsp;AWS&nbsp;Batch&nbsp;Job&nbsp;Queue&nbsp;to&nbsp;submit&nbsp;the&nbsp;job&nbsp;to.&nbsp;Defaults&nbsp;to&nbsp;the&nbsp;one<br>&nbsp;&nbsp;&nbsp;&nbsp;specified&nbsp;by&nbsp;the&nbsp;configuration&nbsp;variable&nbsp;`METAFLOW_BATCH_JOB_QUEUE`.<br>iam_role&nbsp;:&nbsp;string<br>&nbsp;&nbsp;&nbsp;&nbsp;AWS&nbsp;IAM&nbsp;role&nbsp;that&nbsp;AWS&nbsp;Batch&nbsp;container&nbsp;uses&nbsp;to&nbsp;access&nbsp;AWS&nbsp;cloud&nbsp;resources.<br>&nbsp;&nbsp;&nbsp;&nbsp;Defaults&nbsp;to&nbsp;the&nbsp;one&nbsp;specified&nbsp;by&nbsp;the&nbsp;configuration&nbsp;variable&nbsp;`METAFLOW_ECS_S3_ACCESS_IAM_ROLE`.<br>execution_role&nbsp;:&nbsp;string<br>&nbsp;&nbsp;&nbsp;&nbsp;AWS&nbsp;IAM&nbsp;role&nbsp;that&nbsp;AWS&nbsp;Batch&nbsp;can&nbsp;use&nbsp;[to&nbsp;trigger&nbsp;AWS&nbsp;Fargate&nbsp;tasks]<br>&nbsp;&nbsp;&nbsp;&nbsp;(https://docs.aws.amazon.com/batch/latest/userguide/execution-IAM-role.html).<br>&nbsp;&nbsp;&nbsp;&nbsp;Defaults&nbsp;to&nbsp;the&nbsp;one&nbsp;determined&nbsp;by&nbsp;the&nbsp;configuration&nbsp;variable<br>&nbsp;&nbsp;&nbsp;&nbsp;`METAFLOW_ECS_FARGATE_EXECUTION_ROLE`.<br>shared_memory&nbsp;:&nbsp;int<br>&nbsp;&nbsp;&nbsp;&nbsp;The&nbsp;value&nbsp;for&nbsp;the&nbsp;size&nbsp;(in&nbsp;MiB)&nbsp;of&nbsp;the&nbsp;/dev/shm&nbsp;volume&nbsp;for&nbsp;this&nbsp;step.<br>&nbsp;&nbsp;&nbsp;&nbsp;This&nbsp;parameter&nbsp;maps&nbsp;to&nbsp;the&nbsp;`--shm-size`&nbsp;option&nbsp;in&nbsp;Docker.<br>max_swap&nbsp;:&nbsp;int<br>&nbsp;&nbsp;&nbsp;&nbsp;The&nbsp;total&nbsp;amount&nbsp;of&nbsp;swap&nbsp;memory&nbsp;(in&nbsp;MiB)&nbsp;a&nbsp;container&nbsp;can&nbsp;use&nbsp;for&nbsp;this<br>&nbsp;&nbsp;&nbsp;&nbsp;step.&nbsp;This&nbsp;parameter&nbsp;is&nbsp;translated&nbsp;to&nbsp;the&nbsp;`--memory-swap`&nbsp;option&nbsp;in<br>&nbsp;&nbsp;&nbsp;&nbsp;Docker&nbsp;where&nbsp;the&nbsp;value&nbsp;is&nbsp;the&nbsp;sum&nbsp;of&nbsp;the&nbsp;container&nbsp;memory&nbsp;plus&nbsp;the<br>&nbsp;&nbsp;&nbsp;&nbsp;`max_swap`&nbsp;value.<br>swappiness&nbsp;:&nbsp;int<br>&nbsp;&nbsp;&nbsp;&nbsp;This&nbsp;allows&nbsp;you&nbsp;to&nbsp;tune&nbsp;memory&nbsp;swappiness&nbsp;behavior&nbsp;for&nbsp;this&nbsp;step.<br>&nbsp;&nbsp;&nbsp;&nbsp;A&nbsp;swappiness&nbsp;value&nbsp;of&nbsp;0&nbsp;causes&nbsp;swapping&nbsp;not&nbsp;to&nbsp;happen&nbsp;unless&nbsp;absolutely<br>&nbsp;&nbsp;&nbsp;&nbsp;necessary.&nbsp;A&nbsp;swappiness&nbsp;value&nbsp;of&nbsp;100&nbsp;causes&nbsp;pages&nbsp;to&nbsp;be&nbsp;swapped&nbsp;very<br>&nbsp;&nbsp;&nbsp;&nbsp;aggressively.&nbsp;Accepted&nbsp;values&nbsp;are&nbsp;whole&nbsp;numbers&nbsp;between&nbsp;0&nbsp;and&nbsp;100.</blockquote></p>\n",
       "</HTMLRemove>\n",
       "<DocSection type=\"decorator\" name=\"batch\" module=\"metaflow\" show_import=\"True\" heading_level=\"3\" link=\"https://github.com/Netflix/metaflow/tree/master/metaflow/plugins/aws/batch/batch_decorator.py#L30\">\n",
       "<SigArgSection>\n",
       "<SigArg name=\"...\" />\n",
       "</SigArgSection>\n",
       "<Description summary=\"Specifies that this step should execute on [AWS Batch](https://aws.amazon.com/batch/).\" />\n",
       "<ParamSection name=\"Parameters\">\n",
       "\t<Parameter name=\"cpu\" type=\"int\" desc=\"Number of CPUs required for this step. Defaults to 1. If `@resources` is\\nalso present, the maximum value from all decorators is used.\" />\n",
       "\t<Parameter name=\"gpu\" type=\"int\" desc=\"Number of GPUs required for this step. Defaults to 0. If `@resources` is\\nalso present, the maximum value from all decorators is used.\" />\n",
       "\t<Parameter name=\"memory\" type=\"int\" desc=\"Memory size (in MB) required for this step. Defaults to 4096 (4GB). If\\n`@resources` is also present, the maximum value from all decorators is\\nused.\" />\n",
       "\t<Parameter name=\"image\" type=\"string\" desc=\"Docker image to use when launching on AWS Batch. If not specified, a\\ndefault Docker image mapping to the current version of Python is used.\" />\n",
       "\t<Parameter name=\"queue\" type=\"string\" desc=\"AWS Batch Job Queue to submit the job to. Defaults to the one\\nspecified by the configuration variable `METAFLOW_BATCH_JOB_QUEUE`.\" />\n",
       "\t<Parameter name=\"iam_role\" type=\"string\" desc=\"AWS IAM role that AWS Batch container uses to access AWS cloud resources.\\nDefaults to the one specified by the configuration variable `METAFLOW_ECS_S3_ACCESS_IAM_ROLE`.\" />\n",
       "\t<Parameter name=\"execution_role\" type=\"string\" desc=\"AWS IAM role that AWS Batch can use [to trigger AWS Fargate tasks]\\n(https://docs.aws.amazon.com/batch/latest/userguide/execution-IAM-role.html).\\nDefaults to the one determined by the configuration variable\\n`METAFLOW_ECS_FARGATE_EXECUTION_ROLE`.\" />\n",
       "\t<Parameter name=\"shared_memory\" type=\"int\" desc=\"The value for the size (in MiB) of the /dev/shm volume for this step.\\nThis parameter maps to the `--shm-size` option in Docker.\" />\n",
       "\t<Parameter name=\"max_swap\" type=\"int\" desc=\"The total amount of swap memory (in MiB) a container can use for this\\nstep. This parameter is translated to the `--memory-swap` option in\\nDocker where the value is the sum of the container memory plus the\\n`max_swap` value.\" />\n",
       "\t<Parameter name=\"swappiness\" type=\"int\" desc=\"This allows you to tune memory swappiness behavior for this step.\\nA swappiness value of 0 causes swapping not to happen unless absolutely\\nnecessary. A swappiness value of 100 causes pages to be swapped very\\naggressively. Accepted values are whole numbers between 0 and 100.\" />\n",
       "</ParamSection>\n",
       "</DocSection>"
      ],
      "text/plain": [
       "<nbdoc.showdoc.ShowDoc at 0x7fb4d1bc2550>"
      ]
     },
     "execution_count": 2,
     "metadata": {},
     "output_type": "execute_result"
    }
   ],
   "source": [
    "ShowDoc(batch,  skip_sections='Attributes', show_import=True)"
   ]
  },
  {
   "cell_type": "code",
   "execution_count": null,
   "id": "c2ee5564",
   "metadata": {},
   "outputs": [],
   "source": []
  }
 ],
 "metadata": {
  "kernelspec": {
   "display_name": "Python 3",
   "language": "python",
   "name": "python3"
  },
  "language_info": {
   "codemirror_mode": {
    "name": "ipython",
    "version": 3
   },
   "file_extension": ".py",
   "mimetype": "text/x-python",
   "name": "python",
   "nbconvert_exporter": "python",
   "pygments_lexer": "ipython3",
   "version": "3.9.1"
  }
 },
 "nbformat": 4,
 "nbformat_minor": 5
}
