{
 "cells": [
  {
   "cell_type": "markdown",
   "id": "101d172c",
   "metadata": {},
   "source": [
    "# @card\n",
    "\n",
    "Creates a report card after the step completes. For more information, see [Visualizing Results](/metaflow/visualizing-results) and [the main API docs for cards](/api/cards)."
   ]
  },
  {
   "cell_type": "code",
   "execution_count": 1,
   "id": "20310c8b",
   "metadata": {
    "execution": {
     "iopub.execute_input": "2022-07-25T21:55:52.758281Z",
     "iopub.status.busy": "2022-07-25T21:55:52.756403Z",
     "iopub.status.idle": "2022-07-25T21:55:53.721428Z",
     "shell.execute_reply": "2022-07-25T21:55:53.722325Z"
    }
   },
   "outputs": [],
   "source": [
    "#meta:tag=hide\n",
    "from functools import partial\n",
    "from nbdoc.showdoc import ShowDoc\n",
    "ShowDoc = partial(ShowDoc, module_nm='metaflow')\n",
    "\n",
    "from metaflow import card"
   ]
  },
  {
   "cell_type": "code",
   "execution_count": 2,
   "id": "7f2bc67e",
   "metadata": {
    "execution": {
     "iopub.execute_input": "2022-07-25T21:55:53.728889Z",
     "iopub.status.busy": "2022-07-25T21:55:53.727417Z",
     "iopub.status.idle": "2022-07-25T21:55:53.747174Z",
     "shell.execute_reply": "2022-07-25T21:55:53.748039Z"
    }
   },
   "outputs": [
    {
     "data": {
      "text/html": [
       "<HTMLRemove>\n",
       "<h3> <code>decorator</code> <span style=\"color:Brown\">@card</span> <em>(...)</em><a href=\"https://github.com/Netflix/metaflow/tree/master/metaflow/plugins/cards/card_decorator.py#L24\" style=\"float:right\">[source]</a></h3><strong>metaflow</strong><p><blockquote>Creates&nbsp;a&nbsp;human-readable&nbsp;report,&nbsp;a&nbsp;Metaflow&nbsp;Card,&nbsp;after&nbsp;this&nbsp;step&nbsp;completes.<br><br>Note&nbsp;that&nbsp;you&nbsp;may&nbsp;add&nbsp;multiple&nbsp;`@card`&nbsp;decorators&nbsp;in&nbsp;a&nbsp;step&nbsp;with&nbsp;different&nbsp;parameters.<br><br>Parameters<br>----------<br>type&nbsp;:&nbsp;str<br>&nbsp;&nbsp;&nbsp;&nbsp;Card&nbsp;type&nbsp;(Default:&nbsp;'default').<br>id&nbsp;:&nbsp;str<br>&nbsp;&nbsp;&nbsp;&nbsp;If&nbsp;multiple&nbsp;cards&nbsp;are&nbsp;present,&nbsp;use&nbsp;this&nbsp;id&nbsp;to&nbsp;identify&nbsp;this&nbsp;card.<br>options&nbsp;:&nbsp;Dict<br>&nbsp;&nbsp;&nbsp;&nbsp;Options&nbsp;passed&nbsp;to&nbsp;the&nbsp;card.&nbsp;The&nbsp;contents&nbsp;depend&nbsp;on&nbsp;the&nbsp;card&nbsp;type.<br>timeout&nbsp;:&nbsp;int<br>&nbsp;&nbsp;&nbsp;&nbsp;Interrupt&nbsp;reporting&nbsp;if&nbsp;it&nbsp;takes&nbsp;more&nbsp;than&nbsp;this&nbsp;many&nbsp;seconds<br>&nbsp;&nbsp;&nbsp;&nbsp;(default:&nbsp;45).</blockquote></p>\n",
       "</HTMLRemove>\n",
       "<DocSection type=\"decorator\" name=\"card\" module=\"metaflow\" show_import=\"True\" heading_level=\"3\" link=\"https://github.com/Netflix/metaflow/tree/master/metaflow/plugins/cards/card_decorator.py#L24\">\n",
       "<SigArgSection>\n",
       "<SigArg name=\"...\" />\n",
       "</SigArgSection>\n",
       "<Description summary=\"Creates a human-readable report, a Metaflow Card, after this step completes.\" extended_summary=\"Note that you may add multiple `@card` decorators in a step with different parameters.\" />\n",
       "<ParamSection name=\"Parameters\">\n",
       "\t<Parameter name=\"type\" type=\"str\" desc=\"Card type (Default: 'default').\" />\n",
       "\t<Parameter name=\"id\" type=\"str\" desc=\"If multiple cards are present, use this id to identify this card.\" />\n",
       "\t<Parameter name=\"options\" type=\"Dict\" desc=\"Options passed to the card. The contents depend on the card type.\" />\n",
       "\t<Parameter name=\"timeout\" type=\"int\" desc=\"Interrupt reporting if it takes more than this many seconds\\n(default: 45).\" />\n",
       "</ParamSection>\n",
       "</DocSection>"
      ],
      "text/plain": [
       "<nbdoc.showdoc.ShowDoc at 0x7fd4c4ac68e0>"
      ]
     },
     "execution_count": 2,
     "metadata": {},
     "output_type": "execute_result"
    }
   ],
   "source": [
    "ShowDoc(card, skip_sections='Attributes', show_import=True)"
   ]
  },
  {
   "cell_type": "code",
   "execution_count": null,
   "id": "20cf2b07",
   "metadata": {},
   "outputs": [],
   "source": []
  }
 ],
 "metadata": {
  "kernelspec": {
   "display_name": "Python 3",
   "language": "python",
   "name": "python3"
  },
  "language_info": {
   "codemirror_mode": {
    "name": "ipython",
    "version": 3
   },
   "file_extension": ".py",
   "mimetype": "text/x-python",
   "name": "python",
   "nbconvert_exporter": "python",
   "pygments_lexer": "ipython3",
   "version": "3.9.1"
  }
 },
 "nbformat": 4,
 "nbformat_minor": 5
}
