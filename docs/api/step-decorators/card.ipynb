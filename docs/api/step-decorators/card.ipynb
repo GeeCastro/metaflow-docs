{
 "cells": [
  {
   "cell_type": "markdown",
   "id": "101d172c",
   "metadata": {},
   "source": [
    "# @card\n",
    "\n",
    "Creates a report card after the step completes. For more information, see [Visualizing Results](/metaflow/visualizing-results) and [the main API docs for cards](/api/cards)."
   ]
  },
  {
   "cell_type": "code",
   "execution_count": 1,
   "id": "20310c8b",
   "metadata": {
    "execution": {
     "iopub.execute_input": "2023-06-03T08:02:40.588185Z",
     "iopub.status.busy": "2023-06-03T08:02:40.588082Z",
     "iopub.status.idle": "2023-06-03T08:02:40.885860Z",
     "shell.execute_reply": "2023-06-03T08:02:40.885545Z"
    }
   },
   "outputs": [],
   "source": [
    "#meta:tag=hide\n",
    "from functools import partial\n",
    "from nbdoc.showdoc import ShowDoc\n",
    "ShowDoc = partial(ShowDoc, module_nm='metaflow')\n",
    "\n",
    "from metaflow import card"
   ]
  },
  {
   "cell_type": "code",
   "execution_count": 2,
   "id": "7f2bc67e",
   "metadata": {
    "execution": {
     "iopub.execute_input": "2023-06-03T08:02:40.888146Z",
     "iopub.status.busy": "2023-06-03T08:02:40.887988Z",
     "iopub.status.idle": "2023-06-03T08:02:40.896208Z",
     "shell.execute_reply": "2023-06-03T08:02:40.895844Z"
    }
   },
   "outputs": [
    {
     "data": {
      "text/html": [
       "<HTMLRemove>\n",
       "<h3> <code>decorator</code> <span style=\"color:Brown\">@card</span> <em>(...)</em><a href=\"https://github.com/Netflix/metaflow/tree/master/metaflow/plugins/cards/card_decorator.py#L27\" style=\"float:right\">[source]</a></h3><strong>metaflow</strong><p><blockquote>Creates&nbsp;a&nbsp;human-readable&nbsp;report,&nbsp;a&nbsp;Metaflow&nbsp;Card,&nbsp;after&nbsp;this&nbsp;step&nbsp;completes.<br><br>Note&nbsp;that&nbsp;you&nbsp;may&nbsp;add&nbsp;multiple&nbsp;`@card`&nbsp;decorators&nbsp;in&nbsp;a&nbsp;step&nbsp;with&nbsp;different&nbsp;parameters.<br><br>Parameters<br>----------<br>type&nbsp;:&nbsp;str,&nbsp;default:&nbsp;'default'<br>&nbsp;&nbsp;&nbsp;&nbsp;Card&nbsp;type.<br>id&nbsp;:&nbsp;str,&nbsp;optional,&nbsp;default:&nbsp;None<br>&nbsp;&nbsp;&nbsp;&nbsp;If&nbsp;multiple&nbsp;cards&nbsp;are&nbsp;present,&nbsp;use&nbsp;this&nbsp;id&nbsp;to&nbsp;identify&nbsp;this&nbsp;card.<br>options&nbsp;:&nbsp;Dict[str,&nbsp;Any],&nbsp;default:&nbsp;{}<br>&nbsp;&nbsp;&nbsp;&nbsp;Options&nbsp;passed&nbsp;to&nbsp;the&nbsp;card.&nbsp;The&nbsp;contents&nbsp;depend&nbsp;on&nbsp;the&nbsp;card&nbsp;type.<br>timeout&nbsp;:&nbsp;int,&nbsp;default:&nbsp;45<br>&nbsp;&nbsp;&nbsp;&nbsp;Interrupt&nbsp;reporting&nbsp;if&nbsp;it&nbsp;takes&nbsp;more&nbsp;than&nbsp;this&nbsp;many&nbsp;seconds.</blockquote></p>\n",
       "</HTMLRemove>\n",
       "<DocSection type=\"decorator\" name=\"card\" module=\"metaflow\" show_import=\"True\" heading_level=\"3\" link=\"https://github.com/Netflix/metaflow/tree/master/metaflow/plugins/cards/card_decorator.py#L27\">\n",
       "<SigArgSection>\n",
       "<SigArg name=\"...\" />\n",
       "</SigArgSection>\n",
       "<Description summary=\"Creates a human-readable report, a Metaflow Card, after this step completes.\" extended_summary=\"Note that you may add multiple `@card` decorators in a step with different parameters.\" />\n",
       "<ParamSection name=\"Parameters\">\n",
       "\t<Parameter name=\"type\" type=\"str, default: 'default'\" desc=\"Card type.\" />\n",
       "\t<Parameter name=\"id\" type=\"str, optional, default: None\" desc=\"If multiple cards are present, use this id to identify this card.\" />\n",
       "\t<Parameter name=\"options\" type=\"Dict[str, Any], default: {}\" desc=\"Options passed to the card. The contents depend on the card type.\" />\n",
       "\t<Parameter name=\"timeout\" type=\"int, default: 45\" desc=\"Interrupt reporting if it takes more than this many seconds.\" />\n",
       "</ParamSection>\n",
       "</DocSection>"
      ],
      "text/plain": [
       "<nbdoc.showdoc.ShowDoc at 0x10668a510>"
      ]
     },
     "execution_count": 2,
     "metadata": {},
     "output_type": "execute_result"
    }
   ],
   "source": [
    "ShowDoc(card, skip_sections='Attributes', show_import=True)"
   ]
  },
  {
   "cell_type": "code",
   "execution_count": null,
   "id": "20cf2b07",
   "metadata": {},
   "outputs": [],
   "source": []
  }
 ],
 "metadata": {
  "kernelspec": {
   "display_name": "Python 3",
   "language": "python",
   "name": "python3"
  },
  "language_info": {
   "codemirror_mode": {
    "name": "ipython",
    "version": 3
   },
   "file_extension": ".py",
   "mimetype": "text/x-python",
   "name": "python",
   "nbconvert_exporter": "python",
   "pygments_lexer": "ipython3",
   "version": "3.11.0"
  }
 },
 "nbformat": 4,
 "nbformat_minor": 5
}
