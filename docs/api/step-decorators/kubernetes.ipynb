{
 "cells": [
  {
   "cell_type": "markdown",
   "id": "1bb4599f",
   "metadata": {},
   "source": [
    "# @kubernetes\n",
    "\n",
    "The `@kubernetes` decorator sends a step for execution on a [Kubernetes](https://kubernetes.io) cluster. For more information, see [Effortless Scaling with Kubernetes](/metaflow/scaling-out-and-up/effortless-scaling-with-kubernetes)."
   ]
  },
  {
   "cell_type": "code",
   "execution_count": 1,
   "id": "e5133463",
   "metadata": {
    "execution": {
     "iopub.execute_input": "2022-07-25T21:55:54.272078Z",
     "iopub.status.busy": "2022-07-25T21:55:54.271010Z",
     "iopub.status.idle": "2022-07-25T21:55:55.010926Z",
     "shell.execute_reply": "2022-07-25T21:55:55.012741Z"
    }
   },
   "outputs": [],
   "source": [
    "#meta:tag=hide\n",
    "from functools import partial\n",
    "from nbdoc.showdoc import ShowDoc\n",
    "ShowDoc = partial(ShowDoc, module_nm='metaflow')\n",
    "\n",
    "from metaflow import kubernetes"
   ]
  },
  {
   "cell_type": "code",
   "execution_count": 2,
   "id": "d7399f58",
   "metadata": {
    "execution": {
     "iopub.execute_input": "2022-07-25T21:55:55.019268Z",
     "iopub.status.busy": "2022-07-25T21:55:55.018072Z",
     "iopub.status.idle": "2022-07-25T21:55:55.040542Z",
     "shell.execute_reply": "2022-07-25T21:55:55.041464Z"
    }
   },
   "outputs": [
    {
     "data": {
      "text/html": [
       "<HTMLRemove>\n",
       "<h3> <code>decorator</code> <span style=\"color:Brown\">@kubernetes</span> <em>(...)</em><a href=\"https://github.com/Netflix/metaflow/tree/master/metaflow/plugins/kubernetes/kubernetes_decorator.py#L36\" style=\"float:right\">[source]</a></h3><strong>metaflow</strong><p><blockquote>Specifies&nbsp;that&nbsp;this&nbsp;step&nbsp;should&nbsp;execute&nbsp;on&nbsp;Kubernetes.<br><br>Parameters<br>----------<br>cpu&nbsp;:&nbsp;int<br>&nbsp;&nbsp;&nbsp;&nbsp;Number&nbsp;of&nbsp;CPUs&nbsp;required&nbsp;for&nbsp;this&nbsp;step.&nbsp;Defaults&nbsp;to&nbsp;1.&nbsp;If&nbsp;`@resources`&nbsp;is<br>&nbsp;&nbsp;&nbsp;&nbsp;also&nbsp;present,&nbsp;the&nbsp;maximum&nbsp;value&nbsp;from&nbsp;all&nbsp;decorators&nbsp;is&nbsp;used.<br>memory&nbsp;:&nbsp;int<br>&nbsp;&nbsp;&nbsp;&nbsp;Memory&nbsp;size&nbsp;(in&nbsp;MB)&nbsp;required&nbsp;for&nbsp;this&nbsp;step.&nbsp;Defaults&nbsp;to&nbsp;4096&nbsp;(4GB).&nbsp;If<br>&nbsp;&nbsp;&nbsp;&nbsp;`@resources`&nbsp;is&nbsp;also&nbsp;present,&nbsp;the&nbsp;maximum&nbsp;value&nbsp;from&nbsp;all&nbsp;decorators&nbsp;is<br>&nbsp;&nbsp;&nbsp;&nbsp;used.<br>disk&nbsp;:&nbsp;int<br>&nbsp;&nbsp;&nbsp;&nbsp;Disk&nbsp;size&nbsp;(in&nbsp;MB)&nbsp;required&nbsp;for&nbsp;this&nbsp;step.&nbsp;Defaults&nbsp;to&nbsp;10GB.&nbsp;If<br>&nbsp;&nbsp;&nbsp;&nbsp;`@resources`&nbsp;is&nbsp;also&nbsp;present,&nbsp;the&nbsp;maximum&nbsp;value&nbsp;from&nbsp;all&nbsp;decorators&nbsp;is<br>&nbsp;&nbsp;&nbsp;&nbsp;used.<br>image&nbsp;:&nbsp;string<br>&nbsp;&nbsp;&nbsp;&nbsp;Docker&nbsp;image&nbsp;to&nbsp;use&nbsp;when&nbsp;launching&nbsp;on&nbsp;Kubernetes.&nbsp;If&nbsp;not&nbsp;specified,&nbsp;a<br>&nbsp;&nbsp;&nbsp;&nbsp;default&nbsp;Docker&nbsp;image&nbsp;mapping&nbsp;to&nbsp;the&nbsp;current&nbsp;version&nbsp;of&nbsp;Python&nbsp;is&nbsp;used.</blockquote></p>\n",
       "</HTMLRemove>\n",
       "<DocSection type=\"decorator\" name=\"kubernetes\" module=\"metaflow\" show_import=\"True\" heading_level=\"3\" link=\"https://github.com/Netflix/metaflow/tree/master/metaflow/plugins/kubernetes/kubernetes_decorator.py#L36\">\n",
       "<SigArgSection>\n",
       "<SigArg name=\"...\" />\n",
       "</SigArgSection>\n",
       "<Description summary=\"Specifies that this step should execute on Kubernetes.\" />\n",
       "<ParamSection name=\"Parameters\">\n",
       "\t<Parameter name=\"cpu\" type=\"int\" desc=\"Number of CPUs required for this step. Defaults to 1. If `@resources` is\\nalso present, the maximum value from all decorators is used.\" />\n",
       "\t<Parameter name=\"memory\" type=\"int\" desc=\"Memory size (in MB) required for this step. Defaults to 4096 (4GB). If\\n`@resources` is also present, the maximum value from all decorators is\\nused.\" />\n",
       "\t<Parameter name=\"disk\" type=\"int\" desc=\"Disk size (in MB) required for this step. Defaults to 10GB. If\\n`@resources` is also present, the maximum value from all decorators is\\nused.\" />\n",
       "\t<Parameter name=\"image\" type=\"string\" desc=\"Docker image to use when launching on Kubernetes. If not specified, a\\ndefault Docker image mapping to the current version of Python is used.\" />\n",
       "</ParamSection>\n",
       "</DocSection>"
      ],
      "text/plain": [
       "<nbdoc.showdoc.ShowDoc at 0x7f95326d0bb0>"
      ]
     },
     "execution_count": 2,
     "metadata": {},
     "output_type": "execute_result"
    }
   ],
   "source": [
    "ShowDoc(kubernetes,  skip_sections='Attributes', show_import=True)"
   ]
  },
  {
   "cell_type": "code",
   "execution_count": null,
   "id": "a973a231",
   "metadata": {},
   "outputs": [],
   "source": []
  }
 ],
 "metadata": {
  "kernelspec": {
   "display_name": "Python 3",
   "language": "python",
   "name": "python3"
  },
  "language_info": {
   "codemirror_mode": {
    "name": "ipython",
    "version": 3
   },
   "file_extension": ".py",
   "mimetype": "text/x-python",
   "name": "python",
   "nbconvert_exporter": "python",
   "pygments_lexer": "ipython3",
   "version": "3.9.1"
  }
 },
 "nbformat": 4,
 "nbformat_minor": 5
}
