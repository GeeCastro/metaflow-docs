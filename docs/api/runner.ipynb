{
 "cells": [
  {
   "cell_type": "markdown",
   "id": "c0ed0370",
   "metadata": {},
   "source": [
    "# Runner - Running flows programmatically"
   ]
  },
  {
   "cell_type": "markdown",
   "id": "cc1c501a",
   "metadata": {},
   "source": [
    "The `Runner` class and its notebook-focused counterpart `NBRunner` allow you to start runs and resume them programmatically. For an overview, see [Managing Flows in Notebooks and Scripts](/metaflow/managing-flows/introduction)."
   ]
  },
  {
   "cell_type": "code",
   "execution_count": 1,
   "id": "d4c02781",
   "metadata": {
    "execution": {
     "iopub.execute_input": "2024-07-25T06:16:56.846165Z",
     "iopub.status.busy": "2024-07-25T06:16:56.846050Z",
     "iopub.status.idle": "2024-07-25T06:16:57.124578Z",
     "shell.execute_reply": "2024-07-25T06:16:57.124277Z"
    }
   },
   "outputs": [],
   "source": [
    "#meta:tag=hide\n",
    "from functools import partial\n",
    "from nbdoc.showdoc import ShowDoc\n",
    "ShowDoc = partial(ShowDoc, module_nm='metaflow')\n",
    "\n",
    "from metaflow import Runner, NBRunner\n",
    "from metaflow.runner.metaflow_runner import ExecutingRun"
   ]
  },
  {
   "cell_type": "markdown",
   "id": "4e89ee3c",
   "metadata": {},
   "source": [
    "## Runner\n",
    "\n",
    "The `Runner` object is typically used as a context manager:\n",
    "```python\n",
    "with Runner(...) as runner:\n",
    "    ...\n",
    "```\n",
    "note that `ExecutingRun` returned by `run` and `async_run` works as a context manager as well, so you can do\n",
    "```python\n",
    "with Runner(...).run() as running:\n",
    "   ...\n",
    "```\n",
    "or \n",
    "```python\n",
    "with await Runner(...).async_run() as running:\n",
    "    ...\n",
    "```\n",
    "If you don't use `Runner` as a context manager, remember to call `Runner.cleanup()` to remove any leftover temp files."
   ]
  },
  {
   "cell_type": "code",
   "execution_count": 2,
   "id": "7fdb7184",
   "metadata": {
    "execution": {
     "iopub.execute_input": "2024-07-25T06:16:57.127133Z",
     "iopub.status.busy": "2024-07-25T06:16:57.126981Z",
     "iopub.status.idle": "2024-07-25T06:16:57.135119Z",
     "shell.execute_reply": "2024-07-25T06:16:57.134789Z"
    }
   },
   "outputs": [
    {
     "data": {
      "text/html": [
       "<HTMLRemove>\n",
       "<h3> <code>class</code> <span style=\"color:Brown\">Runner</span> <em>flow_file, show_output=True, profile=None, env=None, cwd=None, **kwargs</em><a href=\"https://github.com/Netflix/metaflow/tree/master/metaflow/runner/metaflow_runner.py#L181\" style=\"float:right\">[source]</a></h3><p><blockquote>Metaflow's&nbsp;Runner&nbsp;API&nbsp;that&nbsp;presents&nbsp;a&nbsp;programmatic&nbsp;interface<br>to&nbsp;run&nbsp;flows&nbsp;and&nbsp;perform&nbsp;other&nbsp;operations&nbsp;either&nbsp;synchronously&nbsp;or&nbsp;asynchronously.<br>The&nbsp;class&nbsp;expects&nbsp;a&nbsp;path&nbsp;to&nbsp;the&nbsp;flow&nbsp;file&nbsp;along&nbsp;with&nbsp;optional&nbsp;arguments<br>that&nbsp;match&nbsp;top-level&nbsp;options&nbsp;on&nbsp;the&nbsp;command-line.<br><br>This&nbsp;class&nbsp;works&nbsp;as&nbsp;a&nbsp;context&nbsp;manager,&nbsp;calling&nbsp;`cleanup()`&nbsp;to&nbsp;remove<br>temporary&nbsp;files&nbsp;at&nbsp;exit.<br><br>Example:<br>```python<br>with&nbsp;Runner('slowflow.py',&nbsp;pylint=False)&nbsp;as&nbsp;runner:<br>&nbsp;&nbsp;&nbsp;&nbsp;result&nbsp;=&nbsp;runner.run(alpha=5,&nbsp;tags=[\"abc\",&nbsp;\"def\"],&nbsp;max_workers=5)<br>&nbsp;&nbsp;&nbsp;&nbsp;print(result.run.finished)<br>```<br><br>Parameters<br>----------<br>flow_file&nbsp;:&nbsp;str<br>&nbsp;&nbsp;&nbsp;&nbsp;Path&nbsp;to&nbsp;the&nbsp;flow&nbsp;file&nbsp;to&nbsp;run<br>show_output&nbsp;:&nbsp;bool,&nbsp;default&nbsp;True<br>&nbsp;&nbsp;&nbsp;&nbsp;Show&nbsp;the&nbsp;'stdout'&nbsp;and&nbsp;'stderr'&nbsp;to&nbsp;the&nbsp;console&nbsp;by&nbsp;default,<br>&nbsp;&nbsp;&nbsp;&nbsp;Only&nbsp;applicable&nbsp;for&nbsp;synchronous&nbsp;'run'&nbsp;and&nbsp;'resume'&nbsp;functions.<br>profile&nbsp;:&nbsp;Optional[str],&nbsp;default&nbsp;None<br>&nbsp;&nbsp;&nbsp;&nbsp;Metaflow&nbsp;profile&nbsp;to&nbsp;use&nbsp;to&nbsp;run&nbsp;this&nbsp;run.&nbsp;If&nbsp;not&nbsp;specified,&nbsp;the&nbsp;default<br>&nbsp;&nbsp;&nbsp;&nbsp;profile&nbsp;is&nbsp;used&nbsp;(or&nbsp;the&nbsp;one&nbsp;already&nbsp;set&nbsp;using&nbsp;`METAFLOW_PROFILE`)<br>env&nbsp;:&nbsp;Optional[Dict],&nbsp;default&nbsp;None<br>&nbsp;&nbsp;&nbsp;&nbsp;Additional&nbsp;environment&nbsp;variables&nbsp;to&nbsp;set&nbsp;for&nbsp;the&nbsp;Run.&nbsp;This&nbsp;overrides&nbsp;the<br>&nbsp;&nbsp;&nbsp;&nbsp;environment&nbsp;set&nbsp;for&nbsp;this&nbsp;process.<br>cwd&nbsp;:&nbsp;Optional[str],&nbsp;default&nbsp;None<br>&nbsp;&nbsp;&nbsp;&nbsp;The&nbsp;directory&nbsp;to&nbsp;run&nbsp;the&nbsp;subprocess&nbsp;in;&nbsp;if&nbsp;not&nbsp;specified,&nbsp;the&nbsp;current<br>&nbsp;&nbsp;&nbsp;&nbsp;directory&nbsp;is&nbsp;used.<br>**kwargs&nbsp;:&nbsp;Any<br>&nbsp;&nbsp;&nbsp;&nbsp;Additional&nbsp;arguments&nbsp;that&nbsp;you&nbsp;would&nbsp;pass&nbsp;to&nbsp;`python&nbsp;myflow.py`&nbsp;before<br>&nbsp;&nbsp;&nbsp;&nbsp;the&nbsp;`run`&nbsp;command.</blockquote></p>\n",
       "</HTMLRemove>\n",
       "<DocSection type=\"class\" name=\"Runner\" module=\"metaflow\" show_import=\"False\" heading_level=\"3\" link=\"https://github.com/Netflix/metaflow/tree/master/metaflow/runner/metaflow_runner.py#L181\">\n",
       "<SigArgSection>\n",
       "<SigArg name=\"flow_file, show_output=True, profile=None, env=None, cwd=None, **kwargs\" />\n",
       "</SigArgSection>\n",
       "<Description summary=\"Metaflow's Runner API that presents a programmatic interface\\nto run flows and perform other operations either synchronously or asynchronously.\\nThe class expects a path to the flow file along with optional arguments\\nthat match top-level options on the command-line.\" extended_summary=\"This class works as a context manager, calling `cleanup()` to remove\\ntemporary files at exit.\\n\\nExample:\\n```python\\nwith Runner('slowflow.py', pylint=False) as runner:\\n    result = runner.run(alpha=5, tags=[&#34;abc&#34;, &#34;def&#34;], max_workers=5)\\n    print(result.run.finished)\\n```\" />\n",
       "<ParamSection name=\"Parameters\">\n",
       "\t<Parameter name=\"flow_file\" type=\"str\" desc=\"Path to the flow file to run\" />\n",
       "\t<Parameter name=\"show_output\" type=\"bool, default True\" desc=\"Show the 'stdout' and 'stderr' to the console by default,\\nOnly applicable for synchronous 'run' and 'resume' functions.\" />\n",
       "\t<Parameter name=\"profile\" type=\"Optional[str], default None\" desc=\"Metaflow profile to use to run this run. If not specified, the default\\nprofile is used (or the one already set using `METAFLOW_PROFILE`)\" />\n",
       "\t<Parameter name=\"env\" type=\"Optional[Dict], default None\" desc=\"Additional environment variables to set for the Run. This overrides the\\nenvironment set for this process.\" />\n",
       "\t<Parameter name=\"cwd\" type=\"Optional[str], default None\" desc=\"The directory to run the subprocess in; if not specified, the current\\ndirectory is used.\" />\n",
       "\t<Parameter name=\"**kwargs\" type=\"Any\" desc=\"Additional arguments that you would pass to `python myflow.py` before\\nthe `run` command.\" />\n",
       "</ParamSection>\n",
       "</DocSection>"
      ],
      "text/plain": [
       "<nbdoc.showdoc.ShowDoc at 0x106cd1510>"
      ]
     },
     "execution_count": 2,
     "metadata": {},
     "output_type": "execute_result"
    }
   ],
   "source": [
    "ShowDoc(Runner, spoofstr=('flow_file, show_output=True, profile=None, env=None, cwd=None, **kwargs'))"
   ]
  },
  {
   "cell_type": "code",
   "execution_count": 3,
   "id": "84c83820",
   "metadata": {
    "execution": {
     "iopub.execute_input": "2024-07-25T06:16:57.137507Z",
     "iopub.status.busy": "2024-07-25T06:16:57.137393Z",
     "iopub.status.idle": "2024-07-25T06:16:57.139946Z",
     "shell.execute_reply": "2024-07-25T06:16:57.139696Z"
    }
   },
   "outputs": [
    {
     "data": {
      "text/html": [
       "<HTMLRemove>\n",
       "<h4> <code>method</code> <span style=\"color:Brown\">Runner.cleanup</span> <em>(self)</em><a href=\"https://github.com/Netflix/metaflow/tree/master/metaflow/runner/metaflow_runner.py#L433\" style=\"float:right\">[source]</a></h4><p><blockquote>Delete&nbsp;any&nbsp;temporary&nbsp;files&nbsp;created&nbsp;during&nbsp;execution.</blockquote></p>\n",
       "</HTMLRemove>\n",
       "<DocSection type=\"method\" name=\"Runner.cleanup\" module=\"metaflow\" show_import=\"False\" heading_level=\"4\" link=\"https://github.com/Netflix/metaflow/tree/master/metaflow/runner/metaflow_runner.py#L433\">\n",
       "<SigArgSection>\n",
       "<SigArg name=\"self\" />\n",
       "</SigArgSection>\n",
       "<Description summary=\"Delete any temporary files created during execution.\" />\n",
       "\n",
       "</DocSection>"
      ],
      "text/plain": [
       "<nbdoc.showdoc.ShowDoc at 0x111d37050>"
      ]
     },
     "execution_count": 3,
     "metadata": {},
     "output_type": "execute_result"
    }
   ],
   "source": [
    "ShowDoc(Runner.cleanup)"
   ]
  },
  {
   "cell_type": "markdown",
   "id": "b6838998",
   "metadata": {},
   "source": [
    "### Blocking API\n",
    "\n",
    "These calls block until the command completes."
   ]
  },
  {
   "cell_type": "code",
   "execution_count": 4,
   "id": "8c61365e",
   "metadata": {
    "execution": {
     "iopub.execute_input": "2024-07-25T06:16:57.142811Z",
     "iopub.status.busy": "2024-07-25T06:16:57.142681Z",
     "iopub.status.idle": "2024-07-25T06:16:57.145665Z",
     "shell.execute_reply": "2024-07-25T06:16:57.145412Z"
    }
   },
   "outputs": [
    {
     "data": {
      "text/html": [
       "<HTMLRemove>\n",
       "<h4> <code>method</code> <span style=\"color:Brown\">Runner.run</span> <em>(self, **kwargs) -> metaflow.runner.metaflow_runner.ExecutingRun</em><a href=\"https://github.com/Netflix/metaflow/tree/master/metaflow/runner/metaflow_runner.py#L289\" style=\"float:right\">[source]</a></h4><p><blockquote>Blocking&nbsp;execution&nbsp;of&nbsp;the&nbsp;run.&nbsp;This&nbsp;method&nbsp;will&nbsp;wait&nbsp;until<br>the&nbsp;run&nbsp;has&nbsp;completed&nbsp;execution.<br><br>Parameters<br>----------<br>**kwargs&nbsp;:&nbsp;Any<br>&nbsp;&nbsp;&nbsp;&nbsp;Additional&nbsp;arguments&nbsp;that&nbsp;you&nbsp;would&nbsp;pass&nbsp;to&nbsp;`python&nbsp;myflow.py`&nbsp;after<br>&nbsp;&nbsp;&nbsp;&nbsp;the&nbsp;`run`&nbsp;command,&nbsp;in&nbsp;particular,&nbsp;any&nbsp;parameters&nbsp;accepted&nbsp;by&nbsp;the&nbsp;flow.<br><br>Returns<br>-------<br>ExecutingRun<br>&nbsp;&nbsp;&nbsp;&nbsp;ExecutingRun&nbsp;containing&nbsp;the&nbsp;results&nbsp;of&nbsp;the&nbsp;run.</blockquote></p>\n",
       "</HTMLRemove>\n",
       "<DocSection type=\"method\" name=\"Runner.run\" module=\"metaflow\" show_import=\"False\" heading_level=\"4\" link=\"https://github.com/Netflix/metaflow/tree/master/metaflow/runner/metaflow_runner.py#L289\">\n",
       "<SigArgSection>\n",
       "<SigArg name=\"self\" /><SigArg name=\"**kwargs\" />\n",
       "</SigArgSection>\n",
       "<Description summary=\"Blocking execution of the run. This method will wait until\\nthe run has completed execution.\" />\n",
       "<ParamSection name=\"Parameters\">\n",
       "\t<Parameter name=\"**kwargs\" type=\"Any\" desc=\"Additional arguments that you would pass to `python myflow.py` after\\nthe `run` command, in particular, any parameters accepted by the flow.\" />\n",
       "</ParamSection>\n",
       "<ParamSection name=\"Returns\">\n",
       "\t<Parameter type=\"ExecutingRun\" desc=\"ExecutingRun containing the results of the run.\" />\n",
       "</ParamSection>\n",
       "</DocSection>"
      ],
      "text/plain": [
       "<nbdoc.showdoc.ShowDoc at 0x111d37350>"
      ]
     },
     "execution_count": 4,
     "metadata": {},
     "output_type": "execute_result"
    }
   ],
   "source": [
    "ShowDoc(Runner.run)"
   ]
  },
  {
   "cell_type": "code",
   "execution_count": 5,
   "id": "4fe8757c",
   "metadata": {
    "execution": {
     "iopub.execute_input": "2024-07-25T06:16:57.147705Z",
     "iopub.status.busy": "2024-07-25T06:16:57.147607Z",
     "iopub.status.idle": "2024-07-25T06:16:57.150376Z",
     "shell.execute_reply": "2024-07-25T06:16:57.150071Z"
    }
   },
   "outputs": [
    {
     "data": {
      "text/html": [
       "<HTMLRemove>\n",
       "<h4> <code>method</code> <span style=\"color:Brown\">Runner.resume</span> <em>(self, **kwargs)</em><a href=\"https://github.com/Netflix/metaflow/tree/master/metaflow/runner/metaflow_runner.py#L323\" style=\"float:right\">[source]</a></h4><p><blockquote>Blocking&nbsp;resume&nbsp;execution&nbsp;of&nbsp;the&nbsp;run.<br>This&nbsp;method&nbsp;will&nbsp;wait&nbsp;until&nbsp;the&nbsp;resumed&nbsp;run&nbsp;has&nbsp;completed&nbsp;execution.<br><br>Parameters<br>----------<br>**kwargs&nbsp;:&nbsp;Any<br>&nbsp;&nbsp;&nbsp;&nbsp;Additional&nbsp;arguments&nbsp;that&nbsp;you&nbsp;would&nbsp;pass&nbsp;to&nbsp;`python&nbsp;./myflow.py`&nbsp;after<br>&nbsp;&nbsp;&nbsp;&nbsp;the&nbsp;`resume`&nbsp;command.<br><br>Returns<br>-------<br>ExecutingRun<br>&nbsp;&nbsp;&nbsp;&nbsp;ExecutingRun&nbsp;containing&nbsp;the&nbsp;results&nbsp;of&nbsp;the&nbsp;resumed&nbsp;run.</blockquote></p>\n",
       "</HTMLRemove>\n",
       "<DocSection type=\"method\" name=\"Runner.resume\" module=\"metaflow\" show_import=\"False\" heading_level=\"4\" link=\"https://github.com/Netflix/metaflow/tree/master/metaflow/runner/metaflow_runner.py#L323\">\n",
       "<SigArgSection>\n",
       "<SigArg name=\"self\" /><SigArg name=\"**kwargs\" />\n",
       "</SigArgSection>\n",
       "<Description summary=\"Blocking resume execution of the run.\\nThis method will wait until the resumed run has completed execution.\" />\n",
       "<ParamSection name=\"Parameters\">\n",
       "\t<Parameter name=\"**kwargs\" type=\"Any\" desc=\"Additional arguments that you would pass to `python ./myflow.py` after\\nthe `resume` command.\" />\n",
       "</ParamSection>\n",
       "<ParamSection name=\"Returns\">\n",
       "\t<Parameter type=\"ExecutingRun\" desc=\"ExecutingRun containing the results of the resumed run.\" />\n",
       "</ParamSection>\n",
       "</DocSection>"
      ],
      "text/plain": [
       "<nbdoc.showdoc.ShowDoc at 0x111d2cc10>"
      ]
     },
     "execution_count": 5,
     "metadata": {},
     "output_type": "execute_result"
    }
   ],
   "source": [
    "ShowDoc(Runner.resume)"
   ]
  },
  {
   "cell_type": "markdown",
   "id": "e13cc71e",
   "metadata": {},
   "source": [
    "### Non-Blocking API"
   ]
  },
  {
   "cell_type": "code",
   "execution_count": 6,
   "id": "ec91c1c9",
   "metadata": {
    "execution": {
     "iopub.execute_input": "2024-07-25T06:16:57.152518Z",
     "iopub.status.busy": "2024-07-25T06:16:57.152422Z",
     "iopub.status.idle": "2024-07-25T06:16:57.155118Z",
     "shell.execute_reply": "2024-07-25T06:16:57.154859Z"
    }
   },
   "outputs": [
    {
     "data": {
      "text/html": [
       "<HTMLRemove>\n",
       "<h4> <code>method</code> <span style=\"color:Brown\">Runner.async_run</span> <em>(self, **kwargs) -> metaflow.runner.metaflow_runner.ExecutingRun</em><a href=\"https://github.com/Netflix/metaflow/tree/master/metaflow/runner/metaflow_runner.py#L357\" style=\"float:right\">[source]</a></h4><p><blockquote>Non-blocking&nbsp;execution&nbsp;of&nbsp;the&nbsp;run.&nbsp;This&nbsp;method&nbsp;will&nbsp;return&nbsp;as&nbsp;soon&nbsp;as&nbsp;the<br>run&nbsp;has&nbsp;launched.<br><br>Note&nbsp;that&nbsp;this&nbsp;method&nbsp;is&nbsp;asynchronous&nbsp;and&nbsp;needs&nbsp;to&nbsp;be&nbsp;`await`ed.<br><br>Parameters<br>----------<br>**kwargs&nbsp;:&nbsp;Any<br>&nbsp;&nbsp;&nbsp;&nbsp;Additional&nbsp;arguments&nbsp;that&nbsp;you&nbsp;would&nbsp;pass&nbsp;to&nbsp;`python&nbsp;myflow.py`&nbsp;after<br>&nbsp;&nbsp;&nbsp;&nbsp;the&nbsp;`run`&nbsp;command,&nbsp;in&nbsp;particular,&nbsp;any&nbsp;parameters&nbsp;accepted&nbsp;by&nbsp;the&nbsp;flow.<br><br>Returns<br>-------<br>ExecutingRun<br>&nbsp;&nbsp;&nbsp;&nbsp;ExecutingRun&nbsp;representing&nbsp;the&nbsp;run&nbsp;that&nbsp;was&nbsp;started.</blockquote></p>\n",
       "</HTMLRemove>\n",
       "<DocSection type=\"method\" name=\"Runner.async_run\" module=\"metaflow\" show_import=\"False\" heading_level=\"4\" link=\"https://github.com/Netflix/metaflow/tree/master/metaflow/runner/metaflow_runner.py#L357\">\n",
       "<SigArgSection>\n",
       "<SigArg name=\"self\" /><SigArg name=\"**kwargs\" />\n",
       "</SigArgSection>\n",
       "<Description summary=\"Non-blocking execution of the run. This method will return as soon as the\\nrun has launched.\" extended_summary=\"Note that this method is asynchronous and needs to be `await`ed.\" />\n",
       "<ParamSection name=\"Parameters\">\n",
       "\t<Parameter name=\"**kwargs\" type=\"Any\" desc=\"Additional arguments that you would pass to `python myflow.py` after\\nthe `run` command, in particular, any parameters accepted by the flow.\" />\n",
       "</ParamSection>\n",
       "<ParamSection name=\"Returns\">\n",
       "\t<Parameter type=\"ExecutingRun\" desc=\"ExecutingRun representing the run that was started.\" />\n",
       "</ParamSection>\n",
       "</DocSection>"
      ],
      "text/plain": [
       "<nbdoc.showdoc.ShowDoc at 0x111d2e310>"
      ]
     },
     "execution_count": 6,
     "metadata": {},
     "output_type": "execute_result"
    }
   ],
   "source": [
    "ShowDoc(Runner.async_run)"
   ]
  },
  {
   "cell_type": "code",
   "execution_count": 7,
   "id": "87f8530a",
   "metadata": {
    "execution": {
     "iopub.execute_input": "2024-07-25T06:16:57.157634Z",
     "iopub.status.busy": "2024-07-25T06:16:57.157548Z",
     "iopub.status.idle": "2024-07-25T06:16:57.160071Z",
     "shell.execute_reply": "2024-07-25T06:16:57.159813Z"
    }
   },
   "outputs": [
    {
     "data": {
      "text/html": [
       "<HTMLRemove>\n",
       "<h4> <code>method</code> <span style=\"color:Brown\">Runner.async_resume</span> <em>(self, **kwargs)</em><a href=\"https://github.com/Netflix/metaflow/tree/master/metaflow/runner/metaflow_runner.py#L392\" style=\"float:right\">[source]</a></h4><p><blockquote>Non-blocking&nbsp;resume&nbsp;execution&nbsp;of&nbsp;the&nbsp;run.<br>This&nbsp;method&nbsp;will&nbsp;return&nbsp;as&nbsp;soon&nbsp;as&nbsp;the&nbsp;resume&nbsp;has&nbsp;launched.<br><br>Note&nbsp;that&nbsp;this&nbsp;method&nbsp;is&nbsp;asynchronous&nbsp;and&nbsp;needs&nbsp;to&nbsp;be&nbsp;`await`ed.<br><br>Parameters<br>----------<br>**kwargs&nbsp;:&nbsp;Any<br>&nbsp;&nbsp;&nbsp;&nbsp;Additional&nbsp;arguments&nbsp;that&nbsp;you&nbsp;would&nbsp;pass&nbsp;to&nbsp;`python&nbsp;myflow.py`&nbsp;after<br>&nbsp;&nbsp;&nbsp;&nbsp;the&nbsp;`resume`&nbsp;command.<br><br>Returns<br>-------<br>ExecutingRun<br>&nbsp;&nbsp;&nbsp;&nbsp;ExecutingRun&nbsp;representing&nbsp;the&nbsp;resumed&nbsp;run&nbsp;that&nbsp;was&nbsp;started.</blockquote></p>\n",
       "</HTMLRemove>\n",
       "<DocSection type=\"method\" name=\"Runner.async_resume\" module=\"metaflow\" show_import=\"False\" heading_level=\"4\" link=\"https://github.com/Netflix/metaflow/tree/master/metaflow/runner/metaflow_runner.py#L392\">\n",
       "<SigArgSection>\n",
       "<SigArg name=\"self\" /><SigArg name=\"**kwargs\" />\n",
       "</SigArgSection>\n",
       "<Description summary=\"Non-blocking resume execution of the run.\\nThis method will return as soon as the resume has launched.\" extended_summary=\"Note that this method is asynchronous and needs to be `await`ed.\" />\n",
       "<ParamSection name=\"Parameters\">\n",
       "\t<Parameter name=\"**kwargs\" type=\"Any\" desc=\"Additional arguments that you would pass to `python myflow.py` after\\nthe `resume` command.\" />\n",
       "</ParamSection>\n",
       "<ParamSection name=\"Returns\">\n",
       "\t<Parameter type=\"ExecutingRun\" desc=\"ExecutingRun representing the resumed run that was started.\" />\n",
       "</ParamSection>\n",
       "</DocSection>"
      ],
      "text/plain": [
       "<nbdoc.showdoc.ShowDoc at 0x111d2d590>"
      ]
     },
     "execution_count": 7,
     "metadata": {},
     "output_type": "execute_result"
    }
   ],
   "source": [
    "ShowDoc(Runner.async_resume)"
   ]
  },
  {
   "cell_type": "markdown",
   "id": "094dc1f9",
   "metadata": {},
   "source": [
    "## NBRunner\n",
    "\n",
    "`NBRunner` is a wrapper over `Runner` which allows you to refer to a flow defined in a notebook cell instead of a file. For examples, see [Running flows in a notebook](/metaflow/managing-flows/notebook-runs)."
   ]
  },
  {
   "cell_type": "code",
   "execution_count": 8,
   "id": "9fb445c1",
   "metadata": {
    "execution": {
     "iopub.execute_input": "2024-07-25T06:16:57.162889Z",
     "iopub.status.busy": "2024-07-25T06:16:57.162793Z",
     "iopub.status.idle": "2024-07-25T06:16:57.167115Z",
     "shell.execute_reply": "2024-07-25T06:16:57.166894Z"
    }
   },
   "outputs": [
    {
     "data": {
      "text/html": [
       "<HTMLRemove>\n",
       "<h3> <code>class</code> <span style=\"color:Brown\">NBRunner</span> <em>flow, show_output=True, profile=None, env=None, base_dir=None, **kwargs</em><a href=\"https://github.com/Netflix/metaflow/tree/master/metaflow/runner/nbrun.py#L17\" style=\"float:right\">[source]</a></h3><p><blockquote>A&nbsp;&nbsp;wrapper&nbsp;over&nbsp;`Runner`&nbsp;for&nbsp;executing&nbsp;flows&nbsp;defined&nbsp;in&nbsp;a&nbsp;Jupyter<br>notebook&nbsp;cell.<br><br>Instantiate&nbsp;this&nbsp;class&nbsp;on&nbsp;the&nbsp;last&nbsp;line&nbsp;of&nbsp;a&nbsp;notebook&nbsp;cell&nbsp;where<br>a&nbsp;`flow`&nbsp;is&nbsp;defined.&nbsp;In&nbsp;contrast&nbsp;to&nbsp;`Runner`,&nbsp;this&nbsp;class&nbsp;is&nbsp;not<br>meant&nbsp;to&nbsp;be&nbsp;used&nbsp;in&nbsp;a&nbsp;context&nbsp;manager.&nbsp;Instead,&nbsp;use&nbsp;a&nbsp;blocking&nbsp;helper<br>function&nbsp;like&nbsp;`nbrun`&nbsp;(which&nbsp;calls&nbsp;`cleanup()`&nbsp;internally)&nbsp;or&nbsp;call<br>`cleanup()`&nbsp;explictly&nbsp;when&nbsp;using&nbsp;non-blocking&nbsp;APIs.<br><br>```python<br>run&nbsp;=&nbsp;NBRunner(FlowName).nbrun()<br>```<br><br>Parameters<br>----------<br>flow&nbsp;:&nbsp;FlowSpec<br>&nbsp;&nbsp;&nbsp;&nbsp;Flow&nbsp;defined&nbsp;in&nbsp;the&nbsp;same&nbsp;cell<br>show_output&nbsp;:&nbsp;bool,&nbsp;default&nbsp;True<br>&nbsp;&nbsp;&nbsp;&nbsp;Show&nbsp;the&nbsp;'stdout'&nbsp;and&nbsp;'stderr'&nbsp;to&nbsp;the&nbsp;console&nbsp;by&nbsp;default,<br>&nbsp;&nbsp;&nbsp;&nbsp;Only&nbsp;applicable&nbsp;for&nbsp;synchronous&nbsp;'run'&nbsp;and&nbsp;'resume'&nbsp;functions.<br>profile&nbsp;:&nbsp;Optional[str],&nbsp;default&nbsp;None<br>&nbsp;&nbsp;&nbsp;&nbsp;Metaflow&nbsp;profile&nbsp;to&nbsp;use&nbsp;to&nbsp;run&nbsp;this&nbsp;run.&nbsp;If&nbsp;not&nbsp;specified,&nbsp;the&nbsp;default<br>&nbsp;&nbsp;&nbsp;&nbsp;profile&nbsp;is&nbsp;used&nbsp;(or&nbsp;the&nbsp;one&nbsp;already&nbsp;set&nbsp;using&nbsp;`METAFLOW_PROFILE`)<br>env&nbsp;:&nbsp;Optional[Dict],&nbsp;default&nbsp;None<br>&nbsp;&nbsp;&nbsp;&nbsp;Additional&nbsp;environment&nbsp;variables&nbsp;to&nbsp;set&nbsp;for&nbsp;the&nbsp;Run.&nbsp;This&nbsp;overrides&nbsp;the<br>&nbsp;&nbsp;&nbsp;&nbsp;environment&nbsp;set&nbsp;for&nbsp;this&nbsp;process.<br>base_dir&nbsp;:&nbsp;Optional[str],&nbsp;default&nbsp;None<br>&nbsp;&nbsp;&nbsp;&nbsp;The&nbsp;directory&nbsp;to&nbsp;run&nbsp;the&nbsp;subprocess&nbsp;in;&nbsp;if&nbsp;not&nbsp;specified,&nbsp;a&nbsp;temporary<br>&nbsp;&nbsp;&nbsp;&nbsp;directory&nbsp;is&nbsp;used.<br>**kwargs&nbsp;:&nbsp;Any<br>&nbsp;&nbsp;&nbsp;&nbsp;Additional&nbsp;arguments&nbsp;that&nbsp;you&nbsp;would&nbsp;pass&nbsp;to&nbsp;`python&nbsp;myflow.py`&nbsp;before<br>&nbsp;&nbsp;&nbsp;&nbsp;the&nbsp;`run`&nbsp;command.</blockquote></p>\n",
       "</HTMLRemove>\n",
       "<DocSection type=\"class\" name=\"NBRunner\" module=\"metaflow\" show_import=\"False\" heading_level=\"3\" link=\"https://github.com/Netflix/metaflow/tree/master/metaflow/runner/nbrun.py#L17\">\n",
       "<SigArgSection>\n",
       "<SigArg name=\"flow, show_output=True, profile=None, env=None, base_dir=None, **kwargs\" />\n",
       "</SigArgSection>\n",
       "<Description summary=\"A  wrapper over `Runner` for executing flows defined in a Jupyter\\nnotebook cell.\" extended_summary=\"Instantiate this class on the last line of a notebook cell where\\na `flow` is defined. In contrast to `Runner`, this class is not\\nmeant to be used in a context manager. Instead, use a blocking helper\\nfunction like `nbrun` (which calls `cleanup()` internally) or call\\n`cleanup()` explictly when using non-blocking APIs.\\n\\n```python\\nrun = NBRunner(FlowName).nbrun()\\n```\" />\n",
       "<ParamSection name=\"Parameters\">\n",
       "\t<Parameter name=\"flow\" type=\"FlowSpec\" desc=\"Flow defined in the same cell\" />\n",
       "\t<Parameter name=\"show_output\" type=\"bool, default True\" desc=\"Show the 'stdout' and 'stderr' to the console by default,\\nOnly applicable for synchronous 'run' and 'resume' functions.\" />\n",
       "\t<Parameter name=\"profile\" type=\"Optional[str], default None\" desc=\"Metaflow profile to use to run this run. If not specified, the default\\nprofile is used (or the one already set using `METAFLOW_PROFILE`)\" />\n",
       "\t<Parameter name=\"env\" type=\"Optional[Dict], default None\" desc=\"Additional environment variables to set for the Run. This overrides the\\nenvironment set for this process.\" />\n",
       "\t<Parameter name=\"base_dir\" type=\"Optional[str], default None\" desc=\"The directory to run the subprocess in; if not specified, a temporary\\ndirectory is used.\" />\n",
       "\t<Parameter name=\"**kwargs\" type=\"Any\" desc=\"Additional arguments that you would pass to `python myflow.py` before\\nthe `run` command.\" />\n",
       "</ParamSection>\n",
       "</DocSection>"
      ],
      "text/plain": [
       "<nbdoc.showdoc.ShowDoc at 0x111d2ded0>"
      ]
     },
     "execution_count": 8,
     "metadata": {},
     "output_type": "execute_result"
    }
   ],
   "source": [
    "ShowDoc(NBRunner, spoofstr=('flow, show_output=True, profile=None, env=None, base_dir=None, **kwargs'))"
   ]
  },
  {
   "cell_type": "markdown",
   "id": "1e1dd14c",
   "metadata": {},
   "source": [
    "### Blocking API"
   ]
  },
  {
   "cell_type": "code",
   "execution_count": 9,
   "id": "8971ea07",
   "metadata": {
    "execution": {
     "iopub.execute_input": "2024-07-25T06:16:57.168964Z",
     "iopub.status.busy": "2024-07-25T06:16:57.168888Z",
     "iopub.status.idle": "2024-07-25T06:16:57.171468Z",
     "shell.execute_reply": "2024-07-25T06:16:57.171219Z"
    }
   },
   "outputs": [
    {
     "data": {
      "text/html": [
       "<HTMLRemove>\n",
       "<h4> <code>method</code> <span style=\"color:Brown\">NBRunner.nbrun</span> <em>(self, **kwargs)</em><a href=\"https://github.com/Netflix/metaflow/tree/master/metaflow/runner/nbrun.py#L110\" style=\"float:right\">[source]</a></h4><p><blockquote>Blocking&nbsp;execution&nbsp;of&nbsp;the&nbsp;run.&nbsp;This&nbsp;method&nbsp;will&nbsp;wait&nbsp;until<br>the&nbsp;run&nbsp;has&nbsp;completed&nbsp;execution.<br><br>Note&nbsp;that&nbsp;in&nbsp;contrast&nbsp;to&nbsp;`run`,&nbsp;this&nbsp;method&nbsp;returns&nbsp;a<br>`metaflow.Run`&nbsp;object&nbsp;directly&nbsp;and&nbsp;calls&nbsp;`cleanup()`&nbsp;internally<br>to&nbsp;support&nbsp;a&nbsp;common&nbsp;notebook&nbsp;pattern&nbsp;of&nbsp;executing&nbsp;a&nbsp;flow&nbsp;and<br>retrieving&nbsp;its&nbsp;results&nbsp;immediately.<br><br>Parameters<br>----------<br>**kwargs&nbsp;:&nbsp;Any<br>&nbsp;&nbsp;&nbsp;&nbsp;Additional&nbsp;arguments&nbsp;that&nbsp;you&nbsp;would&nbsp;pass&nbsp;to&nbsp;`python&nbsp;myflow.py`&nbsp;after<br>&nbsp;&nbsp;&nbsp;&nbsp;the&nbsp;`run`&nbsp;command,&nbsp;in&nbsp;particular,&nbsp;any&nbsp;parameters&nbsp;accepted&nbsp;by&nbsp;the&nbsp;flow.<br><br>Returns<br>-------<br>Run<br>&nbsp;&nbsp;&nbsp;&nbsp;A&nbsp;`metaflow.Run`&nbsp;object&nbsp;representing&nbsp;the&nbsp;finished&nbsp;run.</blockquote></p>\n",
       "</HTMLRemove>\n",
       "<DocSection type=\"method\" name=\"NBRunner.nbrun\" module=\"metaflow\" show_import=\"False\" heading_level=\"4\" link=\"https://github.com/Netflix/metaflow/tree/master/metaflow/runner/nbrun.py#L110\">\n",
       "<SigArgSection>\n",
       "<SigArg name=\"self\" /><SigArg name=\"**kwargs\" />\n",
       "</SigArgSection>\n",
       "<Description summary=\"Blocking execution of the run. This method will wait until\\nthe run has completed execution.\" extended_summary=\"Note that in contrast to `run`, this method returns a\\n`metaflow.Run` object directly and calls `cleanup()` internally\\nto support a common notebook pattern of executing a flow and\\nretrieving its results immediately.\" />\n",
       "<ParamSection name=\"Parameters\">\n",
       "\t<Parameter name=\"**kwargs\" type=\"Any\" desc=\"Additional arguments that you would pass to `python myflow.py` after\\nthe `run` command, in particular, any parameters accepted by the flow.\" />\n",
       "</ParamSection>\n",
       "<ParamSection name=\"Returns\">\n",
       "\t<Parameter type=\"Run\" desc=\"A `metaflow.Run` object representing the finished run.\" />\n",
       "</ParamSection>\n",
       "</DocSection>"
      ],
      "text/plain": [
       "<nbdoc.showdoc.ShowDoc at 0x111d2f350>"
      ]
     },
     "execution_count": 9,
     "metadata": {},
     "output_type": "execute_result"
    }
   ],
   "source": [
    "ShowDoc(NBRunner.nbrun)"
   ]
  },
  {
   "cell_type": "code",
   "execution_count": 10,
   "id": "95a8c5b3",
   "metadata": {
    "execution": {
     "iopub.execute_input": "2024-07-25T06:16:57.173679Z",
     "iopub.status.busy": "2024-07-25T06:16:57.173586Z",
     "iopub.status.idle": "2024-07-25T06:16:57.176168Z",
     "shell.execute_reply": "2024-07-25T06:16:57.175862Z"
    }
   },
   "outputs": [
    {
     "data": {
      "text/html": [
       "<HTMLRemove>\n",
       "<h4> <code>method</code> <span style=\"color:Brown\">NBRunner.nbresume</span> <em>(self, **kwargs)</em><a href=\"https://github.com/Netflix/metaflow/tree/master/metaflow/runner/nbrun.py#L135\" style=\"float:right\">[source]</a></h4><p><blockquote>Blocking&nbsp;resuming&nbsp;of&nbsp;a&nbsp;run.&nbsp;This&nbsp;method&nbsp;will&nbsp;wait&nbsp;until<br>the&nbsp;resumed&nbsp;run&nbsp;has&nbsp;completed&nbsp;execution.<br><br>Note&nbsp;that&nbsp;in&nbsp;contrast&nbsp;to&nbsp;`resume`,&nbsp;this&nbsp;method&nbsp;returns&nbsp;a<br>`metaflow.Run`&nbsp;object&nbsp;directly&nbsp;and&nbsp;calls&nbsp;`cleanup()`&nbsp;internally<br>to&nbsp;support&nbsp;a&nbsp;common&nbsp;notebook&nbsp;pattern&nbsp;of&nbsp;executing&nbsp;a&nbsp;flow&nbsp;and<br>retrieving&nbsp;its&nbsp;results&nbsp;immediately.<br><br>Parameters<br>----------<br>**kwargs&nbsp;:&nbsp;Any<br>&nbsp;&nbsp;&nbsp;&nbsp;Additional&nbsp;arguments&nbsp;that&nbsp;you&nbsp;would&nbsp;pass&nbsp;to&nbsp;`python&nbsp;myflow.py`&nbsp;after<br>&nbsp;&nbsp;&nbsp;&nbsp;the&nbsp;`resume`&nbsp;command.<br><br>Returns<br>-------<br>Run<br>&nbsp;&nbsp;&nbsp;&nbsp;A&nbsp;`metaflow.Run`&nbsp;object&nbsp;representing&nbsp;the&nbsp;resumed&nbsp;run.</blockquote></p>\n",
       "</HTMLRemove>\n",
       "<DocSection type=\"method\" name=\"NBRunner.nbresume\" module=\"metaflow\" show_import=\"False\" heading_level=\"4\" link=\"https://github.com/Netflix/metaflow/tree/master/metaflow/runner/nbrun.py#L135\">\n",
       "<SigArgSection>\n",
       "<SigArg name=\"self\" /><SigArg name=\"**kwargs\" />\n",
       "</SigArgSection>\n",
       "<Description summary=\"Blocking resuming of a run. This method will wait until\\nthe resumed run has completed execution.\" extended_summary=\"Note that in contrast to `resume`, this method returns a\\n`metaflow.Run` object directly and calls `cleanup()` internally\\nto support a common notebook pattern of executing a flow and\\nretrieving its results immediately.\" />\n",
       "<ParamSection name=\"Parameters\">\n",
       "\t<Parameter name=\"**kwargs\" type=\"Any\" desc=\"Additional arguments that you would pass to `python myflow.py` after\\nthe `resume` command.\" />\n",
       "</ParamSection>\n",
       "<ParamSection name=\"Returns\">\n",
       "\t<Parameter type=\"Run\" desc=\"A `metaflow.Run` object representing the resumed run.\" />\n",
       "</ParamSection>\n",
       "</DocSection>"
      ],
      "text/plain": [
       "<nbdoc.showdoc.ShowDoc at 0x111d2f390>"
      ]
     },
     "execution_count": 10,
     "metadata": {},
     "output_type": "execute_result"
    }
   ],
   "source": [
    "ShowDoc(NBRunner.nbresume)"
   ]
  },
  {
   "cell_type": "markdown",
   "id": "2ee6de8f",
   "metadata": {},
   "source": [
    "### Non-Blocking API"
   ]
  },
  {
   "cell_type": "code",
   "execution_count": 11,
   "id": "e9360c97",
   "metadata": {
    "execution": {
     "iopub.execute_input": "2024-07-25T06:16:57.178155Z",
     "iopub.status.busy": "2024-07-25T06:16:57.178052Z",
     "iopub.status.idle": "2024-07-25T06:16:57.180530Z",
     "shell.execute_reply": "2024-07-25T06:16:57.180242Z"
    }
   },
   "outputs": [
    {
     "data": {
      "text/html": [
       "<HTMLRemove>\n",
       "<h4> <code>method</code> <span style=\"color:Brown\">NBRunner.async_run</span> <em>(self, **kwargs)</em><a href=\"https://github.com/Netflix/metaflow/tree/master/metaflow/runner/nbrun.py#L173\" style=\"float:right\">[source]</a></h4><p><blockquote>Non-blocking&nbsp;execution&nbsp;of&nbsp;the&nbsp;run.&nbsp;This&nbsp;method&nbsp;will&nbsp;return&nbsp;as&nbsp;soon&nbsp;as&nbsp;the<br>run&nbsp;has&nbsp;launched.&nbsp;This&nbsp;method&nbsp;is&nbsp;equivalent&nbsp;to&nbsp;`Runner.async_run`.<br><br>Note&nbsp;that&nbsp;this&nbsp;method&nbsp;is&nbsp;asynchronous&nbsp;and&nbsp;needs&nbsp;to&nbsp;be&nbsp;`await`ed.<br><br><br>Parameters<br>----------<br>**kwargs&nbsp;:&nbsp;Any<br>&nbsp;&nbsp;&nbsp;&nbsp;Additional&nbsp;arguments&nbsp;that&nbsp;you&nbsp;would&nbsp;pass&nbsp;to&nbsp;`python&nbsp;myflow.py`&nbsp;after<br>&nbsp;&nbsp;&nbsp;&nbsp;the&nbsp;`run`&nbsp;command,&nbsp;in&nbsp;particular,&nbsp;any&nbsp;parameters&nbsp;accepted&nbsp;by&nbsp;the&nbsp;flow.<br><br>Returns<br>-------<br>ExecutingRun<br>&nbsp;&nbsp;&nbsp;&nbsp;ExecutingRun&nbsp;representing&nbsp;the&nbsp;run&nbsp;that&nbsp;was&nbsp;started.</blockquote></p>\n",
       "</HTMLRemove>\n",
       "<DocSection type=\"method\" name=\"NBRunner.async_run\" module=\"metaflow\" show_import=\"False\" heading_level=\"4\" link=\"https://github.com/Netflix/metaflow/tree/master/metaflow/runner/nbrun.py#L173\">\n",
       "<SigArgSection>\n",
       "<SigArg name=\"self\" /><SigArg name=\"**kwargs\" />\n",
       "</SigArgSection>\n",
       "<Description summary=\"Non-blocking execution of the run. This method will return as soon as the\\nrun has launched. This method is equivalent to `Runner.async_run`.\" extended_summary=\"Note that this method is asynchronous and needs to be `await`ed.\" />\n",
       "<ParamSection name=\"Parameters\">\n",
       "\t<Parameter name=\"**kwargs\" type=\"Any\" desc=\"Additional arguments that you would pass to `python myflow.py` after\\nthe `run` command, in particular, any parameters accepted by the flow.\" />\n",
       "</ParamSection>\n",
       "<ParamSection name=\"Returns\">\n",
       "\t<Parameter type=\"ExecutingRun\" desc=\"ExecutingRun representing the run that was started.\" />\n",
       "</ParamSection>\n",
       "</DocSection>"
      ],
      "text/plain": [
       "<nbdoc.showdoc.ShowDoc at 0x111d36810>"
      ]
     },
     "execution_count": 11,
     "metadata": {},
     "output_type": "execute_result"
    }
   ],
   "source": [
    "ShowDoc(NBRunner.async_run)"
   ]
  },
  {
   "cell_type": "code",
   "execution_count": 12,
   "id": "dd48a525",
   "metadata": {
    "execution": {
     "iopub.execute_input": "2024-07-25T06:16:57.182821Z",
     "iopub.status.busy": "2024-07-25T06:16:57.182745Z",
     "iopub.status.idle": "2024-07-25T06:16:57.185040Z",
     "shell.execute_reply": "2024-07-25T06:16:57.184827Z"
    }
   },
   "outputs": [
    {
     "data": {
      "text/html": [
       "<HTMLRemove>\n",
       "<h4> <code>method</code> <span style=\"color:Brown\">NBRunner.async_resume</span> <em>(self, **kwargs)</em><a href=\"https://github.com/Netflix/metaflow/tree/master/metaflow/runner/nbrun.py#L194\" style=\"float:right\">[source]</a></h4><p><blockquote>Non-blocking&nbsp;execution&nbsp;of&nbsp;the&nbsp;run.&nbsp;This&nbsp;method&nbsp;will&nbsp;return&nbsp;as&nbsp;soon&nbsp;as&nbsp;the<br>run&nbsp;has&nbsp;launched.&nbsp;This&nbsp;method&nbsp;is&nbsp;equivalent&nbsp;to&nbsp;`Runner.async_resume`.<br><br>Note&nbsp;that&nbsp;this&nbsp;method&nbsp;is&nbsp;asynchronous&nbsp;and&nbsp;needs&nbsp;to&nbsp;be&nbsp;`await`ed.<br><br>Parameters<br>----------<br>**kwargs&nbsp;:&nbsp;Any<br>&nbsp;&nbsp;&nbsp;&nbsp;Additional&nbsp;arguments&nbsp;that&nbsp;you&nbsp;would&nbsp;pass&nbsp;to&nbsp;`python&nbsp;myflow.py`&nbsp;after<br>&nbsp;&nbsp;&nbsp;&nbsp;the&nbsp;`run`&nbsp;command,&nbsp;in&nbsp;particular,&nbsp;any&nbsp;parameters&nbsp;accepted&nbsp;by&nbsp;the&nbsp;flow.<br><br>Returns<br>-------<br>ExecutingRun<br>&nbsp;&nbsp;&nbsp;&nbsp;ExecutingRun&nbsp;representing&nbsp;the&nbsp;run&nbsp;that&nbsp;was&nbsp;started.</blockquote></p>\n",
       "</HTMLRemove>\n",
       "<DocSection type=\"method\" name=\"NBRunner.async_resume\" module=\"metaflow\" show_import=\"False\" heading_level=\"4\" link=\"https://github.com/Netflix/metaflow/tree/master/metaflow/runner/nbrun.py#L194\">\n",
       "<SigArgSection>\n",
       "<SigArg name=\"self\" /><SigArg name=\"**kwargs\" />\n",
       "</SigArgSection>\n",
       "<Description summary=\"Non-blocking execution of the run. This method will return as soon as the\\nrun has launched. This method is equivalent to `Runner.async_resume`.\" extended_summary=\"Note that this method is asynchronous and needs to be `await`ed.\" />\n",
       "<ParamSection name=\"Parameters\">\n",
       "\t<Parameter name=\"**kwargs\" type=\"Any\" desc=\"Additional arguments that you would pass to `python myflow.py` after\\nthe `run` command, in particular, any parameters accepted by the flow.\" />\n",
       "</ParamSection>\n",
       "<ParamSection name=\"Returns\">\n",
       "\t<Parameter type=\"ExecutingRun\" desc=\"ExecutingRun representing the run that was started.\" />\n",
       "</ParamSection>\n",
       "</DocSection>"
      ],
      "text/plain": [
       "<nbdoc.showdoc.ShowDoc at 0x111d2d650>"
      ]
     },
     "execution_count": 12,
     "metadata": {},
     "output_type": "execute_result"
    }
   ],
   "source": [
    "ShowDoc(NBRunner.async_resume)"
   ]
  },
  {
   "cell_type": "code",
   "execution_count": 13,
   "id": "4dcbcf6a",
   "metadata": {
    "execution": {
     "iopub.execute_input": "2024-07-25T06:16:57.187052Z",
     "iopub.status.busy": "2024-07-25T06:16:57.186966Z",
     "iopub.status.idle": "2024-07-25T06:16:57.189166Z",
     "shell.execute_reply": "2024-07-25T06:16:57.188955Z"
    }
   },
   "outputs": [
    {
     "data": {
      "text/html": [
       "<HTMLRemove>\n",
       "<h4> <code>method</code> <span style=\"color:Brown\">NBRunner.cleanup</span> <em>(self)</em><a href=\"https://github.com/Netflix/metaflow/tree/master/metaflow/runner/nbrun.py#L214\" style=\"float:right\">[source]</a></h4><p><blockquote>Delete&nbsp;any&nbsp;temporary&nbsp;files&nbsp;created&nbsp;during&nbsp;execution.<br><br>Call&nbsp;this&nbsp;method&nbsp;after&nbsp;using&nbsp;`async_run`&nbsp;or&nbsp;`async_resume`.&nbsp;You&nbsp;don't<br>have&nbsp;to&nbsp;call&nbsp;this&nbsp;after&nbsp;`nbrun`&nbsp;or&nbsp;`nbresume`.</blockquote></p>\n",
       "</HTMLRemove>\n",
       "<DocSection type=\"method\" name=\"NBRunner.cleanup\" module=\"metaflow\" show_import=\"False\" heading_level=\"4\" link=\"https://github.com/Netflix/metaflow/tree/master/metaflow/runner/nbrun.py#L214\">\n",
       "<SigArgSection>\n",
       "<SigArg name=\"self\" />\n",
       "</SigArgSection>\n",
       "<Description summary=\"Delete any temporary files created during execution.\" extended_summary=\"Call this method after using `async_run` or `async_resume`. You don't\\nhave to call this after `nbrun` or `nbresume`.\" />\n",
       "\n",
       "</DocSection>"
      ],
      "text/plain": [
       "<nbdoc.showdoc.ShowDoc at 0x111d37b50>"
      ]
     },
     "execution_count": 13,
     "metadata": {},
     "output_type": "execute_result"
    }
   ],
   "source": [
    "ShowDoc(NBRunner.cleanup)"
   ]
  },
  {
   "cell_type": "markdown",
   "id": "52a90729",
   "metadata": {},
   "source": [
    "## ExecutingRun"
   ]
  },
  {
   "cell_type": "code",
   "execution_count": 14,
   "id": "ca407a51",
   "metadata": {
    "execution": {
     "iopub.execute_input": "2024-07-25T06:16:57.191237Z",
     "iopub.status.busy": "2024-07-25T06:16:57.191153Z",
     "iopub.status.idle": "2024-07-25T06:16:57.195115Z",
     "shell.execute_reply": "2024-07-25T06:16:57.194853Z"
    }
   },
   "outputs": [
    {
     "data": {
      "text/html": [
       "<HTMLRemove>\n",
       "<h3> <code>class</code> <span style=\"color:Brown\">ExecutingRun</span> <em></em><a href=\"https://github.com/Netflix/metaflow/tree/master/metaflow/runner/metaflow_runner.py#L13\" style=\"float:right\">[source]</a></h3><p><blockquote>This&nbsp;class&nbsp;contains&nbsp;a&nbsp;reference&nbsp;to&nbsp;a&nbsp;`metaflow.Run`&nbsp;object&nbsp;representing<br>the&nbsp;currently&nbsp;executing&nbsp;or&nbsp;finished&nbsp;run,&nbsp;as&nbsp;well&nbsp;as&nbsp;metadata&nbsp;related<br>to&nbsp;the&nbsp;process.<br><br>`ExecutingRun`&nbsp;is&nbsp;returned&nbsp;by&nbsp;methods&nbsp;in&nbsp;`Runner`&nbsp;and&nbsp;`NBRunner`.&nbsp;It&nbsp;is&nbsp;not<br>meant&nbsp;to&nbsp;be&nbsp;instantiated&nbsp;directly.<br><br>This&nbsp;class&nbsp;works&nbsp;as&nbsp;a&nbsp;context&nbsp;manager,&nbsp;allowing&nbsp;you&nbsp;to&nbsp;use&nbsp;a&nbsp;pattern&nbsp;like<br>```python<br>with&nbsp;Runner(...).run()&nbsp;as&nbsp;running:<br>&nbsp;&nbsp;&nbsp;&nbsp;...<br>```<br>Note&nbsp;that&nbsp;you&nbsp;should&nbsp;use&nbsp;either&nbsp;this&nbsp;object&nbsp;as&nbsp;the&nbsp;context&nbsp;manager&nbsp;or<br>`Runner`,&nbsp;not&nbsp;both&nbsp;in&nbsp;a&nbsp;nested&nbsp;manner.</blockquote></p>\n",
       "</HTMLRemove>\n",
       "<DocSection type=\"class\" name=\"ExecutingRun\" module=\"metaflow\" show_import=\"False\" heading_level=\"3\" link=\"https://github.com/Netflix/metaflow/tree/master/metaflow/runner/metaflow_runner.py#L13\">\n",
       "<SigArgSection>\n",
       "<SigArg name=\"\" />\n",
       "</SigArgSection>\n",
       "<Description summary=\"This class contains a reference to a `metaflow.Run` object representing\\nthe currently executing or finished run, as well as metadata related\\nto the process.\" extended_summary=\"`ExecutingRun` is returned by methods in `Runner` and `NBRunner`. It is not\\nmeant to be instantiated directly.\\n\\nThis class works as a context manager, allowing you to use a pattern like\\n```python\\nwith Runner(...).run() as running:\\n    ...\\n```\\nNote that you should use either this object as the context manager or\\n`Runner`, not both in a nested manner.\" />\n",
       "\n",
       "</DocSection>"
      ],
      "text/plain": [
       "<nbdoc.showdoc.ShowDoc at 0x111d2c510>"
      ]
     },
     "execution_count": 14,
     "metadata": {},
     "output_type": "execute_result"
    }
   ],
   "source": [
    "ShowDoc(ExecutingRun, spoofstr=(''), skip_sections='Attributes')"
   ]
  },
  {
   "cell_type": "code",
   "execution_count": 15,
   "id": "f127a019",
   "metadata": {
    "execution": {
     "iopub.execute_input": "2024-07-25T06:16:57.197432Z",
     "iopub.status.busy": "2024-07-25T06:16:57.197357Z",
     "iopub.status.idle": "2024-07-25T06:16:57.199514Z",
     "shell.execute_reply": "2024-07-25T06:16:57.199252Z"
    }
   },
   "outputs": [
    {
     "data": {
      "text/html": [
       "<HTMLRemove>\n",
       "<h4> <code>property</code> <span style=\"color:Brown\">ExecutingRun.returncode</span> <em></em><a href=\"https://github.com/Netflix/metaflow/tree/master/\" style=\"float:right\">[source]</a></h4><p><blockquote>Gets&nbsp;the&nbsp;return&nbsp;code&nbsp;of&nbsp;the&nbsp;underlying&nbsp;subprocess.&nbsp;A&nbsp;non-zero<br>code&nbsp;indicates&nbsp;a&nbsp;failure,&nbsp;`None`&nbsp;a&nbsp;currently&nbsp;executing&nbsp;run.<br><br>Returns<br>-------<br>Optional[int]<br>&nbsp;&nbsp;&nbsp;&nbsp;The&nbsp;return&nbsp;code&nbsp;of&nbsp;the&nbsp;underlying&nbsp;subprocess.</blockquote></p>\n",
       "</HTMLRemove>\n",
       "<DocSection type=\"property\" name=\"ExecutingRun.returncode\" module=\"metaflow.runner.metaflow_runner\" show_import=\"False\" heading_level=\"4\" link=\"https://github.com/Netflix/metaflow/tree/master/\">\n",
       "\n",
       "<Description summary=\"Gets the return code of the underlying subprocess. A non-zero\\ncode indicates a failure, `None` a currently executing run.\\n\" />\n",
       "<ParamSection name=\"Returns\">\n",
       "<Parameter type=\"Optional[int]\" desc=\"The return code of the underlying subprocess.\" />\n",
       "</ParamSection>\n",
       "</DocSection>"
      ],
      "text/plain": [
       "<nbdoc.showdoc.ShowDoc at 0x111d72e50>"
      ]
     },
     "execution_count": 15,
     "metadata": {},
     "output_type": "execute_result"
    }
   ],
   "source": [
    "ShowDoc(ExecutingRun.returncode)"
   ]
  },
  {
   "cell_type": "code",
   "execution_count": 16,
   "id": "777973d3",
   "metadata": {
    "execution": {
     "iopub.execute_input": "2024-07-25T06:16:57.201633Z",
     "iopub.status.busy": "2024-07-25T06:16:57.201538Z",
     "iopub.status.idle": "2024-07-25T06:16:57.203616Z",
     "shell.execute_reply": "2024-07-25T06:16:57.203359Z"
    }
   },
   "outputs": [
    {
     "data": {
      "text/html": [
       "<HTMLRemove>\n",
       "<h4> <code>property</code> <span style=\"color:Brown\">ExecutingRun.status</span> <em></em><a href=\"https://github.com/Netflix/metaflow/tree/master/\" style=\"float:right\">[source]</a></h4><p><blockquote>Returns&nbsp;the&nbsp;status&nbsp;of&nbsp;the&nbsp;underlying&nbsp;subprocess&nbsp;that&nbsp;is&nbsp;responsible<br>for&nbsp;executing&nbsp;the&nbsp;run.<br><br>The&nbsp;return&nbsp;value&nbsp;is&nbsp;one&nbsp;of&nbsp;the&nbsp;following&nbsp;strings:<br>-&nbsp;`running`&nbsp;indicates&nbsp;a&nbsp;currently&nbsp;executing&nbsp;run.<br>-&nbsp;`failed`&nbsp;indicates&nbsp;a&nbsp;failed&nbsp;run.<br>-&nbsp;`successful`&nbsp;a&nbsp;successful&nbsp;run.<br><br>Returns<br>-------<br>str<br>&nbsp;&nbsp;&nbsp;&nbsp;The&nbsp;current&nbsp;status&nbsp;of&nbsp;the&nbsp;run.</blockquote></p>\n",
       "</HTMLRemove>\n",
       "<DocSection type=\"property\" name=\"ExecutingRun.status\" module=\"metaflow.runner.metaflow_runner\" show_import=\"False\" heading_level=\"4\" link=\"https://github.com/Netflix/metaflow/tree/master/\">\n",
       "\n",
       "<Description summary=\"Returns the status of the underlying subprocess that is responsible\\nfor executing the run.\\n\\nThe return value is one of the following strings:\\n- `running` indicates a currently executing run.\\n- `failed` indicates a failed run.\\n- `successful` a successful run.\\n\" />\n",
       "<ParamSection name=\"Returns\">\n",
       "<Parameter type=\"str\" desc=\"The current status of the run.\" />\n",
       "</ParamSection>\n",
       "</DocSection>"
      ],
      "text/plain": [
       "<nbdoc.showdoc.ShowDoc at 0x111d70f10>"
      ]
     },
     "execution_count": 16,
     "metadata": {},
     "output_type": "execute_result"
    }
   ],
   "source": [
    "ShowDoc(ExecutingRun.status)"
   ]
  },
  {
   "cell_type": "code",
   "execution_count": 17,
   "id": "ca5b461d",
   "metadata": {
    "execution": {
     "iopub.execute_input": "2024-07-25T06:16:57.205776Z",
     "iopub.status.busy": "2024-07-25T06:16:57.205682Z",
     "iopub.status.idle": "2024-07-25T06:16:57.207721Z",
     "shell.execute_reply": "2024-07-25T06:16:57.207475Z"
    }
   },
   "outputs": [
    {
     "data": {
      "text/html": [
       "<HTMLRemove>\n",
       "<h4> <code>property</code> <span style=\"color:Brown\">ExecutingRun.stdout</span> <em></em><a href=\"https://github.com/Netflix/metaflow/tree/master/\" style=\"float:right\">[source]</a></h4><p><blockquote>Returns&nbsp;the&nbsp;current&nbsp;stdout&nbsp;of&nbsp;the&nbsp;run.&nbsp;If&nbsp;the&nbsp;run&nbsp;is&nbsp;finished,&nbsp;this&nbsp;will<br>contain&nbsp;the&nbsp;entire&nbsp;stdout&nbsp;output.&nbsp;Otherwise,&nbsp;it&nbsp;will&nbsp;contain&nbsp;the<br>stdout&nbsp;up&nbsp;until&nbsp;this&nbsp;point.<br><br>Returns<br>-------<br>str<br>&nbsp;&nbsp;&nbsp;&nbsp;The&nbsp;current&nbsp;snapshot&nbsp;of&nbsp;stdout.</blockquote></p>\n",
       "</HTMLRemove>\n",
       "<DocSection type=\"property\" name=\"ExecutingRun.stdout\" module=\"metaflow.runner.metaflow_runner\" show_import=\"False\" heading_level=\"4\" link=\"https://github.com/Netflix/metaflow/tree/master/\">\n",
       "\n",
       "<Description summary=\"Returns the current stdout of the run. If the run is finished, this will\\ncontain the entire stdout output. Otherwise, it will contain the\\nstdout up until this point.\\n\" />\n",
       "<ParamSection name=\"Returns\">\n",
       "<Parameter type=\"str\" desc=\"The current snapshot of stdout.\" />\n",
       "</ParamSection>\n",
       "</DocSection>"
      ],
      "text/plain": [
       "<nbdoc.showdoc.ShowDoc at 0x111d73550>"
      ]
     },
     "execution_count": 17,
     "metadata": {},
     "output_type": "execute_result"
    }
   ],
   "source": [
    "ShowDoc(ExecutingRun.stdout)"
   ]
  },
  {
   "cell_type": "code",
   "execution_count": 18,
   "id": "c6b98164",
   "metadata": {
    "execution": {
     "iopub.execute_input": "2024-07-25T06:16:57.209801Z",
     "iopub.status.busy": "2024-07-25T06:16:57.209713Z",
     "iopub.status.idle": "2024-07-25T06:16:57.211588Z",
     "shell.execute_reply": "2024-07-25T06:16:57.211359Z"
    }
   },
   "outputs": [
    {
     "data": {
      "text/html": [
       "<HTMLRemove>\n",
       "<h4> <code>property</code> <span style=\"color:Brown\">ExecutingRun.stderr</span> <em></em><a href=\"https://github.com/Netflix/metaflow/tree/master/\" style=\"float:right\">[source]</a></h4><p><blockquote>Returns&nbsp;the&nbsp;current&nbsp;stderr&nbsp;of&nbsp;the&nbsp;run.&nbsp;If&nbsp;the&nbsp;run&nbsp;is&nbsp;finished,&nbsp;this&nbsp;will<br>contain&nbsp;the&nbsp;entire&nbsp;stderr&nbsp;output.&nbsp;Otherwise,&nbsp;it&nbsp;will&nbsp;contain&nbsp;the<br>stderr&nbsp;up&nbsp;until&nbsp;this&nbsp;point.<br><br>Returns<br>-------<br>str<br>&nbsp;&nbsp;&nbsp;&nbsp;The&nbsp;current&nbsp;snapshot&nbsp;of&nbsp;stderr.</blockquote></p>\n",
       "</HTMLRemove>\n",
       "<DocSection type=\"property\" name=\"ExecutingRun.stderr\" module=\"metaflow.runner.metaflow_runner\" show_import=\"False\" heading_level=\"4\" link=\"https://github.com/Netflix/metaflow/tree/master/\">\n",
       "\n",
       "<Description summary=\"Returns the current stderr of the run. If the run is finished, this will\\ncontain the entire stderr output. Otherwise, it will contain the\\nstderr up until this point.\\n\" />\n",
       "<ParamSection name=\"Returns\">\n",
       "<Parameter type=\"str\" desc=\"The current snapshot of stderr.\" />\n",
       "</ParamSection>\n",
       "</DocSection>"
      ],
      "text/plain": [
       "<nbdoc.showdoc.ShowDoc at 0x111d0aed0>"
      ]
     },
     "execution_count": 18,
     "metadata": {},
     "output_type": "execute_result"
    }
   ],
   "source": [
    "ShowDoc(ExecutingRun.stderr)"
   ]
  },
  {
   "cell_type": "markdown",
   "id": "f942b66e",
   "metadata": {},
   "source": [
    "### Non-Blocking API"
   ]
  },
  {
   "cell_type": "code",
   "execution_count": 19,
   "id": "f716f347",
   "metadata": {
    "execution": {
     "iopub.execute_input": "2024-07-25T06:16:57.214150Z",
     "iopub.status.busy": "2024-07-25T06:16:57.214062Z",
     "iopub.status.idle": "2024-07-25T06:16:57.216506Z",
     "shell.execute_reply": "2024-07-25T06:16:57.216287Z"
    },
    "scrolled": true
   },
   "outputs": [
    {
     "data": {
      "text/html": [
       "<HTMLRemove>\n",
       "<h4> <code>method</code> <span style=\"color:Brown\">ExecutingRun.wait</span> <em>(self, timeout: Optional[float] = None, stream: Optional[str] = None) -> 'ExecutingRun'</em><a href=\"https://github.com/Netflix/metaflow/tree/master/metaflow/runner/metaflow_runner.py#L57\" style=\"float:right\">[source]</a></h4><p><blockquote>Wait&nbsp;for&nbsp;this&nbsp;run&nbsp;to&nbsp;finish,&nbsp;optionally&nbsp;with&nbsp;a&nbsp;timeout<br>and&nbsp;optionally&nbsp;streaming&nbsp;its&nbsp;output.<br><br>Note&nbsp;that&nbsp;this&nbsp;method&nbsp;is&nbsp;asynchronous&nbsp;and&nbsp;needs&nbsp;to&nbsp;be&nbsp;`await`ed.<br><br>Parameters<br>----------<br>timeout&nbsp;:&nbsp;Optional[float],&nbsp;default&nbsp;None<br>&nbsp;&nbsp;&nbsp;&nbsp;The&nbsp;maximum&nbsp;time&nbsp;to&nbsp;wait&nbsp;for&nbsp;the&nbsp;run&nbsp;to&nbsp;finish.<br>&nbsp;&nbsp;&nbsp;&nbsp;If&nbsp;the&nbsp;timeout&nbsp;is&nbsp;reached,&nbsp;the&nbsp;run&nbsp;is&nbsp;terminated<br>stream&nbsp;:&nbsp;Optional[str],&nbsp;default&nbsp;None<br>&nbsp;&nbsp;&nbsp;&nbsp;If&nbsp;specified,&nbsp;the&nbsp;specified&nbsp;stream&nbsp;is&nbsp;printed&nbsp;to&nbsp;stdout.&nbsp;`stream`&nbsp;can<br>&nbsp;&nbsp;&nbsp;&nbsp;be&nbsp;one&nbsp;of&nbsp;`stdout`&nbsp;or&nbsp;`stderr`.<br><br>Returns<br>-------<br>ExecutingRun<br>&nbsp;&nbsp;&nbsp;&nbsp;This&nbsp;object,&nbsp;allowing&nbsp;you&nbsp;to&nbsp;chain&nbsp;calls.</blockquote></p>\n",
       "</HTMLRemove>\n",
       "<DocSection type=\"method\" name=\"ExecutingRun.wait\" module=\"metaflow\" show_import=\"False\" heading_level=\"4\" link=\"https://github.com/Netflix/metaflow/tree/master/metaflow/runner/metaflow_runner.py#L57\">\n",
       "<SigArgSection>\n",
       "<SigArg name=\"self\" /><SigArg name=\"timeout\" type=\"Optional\" default=\"None\" /><SigArg name=\"stream\" type=\"Optional\" default=\"None\" />\n",
       "</SigArgSection>\n",
       "<Description summary=\"Wait for this run to finish, optionally with a timeout\\nand optionally streaming its output.\" extended_summary=\"Note that this method is asynchronous and needs to be `await`ed.\" />\n",
       "<ParamSection name=\"Parameters\">\n",
       "\t<Parameter name=\"timeout\" type=\"Optional[float], default None\" desc=\"The maximum time to wait for the run to finish.\\nIf the timeout is reached, the run is terminated\" />\n",
       "\t<Parameter name=\"stream\" type=\"Optional[str], default None\" desc=\"If specified, the specified stream is printed to stdout. `stream` can\\nbe one of `stdout` or `stderr`.\" />\n",
       "</ParamSection>\n",
       "<ParamSection name=\"Returns\">\n",
       "\t<Parameter type=\"ExecutingRun\" desc=\"This object, allowing you to chain calls.\" />\n",
       "</ParamSection>\n",
       "</DocSection>"
      ],
      "text/plain": [
       "<nbdoc.showdoc.ShowDoc at 0x111d709d0>"
      ]
     },
     "execution_count": 19,
     "metadata": {},
     "output_type": "execute_result"
    }
   ],
   "source": [
    "ShowDoc(ExecutingRun.wait)"
   ]
  },
  {
   "cell_type": "code",
   "execution_count": 20,
   "id": "4b97379d",
   "metadata": {
    "execution": {
     "iopub.execute_input": "2024-07-25T06:16:57.218736Z",
     "iopub.status.busy": "2024-07-25T06:16:57.218656Z",
     "iopub.status.idle": "2024-07-25T06:16:57.220972Z",
     "shell.execute_reply": "2024-07-25T06:16:57.220747Z"
    }
   },
   "outputs": [
    {
     "data": {
      "text/html": [
       "<HTMLRemove>\n",
       "<h4> <code>method</code> <span style=\"color:Brown\">ExecutingRun.stream_log</span> <em>(self, stream: str, position: Optional[int] = None) -> Iterator[Tuple[int, str]]</em><a href=\"https://github.com/Netflix/metaflow/tree/master/metaflow/runner/metaflow_runner.py#L153\" style=\"float:right\">[source]</a></h4><p><blockquote>Asynchronous&nbsp;iterator&nbsp;to&nbsp;stream&nbsp;logs&nbsp;from&nbsp;the&nbsp;subprocess&nbsp;line&nbsp;by&nbsp;line.<br><br>Note&nbsp;that&nbsp;this&nbsp;method&nbsp;is&nbsp;asynchronous&nbsp;and&nbsp;needs&nbsp;to&nbsp;be&nbsp;`await`ed.<br><br>Parameters<br>----------<br>stream&nbsp;:&nbsp;str<br>&nbsp;&nbsp;&nbsp;&nbsp;The&nbsp;stream&nbsp;to&nbsp;stream&nbsp;logs&nbsp;from.&nbsp;Can&nbsp;be&nbsp;one&nbsp;of&nbsp;`stdout`&nbsp;or&nbsp;`stderr`.<br>position&nbsp;:&nbsp;Optional[int],&nbsp;default&nbsp;None<br>&nbsp;&nbsp;&nbsp;&nbsp;The&nbsp;position&nbsp;in&nbsp;the&nbsp;log&nbsp;file&nbsp;to&nbsp;start&nbsp;streaming&nbsp;from.&nbsp;If&nbsp;None,&nbsp;it&nbsp;starts<br>&nbsp;&nbsp;&nbsp;&nbsp;from&nbsp;the&nbsp;beginning&nbsp;of&nbsp;the&nbsp;log&nbsp;file.&nbsp;This&nbsp;allows&nbsp;resuming&nbsp;streaming&nbsp;from<br>&nbsp;&nbsp;&nbsp;&nbsp;a&nbsp;previously&nbsp;known&nbsp;position<br><br>Yields<br>------<br>Tuple[int,&nbsp;str]<br>&nbsp;&nbsp;&nbsp;&nbsp;A&nbsp;tuple&nbsp;containing&nbsp;the&nbsp;position&nbsp;in&nbsp;the&nbsp;log&nbsp;file&nbsp;and&nbsp;the&nbsp;line&nbsp;read.&nbsp;The<br>&nbsp;&nbsp;&nbsp;&nbsp;position&nbsp;returned&nbsp;can&nbsp;be&nbsp;used&nbsp;to&nbsp;feed&nbsp;into&nbsp;another&nbsp;`stream_logs`&nbsp;call<br>&nbsp;&nbsp;&nbsp;&nbsp;for&nbsp;example.</blockquote></p>\n",
       "</HTMLRemove>\n",
       "<DocSection type=\"method\" name=\"ExecutingRun.stream_log\" module=\"metaflow\" show_import=\"False\" heading_level=\"4\" link=\"https://github.com/Netflix/metaflow/tree/master/metaflow/runner/metaflow_runner.py#L153\">\n",
       "<SigArgSection>\n",
       "<SigArg name=\"self\" /><SigArg name=\"stream\" type=\"str\" /><SigArg name=\"position\" type=\"Optional\" default=\"None\" />\n",
       "</SigArgSection>\n",
       "<Description summary=\"Asynchronous iterator to stream logs from the subprocess line by line.\" extended_summary=\"Note that this method is asynchronous and needs to be `await`ed.\" />\n",
       "<ParamSection name=\"Parameters\">\n",
       "\t<Parameter name=\"stream\" type=\"str\" desc=\"The stream to stream logs from. Can be one of `stdout` or `stderr`.\" />\n",
       "\t<Parameter name=\"position\" type=\"Optional[int], default None\" desc=\"The position in the log file to start streaming from. If None, it starts\\nfrom the beginning of the log file. This allows resuming streaming from\\na previously known position\" />\n",
       "</ParamSection>\n",
       "<ParamSection name=\"Yields\">\n",
       "\t<Parameter type=\"Tuple[int, str]\" desc=\"A tuple containing the position in the log file and the line read. The\\nposition returned can be used to feed into another `stream_logs` call\\nfor example.\" />\n",
       "</ParamSection>\n",
       "</DocSection>"
      ],
      "text/plain": [
       "<nbdoc.showdoc.ShowDoc at 0x111d2fdd0>"
      ]
     },
     "execution_count": 20,
     "metadata": {},
     "output_type": "execute_result"
    }
   ],
   "source": [
    "ShowDoc(ExecutingRun.stream_log)"
   ]
  },
  {
   "cell_type": "markdown",
   "id": "bf6d0dcb",
   "metadata": {},
   "source": [
    "## Deployer"
   ]
  },
  {
   "cell_type": "code",
   "execution_count": null,
   "id": "b00fc7fb",
   "metadata": {},
   "outputs": [],
   "source": []
  }
 ],
 "metadata": {
  "kernelspec": {
   "display_name": "Python 3 (ipykernel)",
   "language": "python",
   "name": "python3"
  },
  "language_info": {
   "codemirror_mode": {
    "name": "ipython",
    "version": 3
   },
   "file_extension": ".py",
   "mimetype": "text/x-python",
   "name": "python",
   "nbconvert_exporter": "python",
   "pygments_lexer": "ipython3",
   "version": "3.11.0"
  }
 },
 "nbformat": 4,
 "nbformat_minor": 5
}
