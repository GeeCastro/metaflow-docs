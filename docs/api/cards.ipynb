{
 "cells": [
  {
   "cell_type": "markdown",
   "id": "eb7388b6",
   "metadata": {},
   "source": [
    "# Cards - Visualizing results"
   ]
  },
  {
   "cell_type": "markdown",
   "id": "576777f8",
   "metadata": {},
   "source": [
    "Metaflow Cards allows you to produce [human readable reports in workflows](/metaflow/visualizing-results). Use the following APIs to enable, customize, and access cards:\n",
    "\n",
    " - **Enable cards** by adding [the `@card` decorator](/api/step-decorators/card) in any step.\n",
    " - **Specify card contents** with [card components](#card-components).\n",
    " - **Populate card components** with [the `current` object](/api/current#card).\n",
    " - **Retrive cards** with [the `get_cards` method](#retrieving-cards) or on the command line with the `card` commands.\n",
    " - **Create fully custom, shareable cards** with custom [`MetaflowCard` classes](#defining-a-custom-card)."
   ]
  },
  {
   "cell_type": "code",
   "execution_count": 1,
   "id": "a5ef9454",
   "metadata": {
    "execution": {
     "iopub.execute_input": "2023-05-16T22:27:19.338638Z",
     "iopub.status.busy": "2023-05-16T22:27:19.338288Z",
     "iopub.status.idle": "2023-05-16T22:27:21.729141Z",
     "shell.execute_reply": "2023-05-16T22:27:21.725937Z"
    }
   },
   "outputs": [],
   "source": [
    "#meta:tag=hide\n",
    "from functools import partial\n",
    "from nbdoc.showdoc import ShowDoc\n",
    "ShowDoc = partial(ShowDoc, module_nm='metaflow.cards')\n",
    "\n",
    "from metaflow.cards import get_cards\n",
    "from metaflow.plugins.cards.card_client import CardContainer, Card"
   ]
  },
  {
   "cell_type": "markdown",
   "id": "ab418a7b",
   "metadata": {},
   "source": [
    "## Retrieving cards\n",
    "\n",
    "To retrieve a card after a run has finished, use the `get_cards` function e.g. in a notebook or the `card get` command on the CLI.\n",
    "\n",
    "Since a task can contain multiple cards `get_cards` returns a container object, `CardContainer`, which holds `Card` objects corresponding to individual cards. Notably both `CardContainer` and `Card` objects contain a function that allow them to visualize cards in the notebook output cell automatically, so a single `get_cards` call can be used to show all cards of a step in a notebook."
   ]
  },
  {
   "cell_type": "code",
   "execution_count": 2,
   "id": "09970e68",
   "metadata": {
    "execution": {
     "iopub.execute_input": "2023-05-16T22:27:21.812919Z",
     "iopub.status.busy": "2023-05-16T22:27:21.809773Z",
     "iopub.status.idle": "2023-05-16T22:27:21.844303Z",
     "shell.execute_reply": "2023-05-16T22:27:21.842775Z"
    }
   },
   "outputs": [
    {
     "data": {
      "text/html": [
       "<HTMLRemove>\n",
       "<h3> <code>function</code> <span style=\"color:Brown\">get_cards</span> <em>(task: Union[str, ForwardRef('Task')], id: Optional[str] = None, type: Optional[str] = None, follow_resumed: bool = True) -> metaflow.plugins.cards.card_client.CardContainer</em><a href=\"https://github.com/Netflix/metaflow/tree/master/metaflow/plugins/cards/card_client.py#L207\" style=\"float:right\">[source]</a></h3><strong>metaflow.cards</strong><p><blockquote>Get&nbsp;cards&nbsp;related&nbsp;to&nbsp;a&nbsp;`Task`.<br><br>Note&nbsp;that&nbsp;`get_cards`&nbsp;resolves&nbsp;the&nbsp;cards&nbsp;contained&nbsp;by&nbsp;the&nbsp;task,&nbsp;but&nbsp;it&nbsp;doesn't&nbsp;actually<br>retrieve&nbsp;them&nbsp;from&nbsp;the&nbsp;datastore.&nbsp;Actual&nbsp;card&nbsp;contents&nbsp;are&nbsp;retrieved&nbsp;lazily&nbsp;either&nbsp;when<br>the&nbsp;card&nbsp;is&nbsp;rendered&nbsp;in&nbsp;a&nbsp;notebook&nbsp;to&nbsp;when&nbsp;you&nbsp;call&nbsp;`Card.get`.&nbsp;This&nbsp;means&nbsp;that<br>`get_cards`&nbsp;is&nbsp;a&nbsp;fast&nbsp;call&nbsp;even&nbsp;when&nbsp;individual&nbsp;cards&nbsp;contain&nbsp;a&nbsp;lot&nbsp;of&nbsp;data.<br><br>Parameters<br>----------<br>task&nbsp;:&nbsp;str&nbsp;or&nbsp;`Task`<br>&nbsp;&nbsp;&nbsp;&nbsp;A&nbsp;`Task`&nbsp;object&nbsp;or&nbsp;pathspec&nbsp;`{flow_name}/{run_id}/{step_name}/{task_id}`&nbsp;that<br>&nbsp;&nbsp;&nbsp;&nbsp;uniquely&nbsp;identifies&nbsp;a&nbsp;task.<br>id&nbsp;:&nbsp;str,&nbsp;optional<br>&nbsp;&nbsp;&nbsp;&nbsp;The&nbsp;ID&nbsp;of&nbsp;card&nbsp;to&nbsp;retrieve&nbsp;if&nbsp;multiple&nbsp;cards&nbsp;are&nbsp;present.<br>type&nbsp;:&nbsp;str,&nbsp;optional<br>&nbsp;&nbsp;&nbsp;&nbsp;The&nbsp;type&nbsp;of&nbsp;card&nbsp;to&nbsp;retrieve&nbsp;if&nbsp;multiple&nbsp;cards&nbsp;are&nbsp;present.<br>follow_resumed&nbsp;:&nbsp;bool,&nbsp;default:&nbsp;True<br>&nbsp;&nbsp;&nbsp;&nbsp;If&nbsp;the&nbsp;task&nbsp;has&nbsp;been&nbsp;resumed,&nbsp;then&nbsp;setting&nbsp;this&nbsp;flag&nbsp;will&nbsp;resolve&nbsp;the&nbsp;card&nbsp;for<br>&nbsp;&nbsp;&nbsp;&nbsp;the&nbsp;origin&nbsp;task.<br><br>Returns<br>-------<br>CardContainer<br>&nbsp;&nbsp;&nbsp;&nbsp;A&nbsp;list-like&nbsp;object&nbsp;that&nbsp;holds&nbsp;`Card`&nbsp;objects.</blockquote></p>\n",
       "</HTMLRemove>\n",
       "<DocSection type=\"function\" name=\"get_cards\" module=\"metaflow.cards\" show_import=\"True\" heading_level=\"3\" link=\"https://github.com/Netflix/metaflow/tree/master/metaflow/plugins/cards/card_client.py#L207\">\n",
       "<SigArgSection>\n",
       "<SigArg name=\"task\" type=\"Union\" /><SigArg name=\"id\" type=\"Optional\" default=\"None\" /><SigArg name=\"type\" type=\"Optional\" default=\"None\" /><SigArg name=\"follow_resumed\" type=\"bool\" default=\"True\" />\n",
       "</SigArgSection>\n",
       "<Description summary=\"Get cards related to a `Task`.\" extended_summary=\"Note that `get_cards` resolves the cards contained by the task, but it doesn't actually\\nretrieve them from the datastore. Actual card contents are retrieved lazily either when\\nthe card is rendered in a notebook to when you call `Card.get`. This means that\\n`get_cards` is a fast call even when individual cards contain a lot of data.\" />\n",
       "<ParamSection name=\"Parameters\">\n",
       "\t<Parameter name=\"task\" type=\"str or `Task`\" desc=\"A `Task` object or pathspec `{flow_name}/{run_id}/{step_name}/{task_id}` that\\nuniquely identifies a task.\" />\n",
       "\t<Parameter name=\"id\" type=\"str, optional\" desc=\"The ID of card to retrieve if multiple cards are present.\" />\n",
       "\t<Parameter name=\"type\" type=\"str, optional\" desc=\"The type of card to retrieve if multiple cards are present.\" />\n",
       "\t<Parameter name=\"follow_resumed\" type=\"bool, default: True\" desc=\"If the task has been resumed, then setting this flag will resolve the card for\\nthe origin task.\" />\n",
       "</ParamSection>\n",
       "<ParamSection name=\"Returns\">\n",
       "\t<Parameter type=\"CardContainer\" desc=\"A list-like object that holds `Card` objects.\" />\n",
       "</ParamSection>\n",
       "</DocSection>"
      ],
      "text/plain": [
       "<nbdoc.showdoc.ShowDoc at 0x104390510>"
      ]
     },
     "execution_count": 2,
     "metadata": {},
     "output_type": "execute_result"
    }
   ],
   "source": [
    "ShowDoc(get_cards, show_import=True)"
   ]
  },
  {
   "cell_type": "code",
   "execution_count": 3,
   "id": "c65fa811",
   "metadata": {
    "execution": {
     "iopub.execute_input": "2023-05-16T22:27:21.854566Z",
     "iopub.status.busy": "2023-05-16T22:27:21.854086Z",
     "iopub.status.idle": "2023-05-16T22:27:21.905556Z",
     "shell.execute_reply": "2023-05-16T22:27:21.890419Z"
    }
   },
   "outputs": [
    {
     "data": {
      "text/html": [
       "<HTMLRemove>\n",
       "<h3> <code>class</code> <span style=\"color:Brown\">CardContainer</span> <em></em><a href=\"https://github.com/Netflix/metaflow/tree/master/metaflow/plugins/cards/card_client.py#L128\" style=\"float:right\">[source]</a></h3><p><blockquote>`CardContainer`&nbsp;is&nbsp;an&nbsp;immutable&nbsp;list-like&nbsp;object,&nbsp;returned&nbsp;by&nbsp;`get_cards`,<br>which&nbsp;contains&nbsp;individual&nbsp;`Card`s.<br><br>Notably,&nbsp;`CardContainer`&nbsp;contains&nbsp;a&nbsp;special<br>`_repr_html_`&nbsp;function&nbsp;which&nbsp;renders&nbsp;cards&nbsp;automatically&nbsp;in&nbsp;an&nbsp;output<br>cell&nbsp;of&nbsp;a&nbsp;notebook.<br><br>The&nbsp;following&nbsp;operations&nbsp;are&nbsp;supported:<br>```<br>cards&nbsp;=&nbsp;get_cards(MyTask)<br><br>#&nbsp;retrieve&nbsp;by&nbsp;index<br>first_card&nbsp;=&nbsp;cards[0]<br><br>#&nbsp;check&nbsp;length<br>if&nbsp;len(cards)&nbsp;>&nbsp;1:<br>&nbsp;&nbsp;&nbsp;&nbsp;print('many&nbsp;cards&nbsp;present!')<br><br>#&nbsp;iteration<br>list_of_cards&nbsp;=&nbsp;list(cards)<br>```</blockquote></p>\n",
       "</HTMLRemove>\n",
       "<DocSection type=\"class\" name=\"CardContainer\" module=\"metaflow.cards\" show_import=\"False\" heading_level=\"3\" link=\"https://github.com/Netflix/metaflow/tree/master/metaflow/plugins/cards/card_client.py#L128\">\n",
       "<SigArgSection>\n",
       "<SigArg name=\"\" />\n",
       "</SigArgSection>\n",
       "<Description summary=\"`CardContainer` is an immutable list-like object, returned by `get_cards`,\\nwhich contains individual `Card`s.\" extended_summary=\"Notably, `CardContainer` contains a special\\n`_repr_html_` function which renders cards automatically in an output\\ncell of a notebook.\\n\\nThe following operations are supported:\\n```\\ncards = get_cards(MyTask)\\n\\n# retrieve by index\\nfirst_card = cards[0]\\n\\n# check length\\nif len(cards) > 1:\\n    print('many cards present!')\\n\\n# iteration\\nlist_of_cards = list(cards)\\n```\" />\n",
       "\n",
       "</DocSection>"
      ],
      "text/plain": [
       "<nbdoc.showdoc.ShowDoc at 0x10558b010>"
      ]
     },
     "execution_count": 3,
     "metadata": {},
     "output_type": "execute_result"
    }
   ],
   "source": [
    "ShowDoc(CardContainer,  spoofstr='')"
   ]
  },
  {
   "cell_type": "code",
   "execution_count": 4,
   "id": "de91c8c9",
   "metadata": {
    "execution": {
     "iopub.execute_input": "2023-05-16T22:27:21.916978Z",
     "iopub.status.busy": "2023-05-16T22:27:21.916408Z",
     "iopub.status.idle": "2023-05-16T22:27:21.931760Z",
     "shell.execute_reply": "2023-05-16T22:27:21.930122Z"
    }
   },
   "outputs": [
    {
     "data": {
      "text/html": [
       "<HTMLRemove>\n",
       "<h3> <code>class</code> <span style=\"color:Brown\">Card</span> <em></em><a href=\"https://github.com/Netflix/metaflow/tree/master/metaflow/plugins/cards/card_client.py#L22\" style=\"float:right\">[source]</a></h3><p><blockquote>`Card`&nbsp;represents&nbsp;an&nbsp;individual&nbsp;Metaflow&nbsp;Card,&nbsp;a&nbsp;single&nbsp;HTML&nbsp;file,&nbsp;produced&nbsp;by<br>the&nbsp;card&nbsp;`@card`&nbsp;decorator.&nbsp;`Card`s&nbsp;are&nbsp;contained&nbsp;by&nbsp;`CardContainer`,&nbsp;returned&nbsp;by<br>`get_cards`.<br><br>Note&nbsp;that&nbsp;the&nbsp;contents&nbsp;of&nbsp;the&nbsp;card,&nbsp;an&nbsp;HTML&nbsp;file,&nbsp;is&nbsp;retrieved&nbsp;lazily&nbsp;when&nbsp;you&nbsp;call<br>`Card.get`&nbsp;for&nbsp;the&nbsp;first&nbsp;time&nbsp;or&nbsp;when&nbsp;the&nbsp;card&nbsp;is&nbsp;rendered&nbsp;in&nbsp;a&nbsp;notebook.</blockquote></p>\n",
       "</HTMLRemove>\n",
       "<DocSection type=\"class\" name=\"Card\" module=\"metaflow.cards\" show_import=\"False\" heading_level=\"3\" link=\"https://github.com/Netflix/metaflow/tree/master/metaflow/plugins/cards/card_client.py#L22\">\n",
       "<SigArgSection>\n",
       "<SigArg name=\"\" />\n",
       "</SigArgSection>\n",
       "<Description summary=\"`Card` represents an individual Metaflow Card, a single HTML file, produced by\\nthe card `@card` decorator. `Card`s are contained by `CardContainer`, returned by\\n`get_cards`.\" extended_summary=\"Note that the contents of the card, an HTML file, is retrieved lazily when you call\\n`Card.get` for the first time or when the card is rendered in a notebook.\" />\n",
       "<ParamSection name=\"Attributes\">\n",
       "\t<Parameter name=\"id\" desc=\"The ID of the card, if specified with `@card(id=ID)`.\" />\n",
       "\t<Parameter name=\"path\" desc=\"The path of the card in the datastore which uniquely\\nidentifies the card.\\n\\nReturns\\n-------\\nstr\\n    Path to the card\" />\n",
       "</ParamSection>\n",
       "</DocSection>"
      ],
      "text/plain": [
       "<nbdoc.showdoc.ShowDoc at 0x1060d5b90>"
      ]
     },
     "execution_count": 4,
     "metadata": {},
     "output_type": "execute_result"
    }
   ],
   "source": [
    "ShowDoc(Card, spoofstr='')"
   ]
  },
  {
   "cell_type": "code",
   "execution_count": 5,
   "id": "6d76de09",
   "metadata": {
    "execution": {
     "iopub.execute_input": "2023-05-16T22:27:21.937720Z",
     "iopub.status.busy": "2023-05-16T22:27:21.937396Z",
     "iopub.status.idle": "2023-05-16T22:27:21.945010Z",
     "shell.execute_reply": "2023-05-16T22:27:21.944129Z"
    }
   },
   "outputs": [
    {
     "data": {
      "text/html": [
       "<HTMLRemove>\n",
       "<h4> <code>method</code> <span style=\"color:Brown\">Card.get</span> <em>(self) -> str</em><a href=\"https://github.com/Netflix/metaflow/tree/master/metaflow/plugins/cards/card_client.py#L60\" style=\"float:right\">[source]</a></h4><p><blockquote>Retrieves&nbsp;the&nbsp;HTML&nbsp;contents&nbsp;of&nbsp;the&nbsp;card&nbsp;from&nbsp;the<br>Metaflow&nbsp;datastore.<br><br>Returns<br>-------<br>str<br>&nbsp;&nbsp;&nbsp;&nbsp;HTML&nbsp;contents&nbsp;of&nbsp;the&nbsp;card.</blockquote></p>\n",
       "</HTMLRemove>\n",
       "<DocSection type=\"method\" name=\"Card.get\" module=\"metaflow.cards\" show_import=\"False\" heading_level=\"4\" link=\"https://github.com/Netflix/metaflow/tree/master/metaflow/plugins/cards/card_client.py#L60\">\n",
       "<SigArgSection>\n",
       "<SigArg name=\"self\" />\n",
       "</SigArgSection>\n",
       "<Description summary=\"Retrieves the HTML contents of the card from the\\nMetaflow datastore.\" />\n",
       "<ParamSection name=\"Returns\">\n",
       "\t<Parameter type=\"str\" desc=\"HTML contents of the card.\" />\n",
       "</ParamSection>\n",
       "</DocSection>"
      ],
      "text/plain": [
       "<nbdoc.showdoc.ShowDoc at 0x10609da10>"
      ]
     },
     "execution_count": 5,
     "metadata": {},
     "output_type": "execute_result"
    }
   ],
   "source": [
    "ShowDoc(Card.get)"
   ]
  },
  {
   "cell_type": "code",
   "execution_count": 6,
   "id": "69f97d00",
   "metadata": {
    "execution": {
     "iopub.execute_input": "2023-05-16T22:27:21.952535Z",
     "iopub.status.busy": "2023-05-16T22:27:21.950961Z",
     "iopub.status.idle": "2023-05-16T22:27:21.963270Z",
     "shell.execute_reply": "2023-05-16T22:27:21.961829Z"
    }
   },
   "outputs": [
    {
     "data": {
      "text/html": [
       "<HTMLRemove>\n",
       "<h4> <code>method</code> <span style=\"color:Brown\">Card.view</span> <em>(self) -> None</em><a href=\"https://github.com/Netflix/metaflow/tree/master/metaflow/plugins/cards/card_client.py#L98\" style=\"float:right\">[source]</a></h4><p><blockquote>Opens&nbsp;the&nbsp;card&nbsp;in&nbsp;a&nbsp;local&nbsp;web&nbsp;browser.<br><br>This&nbsp;call&nbsp;uses&nbsp;Python's&nbsp;built-in&nbsp;[`webbrowser`](https://docs.python.org/3/library/webbrowser.html)<br>module&nbsp;to&nbsp;open&nbsp;the&nbsp;card.</blockquote></p>\n",
       "</HTMLRemove>\n",
       "<DocSection type=\"method\" name=\"Card.view\" module=\"metaflow.cards\" show_import=\"False\" heading_level=\"4\" link=\"https://github.com/Netflix/metaflow/tree/master/metaflow/plugins/cards/card_client.py#L98\">\n",
       "<SigArgSection>\n",
       "<SigArg name=\"self\" />\n",
       "</SigArgSection>\n",
       "<Description summary=\"Opens the card in a local web browser.\" extended_summary=\"This call uses Python's built-in [`webbrowser`](https://docs.python.org/3/library/webbrowser.html)\\nmodule to open the card.\" />\n",
       "\n",
       "</DocSection>"
      ],
      "text/plain": [
       "<nbdoc.showdoc.ShowDoc at 0x1056433d0>"
      ]
     },
     "execution_count": 6,
     "metadata": {},
     "output_type": "execute_result"
    }
   ],
   "source": [
    "ShowDoc(Card.view)"
   ]
  },
  {
   "cell_type": "markdown",
   "id": "1de46198",
   "metadata": {},
   "source": [
    "## Card components\n",
    "\n",
    "You can customize the contents of a card easily using *card components*, a set of visual elements included in Metaflow which are documented below. See [Easy Custom Reports with Card Components](/metaflow/visualizing-results/easy-custom-reports-with-card-components) for instructions.\n",
    "\n",
    "The components are added to cards in `@step` methods (or functions called from steps), using [the `current.card` object](/api/current#card)."
   ]
  },
  {
   "cell_type": "code",
   "execution_count": 7,
   "id": "53a776e9",
   "metadata": {
    "execution": {
     "iopub.execute_input": "2023-05-16T22:27:21.974995Z",
     "iopub.status.busy": "2023-05-16T22:27:21.974676Z",
     "iopub.status.idle": "2023-05-16T22:27:21.984190Z",
     "shell.execute_reply": "2023-05-16T22:27:21.979268Z"
    }
   },
   "outputs": [],
   "source": [
    "#meta:tag=hide\n",
    "\n",
    "from metaflow.cards import Markdown, Image, Artifact, Table"
   ]
  },
  {
   "cell_type": "markdown",
   "id": "8452845b",
   "metadata": {},
   "source": [
    "### Markdown"
   ]
  },
  {
   "cell_type": "code",
   "execution_count": 8,
   "id": "752c4a43",
   "metadata": {
    "execution": {
     "iopub.execute_input": "2023-05-16T22:27:21.992351Z",
     "iopub.status.busy": "2023-05-16T22:27:21.992049Z",
     "iopub.status.idle": "2023-05-16T22:27:22.002306Z",
     "shell.execute_reply": "2023-05-16T22:27:22.000347Z"
    },
    "scrolled": true
   },
   "outputs": [
    {
     "data": {
      "text/html": [
       "<HTMLRemove>\n",
       "<h3> <code>class</code> <span style=\"color:Brown\">Markdown</span> <em>(text=None)</em><a href=\"https://github.com/Netflix/metaflow/tree/master/metaflow/plugins/cards/card_modules/components.py#L420\" style=\"float:right\">[source]</a></h3><strong>metaflow.cards</strong><p><blockquote>A&nbsp;block&nbsp;of&nbsp;text&nbsp;formatted&nbsp;in&nbsp;Markdown.<br><br>Example:<br>```<br>current.card.append(<br>&nbsp;&nbsp;&nbsp;&nbsp;Markdown(\"#&nbsp;This&nbsp;is&nbsp;a&nbsp;header&nbsp;appended&nbsp;from&nbsp;`@step`&nbsp;code\")<br>)<br>```<br><br>Parameters<br>----------<br>text&nbsp;:&nbsp;str<br>&nbsp;&nbsp;&nbsp;&nbsp;Text&nbsp;formatted&nbsp;in&nbsp;Markdown.</blockquote></p>\n",
       "</HTMLRemove>\n",
       "<DocSection type=\"class\" name=\"Markdown\" module=\"metaflow.cards\" show_import=\"True\" heading_level=\"3\" link=\"https://github.com/Netflix/metaflow/tree/master/metaflow/plugins/cards/card_modules/components.py#L420\">\n",
       "<SigArgSection>\n",
       "<SigArg name=\"text\" default=\"None\" />\n",
       "</SigArgSection>\n",
       "<Description summary=\"A block of text formatted in Markdown.\" extended_summary=\"Example:\\n```\\ncurrent.card.append(\\n    Markdown(&#34;# This is a header appended from `@step` code&#34;)\\n)\\n```\" />\n",
       "<ParamSection name=\"Parameters\">\n",
       "\t<Parameter name=\"text\" type=\"str\" desc=\"Text formatted in Markdown.\" />\n",
       "</ParamSection>\n",
       "</DocSection>"
      ],
      "text/plain": [
       "<nbdoc.showdoc.ShowDoc at 0x1060e1990>"
      ]
     },
     "execution_count": 8,
     "metadata": {},
     "output_type": "execute_result"
    }
   ],
   "source": [
    "ShowDoc(Markdown, show_import=True)"
   ]
  },
  {
   "cell_type": "markdown",
   "id": "a208dd7f",
   "metadata": {},
   "source": [
    "### Image"
   ]
  },
  {
   "cell_type": "code",
   "execution_count": 9,
   "id": "9c198774",
   "metadata": {
    "execution": {
     "iopub.execute_input": "2023-05-16T22:27:22.010422Z",
     "iopub.status.busy": "2023-05-16T22:27:22.009201Z",
     "iopub.status.idle": "2023-05-16T22:27:22.030280Z",
     "shell.execute_reply": "2023-05-16T22:27:22.029412Z"
    }
   },
   "outputs": [
    {
     "data": {
      "text/html": [
       "<HTMLRemove>\n",
       "<h3> <code>class</code> <span style=\"color:Brown\">Image</span> <em>(src=None, label=None)</em><a href=\"https://github.com/Netflix/metaflow/tree/master/metaflow/plugins/cards/card_modules/components.py#L165\" style=\"float:right\">[source]</a></h3><strong>metaflow.cards</strong><p><blockquote>An&nbsp;image.<br><br>`Images&nbsp;can&nbsp;be&nbsp;created&nbsp;directly&nbsp;from&nbsp;PNG/JPG/GIF&nbsp;`bytes`,&nbsp;`PIL.Image`s,<br>or&nbsp;Matplotlib&nbsp;figures.&nbsp;Note&nbsp;that&nbsp;the&nbsp;image&nbsp;data&nbsp;is&nbsp;embedded&nbsp;in&nbsp;the&nbsp;card,<br>so&nbsp;no&nbsp;external&nbsp;files&nbsp;are&nbsp;required&nbsp;to&nbsp;show&nbsp;the&nbsp;image.<br><br>Example:&nbsp;Create&nbsp;an&nbsp;`Image`&nbsp;from&nbsp;bytes:<br>```<br>current.card.append(<br>&nbsp;&nbsp;&nbsp;&nbsp;Image(<br>&nbsp;&nbsp;&nbsp;&nbsp;&nbsp;&nbsp;&nbsp;&nbsp;requests.get(\"https://www.gif-vif.com/hacker-cat.gif\").content,<br>&nbsp;&nbsp;&nbsp;&nbsp;&nbsp;&nbsp;&nbsp;&nbsp;\"Image&nbsp;From&nbsp;Bytes\"<br>&nbsp;&nbsp;&nbsp;&nbsp;)<br>)<br>```<br><br>Example:&nbsp;Create&nbsp;an&nbsp;`Image`&nbsp;from&nbsp;a&nbsp;Matplotlib&nbsp;figure<br>```<br>import&nbsp;pandas&nbsp;as&nbsp;pd<br>import&nbsp;numpy&nbsp;as&nbsp;np<br>current.card.append(<br>&nbsp;&nbsp;&nbsp;&nbsp;Image.from_matplotlib(<br>&nbsp;&nbsp;&nbsp;&nbsp;&nbsp;&nbsp;&nbsp;&nbsp;pandas.DataFrame(<br>&nbsp;&nbsp;&nbsp;&nbsp;&nbsp;&nbsp;&nbsp;&nbsp;&nbsp;&nbsp;&nbsp;&nbsp;np.random.randint(0,&nbsp;100,&nbsp;size=(15,&nbsp;4)),<br>&nbsp;&nbsp;&nbsp;&nbsp;&nbsp;&nbsp;&nbsp;&nbsp;&nbsp;&nbsp;&nbsp;&nbsp;columns=list(\"ABCD\"),<br>&nbsp;&nbsp;&nbsp;&nbsp;&nbsp;&nbsp;&nbsp;&nbsp;).plot()<br>&nbsp;&nbsp;&nbsp;&nbsp;)<br>)<br>```<br><br>Example:&nbsp;Create&nbsp;an&nbsp;`Image`&nbsp;from&nbsp;a&nbsp;[PIL](https://pillow.readthedocs.io/)&nbsp;Image<br>```<br>from&nbsp;PIL&nbsp;import&nbsp;Image&nbsp;as&nbsp;PILImage<br>current.card.append(<br>&nbsp;&nbsp;&nbsp;&nbsp;Image.from_pil_image(<br>&nbsp;&nbsp;&nbsp;&nbsp;&nbsp;&nbsp;&nbsp;&nbsp;PILImage.fromarray(np.random.randn(1024,&nbsp;768),&nbsp;\"RGB\"),<br>&nbsp;&nbsp;&nbsp;&nbsp;&nbsp;&nbsp;&nbsp;&nbsp;\"From&nbsp;PIL&nbsp;Image\"<br>&nbsp;&nbsp;&nbsp;&nbsp;)<br>)<br>```<br><br>Parameters<br>----------<br>src&nbsp;:&nbsp;bytes<br>&nbsp;&nbsp;&nbsp;&nbsp;The&nbsp;image&nbsp;data&nbsp;in&nbsp;`bytes`.<br>label&nbsp;:&nbsp;str<br>&nbsp;&nbsp;&nbsp;&nbsp;Optional&nbsp;label&nbsp;for&nbsp;the&nbsp;image.</blockquote></p>\n",
       "</HTMLRemove>\n",
       "<DocSection type=\"class\" name=\"Image\" module=\"metaflow.cards\" show_import=\"True\" heading_level=\"3\" link=\"https://github.com/Netflix/metaflow/tree/master/metaflow/plugins/cards/card_modules/components.py#L165\">\n",
       "<SigArgSection>\n",
       "<SigArg name=\"src\" default=\"None\" /><SigArg name=\"label\" default=\"None\" />\n",
       "</SigArgSection>\n",
       "<Description summary=\"An image.\" extended_summary=\"`Images can be created directly from PNG/JPG/GIF `bytes`, `PIL.Image`s,\\nor Matplotlib figures. Note that the image data is embedded in the card,\\nso no external files are required to show the image.\\n\\nExample: Create an `Image` from bytes:\\n```\\ncurrent.card.append(\\n    Image(\\n        requests.get(&#34;https://www.gif-vif.com/hacker-cat.gif&#34;).content,\\n        &#34;Image From Bytes&#34;\\n    )\\n)\\n```\\n\\nExample: Create an `Image` from a Matplotlib figure\\n```\\nimport pandas as pd\\nimport numpy as np\\ncurrent.card.append(\\n    Image.from_matplotlib(\\n        pandas.DataFrame(\\n            np.random.randint(0, 100, size=(15, 4)),\\n            columns=list(&#34;ABCD&#34;),\\n        ).plot()\\n    )\\n)\\n```\\n\\nExample: Create an `Image` from a [PIL](https://pillow.readthedocs.io/) Image\\n```\\nfrom PIL import Image as PILImage\\ncurrent.card.append(\\n    Image.from_pil_image(\\n        PILImage.fromarray(np.random.randn(1024, 768), &#34;RGB&#34;),\\n        &#34;From PIL Image&#34;\\n    )\\n)\\n```\" />\n",
       "<ParamSection name=\"Parameters\">\n",
       "\t<Parameter name=\"src\" type=\"bytes\" desc=\"The image data in `bytes`.\" />\n",
       "\t<Parameter name=\"label\" type=\"str\" desc=\"Optional label for the image.\" />\n",
       "</ParamSection>\n",
       "</DocSection>"
      ],
      "text/plain": [
       "<nbdoc.showdoc.ShowDoc at 0x1060dcad0>"
      ]
     },
     "execution_count": 9,
     "metadata": {},
     "output_type": "execute_result"
    }
   ],
   "source": [
    "ShowDoc(Image, show_import=True)"
   ]
  },
  {
   "cell_type": "code",
   "execution_count": 10,
   "id": "da3999a9",
   "metadata": {
    "execution": {
     "iopub.execute_input": "2023-05-16T22:27:22.036424Z",
     "iopub.status.busy": "2023-05-16T22:27:22.036135Z",
     "iopub.status.idle": "2023-05-16T22:27:22.053450Z",
     "shell.execute_reply": "2023-05-16T22:27:22.050887Z"
    },
    "scrolled": true
   },
   "outputs": [
    {
     "data": {
      "text/html": [
       "<HTMLRemove>\n",
       "<h4> <code>method</code> <span style=\"color:Brown\">Image.from_matplotlib</span> <em>(plot, label: Optional[str] = None)</em><a href=\"https://github.com/Netflix/metaflow/tree/master/metaflow/plugins/cards/card_modules/components.py#L314\" style=\"float:right\">[source]</a></h4><p><blockquote>Create&nbsp;an&nbsp;`Image`&nbsp;from&nbsp;a&nbsp;Matplotlib&nbsp;plot.<br><br>Parameters<br>----------<br>plot&nbsp;:&nbsp;&nbsp;matplotlib.figure.Figure&nbsp;or&nbsp;matplotlib.axes.Axes&nbsp;or&nbsp;matplotlib.axes._subplots.AxesSubplot<br>&nbsp;&nbsp;&nbsp;&nbsp;a&nbsp;PIL&nbsp;axes&nbsp;(plot)&nbsp;object.<br>label&nbsp;:&nbsp;str,&nbsp;optional<br>&nbsp;&nbsp;&nbsp;&nbsp;Optional&nbsp;label&nbsp;for&nbsp;the&nbsp;image.</blockquote></p>\n",
       "</HTMLRemove>\n",
       "<DocSection type=\"method\" name=\"Image.from_matplotlib\" module=\"metaflow.cards\" show_import=\"False\" heading_level=\"4\" link=\"https://github.com/Netflix/metaflow/tree/master/metaflow/plugins/cards/card_modules/components.py#L314\">\n",
       "<SigArgSection>\n",
       "<SigArg name=\"plot\" /><SigArg name=\"label\" type=\"Optional\" default=\"None\" />\n",
       "</SigArgSection>\n",
       "<Description summary=\"Create an `Image` from a Matplotlib plot.\" />\n",
       "<ParamSection name=\"Parameters\">\n",
       "\t<Parameter name=\"plot\" type=\"matplotlib.figure.Figure or matplotlib.axes.Axes or matplotlib.axes._subplots.AxesSubplot\" desc=\"a PIL axes (plot) object.\" />\n",
       "\t<Parameter name=\"label\" type=\"str, optional\" desc=\"Optional label for the image.\" />\n",
       "</ParamSection>\n",
       "</DocSection>"
      ],
      "text/plain": [
       "<nbdoc.showdoc.ShowDoc at 0x1060d6bd0>"
      ]
     },
     "execution_count": 10,
     "metadata": {},
     "output_type": "execute_result"
    }
   ],
   "source": [
    "ShowDoc(Image.from_matplotlib)"
   ]
  },
  {
   "cell_type": "code",
   "execution_count": 11,
   "id": "432ec2c6",
   "metadata": {
    "execution": {
     "iopub.execute_input": "2023-05-16T22:27:22.059993Z",
     "iopub.status.busy": "2023-05-16T22:27:22.059544Z",
     "iopub.status.idle": "2023-05-16T22:27:22.070089Z",
     "shell.execute_reply": "2023-05-16T22:27:22.069111Z"
    },
    "scrolled": true
   },
   "outputs": [
    {
     "data": {
      "text/html": [
       "<HTMLRemove>\n",
       "<h4> <code>method</code> <span style=\"color:Brown\">Image.from_pil_image</span> <em>(pilimage, label: Optional[str] = None)</em><a href=\"https://github.com/Netflix/metaflow/tree/master/metaflow/plugins/cards/card_modules/components.py#L266\" style=\"float:right\">[source]</a></h4><p><blockquote>Create&nbsp;an&nbsp;`Image`&nbsp;from&nbsp;a&nbsp;PIL&nbsp;image.<br><br>Parameters<br>----------<br>pilimage&nbsp;:&nbsp;PIL.Image<br>&nbsp;&nbsp;&nbsp;&nbsp;a&nbsp;PIL&nbsp;image&nbsp;object.<br>label&nbsp;:&nbsp;str,&nbsp;optional<br>&nbsp;&nbsp;&nbsp;&nbsp;Optional&nbsp;label&nbsp;for&nbsp;the&nbsp;image.</blockquote></p>\n",
       "</HTMLRemove>\n",
       "<DocSection type=\"method\" name=\"Image.from_pil_image\" module=\"metaflow.cards\" show_import=\"False\" heading_level=\"4\" link=\"https://github.com/Netflix/metaflow/tree/master/metaflow/plugins/cards/card_modules/components.py#L266\">\n",
       "<SigArgSection>\n",
       "<SigArg name=\"pilimage\" /><SigArg name=\"label\" type=\"Optional\" default=\"None\" />\n",
       "</SigArgSection>\n",
       "<Description summary=\"Create an `Image` from a PIL image.\" />\n",
       "<ParamSection name=\"Parameters\">\n",
       "\t<Parameter name=\"pilimage\" type=\"PIL.Image\" desc=\"a PIL image object.\" />\n",
       "\t<Parameter name=\"label\" type=\"str, optional\" desc=\"Optional label for the image.\" />\n",
       "</ParamSection>\n",
       "</DocSection>"
      ],
      "text/plain": [
       "<nbdoc.showdoc.ShowDoc at 0x1060d5950>"
      ]
     },
     "execution_count": 11,
     "metadata": {},
     "output_type": "execute_result"
    }
   ],
   "source": [
    "ShowDoc(Image.from_pil_image)"
   ]
  },
  {
   "cell_type": "markdown",
   "id": "9a401910",
   "metadata": {},
   "source": [
    "### Artifact"
   ]
  },
  {
   "cell_type": "code",
   "execution_count": 12,
   "id": "da4cf95b",
   "metadata": {
    "execution": {
     "iopub.execute_input": "2023-05-16T22:27:22.076248Z",
     "iopub.status.busy": "2023-05-16T22:27:22.075795Z",
     "iopub.status.idle": "2023-05-16T22:27:22.087246Z",
     "shell.execute_reply": "2023-05-16T22:27:22.083928Z"
    }
   },
   "outputs": [
    {
     "data": {
      "text/html": [
       "<HTMLRemove>\n",
       "<h3> <code>class</code> <span style=\"color:Brown\">Artifact</span> <em>(artifact: Any, name: Optional[str] = None, compressed: bool = True)</em><a href=\"https://github.com/Netflix/metaflow/tree/master/metaflow/plugins/cards/card_modules/components.py#L20\" style=\"float:right\">[source]</a></h3><strong>metaflow.cards</strong><p><blockquote>A&nbsp;pretty-printed&nbsp;version&nbsp;of&nbsp;any&nbsp;Python&nbsp;object.<br><br>Large&nbsp;objects&nbsp;are&nbsp;truncated&nbsp;using&nbsp;Python's&nbsp;built-in&nbsp;[`reprlib`](https://docs.python.org/3/library/reprlib.html).<br><br>Example:<br>```<br>from&nbsp;datetime&nbsp;import&nbsp;datetime<br>current.card.append(Artifact({'now':&nbsp;datetime.utcnow()}))<br>```<br><br>Parameters<br>----------<br>artifact&nbsp;:&nbsp;object<br>&nbsp;&nbsp;&nbsp;&nbsp;Any&nbsp;Python&nbsp;object.<br>name&nbsp;:&nbsp;str,&nbsp;optional<br>&nbsp;&nbsp;&nbsp;&nbsp;Optional&nbsp;label&nbsp;for&nbsp;the&nbsp;object.<br>compressed&nbsp;:&nbsp;bool,&nbsp;default:&nbsp;True<br>&nbsp;&nbsp;&nbsp;&nbsp;Use&nbsp;a&nbsp;truncated&nbsp;representation.</blockquote></p>\n",
       "</HTMLRemove>\n",
       "<DocSection type=\"class\" name=\"Artifact\" module=\"metaflow.cards\" show_import=\"True\" heading_level=\"3\" link=\"https://github.com/Netflix/metaflow/tree/master/metaflow/plugins/cards/card_modules/components.py#L20\">\n",
       "<SigArgSection>\n",
       "<SigArg name=\"artifact\" type=\"Any\" /><SigArg name=\"name\" type=\"Optional\" default=\"None\" /><SigArg name=\"compressed\" type=\"bool\" default=\"True\" />\n",
       "</SigArgSection>\n",
       "<Description summary=\"A pretty-printed version of any Python object.\" extended_summary=\"Large objects are truncated using Python's built-in [`reprlib`](https://docs.python.org/3/library/reprlib.html).\\n\\nExample:\\n```\\nfrom datetime import datetime\\ncurrent.card.append(Artifact({'now': datetime.utcnow()}))\\n```\" />\n",
       "<ParamSection name=\"Parameters\">\n",
       "\t<Parameter name=\"artifact\" type=\"object\" desc=\"Any Python object.\" />\n",
       "\t<Parameter name=\"name\" type=\"str, optional\" desc=\"Optional label for the object.\" />\n",
       "\t<Parameter name=\"compressed\" type=\"bool, default: True\" desc=\"Use a truncated representation.\" />\n",
       "</ParamSection>\n",
       "</DocSection>"
      ],
      "text/plain": [
       "<nbdoc.showdoc.ShowDoc at 0x1060d4390>"
      ]
     },
     "execution_count": 12,
     "metadata": {},
     "output_type": "execute_result"
    }
   ],
   "source": [
    "ShowDoc(Artifact, show_import=True)"
   ]
  },
  {
   "cell_type": "markdown",
   "id": "725519c8",
   "metadata": {},
   "source": [
    "### Table"
   ]
  },
  {
   "cell_type": "code",
   "execution_count": 13,
   "id": "7d1a016c",
   "metadata": {
    "execution": {
     "iopub.execute_input": "2023-05-16T22:27:22.097487Z",
     "iopub.status.busy": "2023-05-16T22:27:22.097232Z",
     "iopub.status.idle": "2023-05-16T22:27:22.147469Z",
     "shell.execute_reply": "2023-05-16T22:27:22.132270Z"
    }
   },
   "outputs": [
    {
     "data": {
      "text/html": [
       "<HTMLRemove>\n",
       "<h3> <code>class</code> <span style=\"color:Brown\">Table</span> <em>(data: Optional[List[List[Union[str, metaflow.plugins.cards.card_modules.card.MetaflowCardComponent]]]] = None, headers: Optional[List[str]] = None)</em><a href=\"https://github.com/Netflix/metaflow/tree/master/metaflow/plugins/cards/card_modules/components.py#L58\" style=\"float:right\">[source]</a></h3><strong>metaflow.cards</strong><p><blockquote>A&nbsp;table.<br><br>The&nbsp;contents&nbsp;of&nbsp;the&nbsp;table&nbsp;can&nbsp;be&nbsp;text&nbsp;or&nbsp;numerical&nbsp;data,&nbsp;a&nbsp;Pandas&nbsp;dataframe,<br>or&nbsp;other&nbsp;card&nbsp;components:&nbsp;`Artifact`,&nbsp;`Image`,&nbsp;`Markdown`&nbsp;objects.<br><br>Example:&nbsp;Text&nbsp;and&nbsp;artifacts<br>```<br>from&nbsp;metaflow.cards&nbsp;import&nbsp;Table,&nbsp;Artifact<br>current.card.append(<br>&nbsp;&nbsp;&nbsp;&nbsp;Table([<br>&nbsp;&nbsp;&nbsp;&nbsp;&nbsp;&nbsp;&nbsp;&nbsp;['first&nbsp;row',&nbsp;Artifact({'a':&nbsp;2})],<br>&nbsp;&nbsp;&nbsp;&nbsp;&nbsp;&nbsp;&nbsp;&nbsp;['second&nbsp;row',&nbsp;Artifact(3)]<br>&nbsp;&nbsp;&nbsp;&nbsp;])<br>)<br>```<br><br>Example:&nbsp;Table&nbsp;from&nbsp;a&nbsp;Pandas&nbsp;dataframe<br>```<br>from&nbsp;metaflow.cards&nbsp;import&nbsp;Table<br>import&nbsp;pandas&nbsp;as&nbsp;pd<br>import&nbsp;numpy&nbsp;as&nbsp;np<br>current.card.append(<br>&nbsp;&nbsp;&nbsp;&nbsp;Table.from_dataframe(<br>&nbsp;&nbsp;&nbsp;&nbsp;&nbsp;&nbsp;&nbsp;&nbsp;pd.DataFrame(<br>&nbsp;&nbsp;&nbsp;&nbsp;&nbsp;&nbsp;&nbsp;&nbsp;&nbsp;&nbsp;&nbsp;&nbsp;np.random.randint(0,&nbsp;100,&nbsp;size=(15,&nbsp;4)),<br>&nbsp;&nbsp;&nbsp;&nbsp;&nbsp;&nbsp;&nbsp;&nbsp;&nbsp;&nbsp;&nbsp;&nbsp;columns=list(\"ABCD\")<br>&nbsp;&nbsp;&nbsp;&nbsp;&nbsp;&nbsp;&nbsp;&nbsp;)<br>&nbsp;&nbsp;&nbsp;&nbsp;)<br>)<br>```<br><br>Parameters<br>----------<br>data&nbsp;:&nbsp;List[List[str&nbsp;or&nbsp;MetaflowCardComponent]],&nbsp;optional<br>&nbsp;&nbsp;&nbsp;&nbsp;List&nbsp;(rows)&nbsp;of&nbsp;lists&nbsp;(columns).&nbsp;Each&nbsp;item&nbsp;can&nbsp;be&nbsp;a&nbsp;string&nbsp;or&nbsp;a&nbsp;`MetaflowCardComponent`.<br>headers&nbsp;:&nbsp;List[str],&nbsp;optional<br>&nbsp;&nbsp;&nbsp;&nbsp;Optional&nbsp;header&nbsp;row&nbsp;for&nbsp;the&nbsp;table.</blockquote></p>\n",
       "</HTMLRemove>\n",
       "<DocSection type=\"class\" name=\"Table\" module=\"metaflow.cards\" show_import=\"True\" heading_level=\"3\" link=\"https://github.com/Netflix/metaflow/tree/master/metaflow/plugins/cards/card_modules/components.py#L58\">\n",
       "<SigArgSection>\n",
       "<SigArg name=\"data\" type=\"Optional\" default=\"None\" /><SigArg name=\"headers\" type=\"Optional\" default=\"None\" />\n",
       "</SigArgSection>\n",
       "<Description summary=\"A table.\" extended_summary=\"The contents of the table can be text or numerical data, a Pandas dataframe,\\nor other card components: `Artifact`, `Image`, `Markdown` objects.\\n\\nExample: Text and artifacts\\n```\\nfrom metaflow.cards import Table, Artifact\\ncurrent.card.append(\\n    Table([\\n        ['first row', Artifact({'a': 2})],\\n        ['second row', Artifact(3)]\\n    ])\\n)\\n```\\n\\nExample: Table from a Pandas dataframe\\n```\\nfrom metaflow.cards import Table\\nimport pandas as pd\\nimport numpy as np\\ncurrent.card.append(\\n    Table.from_dataframe(\\n        pd.DataFrame(\\n            np.random.randint(0, 100, size=(15, 4)),\\n            columns=list(&#34;ABCD&#34;)\\n        )\\n    )\\n)\\n```\" />\n",
       "<ParamSection name=\"Parameters\">\n",
       "\t<Parameter name=\"data\" type=\"List[List[str or MetaflowCardComponent]], optional\" desc=\"List (rows) of lists (columns). Each item can be a string or a `MetaflowCardComponent`.\" />\n",
       "\t<Parameter name=\"headers\" type=\"List[str], optional\" desc=\"Optional header row for the table.\" />\n",
       "</ParamSection>\n",
       "</DocSection>"
      ],
      "text/plain": [
       "<nbdoc.showdoc.ShowDoc at 0x1060adfd0>"
      ]
     },
     "execution_count": 13,
     "metadata": {},
     "output_type": "execute_result"
    }
   ],
   "source": [
    "ShowDoc(Table, show_import=True)"
   ]
  },
  {
   "cell_type": "code",
   "execution_count": 14,
   "id": "1e65fe26",
   "metadata": {
    "execution": {
     "iopub.execute_input": "2023-05-16T22:27:22.217448Z",
     "iopub.status.busy": "2023-05-16T22:27:22.216553Z",
     "iopub.status.idle": "2023-05-16T22:27:22.225673Z",
     "shell.execute_reply": "2023-05-16T22:27:22.223774Z"
    }
   },
   "outputs": [
    {
     "data": {
      "text/html": [
       "<HTMLRemove>\n",
       "<h4> <code>method</code> <span style=\"color:Brown\">Table.from_dataframe</span> <em>(dataframe=None, truncate: bool = True)</em><a href=\"https://github.com/Netflix/metaflow/tree/master/metaflow/plugins/cards/card_modules/components.py#L114\" style=\"float:right\">[source]</a></h4><p><blockquote>Create&nbsp;a&nbsp;`Table`&nbsp;based&nbsp;on&nbsp;a&nbsp;Pandas&nbsp;dataframe.<br><br>Parameters<br>----------<br>dataframe&nbsp;:&nbsp;Optional[pandas.DataFrame]<br>&nbsp;&nbsp;&nbsp;&nbsp;Pandas&nbsp;dataframe.<br>truncate&nbsp;:&nbsp;bool,&nbsp;default:&nbsp;True<br>&nbsp;&nbsp;&nbsp;&nbsp;Truncate&nbsp;large&nbsp;dataframe&nbsp;instead&nbsp;of&nbsp;showing&nbsp;all&nbsp;rows&nbsp;(default:&nbsp;True).</blockquote></p>\n",
       "</HTMLRemove>\n",
       "<DocSection type=\"method\" name=\"Table.from_dataframe\" module=\"metaflow.cards\" show_import=\"False\" heading_level=\"4\" link=\"https://github.com/Netflix/metaflow/tree/master/metaflow/plugins/cards/card_modules/components.py#L114\">\n",
       "<SigArgSection>\n",
       "<SigArg name=\"dataframe\" default=\"None\" /><SigArg name=\"truncate\" type=\"bool\" default=\"True\" />\n",
       "</SigArgSection>\n",
       "<Description summary=\"Create a `Table` based on a Pandas dataframe.\" />\n",
       "<ParamSection name=\"Parameters\">\n",
       "\t<Parameter name=\"dataframe\" type=\"Optional[pandas.DataFrame]\" desc=\"Pandas dataframe.\" />\n",
       "\t<Parameter name=\"truncate\" type=\"bool, default: True\" desc=\"Truncate large dataframe instead of showing all rows (default: True).\" />\n",
       "</ParamSection>\n",
       "</DocSection>"
      ],
      "text/plain": [
       "<nbdoc.showdoc.ShowDoc at 0x105e34e90>"
      ]
     },
     "execution_count": 14,
     "metadata": {},
     "output_type": "execute_result"
    }
   ],
   "source": [
    "ShowDoc(Table.from_dataframe)"
   ]
  },
  {
   "cell_type": "markdown",
   "id": "a6040f3e",
   "metadata": {},
   "source": [
    "## Defining a custom card\n",
    "\n",
    "You can define custom cards types (`T` in `@card(type=T)`) by creating a Python package that includes a class that derives from `MetaflowCard`, documented below.\n",
    "\n",
    "Find detailed instructions, a starter template, and an example of a simple custom card at [https://github.com/outerbounds/metaflow-card-html]( https://github.com/outerbounds/metaflow-card-html)."
   ]
  },
  {
   "cell_type": "code",
   "execution_count": 15,
   "id": "3dc4881f",
   "metadata": {
    "execution": {
     "iopub.execute_input": "2023-05-16T22:27:22.265809Z",
     "iopub.status.busy": "2023-05-16T22:27:22.264559Z",
     "iopub.status.idle": "2023-05-16T22:27:22.331256Z",
     "shell.execute_reply": "2023-05-16T22:27:22.279790Z"
    }
   },
   "outputs": [],
   "source": [
    "#meta:tag=hide\n",
    "from metaflow.cards import MetaflowCard"
   ]
  },
  {
   "cell_type": "code",
   "execution_count": 16,
   "id": "6210f683",
   "metadata": {
    "execution": {
     "iopub.execute_input": "2023-05-16T22:27:22.351649Z",
     "iopub.status.busy": "2023-05-16T22:27:22.350771Z",
     "iopub.status.idle": "2023-05-16T22:27:22.359898Z",
     "shell.execute_reply": "2023-05-16T22:27:22.359062Z"
    }
   },
   "outputs": [
    {
     "data": {
      "text/html": [
       "<HTMLRemove>\n",
       "<h3> <code>class</code> <span style=\"color:Brown\">MetaflowCard</span> <em>options</em><a href=\"https://github.com/Netflix/metaflow/tree/master/metaflow/plugins/cards/card_modules/card.py#L7\" style=\"float:right\">[source]</a></h3><strong>metaflow.cards</strong><p><blockquote>Metaflow&nbsp;cards&nbsp;derive&nbsp;from&nbsp;this&nbsp;base&nbsp;class.<br><br>Subclasses&nbsp;of&nbsp;this&nbsp;class&nbsp;are&nbsp;called&nbsp;*card&nbsp;types*.&nbsp;The&nbsp;desired&nbsp;card<br>type&nbsp;`T`&nbsp;is&nbsp;defined&nbsp;in&nbsp;the&nbsp;`@card`&nbsp;decorator&nbsp;as&nbsp;`@card(type=T)`.<br><br>After&nbsp;a&nbsp;task&nbsp;with&nbsp;`@card(type=T,&nbsp;options=S)`&nbsp;finishes&nbsp;executing,&nbsp;Metaflow&nbsp;instantiates<br>a&nbsp;subclass&nbsp;`C`&nbsp;of&nbsp;`MetaflowCard`&nbsp;that&nbsp;has&nbsp;its&nbsp;`type`&nbsp;attribute&nbsp;set&nbsp;to&nbsp;`T`,&nbsp;i.e.&nbsp;`C.type=T`.<br>The&nbsp;constructor&nbsp;is&nbsp;given&nbsp;the&nbsp;options&nbsp;dictionary&nbsp;`S`&nbsp;that&nbsp;contains&nbsp;arbitrary<br>JSON-encodable&nbsp;data&nbsp;that&nbsp;is&nbsp;passed&nbsp;to&nbsp;the&nbsp;instance,&nbsp;parametrizing&nbsp;the&nbsp;card.&nbsp;The&nbsp;subclass<br>may&nbsp;override&nbsp;the&nbsp;constructor&nbsp;to&nbsp;capture&nbsp;and&nbsp;process&nbsp;the&nbsp;options.<br><br>The&nbsp;subclass&nbsp;needs&nbsp;to&nbsp;implement&nbsp;a&nbsp;`render(task)`&nbsp;method&nbsp;that&nbsp;produces&nbsp;the&nbsp;card<br>contents&nbsp;in&nbsp;HTML,&nbsp;given&nbsp;the&nbsp;finished&nbsp;task&nbsp;that&nbsp;is&nbsp;represented&nbsp;by&nbsp;a&nbsp;`Task`&nbsp;object.<br><br>Attributes<br>----------<br>type&nbsp;:&nbsp;str<br>&nbsp;&nbsp;&nbsp;&nbsp;Card&nbsp;type&nbsp;string.&nbsp;Note&nbsp;that&nbsp;this&nbsp;should&nbsp;be&nbsp;a&nbsp;globally&nbsp;unique&nbsp;name,&nbsp;similar&nbsp;to&nbsp;a<br>&nbsp;&nbsp;&nbsp;&nbsp;Python&nbsp;package&nbsp;name,&nbsp;to&nbsp;avoid&nbsp;name&nbsp;clashes&nbsp;between&nbsp;different&nbsp;custom&nbsp;cards.<br><br>Parameters<br>----------<br>options&nbsp;:&nbsp;Dict<br>&nbsp;&nbsp;&nbsp;&nbsp;JSON-encodable&nbsp;dictionary&nbsp;containing&nbsp;user-definable&nbsp;options&nbsp;for&nbsp;the&nbsp;class.</blockquote></p>\n",
       "</HTMLRemove>\n",
       "<DocSection type=\"class\" name=\"MetaflowCard\" module=\"metaflow.cards\" show_import=\"True\" heading_level=\"3\" link=\"https://github.com/Netflix/metaflow/tree/master/metaflow/plugins/cards/card_modules/card.py#L7\">\n",
       "<SigArgSection>\n",
       "<SigArg name=\"options\" />\n",
       "</SigArgSection>\n",
       "<Description summary=\"Metaflow cards derive from this base class.\" extended_summary=\"Subclasses of this class are called *card types*. The desired card\\ntype `T` is defined in the `@card` decorator as `@card(type=T)`.\\n\\nAfter a task with `@card(type=T, options=S)` finishes executing, Metaflow instantiates\\na subclass `C` of `MetaflowCard` that has its `type` attribute set to `T`, i.e. `C.type=T`.\\nThe constructor is given the options dictionary `S` that contains arbitrary\\nJSON-encodable data that is passed to the instance, parametrizing the card. The subclass\\nmay override the constructor to capture and process the options.\\n\\nThe subclass needs to implement a `render(task)` method that produces the card\\ncontents in HTML, given the finished task that is represented by a `Task` object.\" />\n",
       "<ParamSection name=\"Parameters\">\n",
       "\t<Parameter name=\"options\" type=\"Dict\" desc=\"JSON-encodable dictionary containing user-definable options for the class.\" />\n",
       "</ParamSection>\n",
       "<ParamSection name=\"Attributes\">\n",
       "\t<Parameter name=\"type\" type=\"str\" desc=\"Card type string. Note that this should be a globally unique name, similar to a\\nPython package name, to avoid name clashes between different custom cards.\" />\n",
       "</ParamSection>\n",
       "</DocSection>"
      ],
      "text/plain": [
       "<nbdoc.showdoc.ShowDoc at 0x1060891d0>"
      ]
     },
     "execution_count": 16,
     "metadata": {},
     "output_type": "execute_result"
    }
   ],
   "source": [
    "ShowDoc(MetaflowCard, show_import=True, spoofstr='options')"
   ]
  },
  {
   "cell_type": "code",
   "execution_count": 17,
   "id": "c71b83c5",
   "metadata": {
    "execution": {
     "iopub.execute_input": "2023-05-16T22:27:22.364828Z",
     "iopub.status.busy": "2023-05-16T22:27:22.364618Z",
     "iopub.status.idle": "2023-05-16T22:27:22.486315Z",
     "shell.execute_reply": "2023-05-16T22:27:22.485392Z"
    }
   },
   "outputs": [
    {
     "ename": "AttributeError",
     "evalue": "'str' object has no attribute '__name__'",
     "output_type": "error",
     "traceback": [
      "\u001b[0;31m---------------------------------------------------------------------------\u001b[0m",
      "\u001b[0;31mAttributeError\u001b[0m                            Traceback (most recent call last)",
      "File \u001b[0;32m~/mambaforge/envs/docs/lib/python3.11/site-packages/IPython/core/formatters.py:344\u001b[0m, in \u001b[0;36mBaseFormatter.__call__\u001b[0;34m(self, obj)\u001b[0m\n\u001b[1;32m    342\u001b[0m     method \u001b[38;5;241m=\u001b[39m get_real_method(obj, \u001b[38;5;28mself\u001b[39m\u001b[38;5;241m.\u001b[39mprint_method)\n\u001b[1;32m    343\u001b[0m     \u001b[38;5;28;01mif\u001b[39;00m method \u001b[38;5;129;01mis\u001b[39;00m \u001b[38;5;129;01mnot\u001b[39;00m \u001b[38;5;28;01mNone\u001b[39;00m:\n\u001b[0;32m--> 344\u001b[0m         \u001b[38;5;28;01mreturn\u001b[39;00m \u001b[43mmethod\u001b[49m\u001b[43m(\u001b[49m\u001b[43m)\u001b[49m\n\u001b[1;32m    345\u001b[0m     \u001b[38;5;28;01mreturn\u001b[39;00m \u001b[38;5;28;01mNone\u001b[39;00m\n\u001b[1;32m    346\u001b[0m \u001b[38;5;28;01melse\u001b[39;00m:\n",
      "File \u001b[0;32m~/mambaforge/envs/docs/lib/python3.11/site-packages/nbdoc/showdoc.py:218\u001b[0m, in \u001b[0;36mShowDoc._repr_html_\u001b[0;34m(self)\u001b[0m\n\u001b[1;32m    216\u001b[0m \u001b[38;5;28;01mdef\u001b[39;00m \u001b[38;5;21m_repr_html_\u001b[39m(\u001b[38;5;28mself\u001b[39m):\n\u001b[1;32m    217\u001b[0m     \u001b[38;5;124m\"\u001b[39m\u001b[38;5;124mThis method controls what is displayed in Jupyter Notebooks.\u001b[39m\u001b[38;5;124m\"\u001b[39m\n\u001b[0;32m--> 218\u001b[0m     \u001b[38;5;28;01mreturn\u001b[39;00m \u001b[38;5;124mf\u001b[39m\u001b[38;5;124m'\u001b[39m\u001b[38;5;124m<HTMLRemove>\u001b[39m\u001b[38;5;130;01m\\n\u001b[39;00m\u001b[38;5;132;01m{\u001b[39;00m\u001b[38;5;28mself\u001b[39m\u001b[38;5;241m.\u001b[39mnbhtml\u001b[38;5;132;01m}\u001b[39;00m\u001b[38;5;130;01m\\n\u001b[39;00m\u001b[38;5;124m</HTMLRemove>\u001b[39m\u001b[38;5;130;01m\\n\u001b[39;00m\u001b[38;5;132;01m{\u001b[39;00m\u001b[38;5;28;43mself\u001b[39;49m\u001b[38;5;241;43m.\u001b[39;49m\u001b[43mjsx\u001b[49m\u001b[38;5;132;01m}\u001b[39;00m\u001b[38;5;124m'\u001b[39m\n",
      "File \u001b[0;32m~/mambaforge/envs/docs/lib/python3.11/site-packages/nbdoc/showdoc.py:253\u001b[0m, in \u001b[0;36mShowDoc.jsx\u001b[0;34m(self)\u001b[0m\n\u001b[1;32m    251\u001b[0m nm \u001b[38;5;241m=\u001b[39m \u001b[38;5;124mf\u001b[39m\u001b[38;5;124m'\u001b[39m\u001b[38;5;124m<DocSection type=\u001b[39m\u001b[38;5;124m\"\u001b[39m\u001b[38;5;132;01m{\u001b[39;00m\u001b[38;5;28mself\u001b[39m\u001b[38;5;241m.\u001b[39mtyp\u001b[38;5;132;01m}\u001b[39;00m\u001b[38;5;124m\"\u001b[39m\u001b[38;5;124m name=\u001b[39m\u001b[38;5;124m\"\u001b[39m\u001b[38;5;132;01m{\u001b[39;00m\u001b[38;5;28mself\u001b[39m\u001b[38;5;241m.\u001b[39mobjnm\u001b[38;5;132;01m}\u001b[39;00m\u001b[38;5;124m\"\u001b[39m\u001b[38;5;124m module=\u001b[39m\u001b[38;5;124m\"\u001b[39m\u001b[38;5;132;01m{\u001b[39;00m\u001b[38;5;28mself\u001b[39m\u001b[38;5;241m.\u001b[39mmodnm\u001b[38;5;132;01m}\u001b[39;00m\u001b[38;5;124m\"\u001b[39m\u001b[38;5;124m show_import=\u001b[39m\u001b[38;5;124m\"\u001b[39m\u001b[38;5;132;01m{\u001b[39;00m\u001b[38;5;28mself\u001b[39m\u001b[38;5;241m.\u001b[39mshow_import\u001b[38;5;132;01m}\u001b[39;00m\u001b[38;5;124m\"\u001b[39m\u001b[38;5;124m heading_level=\u001b[39m\u001b[38;5;124m\"\u001b[39m\u001b[38;5;132;01m{\u001b[39;00m\u001b[38;5;28mself\u001b[39m\u001b[38;5;241m.\u001b[39mhd_lvl\u001b[38;5;132;01m}\u001b[39;00m\u001b[38;5;124m\"\u001b[39m\u001b[38;5;132;01m{\u001b[39;00m\u001b[38;5;28mself\u001b[39m\u001b[38;5;241m.\u001b[39m_src_link_attr\u001b[38;5;132;01m}\u001b[39;00m\u001b[38;5;124m>\u001b[39m\u001b[38;5;124m'\u001b[39m\n\u001b[1;32m    252\u001b[0m spoof \u001b[38;5;241m=\u001b[39m \u001b[38;5;124m'\u001b[39m\u001b[38;5;124m...\u001b[39m\u001b[38;5;124m'\u001b[39m \u001b[38;5;28;01mif\u001b[39;00m \u001b[38;5;28mself\u001b[39m\u001b[38;5;241m.\u001b[39mdecorator \u001b[38;5;28;01melse\u001b[39;00m \u001b[38;5;28mself\u001b[39m\u001b[38;5;241m.\u001b[39mspoofstr\n\u001b[0;32m--> 253\u001b[0m sp \u001b[38;5;241m=\u001b[39m \u001b[43mget_sig_section\u001b[49m\u001b[43m(\u001b[49m\u001b[38;5;28;43mself\u001b[39;49m\u001b[38;5;241;43m.\u001b[39;49m\u001b[43mobj\u001b[49m\u001b[43m,\u001b[49m\u001b[43m \u001b[49m\u001b[43mspoofstr\u001b[49m\u001b[38;5;241;43m=\u001b[39;49m\u001b[43mspoof\u001b[49m\u001b[43m)\u001b[49m\n\u001b[1;32m    254\u001b[0m \u001b[38;5;28;01mreturn\u001b[39;00m \u001b[38;5;124mf\u001b[39m\u001b[38;5;124m'\u001b[39m\u001b[38;5;132;01m{\u001b[39;00mnm\u001b[38;5;132;01m}\u001b[39;00m\u001b[38;5;130;01m\\n\u001b[39;00m\u001b[38;5;132;01m{\u001b[39;00msp\u001b[38;5;132;01m}\u001b[39;00m\u001b[38;5;130;01m\\n\u001b[39;00m\u001b[38;5;124m'\u001b[39m \u001b[38;5;241m+\u001b[39m \u001b[38;5;28mself\u001b[39m\u001b[38;5;241m.\u001b[39mnpdocs \u001b[38;5;241m+\u001b[39m \u001b[38;5;124m'\u001b[39m\u001b[38;5;130;01m\\n\u001b[39;00m\u001b[38;5;124m</DocSection>\u001b[39m\u001b[38;5;124m'\u001b[39m\n",
      "File \u001b[0;32m~/mambaforge/envs/docs/lib/python3.11/site-packages/nbdoc/showdoc.py:115\u001b[0m, in \u001b[0;36mget_sig_section\u001b[0;34m(obj, spoofstr)\u001b[0m\n\u001b[1;32m    113\u001b[0m         \u001b[38;5;28;01mreturn\u001b[39;00m \u001b[38;5;124m'\u001b[39m\u001b[38;5;124m'\u001b[39m\n\u001b[1;32m    114\u001b[0m     params \u001b[38;5;241m=\u001b[39m sig\u001b[38;5;241m.\u001b[39mparameters\u001b[38;5;241m.\u001b[39mitems()\n\u001b[0;32m--> 115\u001b[0m     jsx_params \u001b[38;5;241m=\u001b[39m \u001b[43m[\u001b[49m\u001b[43mfmt_sig_param\u001b[49m\u001b[43m(\u001b[49m\u001b[43mp\u001b[49m\u001b[43m)\u001b[49m\u001b[43m \u001b[49m\u001b[38;5;28;43;01mfor\u001b[39;49;00m\u001b[43m \u001b[49m\u001b[43m_\u001b[49m\u001b[43m,\u001b[49m\u001b[43m \u001b[49m\u001b[43mp\u001b[49m\u001b[43m \u001b[49m\u001b[38;5;129;43;01min\u001b[39;49;00m\u001b[43m \u001b[49m\u001b[43mparams\u001b[49m\u001b[43m]\u001b[49m\n\u001b[1;32m    116\u001b[0m \u001b[38;5;28;01melse\u001b[39;00m:\n\u001b[1;32m    117\u001b[0m     jsx_params \u001b[38;5;241m=\u001b[39m [\u001b[38;5;124mf\u001b[39m\u001b[38;5;124m'\u001b[39m\u001b[38;5;124m<SigArg name=\u001b[39m\u001b[38;5;124m\"\u001b[39m\u001b[38;5;132;01m{\u001b[39;00mspoofstr\u001b[38;5;132;01m}\u001b[39;00m\u001b[38;5;124m\"\u001b[39m\u001b[38;5;124m />\u001b[39m\u001b[38;5;124m'\u001b[39m]\n",
      "File \u001b[0;32m~/mambaforge/envs/docs/lib/python3.11/site-packages/nbdoc/showdoc.py:115\u001b[0m, in \u001b[0;36m<listcomp>\u001b[0;34m(.0)\u001b[0m\n\u001b[1;32m    113\u001b[0m         \u001b[38;5;28;01mreturn\u001b[39;00m \u001b[38;5;124m'\u001b[39m\u001b[38;5;124m'\u001b[39m\n\u001b[1;32m    114\u001b[0m     params \u001b[38;5;241m=\u001b[39m sig\u001b[38;5;241m.\u001b[39mparameters\u001b[38;5;241m.\u001b[39mitems()\n\u001b[0;32m--> 115\u001b[0m     jsx_params \u001b[38;5;241m=\u001b[39m [\u001b[43mfmt_sig_param\u001b[49m\u001b[43m(\u001b[49m\u001b[43mp\u001b[49m\u001b[43m)\u001b[49m \u001b[38;5;28;01mfor\u001b[39;00m _, p \u001b[38;5;129;01min\u001b[39;00m params]\n\u001b[1;32m    116\u001b[0m \u001b[38;5;28;01melse\u001b[39;00m:\n\u001b[1;32m    117\u001b[0m     jsx_params \u001b[38;5;241m=\u001b[39m [\u001b[38;5;124mf\u001b[39m\u001b[38;5;124m'\u001b[39m\u001b[38;5;124m<SigArg name=\u001b[39m\u001b[38;5;124m\"\u001b[39m\u001b[38;5;132;01m{\u001b[39;00mspoofstr\u001b[38;5;132;01m}\u001b[39;00m\u001b[38;5;124m\"\u001b[39m\u001b[38;5;124m />\u001b[39m\u001b[38;5;124m'\u001b[39m]\n",
      "File \u001b[0;32m~/mambaforge/envs/docs/lib/python3.11/site-packages/nbdoc/showdoc.py:99\u001b[0m, in \u001b[0;36mfmt_sig_param\u001b[0;34m(p)\u001b[0m\n\u001b[1;32m     96\u001b[0m prefix \u001b[38;5;241m=\u001b[39m \u001b[38;5;124mf\u001b[39m\u001b[38;5;124m'\u001b[39m\u001b[38;5;124m<SigArg name=\u001b[39m\u001b[38;5;124m\"\u001b[39m\u001b[38;5;132;01m{\u001b[39;00mname\u001b[38;5;132;01m}\u001b[39;00m\u001b[38;5;124m\"\u001b[39m\u001b[38;5;124m \u001b[39m\u001b[38;5;124m'\u001b[39m\n\u001b[1;32m     98\u001b[0m \u001b[38;5;28;01mif\u001b[39;00m p\u001b[38;5;241m.\u001b[39mannotation \u001b[38;5;241m!=\u001b[39m inspect\u001b[38;5;241m.\u001b[39m_empty:\n\u001b[0;32m---> 99\u001b[0m     prefix \u001b[38;5;241m+\u001b[39m\u001b[38;5;241m=\u001b[39m \u001b[38;5;124mf\u001b[39m\u001b[38;5;124m'\u001b[39m\u001b[38;5;124mtype=\u001b[39m\u001b[38;5;124m\"\u001b[39m\u001b[38;5;132;01m{\u001b[39;00m\u001b[43mp\u001b[49m\u001b[38;5;241;43m.\u001b[39;49m\u001b[43mannotation\u001b[49m\u001b[38;5;241;43m.\u001b[39;49m\u001b[38;5;18;43m__name__\u001b[39;49m\u001b[38;5;132;01m}\u001b[39;00m\u001b[38;5;124m\"\u001b[39m\u001b[38;5;124m \u001b[39m\u001b[38;5;124m'\u001b[39m\n\u001b[1;32m    100\u001b[0m \u001b[38;5;28;01mif\u001b[39;00m p\u001b[38;5;241m.\u001b[39mdefault \u001b[38;5;241m!=\u001b[39m inspect\u001b[38;5;241m.\u001b[39m_empty:\n\u001b[1;32m    101\u001b[0m     prefix \u001b[38;5;241m+\u001b[39m\u001b[38;5;241m=\u001b[39m \u001b[38;5;124mf\u001b[39m\u001b[38;5;124m'\u001b[39m\u001b[38;5;124mdefault=\u001b[39m\u001b[38;5;124m\"\u001b[39m\u001b[38;5;132;01m{\u001b[39;00mp\u001b[38;5;241m.\u001b[39mdefault\u001b[38;5;132;01m}\u001b[39;00m\u001b[38;5;124m\"\u001b[39m\u001b[38;5;124m \u001b[39m\u001b[38;5;124m'\u001b[39m\n",
      "\u001b[0;31mAttributeError\u001b[0m: 'str' object has no attribute '__name__'"
     ]
    },
    {
     "data": {
      "text/plain": [
       "<nbdoc.showdoc.ShowDoc at 0x1060fa7d0>"
      ]
     },
     "execution_count": 17,
     "metadata": {},
     "output_type": "execute_result"
    }
   ],
   "source": [
    "ShowDoc(MetaflowCard.render)"
   ]
  }
 ],
 "metadata": {
  "kernelspec": {
   "display_name": "Python 3",
   "language": "python",
   "name": "python3"
  },
  "language_info": {
   "codemirror_mode": {
    "name": "ipython",
    "version": 3
   },
   "file_extension": ".py",
   "mimetype": "text/x-python",
   "name": "python",
   "nbconvert_exporter": "python",
   "pygments_lexer": "ipython3",
   "version": "3.11.0"
  }
 },
 "nbformat": 4,
 "nbformat_minor": 5
}
