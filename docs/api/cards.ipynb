{
 "cells": [
  {
   "cell_type": "markdown",
   "id": "eb7388b6",
   "metadata": {},
   "source": [
    "# Cards - Visualizing results"
   ]
  },
  {
   "cell_type": "markdown",
   "id": "576777f8",
   "metadata": {},
   "source": [
    "Metaflow Cards allows you to produce [human readable reports in workflows](metaflow/visualizing-results). Use the following APIs to enable, customize, and access cards:\n",
    "\n",
    " - **Enable cards** by adding [the `@card` decorator](api/decorators/card) in any step.\n",
    " - **Specify card contents** with [card components](#card-components).\n",
    " - **Populate card components** with [the `current` object](/api/current#card).\n",
    " - **Retrive cards** with [the `get_cards` method](#retrieving-cards) or on the command line with the `card` commands.\n",
    " - **Create fully custom, shareable cards** with custom [`MetaflowCard` classes](#defining-a-custom-card)."
   ]
  },
  {
   "cell_type": "code",
   "execution_count": 1,
   "id": "a5ef9454",
   "metadata": {
    "execution": {
     "iopub.execute_input": "2022-07-23T21:47:13.245315Z",
     "iopub.status.busy": "2022-07-23T21:47:13.243945Z",
     "iopub.status.idle": "2022-07-23T21:47:13.990913Z",
     "shell.execute_reply": "2022-07-23T21:47:13.992050Z"
    }
   },
   "outputs": [],
   "source": [
    "#meta:tag=hide\n",
    "from functools import partial\n",
    "from nbdoc.showdoc import ShowDoc\n",
    "ShowDoc = partial(ShowDoc, module_nm='metaflow.cards')\n",
    "\n",
    "from metaflow.cards import get_cards\n",
    "from metaflow.plugins.cards.card_client import CardContainer, Card"
   ]
  },
  {
   "cell_type": "markdown",
   "id": "ab418a7b",
   "metadata": {},
   "source": [
    "## Retrieving cards\n",
    "\n",
    "To retrieve a card after a run has finished, use the `get_cards` function e.g. in a notebook or the `card get` command on the CLI.\n",
    "\n",
    "Since a task can contain multiple cards `get_cards` returns a container object, `CardContainer`, which holds `Card` objects corresponding to individual cards. Notably both `CardContainer` and `Card` objects contain a function that allow them to visualize cards in the notebook output cell automatically, so a single `get_cards` call can be used to show all cards of a step in a notebook."
   ]
  },
  {
   "cell_type": "code",
   "execution_count": 2,
   "id": "09970e68",
   "metadata": {
    "execution": {
     "iopub.execute_input": "2022-07-23T21:47:13.998020Z",
     "iopub.status.busy": "2022-07-23T21:47:13.997008Z",
     "iopub.status.idle": "2022-07-23T21:47:14.008525Z",
     "shell.execute_reply": "2022-07-23T21:47:14.009401Z"
    }
   },
   "outputs": [
    {
     "data": {
      "text/html": [
       "<HTMLRemove>\n",
       "<h3> <code>function</code> <span style=\"color:Brown\">get_cards</span> <em>(task, id=None, type=None, follow_resumed=True)</em><a href=\"https://github.com/Netflix/metaflow/tree/master/metaflow/plugins/cards/card_client.py#L198\" style=\"float:right\">[source]</a></h3><strong>metaflow.cards</strong><p><blockquote>Get&nbsp;cards&nbsp;related&nbsp;to&nbsp;a&nbsp;`Task`.<br><br>Note&nbsp;that&nbsp;`get_cards`&nbsp;resolves&nbsp;the&nbsp;cards&nbsp;contained&nbsp;by&nbsp;the&nbsp;task&nbsp;but&nbsp;it&nbsp;doesn't&nbsp;actually<br>retrieve&nbsp;them&nbsp;from&nbsp;the&nbsp;datastore.&nbsp;Actual&nbsp;card&nbsp;contents&nbsp;are&nbsp;retrieved&nbsp;lazily&nbsp;either&nbsp;when<br>the&nbsp;card&nbsp;is&nbsp;rendered&nbsp;in&nbsp;a&nbsp;notebook&nbsp;to&nbsp;when&nbsp;you&nbsp;call&nbsp;`Card.get`.&nbsp;This&nbsp;means&nbsp;that<br>`get_cards`&nbsp;is&nbsp;a&nbsp;fast&nbsp;call&nbsp;even&nbsp;when&nbsp;individual&nbsp;cards&nbsp;contain&nbsp;a&nbsp;lot&nbsp;of&nbsp;data.<br><br>Parameters<br>----------<br>task&nbsp;:&nbsp;str&nbsp;or&nbsp;`Task`<br>&nbsp;&nbsp;&nbsp;&nbsp;A&nbsp;`Task`&nbsp;object&nbsp;or&nbsp;pathspec&nbsp;`{flow_name}/{run_id}/{step_name}/{task_id}`&nbsp;that<br>&nbsp;&nbsp;&nbsp;&nbsp;uniquely&nbsp;identifies&nbsp;a&nbsp;task.<br>id&nbsp;:&nbsp;str&nbsp;(optional)<br>&nbsp;&nbsp;&nbsp;&nbsp;The&nbsp;ID&nbsp;of&nbsp;card&nbsp;to&nbsp;retrieve&nbsp;if&nbsp;multiple&nbsp;cards&nbsp;are&nbsp;present.<br>type&nbsp;:&nbsp;str&nbsp;(optional)<br>&nbsp;&nbsp;&nbsp;&nbsp;The&nbsp;type&nbsp;of&nbsp;card&nbsp;to&nbsp;retrieve&nbsp;if&nbsp;multiple&nbsp;cards&nbsp;are&nbsp;present.<br>follow_resumed&nbsp;:&nbsp;bool&nbsp;(optional)<br>&nbsp;&nbsp;&nbsp;&nbsp;If&nbsp;the&nbsp;task&nbsp;has&nbsp;been&nbsp;resumed,&nbsp;then&nbsp;setting&nbsp;this&nbsp;flag&nbsp;will&nbsp;resolve&nbsp;the&nbsp;card&nbsp;for<br>&nbsp;&nbsp;&nbsp;&nbsp;the&nbsp;origin&nbsp;task.&nbsp;Defaults&nbsp;to&nbsp;True.<br><br>Returns<br>-------<br>CardContainer<br>&nbsp;&nbsp;&nbsp;&nbsp;A&nbsp;list-like&nbsp;object&nbsp;that&nbsp;holds&nbsp;`Card`&nbsp;objects.</blockquote></p>\n",
       "</HTMLRemove>\n",
       "<DocSection type=\"function\" name=\"get_cards\" module=\"metaflow.cards\" show_import=\"True\" heading_level=\"3\" link=\"https://github.com/Netflix/metaflow/tree/master/metaflow/plugins/cards/card_client.py#L198\">\n",
       "<SigArgSection>\n",
       "<SigArg name=\"task\" /><SigArg name=\"id\" default=\"None\" /><SigArg name=\"type\" default=\"None\" /><SigArg name=\"follow_resumed\" default=\"True\" />\n",
       "</SigArgSection>\n",
       "<Description summary=\"Get cards related to a `Task`.\" extended_summary=\"Note that `get_cards` resolves the cards contained by the task but it doesn't actually\\nretrieve them from the datastore. Actual card contents are retrieved lazily either when\\nthe card is rendered in a notebook to when you call `Card.get`. This means that\\n`get_cards` is a fast call even when individual cards contain a lot of data.\" />\n",
       "<ParamSection name=\"Parameters\">\n",
       "\t<Parameter name=\"task\" type=\"str or `Task`\" desc=\"A `Task` object or pathspec `{flow_name}/{run_id}/{step_name}/{task_id}` that\\nuniquely identifies a task.\" />\n",
       "\t<Parameter name=\"id\" type=\"str (optional)\" desc=\"The ID of card to retrieve if multiple cards are present.\" />\n",
       "\t<Parameter name=\"type\" type=\"str (optional)\" desc=\"The type of card to retrieve if multiple cards are present.\" />\n",
       "\t<Parameter name=\"follow_resumed\" type=\"bool (optional)\" desc=\"If the task has been resumed, then setting this flag will resolve the card for\\nthe origin task. Defaults to True.\" />\n",
       "</ParamSection>\n",
       "<ParamSection name=\"Returns\">\n",
       "\t<Parameter type=\"CardContainer\" desc=\"A list-like object that holds `Card` objects.\" />\n",
       "</ParamSection>\n",
       "</DocSection>"
      ],
      "text/plain": [
       "<nbdoc.showdoc.ShowDoc at 0x7fbd8ceb9820>"
      ]
     },
     "execution_count": 2,
     "metadata": {},
     "output_type": "execute_result"
    }
   ],
   "source": [
    "ShowDoc(get_cards, show_import=True)"
   ]
  },
  {
   "cell_type": "code",
   "execution_count": 3,
   "id": "c65fa811",
   "metadata": {
    "execution": {
     "iopub.execute_input": "2022-07-23T21:47:14.019846Z",
     "iopub.status.busy": "2022-07-23T21:47:14.018291Z",
     "iopub.status.idle": "2022-07-23T21:47:14.024293Z",
     "shell.execute_reply": "2022-07-23T21:47:14.023397Z"
    }
   },
   "outputs": [
    {
     "data": {
      "text/html": [
       "<HTMLRemove>\n",
       "<h3> <code>class</code> <span style=\"color:Brown\">CardContainer</span> <em></em><a href=\"https://github.com/Netflix/metaflow/tree/master/metaflow/plugins/cards/card_client.py#L119\" style=\"float:right\">[source]</a></h3><p><blockquote>`CardContainer`&nbsp;is&nbsp;an&nbsp;immutable&nbsp;list-like&nbsp;object,&nbsp;returned&nbsp;by&nbsp;`get_cards`,<br>which&nbsp;contains&nbsp;individual&nbsp;`Card`s.<br><br>Notably,&nbsp;`CardContainer`&nbsp;contains&nbsp;a&nbsp;special<br>`_repr_html_`&nbsp;function&nbsp;which&nbsp;renders&nbsp;cards&nbsp;automatically&nbsp;in&nbsp;an&nbsp;output<br>cell&nbsp;of&nbsp;a&nbsp;notebook.<br><br>The&nbsp;following&nbsp;operations&nbsp;are&nbsp;supported:<br>```<br>cards&nbsp;=&nbsp;get_cards(MyTask)<br><br>#&nbsp;retrive&nbsp;by&nbsp;index<br>first_card&nbsp;=&nbsp;cards[0]<br><br>#&nbsp;check&nbsp;length<br>if&nbsp;len(cards)&nbsp;>&nbsp;1:<br>&nbsp;&nbsp;&nbsp;&nbsp;print('many&nbsp;cards&nbsp;present!')<br><br>#&nbsp;iteration<br>list_of_cards&nbsp;=&nbsp;list(cards)<br>```</blockquote></p>\n",
       "</HTMLRemove>\n",
       "<DocSection type=\"class\" name=\"CardContainer\" module=\"metaflow.cards\" show_import=\"False\" heading_level=\"3\" link=\"https://github.com/Netflix/metaflow/tree/master/metaflow/plugins/cards/card_client.py#L119\">\n",
       "<SigArgSection>\n",
       "<SigArg name=\"\" />\n",
       "</SigArgSection>\n",
       "<Description summary=\"`CardContainer` is an immutable list-like object, returned by `get_cards`,\\nwhich contains individual `Card`s.\" extended_summary=\"Notably, `CardContainer` contains a special\\n`_repr_html_` function which renders cards automatically in an output\\ncell of a notebook.\\n\\nThe following operations are supported:\\n```\\ncards = get_cards(MyTask)\\n\\n# retrive by index\\nfirst_card = cards[0]\\n\\n# check length\\nif len(cards) > 1:\\n    print('many cards present!')\\n\\n# iteration\\nlist_of_cards = list(cards)\\n```\" />\n",
       "\n",
       "</DocSection>"
      ],
      "text/plain": [
       "<nbdoc.showdoc.ShowDoc at 0x7fbd8ceb9bb0>"
      ]
     },
     "execution_count": 3,
     "metadata": {},
     "output_type": "execute_result"
    }
   ],
   "source": [
    "ShowDoc(CardContainer,  spoofstr='')"
   ]
  },
  {
   "cell_type": "code",
   "execution_count": 4,
   "id": "de91c8c9",
   "metadata": {
    "execution": {
     "iopub.execute_input": "2022-07-23T21:47:14.033293Z",
     "iopub.status.busy": "2022-07-23T21:47:14.032077Z",
     "iopub.status.idle": "2022-07-23T21:47:14.036647Z",
     "shell.execute_reply": "2022-07-23T21:47:14.035826Z"
    }
   },
   "outputs": [
    {
     "data": {
      "text/html": [
       "<HTMLRemove>\n",
       "<h3> <code>class</code> <span style=\"color:Brown\">Card</span> <em></em><a href=\"https://github.com/Netflix/metaflow/tree/master/metaflow/plugins/cards/card_client.py#L18\" style=\"float:right\">[source]</a></h3><p><blockquote>`Card`&nbsp;represents&nbsp;an&nbsp;individual&nbsp;Metaflow&nbsp;Card,&nbsp;a&nbsp;single&nbsp;HTML&nbsp;file,&nbsp;produced&nbsp;by<br>the&nbsp;card&nbsp;`@card`&nbsp;decorator.&nbsp;`Card`s&nbsp;are&nbsp;contained&nbsp;by&nbsp;`CardContainer`,&nbsp;returned&nbsp;by<br>`get_cards`.<br><br>Note&nbsp;that&nbsp;the&nbsp;contents&nbsp;of&nbsp;the&nbsp;card,&nbsp;an&nbsp;HTML&nbsp;file,&nbsp;is&nbsp;retrieved&nbsp;lazily&nbsp;when&nbsp;you&nbsp;call<br>`Card.get`&nbsp;for&nbsp;the&nbsp;first&nbsp;time&nbsp;or&nbsp;when&nbsp;the&nbsp;card&nbsp;is&nbsp;rendered&nbsp;in&nbsp;a&nbsp;notebook.</blockquote></p>\n",
       "</HTMLRemove>\n",
       "<DocSection type=\"class\" name=\"Card\" module=\"metaflow.cards\" show_import=\"False\" heading_level=\"3\" link=\"https://github.com/Netflix/metaflow/tree/master/metaflow/plugins/cards/card_client.py#L18\">\n",
       "<SigArgSection>\n",
       "<SigArg name=\"\" />\n",
       "</SigArgSection>\n",
       "<Description summary=\"`Card` represents an individual Metaflow Card, a single HTML file, produced by\\nthe card `@card` decorator. `Card`s are contained by `CardContainer`, returned by\\n`get_cards`.\" extended_summary=\"Note that the contents of the card, an HTML file, is retrieved lazily when you call\\n`Card.get` for the first time or when the card is rendered in a notebook.\" />\n",
       "<ParamSection name=\"Attributes\">\n",
       "\t<Parameter name=\"id\" desc=\"The ID of the card, if specified with `@card(id=ID)`.\" />\n",
       "\t<Parameter name=\"path\" desc=\"The path of the card in the datastore which uniquely\\nidentifies the card.\" />\n",
       "</ParamSection>\n",
       "</DocSection>"
      ],
      "text/plain": [
       "<nbdoc.showdoc.ShowDoc at 0x7fbd8d0ac4c0>"
      ]
     },
     "execution_count": 4,
     "metadata": {},
     "output_type": "execute_result"
    }
   ],
   "source": [
    "ShowDoc(Card, spoofstr='')"
   ]
  },
  {
   "cell_type": "code",
   "execution_count": 5,
   "id": "6d76de09",
   "metadata": {
    "execution": {
     "iopub.execute_input": "2022-07-23T21:47:14.042716Z",
     "iopub.status.busy": "2022-07-23T21:47:14.041464Z",
     "iopub.status.idle": "2022-07-23T21:47:14.046006Z",
     "shell.execute_reply": "2022-07-23T21:47:14.045165Z"
    }
   },
   "outputs": [
    {
     "data": {
      "text/html": [
       "<HTMLRemove>\n",
       "<h4> <code>method</code> <span style=\"color:Brown\">Card.get</span> <em>(self)</em><a href=\"https://github.com/Netflix/metaflow/tree/master/metaflow/plugins/cards/card_client.py#L56\" style=\"float:right\">[source]</a></h4><p><blockquote>Retrieves&nbsp;the&nbsp;HTML&nbsp;contents&nbsp;of&nbsp;the&nbsp;card&nbsp;from&nbsp;the<br>Metaflow&nbsp;datastore.<br><br>Returns<br>-------<br>str<br>&nbsp;&nbsp;&nbsp;&nbsp;HTML&nbsp;contents&nbsp;of&nbsp;the&nbsp;card.</blockquote></p>\n",
       "</HTMLRemove>\n",
       "<DocSection type=\"method\" name=\"Card.get\" module=\"metaflow.cards\" show_import=\"False\" heading_level=\"4\" link=\"https://github.com/Netflix/metaflow/tree/master/metaflow/plugins/cards/card_client.py#L56\">\n",
       "<SigArgSection>\n",
       "<SigArg name=\"self\" />\n",
       "</SigArgSection>\n",
       "<Description summary=\"Retrieves the HTML contents of the card from the\\nMetaflow datastore.\" />\n",
       "<ParamSection name=\"Returns\">\n",
       "\t<Parameter type=\"str\" desc=\"HTML contents of the card.\" />\n",
       "</ParamSection>\n",
       "</DocSection>"
      ],
      "text/plain": [
       "<nbdoc.showdoc.ShowDoc at 0x7fbd8ed20ca0>"
      ]
     },
     "execution_count": 5,
     "metadata": {},
     "output_type": "execute_result"
    }
   ],
   "source": [
    "ShowDoc(Card.get)"
   ]
  },
  {
   "cell_type": "code",
   "execution_count": 6,
   "id": "69f97d00",
   "metadata": {
    "execution": {
     "iopub.execute_input": "2022-07-23T21:47:14.050919Z",
     "iopub.status.busy": "2022-07-23T21:47:14.049661Z",
     "iopub.status.idle": "2022-07-23T21:47:14.053539Z",
     "shell.execute_reply": "2022-07-23T21:47:14.054555Z"
    }
   },
   "outputs": [
    {
     "data": {
      "text/html": [
       "<HTMLRemove>\n",
       "<h4> <code>method</code> <span style=\"color:Brown\">Card.view</span> <em>(self)</em><a href=\"https://github.com/Netflix/metaflow/tree/master/metaflow/plugins/cards/card_client.py#L89\" style=\"float:right\">[source]</a></h4><p><blockquote>Opens&nbsp;the&nbsp;card&nbsp;in&nbsp;a&nbsp;local&nbsp;web&nbsp;browser.<br><br>This&nbsp;call&nbsp;uses&nbsp;Python's&nbsp;built-in&nbsp;[`webbrowser`](https://docs.python.org/3/library/webbrowser.html)<br>module&nbsp;to&nbsp;open&nbsp;the&nbsp;card.</blockquote></p>\n",
       "</HTMLRemove>\n",
       "<DocSection type=\"method\" name=\"Card.view\" module=\"metaflow.cards\" show_import=\"False\" heading_level=\"4\" link=\"https://github.com/Netflix/metaflow/tree/master/metaflow/plugins/cards/card_client.py#L89\">\n",
       "<SigArgSection>\n",
       "<SigArg name=\"self\" />\n",
       "</SigArgSection>\n",
       "<Description summary=\"Opens the card in a local web browser.\" extended_summary=\"This call uses Python's built-in [`webbrowser`](https://docs.python.org/3/library/webbrowser.html)\\nmodule to open the card.\" />\n",
       "\n",
       "</DocSection>"
      ],
      "text/plain": [
       "<nbdoc.showdoc.ShowDoc at 0x7fbd8ed20a60>"
      ]
     },
     "execution_count": 6,
     "metadata": {},
     "output_type": "execute_result"
    }
   ],
   "source": [
    "ShowDoc(Card.view)"
   ]
  },
  {
   "cell_type": "markdown",
   "id": "1de46198",
   "metadata": {},
   "source": [
    "## Card components\n",
    "\n",
    "You can customize the contents of a card easily using *card components*, a set of visual elements included in Metaflow which are documented below. See [Easy Custom Reports with Card Components](/metaflow/visualizing-results/easy-custom-reports-with-card-components) for instructions.\n",
    "\n",
    "The components are added to cards in `@step` methods (or functions called from steps), using [the `current.card` object](/api/current#card)."
   ]
  },
  {
   "cell_type": "code",
   "execution_count": 7,
   "id": "f87df1c5",
   "metadata": {
    "execution": {
     "iopub.execute_input": "2022-07-23T21:47:14.060252Z",
     "iopub.status.busy": "2022-07-23T21:47:14.058656Z",
     "iopub.status.idle": "2022-07-23T21:47:14.061502Z",
     "shell.execute_reply": "2022-07-23T21:47:14.062421Z"
    }
   },
   "outputs": [],
   "source": [
    "#meta:tag=hide\n",
    "\n",
    "from metaflow.cards import Markdown, Image, Artifact, Table"
   ]
  },
  {
   "cell_type": "markdown",
   "id": "4fde51a4",
   "metadata": {},
   "source": [
    "### Markdown"
   ]
  },
  {
   "cell_type": "code",
   "execution_count": 8,
   "id": "752c4a43",
   "metadata": {
    "execution": {
     "iopub.execute_input": "2022-07-23T21:47:14.071368Z",
     "iopub.status.busy": "2022-07-23T21:47:14.066995Z",
     "iopub.status.idle": "2022-07-23T21:47:14.074175Z",
     "shell.execute_reply": "2022-07-23T21:47:14.075068Z"
    },
    "scrolled": true
   },
   "outputs": [
    {
     "data": {
      "text/html": [
       "<HTMLRemove>\n",
       "<h3> <code>class</code> <span style=\"color:Brown\">Markdown</span> <em>(text=None)</em><a href=\"https://github.com/Netflix/metaflow/tree/master/metaflow/plugins/cards/card_modules/components.py#L401\" style=\"float:right\">[source]</a></h3><strong>metaflow.cards</strong><p><blockquote>A&nbsp;block&nbsp;of&nbsp;text&nbsp;formatted&nbsp;in&nbsp;Markdown.<br><br>Example:<br>```<br>current.card.append(<br>&nbsp;&nbsp;&nbsp;&nbsp;Markdown(\"#&nbsp;This&nbsp;is&nbsp;a&nbsp;header&nbsp;appended&nbsp;from&nbsp;`@step`&nbsp;code\")<br>)<br>```<br><br>Parameters<br>----------<br>text&nbsp;:&nbsp;str&nbsp;<br>&nbsp;&nbsp;&nbsp;&nbsp;Text&nbsp;formatted&nbsp;in&nbsp;Markdown.</blockquote></p>\n",
       "</HTMLRemove>\n",
       "<DocSection type=\"class\" name=\"Markdown\" module=\"metaflow.cards\" show_import=\"True\" heading_level=\"3\" link=\"https://github.com/Netflix/metaflow/tree/master/metaflow/plugins/cards/card_modules/components.py#L401\">\n",
       "<SigArgSection>\n",
       "<SigArg name=\"text\" default=\"None\" />\n",
       "</SigArgSection>\n",
       "<Description summary=\"A block of text formatted in Markdown.\" extended_summary=\"Example:\\n```\\ncurrent.card.append(\\n    Markdown(&#34;# This is a header appended from `@step` code&#34;)\\n)\\n```\" />\n",
       "<ParamSection name=\"Parameters\">\n",
       "\t<Parameter name=\"text\" type=\"str\" desc=\"Text formatted in Markdown.\" />\n",
       "</ParamSection>\n",
       "</DocSection>"
      ],
      "text/plain": [
       "<nbdoc.showdoc.ShowDoc at 0x7fbd8ed20e20>"
      ]
     },
     "execution_count": 8,
     "metadata": {},
     "output_type": "execute_result"
    }
   ],
   "source": [
    "ShowDoc(Markdown, show_import=True)"
   ]
  },
  {
   "cell_type": "markdown",
   "id": "67909843",
   "metadata": {},
   "source": [
    "### Image"
   ]
  },
  {
   "cell_type": "code",
   "execution_count": 9,
   "id": "16df2858",
   "metadata": {
    "execution": {
     "iopub.execute_input": "2022-07-23T21:47:14.081235Z",
     "iopub.status.busy": "2022-07-23T21:47:14.080128Z",
     "iopub.status.idle": "2022-07-23T21:47:14.089416Z",
     "shell.execute_reply": "2022-07-23T21:47:14.090318Z"
    }
   },
   "outputs": [
    {
     "data": {
      "text/html": [
       "<HTMLRemove>\n",
       "<h3> <code>class</code> <span style=\"color:Brown\">Image</span> <em>(src=None, label=None)</em><a href=\"https://github.com/Netflix/metaflow/tree/master/metaflow/plugins/cards/card_modules/components.py#L156\" style=\"float:right\">[source]</a></h3><strong>metaflow.cards</strong><p><blockquote>An&nbsp;image.<br><br>`Image`s&nbsp;can&nbsp;be&nbsp;created&nbsp;direcly&nbsp;from&nbsp;PNG/JPG/GIF&nbsp;`bytes`,&nbsp;`PIL.Image`s,<br>or&nbsp;Matplotib&nbsp;figures.&nbsp;Note&nbsp;that&nbsp;the&nbsp;image&nbsp;data&nbsp;is&nbsp;embedded&nbsp;in&nbsp;the&nbsp;card,<br>so&nbsp;no&nbsp;external&nbsp;files&nbsp;are&nbsp;required&nbsp;to&nbsp;show&nbsp;the&nbsp;image.<br><br>Example:&nbsp;Create&nbsp;an&nbsp;`Image`&nbsp;from&nbsp;bytes:<br>```<br>current.card.append(<br>&nbsp;&nbsp;&nbsp;&nbsp;Image(<br>&nbsp;&nbsp;&nbsp;&nbsp;&nbsp;&nbsp;&nbsp;&nbsp;requests.get(\"https://www.gif-vif.com/hacker-cat.gif\").content,<br>&nbsp;&nbsp;&nbsp;&nbsp;&nbsp;&nbsp;&nbsp;&nbsp;\"Image&nbsp;From&nbsp;Bytes\"<br>&nbsp;&nbsp;&nbsp;&nbsp;),<br>)<br>```<br><br>Example:&nbsp;Create&nbsp;an&nbsp;`Image`&nbsp;from&nbsp;a&nbsp;Matplotlib&nbsp;figure<br>```<br>import&nbsp;pandas&nbsp;as&nbsp;pd<br>import&nbsp;numpy&nbsp;as&nbsp;np<br>current.card.append(<br>&nbsp;&nbsp;&nbsp;&nbsp;Image.from_matplotlib(<br>&nbsp;&nbsp;&nbsp;&nbsp;&nbsp;&nbsp;&nbsp;&nbsp;pandas.DataFrame(<br>&nbsp;&nbsp;&nbsp;&nbsp;&nbsp;&nbsp;&nbsp;&nbsp;&nbsp;&nbsp;&nbsp;&nbsp;np.random.randint(0,&nbsp;100,&nbsp;size=(15,&nbsp;4)),<br>&nbsp;&nbsp;&nbsp;&nbsp;&nbsp;&nbsp;&nbsp;&nbsp;&nbsp;&nbsp;&nbsp;&nbsp;columns=list(\"ABCD\"),<br>&nbsp;&nbsp;&nbsp;&nbsp;&nbsp;&nbsp;&nbsp;&nbsp;).plot()<br>&nbsp;&nbsp;&nbsp;&nbsp;)<br>)<br>```<br><br>Example:&nbsp;Create&nbsp;an&nbsp;`Image`&nbsp;from&nbsp;a&nbsp;[PIL](https://pillow.readthedocs.io/)&nbsp;Image<br>```<br>from&nbsp;PIL&nbsp;import&nbsp;Image&nbsp;as&nbsp;PILImage<br>current.card.append(<br>&nbsp;&nbsp;&nbsp;&nbsp;Image.from_pil_image(<br>&nbsp;&nbsp;&nbsp;&nbsp;&nbsp;&nbsp;&nbsp;&nbsp;PILImage.fromarray(np.random.randn(1024,&nbsp;768),&nbsp;\"RGB\"),<br>&nbsp;&nbsp;&nbsp;&nbsp;&nbsp;&nbsp;&nbsp;&nbsp;\"From&nbsp;PIL&nbsp;Image\",<br>&nbsp;&nbsp;&nbsp;&nbsp;)<br>)<br>```<br><br>Parameters<br>----------<br>src&nbsp;:&nbsp;bytes<br>&nbsp;&nbsp;&nbsp;&nbsp;The&nbsp;image&nbsp;data&nbsp;in&nbsp;`bytes`.<br>label&nbsp;:&nbsp;str<br>&nbsp;&nbsp;&nbsp;&nbsp;Optional&nbsp;label&nbsp;for&nbsp;the&nbsp;image.</blockquote></p>\n",
       "</HTMLRemove>\n",
       "<DocSection type=\"class\" name=\"Image\" module=\"metaflow.cards\" show_import=\"True\" heading_level=\"3\" link=\"https://github.com/Netflix/metaflow/tree/master/metaflow/plugins/cards/card_modules/components.py#L156\">\n",
       "<SigArgSection>\n",
       "<SigArg name=\"src\" default=\"None\" /><SigArg name=\"label\" default=\"None\" />\n",
       "</SigArgSection>\n",
       "<Description summary=\"An image.\" extended_summary=\"`Image`s can be created direcly from PNG/JPG/GIF `bytes`, `PIL.Image`s,\\nor Matplotib figures. Note that the image data is embedded in the card,\\nso no external files are required to show the image.\\n\\nExample: Create an `Image` from bytes:\\n```\\ncurrent.card.append(\\n    Image(\\n        requests.get(&#34;https://www.gif-vif.com/hacker-cat.gif&#34;).content,\\n        &#34;Image From Bytes&#34;\\n    ),\\n)\\n```\\n\\nExample: Create an `Image` from a Matplotlib figure\\n```\\nimport pandas as pd\\nimport numpy as np\\ncurrent.card.append(\\n    Image.from_matplotlib(\\n        pandas.DataFrame(\\n            np.random.randint(0, 100, size=(15, 4)),\\n            columns=list(&#34;ABCD&#34;),\\n        ).plot()\\n    )\\n)\\n```\\n\\nExample: Create an `Image` from a [PIL](https://pillow.readthedocs.io/) Image\\n```\\nfrom PIL import Image as PILImage\\ncurrent.card.append(\\n    Image.from_pil_image(\\n        PILImage.fromarray(np.random.randn(1024, 768), &#34;RGB&#34;),\\n        &#34;From PIL Image&#34;,\\n    )\\n)\\n```\" />\n",
       "<ParamSection name=\"Parameters\">\n",
       "\t<Parameter name=\"src\" type=\"bytes\" desc=\"The image data in `bytes`.\" />\n",
       "\t<Parameter name=\"label\" type=\"str\" desc=\"Optional label for the image.\" />\n",
       "</ParamSection>\n",
       "</DocSection>"
      ],
      "text/plain": [
       "<nbdoc.showdoc.ShowDoc at 0x7fbd8ed15190>"
      ]
     },
     "execution_count": 9,
     "metadata": {},
     "output_type": "execute_result"
    }
   ],
   "source": [
    "ShowDoc(Image, show_import=True)"
   ]
  },
  {
   "cell_type": "code",
   "execution_count": 10,
   "id": "f2ed2de7",
   "metadata": {
    "execution": {
     "iopub.execute_input": "2022-07-23T21:47:14.097233Z",
     "iopub.status.busy": "2022-07-23T21:47:14.096129Z",
     "iopub.status.idle": "2022-07-23T21:47:14.100031Z",
     "shell.execute_reply": "2022-07-23T21:47:14.101272Z"
    },
    "scrolled": true
   },
   "outputs": [
    {
     "data": {
      "text/html": [
       "<HTMLRemove>\n",
       "<h4> <code>method</code> <span style=\"color:Brown\">Image.from_matplotlib</span> <em>(plot, label=None)</em><a href=\"https://github.com/Netflix/metaflow/tree/master/metaflow/plugins/cards/card_modules/components.py#L305\" style=\"float:right\">[source]</a></h4><p><blockquote>Create&nbsp;an&nbsp;`Image`&nbsp;from&nbsp;a&nbsp;Matplotlib&nbsp;plot.<br><br>Parameters<br>----------<br>plot&nbsp;:&nbsp;matplotlib.axes.Axes<br>&nbsp;&nbsp;&nbsp;&nbsp;a&nbsp;PIL&nbsp;axes&nbsp;(plot)&nbsp;object.<br>label&nbsp;:&nbsp;str<br>&nbsp;&nbsp;&nbsp;&nbsp;Label&nbsp;for&nbsp;the&nbsp;image&nbsp;(optional)</blockquote></p>\n",
       "</HTMLRemove>\n",
       "<DocSection type=\"method\" name=\"Image.from_matplotlib\" module=\"metaflow.cards\" show_import=\"False\" heading_level=\"4\" link=\"https://github.com/Netflix/metaflow/tree/master/metaflow/plugins/cards/card_modules/components.py#L305\">\n",
       "\n",
       "<Description summary=\"Create an `Image` from a Matplotlib plot.\\n\\nParameters\\n----------\\nplot : matplotlib.axes.Axes\\n    a PIL axes (plot) object.\\nlabel : str\\n    Label for the image (optional)\" />\n",
       "</DocSection>"
      ],
      "text/plain": [
       "<nbdoc.showdoc.ShowDoc at 0x7fbd8ed12760>"
      ]
     },
     "execution_count": 10,
     "metadata": {},
     "output_type": "execute_result"
    }
   ],
   "source": [
    "ShowDoc(Image.from_matplotlib)"
   ]
  },
  {
   "cell_type": "code",
   "execution_count": 11,
   "id": "9a10d722",
   "metadata": {
    "execution": {
     "iopub.execute_input": "2022-07-23T21:47:14.108349Z",
     "iopub.status.busy": "2022-07-23T21:47:14.106927Z",
     "iopub.status.idle": "2022-07-23T21:47:14.111209Z",
     "shell.execute_reply": "2022-07-23T21:47:14.112099Z"
    },
    "scrolled": true
   },
   "outputs": [
    {
     "data": {
      "text/html": [
       "<HTMLRemove>\n",
       "<h4> <code>method</code> <span style=\"color:Brown\">Image.from_pil_image</span> <em>(pilimage, label=None)</em><a href=\"https://github.com/Netflix/metaflow/tree/master/metaflow/plugins/cards/card_modules/components.py#L257\" style=\"float:right\">[source]</a></h4><p><blockquote>Create&nbsp;an&nbsp;`Image`&nbsp;from&nbsp;a&nbsp;PIL&nbsp;image.<br><br>Parameters<br>----------<br>pilimage&nbsp;:&nbsp;PIL.Image<br>&nbsp;&nbsp;&nbsp;&nbsp;a&nbsp;PIL&nbsp;image&nbsp;object.<br>label&nbsp;:&nbsp;str<br>&nbsp;&nbsp;&nbsp;&nbsp;Optional&nbsp;label&nbsp;for&nbsp;the&nbsp;image.</blockquote></p>\n",
       "</HTMLRemove>\n",
       "<DocSection type=\"method\" name=\"Image.from_pil_image\" module=\"metaflow.cards\" show_import=\"False\" heading_level=\"4\" link=\"https://github.com/Netflix/metaflow/tree/master/metaflow/plugins/cards/card_modules/components.py#L257\">\n",
       "\n",
       "<Description summary=\"Create an `Image` from a PIL image.\\n\\nParameters\\n----------\\npilimage : PIL.Image\\n    a PIL image object.\\nlabel : str\\n    Optional label for the image.\" />\n",
       "</DocSection>"
      ],
      "text/plain": [
       "<nbdoc.showdoc.ShowDoc at 0x7fbd8ed12e80>"
      ]
     },
     "execution_count": 11,
     "metadata": {},
     "output_type": "execute_result"
    }
   ],
   "source": [
    "ShowDoc(Image.from_pil_image)"
   ]
  },
  {
   "cell_type": "markdown",
   "id": "33c2764e",
   "metadata": {},
   "source": [
    "### Artifact"
   ]
  },
  {
   "cell_type": "code",
   "execution_count": 12,
   "id": "f3972d9e",
   "metadata": {
    "execution": {
     "iopub.execute_input": "2022-07-23T21:47:14.118274Z",
     "iopub.status.busy": "2022-07-23T21:47:14.116891Z",
     "iopub.status.idle": "2022-07-23T21:47:14.122976Z",
     "shell.execute_reply": "2022-07-23T21:47:14.123918Z"
    }
   },
   "outputs": [
    {
     "data": {
      "text/html": [
       "<HTMLRemove>\n",
       "<h3> <code>class</code> <span style=\"color:Brown\">Artifact</span> <em>(artifact, name=None, compressed=True)</em><a href=\"https://github.com/Netflix/metaflow/tree/master/metaflow/plugins/cards/card_modules/components.py#L19\" style=\"float:right\">[source]</a></h3><strong>metaflow.cards</strong><p><blockquote>A&nbsp;pretty-printed&nbsp;version&nbsp;of&nbsp;any&nbsp;Python&nbsp;object.<br><br>Large&nbsp;objects&nbsp;are&nbsp;truncated&nbsp;using&nbsp;Python's&nbsp;built-in&nbsp;[`reprlib`](https://docs.python.org/3/library/reprlib.html).<br><br>Example:<br>```<br>from&nbsp;datetime&nbsp;import&nbsp;datetime<br>current.card.append(Artifact({'now':&nbsp;datetime.utcnow()))<br>}<br>```<br><br>Parameters<br>----------<br>artifact&nbsp;:&nbsp;object<br>&nbsp;&nbsp;&nbsp;&nbsp;Any&nbsp;Python&nbsp;object.<br>name&nbsp;:&nbsp;str<br>&nbsp;&nbsp;&nbsp;&nbsp;Optional&nbsp;label&nbsp;for&nbsp;the&nbsp;object.<br>compressed&nbsp;:&nbsp;bool<br>&nbsp;&nbsp;&nbsp;&nbsp;Use&nbsp;a&nbsp;truncated&nbsp;representation&nbsp;(default:&nbsp;True).</blockquote></p>\n",
       "</HTMLRemove>\n",
       "<DocSection type=\"class\" name=\"Artifact\" module=\"metaflow.cards\" show_import=\"True\" heading_level=\"3\" link=\"https://github.com/Netflix/metaflow/tree/master/metaflow/plugins/cards/card_modules/components.py#L19\">\n",
       "<SigArgSection>\n",
       "<SigArg name=\"artifact\" /><SigArg name=\"name\" default=\"None\" /><SigArg name=\"compressed\" default=\"True\" />\n",
       "</SigArgSection>\n",
       "<Description summary=\"A pretty-printed version of any Python object.\" extended_summary=\"Large objects are truncated using Python's built-in [`reprlib`](https://docs.python.org/3/library/reprlib.html).\\n\\nExample:\\n```\\nfrom datetime import datetime\\ncurrent.card.append(Artifact({'now': datetime.utcnow()))\\n}\\n```\" />\n",
       "<ParamSection name=\"Parameters\">\n",
       "\t<Parameter name=\"artifact\" type=\"object\" desc=\"Any Python object.\" />\n",
       "\t<Parameter name=\"name\" type=\"str\" desc=\"Optional label for the object.\" />\n",
       "\t<Parameter name=\"compressed\" type=\"bool\" desc=\"Use a truncated representation (default: True).\" />\n",
       "</ParamSection>\n",
       "</DocSection>"
      ],
      "text/plain": [
       "<nbdoc.showdoc.ShowDoc at 0x7fbd8ed12d90>"
      ]
     },
     "execution_count": 12,
     "metadata": {},
     "output_type": "execute_result"
    }
   ],
   "source": [
    "ShowDoc(Artifact, show_import=True)"
   ]
  },
  {
   "cell_type": "markdown",
   "id": "2461c048",
   "metadata": {},
   "source": [
    "### Table"
   ]
  },
  {
   "cell_type": "code",
   "execution_count": 13,
   "id": "7ae2e286",
   "metadata": {
    "execution": {
     "iopub.execute_input": "2022-07-23T21:47:14.132560Z",
     "iopub.status.busy": "2022-07-23T21:47:14.128149Z",
     "iopub.status.idle": "2022-07-23T21:47:14.136650Z",
     "shell.execute_reply": "2022-07-23T21:47:14.135825Z"
    }
   },
   "outputs": [
    {
     "data": {
      "text/html": [
       "<HTMLRemove>\n",
       "<h3> <code>class</code> <span style=\"color:Brown\">Table</span> <em>(data=[[]], headers=[])</em><a href=\"https://github.com/Netflix/metaflow/tree/master/metaflow/plugins/cards/card_modules/components.py#L56\" style=\"float:right\">[source]</a></h3><strong>metaflow.cards</strong><p><blockquote>A&nbsp;table.<br><br>The&nbsp;contents&nbsp;of&nbsp;the&nbsp;table&nbsp;can&nbsp;be&nbsp;text&nbsp;or&nbsp;numerical&nbsp;data,&nbsp;a&nbsp;Pandas&nbsp;dataframe,<br>or&nbsp;other&nbsp;card&nbsp;components:&nbsp;`Artifact`,&nbsp;`Image`,&nbsp;`Markdown`&nbsp;objects.<br><br>Example:&nbsp;Text&nbsp;and&nbsp;artifacts<br>```<br>from&nbsp;metaflow.cards&nbsp;import&nbsp;Table,&nbsp;Artifact<br>current.card.append(<br>&nbsp;&nbsp;&nbsp;&nbsp;Table([<br>&nbsp;&nbsp;&nbsp;&nbsp;&nbsp;&nbsp;&nbsp;&nbsp;['first&nbsp;row',&nbsp;Artifact({'a':&nbsp;2})],<br>&nbsp;&nbsp;&nbsp;&nbsp;&nbsp;&nbsp;&nbsp;&nbsp;['second&nbsp;row',&nbsp;Artifact(3)]<br>&nbsp;&nbsp;&nbsp;&nbsp;])<br>```<br><br>Example:&nbsp;Table&nbsp;from&nbsp;a&nbsp;Pandas&nbsp;dataframe<br>```<br>from&nbsp;metaflow.cards&nbsp;import&nbsp;Table<br>import&nbsp;pandas&nbsp;as&nbsp;pd<br>import&nbsp;numpy&nbsp;as&nbsp;np<br>current.card.append(<br>&nbsp;&nbsp;&nbsp;&nbsp;Table.from_dataframe(<br>&nbsp;&nbsp;&nbsp;&nbsp;&nbsp;&nbsp;&nbsp;&nbsp;pandas.DataFrame(<br>&nbsp;&nbsp;&nbsp;&nbsp;&nbsp;&nbsp;&nbsp;&nbsp;&nbsp;&nbsp;&nbsp;&nbsp;np.random.randint(0,&nbsp;100,&nbsp;size=(15,&nbsp;4)),<br>&nbsp;&nbsp;&nbsp;&nbsp;&nbsp;&nbsp;&nbsp;&nbsp;&nbsp;&nbsp;&nbsp;&nbsp;columns=list(\"ABCD\"),<br>&nbsp;&nbsp;&nbsp;&nbsp;&nbsp;&nbsp;&nbsp;&nbsp;)<br>&nbsp;&nbsp;&nbsp;&nbsp;)<br>)<br>```<br><br>Parameters<br>----------<br>data&nbsp;:&nbsp;List[List[str|MetaflowCardComponent]]<br>&nbsp;&nbsp;&nbsp;&nbsp;List&nbsp;(rows)&nbsp;of&nbsp;lists&nbsp;(columns).&nbsp;Each&nbsp;item&nbsp;can&nbsp;be&nbsp;a&nbsp;string&nbsp;or&nbsp;a&nbsp;`MetaflowCardComponent`.<br>headers&nbsp;:&nbsp;List[str]<br>&nbsp;&nbsp;&nbsp;&nbsp;Optional&nbsp;header&nbsp;row&nbsp;for&nbsp;the&nbsp;table.</blockquote></p>\n",
       "</HTMLRemove>\n",
       "<DocSection type=\"class\" name=\"Table\" module=\"metaflow.cards\" show_import=\"True\" heading_level=\"3\" link=\"https://github.com/Netflix/metaflow/tree/master/metaflow/plugins/cards/card_modules/components.py#L56\">\n",
       "<SigArgSection>\n",
       "<SigArg name=\"data\" default=\"[[]]\" /><SigArg name=\"headers\" default=\"[]\" />\n",
       "</SigArgSection>\n",
       "<Description summary=\"A table.\" extended_summary=\"The contents of the table can be text or numerical data, a Pandas dataframe,\\nor other card components: `Artifact`, `Image`, `Markdown` objects.\\n\\nExample: Text and artifacts\\n```\\nfrom metaflow.cards import Table, Artifact\\ncurrent.card.append(\\n    Table([\\n        ['first row', Artifact({'a': 2})],\\n        ['second row', Artifact(3)]\\n    ])\\n```\\n\\nExample: Table from a Pandas dataframe\\n```\\nfrom metaflow.cards import Table\\nimport pandas as pd\\nimport numpy as np\\ncurrent.card.append(\\n    Table.from_dataframe(\\n        pandas.DataFrame(\\n            np.random.randint(0, 100, size=(15, 4)),\\n            columns=list(&#34;ABCD&#34;),\\n        )\\n    )\\n)\\n```\" />\n",
       "<ParamSection name=\"Parameters\">\n",
       "\t<Parameter name=\"data\" type=\"List[List[str|MetaflowCardComponent]]\" desc=\"List (rows) of lists (columns). Each item can be a string or a `MetaflowCardComponent`.\" />\n",
       "\t<Parameter name=\"headers\" type=\"List[str]\" desc=\"Optional header row for the table.\" />\n",
       "</ParamSection>\n",
       "</DocSection>"
      ],
      "text/plain": [
       "<nbdoc.showdoc.ShowDoc at 0x7fbd8ecebfd0>"
      ]
     },
     "execution_count": 13,
     "metadata": {},
     "output_type": "execute_result"
    }
   ],
   "source": [
    "ShowDoc(Table, show_import=True)"
   ]
  },
  {
   "cell_type": "code",
   "execution_count": 14,
   "id": "05bae2f1",
   "metadata": {
    "execution": {
     "iopub.execute_input": "2022-07-23T21:47:14.143228Z",
     "iopub.status.busy": "2022-07-23T21:47:14.141867Z",
     "iopub.status.idle": "2022-07-23T21:47:14.146828Z",
     "shell.execute_reply": "2022-07-23T21:47:14.145920Z"
    }
   },
   "outputs": [
    {
     "data": {
      "text/html": [
       "<HTMLRemove>\n",
       "<h4> <code>method</code> <span style=\"color:Brown\">Table.from_dataframe</span> <em>(dataframe=None, truncate=True)</em><a href=\"https://github.com/Netflix/metaflow/tree/master/metaflow/plugins/cards/card_modules/components.py#L105\" style=\"float:right\">[source]</a></h4><p><blockquote>Create&nbsp;a&nbsp;`Table`&nbsp;based&nbsp;on&nbsp;a&nbsp;Pandas&nbsp;dataframe.<br><br>Parameters<br>----------<br>dataframe&nbsp;:&nbsp;pandas.DataFrame<br>&nbsp;&nbsp;&nbsp;&nbsp;Pandas&nbsp;dataframe.<br>truncate&nbsp;:&nbsp;bool<br>&nbsp;&nbsp;&nbsp;&nbsp;Truncate&nbsp;large&nbsp;dataframe&nbsp;instead&nbsp;of&nbsp;showing&nbsp;all&nbsp;rows&nbsp;(default:&nbsp;True).</blockquote></p>\n",
       "</HTMLRemove>\n",
       "<DocSection type=\"method\" name=\"Table.from_dataframe\" module=\"metaflow.cards\" show_import=\"False\" heading_level=\"4\" link=\"https://github.com/Netflix/metaflow/tree/master/metaflow/plugins/cards/card_modules/components.py#L105\">\n",
       "\n",
       "<Description summary=\"Create a `Table` based on a Pandas dataframe.\\n\\nParameters\\n----------\\ndataframe : pandas.DataFrame\\n    Pandas dataframe.\\ntruncate : bool\\n    Truncate large dataframe instead of showing all rows (default: True).\" />\n",
       "</DocSection>"
      ],
      "text/plain": [
       "<nbdoc.showdoc.ShowDoc at 0x7fbd8ed20130>"
      ]
     },
     "execution_count": 14,
     "metadata": {},
     "output_type": "execute_result"
    }
   ],
   "source": [
    "ShowDoc(Table.from_dataframe)"
   ]
  },
  {
   "cell_type": "markdown",
   "id": "a6040f3e",
   "metadata": {},
   "source": [
    "## Defining a custom card\n",
    "\n",
    "https://github.com/outerbounds/metaflow-card-template"
   ]
  },
  {
   "cell_type": "code",
   "execution_count": 15,
   "id": "3dc4881f",
   "metadata": {
    "execution": {
     "iopub.execute_input": "2022-07-23T21:47:14.153562Z",
     "iopub.status.busy": "2022-07-23T21:47:14.151637Z",
     "iopub.status.idle": "2022-07-23T21:47:14.156841Z",
     "shell.execute_reply": "2022-07-23T21:47:14.157917Z"
    }
   },
   "outputs": [
    {
     "data": {
      "text/html": [
       "<HTMLRemove>\n",
       "<h3> <code>class</code> <span style=\"color:Brown\">MetaflowCard</span> <em>(options={}, components=[], graph=None)</em><a href=\"https://github.com/Netflix/metaflow/tree/master/metaflow/plugins/cards/card_modules/card.py#L1\" style=\"float:right\">[source]</a></h3>\n",
       "</HTMLRemove>\n",
       "<DocSection type=\"class\" name=\"MetaflowCard\" module=\"metaflow.cards\" show_import=\"False\" heading_level=\"3\" link=\"https://github.com/Netflix/metaflow/tree/master/metaflow/plugins/cards/card_modules/card.py#L1\">\n",
       "<SigArgSection>\n",
       "<SigArg name=\"options\" default=\"{}\" /><SigArg name=\"components\" default=\"[]\" /><SigArg name=\"graph\" default=\"None\" />\n",
       "</SigArgSection>\n",
       "\n",
       "<ParamSection name=\"Attributes\">\n",
       "\t<Parameter name=\"type\" />\n",
       "</ParamSection>\n",
       "</DocSection>"
      ],
      "text/plain": [
       "<nbdoc.showdoc.ShowDoc at 0x7fbd8ed20820>"
      ]
     },
     "execution_count": 15,
     "metadata": {},
     "output_type": "execute_result"
    }
   ],
   "source": [
    "from metaflow.cards import MetaflowCard\n",
    "\n",
    "ShowDoc(MetaflowCard)"
   ]
  },
  {
   "cell_type": "code",
   "execution_count": 16,
   "id": "c71b83c5",
   "metadata": {
    "execution": {
     "iopub.execute_input": "2022-07-23T21:47:14.163951Z",
     "iopub.status.busy": "2022-07-23T21:47:14.162801Z",
     "iopub.status.idle": "2022-07-23T21:47:14.166902Z",
     "shell.execute_reply": "2022-07-23T21:47:14.167874Z"
    }
   },
   "outputs": [
    {
     "data": {
      "text/html": [
       "<HTMLRemove>\n",
       "<h4> <code>method</code> <span style=\"color:Brown\">MetaflowCard.render</span> <em>(self, task)</em><a href=\"https://github.com/Netflix/metaflow/tree/master/metaflow/plugins/cards/card_modules/card.py#L19\" style=\"float:right\">[source]</a></h4><p><blockquote>`render`&nbsp;returns&nbsp;a&nbsp;string.</blockquote></p>\n",
       "</HTMLRemove>\n",
       "<DocSection type=\"method\" name=\"MetaflowCard.render\" module=\"metaflow.cards\" show_import=\"False\" heading_level=\"4\" link=\"https://github.com/Netflix/metaflow/tree/master/metaflow/plugins/cards/card_modules/card.py#L19\">\n",
       "<SigArgSection>\n",
       "<SigArg name=\"self\" /><SigArg name=\"task\" />\n",
       "</SigArgSection>\n",
       "<Description summary=\"`render` returns a string.\" />\n",
       "\n",
       "</DocSection>"
      ],
      "text/plain": [
       "<nbdoc.showdoc.ShowDoc at 0x7fbd8ed20c10>"
      ]
     },
     "execution_count": 16,
     "metadata": {},
     "output_type": "execute_result"
    }
   ],
   "source": [
    "ShowDoc(MetaflowCard.render)"
   ]
  },
  {
   "cell_type": "code",
   "execution_count": null,
   "id": "63ce2466",
   "metadata": {},
   "outputs": [],
   "source": []
  }
 ],
 "metadata": {
  "kernelspec": {
   "display_name": "Python 3",
   "language": "python",
   "name": "python3"
  },
  "language_info": {
   "codemirror_mode": {
    "name": "ipython",
    "version": 3
   },
   "file_extension": ".py",
   "mimetype": "text/x-python",
   "name": "python",
   "nbconvert_exporter": "python",
   "pygments_lexer": "ipython3",
   "version": "3.9.1"
  }
 },
 "nbformat": 4,
 "nbformat_minor": 5
}
