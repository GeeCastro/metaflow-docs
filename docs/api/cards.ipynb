{
 "cells": [
  {
   "cell_type": "markdown",
   "id": "eb7388b6",
   "metadata": {},
   "source": [
    "# Cards - Visualizing results"
   ]
  },
  {
   "cell_type": "markdown",
   "id": "576777f8",
   "metadata": {},
   "source": [
    "Metaflow Cards allows you to produce [human readable reports in workflows and observe their behavior live](/metaflow/visualizing-results). Use the following APIs to enable, customize, and access cards:\n",
    "\n",
    " - **Enable cards** by adding [the `@card` decorator](/api/step-decorators/card) in any step.\n",
    " - **Specify card contents** with [card components](#card-components).\n",
    " - **Populate card components** with [the `current` object](/api/current#card).\n",
    " - **Retrieve cards** with [the `get_cards` method](#retrieving-cards) or on the command line with the `card` commands.\n",
    " - **Create fully custom, shareable cards** with custom [`MetaflowCard` classes](#defining-a-custom-card)."
   ]
  },
  {
   "cell_type": "code",
   "execution_count": 1,
   "id": "a5ef9454",
   "metadata": {
    "execution": {
     "iopub.execute_input": "2024-01-19T07:15:35.090982Z",
     "iopub.status.busy": "2024-01-19T07:15:35.090891Z",
     "iopub.status.idle": "2024-01-19T07:15:35.446079Z",
     "shell.execute_reply": "2024-01-19T07:15:35.445813Z"
    }
   },
   "outputs": [],
   "source": [
    "#meta:tag=hide\n",
    "from functools import partial\n",
    "from nbdoc.showdoc import ShowDoc\n",
    "ShowDoc = partial(ShowDoc, module_nm='metaflow.cards')\n",
    "\n",
    "from metaflow.cards import get_cards\n",
    "from metaflow.plugins.cards.card_client import CardContainer, Card"
   ]
  },
  {
   "cell_type": "markdown",
   "id": "ab418a7b",
   "metadata": {},
   "source": [
    "## Retrieving cards\n",
    "\n",
    "To retrieve a card after a run has finished, use the `get_cards` function e.g. in a notebook or the `card get` command on the CLI.\n",
    "\n",
    "Since a task can contain multiple cards `get_cards` returns a container object, `CardContainer`, which holds `Card` objects corresponding to individual cards. Notably both `CardContainer` and `Card` objects contain a function that allow them to visualize cards in the notebook output cell automatically, so a single `get_cards` call can be used to show all cards of a step in a notebook."
   ]
  },
  {
   "cell_type": "code",
   "execution_count": 2,
   "id": "09970e68",
   "metadata": {
    "execution": {
     "iopub.execute_input": "2024-01-19T07:15:35.448340Z",
     "iopub.status.busy": "2024-01-19T07:15:35.448190Z",
     "iopub.status.idle": "2024-01-19T07:15:35.453648Z",
     "shell.execute_reply": "2024-01-19T07:15:35.453410Z"
    }
   },
   "outputs": [
    {
     "data": {
      "text/html": [
       "<HTMLRemove>\n",
       "<h3> <code>function</code> <span style=\"color:Brown\">get_cards</span> <em>(task: Union[str, ForwardRef('Task')], id: Optional[str] = None, type: Optional[str] = None, follow_resumed: bool = True) -> metaflow.plugins.cards.card_client.CardContainer</em><a href=\"https://github.com/Netflix/metaflow/tree/master/metaflow/plugins/cards/card_client.py#L216\" style=\"float:right\">[source]</a></h3><strong>metaflow.cards</strong><p><blockquote>Get&nbsp;cards&nbsp;related&nbsp;to&nbsp;a&nbsp;`Task`.<br><br>Note&nbsp;that&nbsp;`get_cards`&nbsp;resolves&nbsp;the&nbsp;cards&nbsp;contained&nbsp;by&nbsp;the&nbsp;task,&nbsp;but&nbsp;it&nbsp;doesn't&nbsp;actually<br>retrieve&nbsp;them&nbsp;from&nbsp;the&nbsp;datastore.&nbsp;Actual&nbsp;card&nbsp;contents&nbsp;are&nbsp;retrieved&nbsp;lazily&nbsp;either&nbsp;when<br>the&nbsp;card&nbsp;is&nbsp;rendered&nbsp;in&nbsp;a&nbsp;notebook&nbsp;to&nbsp;when&nbsp;you&nbsp;call&nbsp;`Card.get`.&nbsp;This&nbsp;means&nbsp;that<br>`get_cards`&nbsp;is&nbsp;a&nbsp;fast&nbsp;call&nbsp;even&nbsp;when&nbsp;individual&nbsp;cards&nbsp;contain&nbsp;a&nbsp;lot&nbsp;of&nbsp;data.<br><br>Parameters<br>----------<br>task&nbsp;:&nbsp;str&nbsp;or&nbsp;`Task`<br>&nbsp;&nbsp;&nbsp;&nbsp;A&nbsp;`Task`&nbsp;object&nbsp;or&nbsp;pathspec&nbsp;`{flow_name}/{run_id}/{step_name}/{task_id}`&nbsp;that<br>&nbsp;&nbsp;&nbsp;&nbsp;uniquely&nbsp;identifies&nbsp;a&nbsp;task.<br>id&nbsp;:&nbsp;str,&nbsp;optional<br>&nbsp;&nbsp;&nbsp;&nbsp;The&nbsp;ID&nbsp;of&nbsp;card&nbsp;to&nbsp;retrieve&nbsp;if&nbsp;multiple&nbsp;cards&nbsp;are&nbsp;present.<br>type&nbsp;:&nbsp;str,&nbsp;optional<br>&nbsp;&nbsp;&nbsp;&nbsp;The&nbsp;type&nbsp;of&nbsp;card&nbsp;to&nbsp;retrieve&nbsp;if&nbsp;multiple&nbsp;cards&nbsp;are&nbsp;present.<br>follow_resumed&nbsp;:&nbsp;bool,&nbsp;default:&nbsp;True<br>&nbsp;&nbsp;&nbsp;&nbsp;If&nbsp;the&nbsp;task&nbsp;has&nbsp;been&nbsp;resumed,&nbsp;then&nbsp;setting&nbsp;this&nbsp;flag&nbsp;will&nbsp;resolve&nbsp;the&nbsp;card&nbsp;for<br>&nbsp;&nbsp;&nbsp;&nbsp;the&nbsp;origin&nbsp;task.<br><br>Returns<br>-------<br>CardContainer<br>&nbsp;&nbsp;&nbsp;&nbsp;A&nbsp;list-like&nbsp;object&nbsp;that&nbsp;holds&nbsp;`Card`&nbsp;objects.</blockquote></p>\n",
       "</HTMLRemove>\n",
       "<DocSection type=\"function\" name=\"get_cards\" module=\"metaflow.cards\" show_import=\"True\" heading_level=\"3\" link=\"https://github.com/Netflix/metaflow/tree/master/metaflow/plugins/cards/card_client.py#L216\">\n",
       "<SigArgSection>\n",
       "<SigArg name=\"task\" type=\"Union\" /><SigArg name=\"id\" type=\"Optional\" default=\"None\" /><SigArg name=\"type\" type=\"Optional\" default=\"None\" /><SigArg name=\"follow_resumed\" type=\"bool\" default=\"True\" />\n",
       "</SigArgSection>\n",
       "<Description summary=\"Get cards related to a `Task`.\" extended_summary=\"Note that `get_cards` resolves the cards contained by the task, but it doesn't actually\\nretrieve them from the datastore. Actual card contents are retrieved lazily either when\\nthe card is rendered in a notebook to when you call `Card.get`. This means that\\n`get_cards` is a fast call even when individual cards contain a lot of data.\" />\n",
       "<ParamSection name=\"Parameters\">\n",
       "\t<Parameter name=\"task\" type=\"str or `Task`\" desc=\"A `Task` object or pathspec `{flow_name}/{run_id}/{step_name}/{task_id}` that\\nuniquely identifies a task.\" />\n",
       "\t<Parameter name=\"id\" type=\"str, optional\" desc=\"The ID of card to retrieve if multiple cards are present.\" />\n",
       "\t<Parameter name=\"type\" type=\"str, optional\" desc=\"The type of card to retrieve if multiple cards are present.\" />\n",
       "\t<Parameter name=\"follow_resumed\" type=\"bool, default: True\" desc=\"If the task has been resumed, then setting this flag will resolve the card for\\nthe origin task.\" />\n",
       "</ParamSection>\n",
       "<ParamSection name=\"Returns\">\n",
       "\t<Parameter type=\"CardContainer\" desc=\"A list-like object that holds `Card` objects.\" />\n",
       "</ParamSection>\n",
       "</DocSection>"
      ],
      "text/plain": [
       "<nbdoc.showdoc.ShowDoc at 0x105fdcc10>"
      ]
     },
     "execution_count": 2,
     "metadata": {},
     "output_type": "execute_result"
    }
   ],
   "source": [
    "ShowDoc(get_cards, show_import=True)"
   ]
  },
  {
   "cell_type": "code",
   "execution_count": 3,
   "id": "c65fa811",
   "metadata": {
    "execution": {
     "iopub.execute_input": "2024-01-19T07:15:35.455764Z",
     "iopub.status.busy": "2024-01-19T07:15:35.455678Z",
     "iopub.status.idle": "2024-01-19T07:15:35.459935Z",
     "shell.execute_reply": "2024-01-19T07:15:35.459720Z"
    }
   },
   "outputs": [
    {
     "data": {
      "text/html": [
       "<HTMLRemove>\n",
       "<h3> <code>class</code> <span style=\"color:Brown\">CardContainer</span> <em></em><a href=\"https://github.com/Netflix/metaflow/tree/master/metaflow/plugins/cards/card_client.py#L137\" style=\"float:right\">[source]</a></h3><p><blockquote>`CardContainer`&nbsp;is&nbsp;an&nbsp;immutable&nbsp;list-like&nbsp;object,&nbsp;returned&nbsp;by&nbsp;`get_cards`,<br>which&nbsp;contains&nbsp;individual&nbsp;`Card`s.<br><br>Notably,&nbsp;`CardContainer`&nbsp;contains&nbsp;a&nbsp;special<br>`_repr_html_`&nbsp;function&nbsp;which&nbsp;renders&nbsp;cards&nbsp;automatically&nbsp;in&nbsp;an&nbsp;output<br>cell&nbsp;of&nbsp;a&nbsp;notebook.<br><br>The&nbsp;following&nbsp;operations&nbsp;are&nbsp;supported:<br>```<br>cards&nbsp;=&nbsp;get_cards(MyTask)<br><br>#&nbsp;retrieve&nbsp;by&nbsp;index<br>first_card&nbsp;=&nbsp;cards[0]<br><br>#&nbsp;check&nbsp;length<br>if&nbsp;len(cards)&nbsp;>&nbsp;1:<br>&nbsp;&nbsp;&nbsp;&nbsp;print('many&nbsp;cards&nbsp;present!')<br><br>#&nbsp;iteration<br>list_of_cards&nbsp;=&nbsp;list(cards)<br>```</blockquote></p>\n",
       "</HTMLRemove>\n",
       "<DocSection type=\"class\" name=\"CardContainer\" module=\"metaflow.cards\" show_import=\"False\" heading_level=\"3\" link=\"https://github.com/Netflix/metaflow/tree/master/metaflow/plugins/cards/card_client.py#L137\">\n",
       "<SigArgSection>\n",
       "<SigArg name=\"\" />\n",
       "</SigArgSection>\n",
       "<Description summary=\"`CardContainer` is an immutable list-like object, returned by `get_cards`,\\nwhich contains individual `Card`s.\" extended_summary=\"Notably, `CardContainer` contains a special\\n`_repr_html_` function which renders cards automatically in an output\\ncell of a notebook.\\n\\nThe following operations are supported:\\n```\\ncards = get_cards(MyTask)\\n\\n# retrieve by index\\nfirst_card = cards[0]\\n\\n# check length\\nif len(cards) > 1:\\n    print('many cards present!')\\n\\n# iteration\\nlist_of_cards = list(cards)\\n```\" />\n",
       "\n",
       "</DocSection>"
      ],
      "text/plain": [
       "<nbdoc.showdoc.ShowDoc at 0x106403c10>"
      ]
     },
     "execution_count": 3,
     "metadata": {},
     "output_type": "execute_result"
    }
   ],
   "source": [
    "ShowDoc(CardContainer,  spoofstr='')"
   ]
  },
  {
   "cell_type": "code",
   "execution_count": 4,
   "id": "de91c8c9",
   "metadata": {
    "execution": {
     "iopub.execute_input": "2024-01-19T07:15:35.461821Z",
     "iopub.status.busy": "2024-01-19T07:15:35.461733Z",
     "iopub.status.idle": "2024-01-19T07:15:35.465531Z",
     "shell.execute_reply": "2024-01-19T07:15:35.465285Z"
    }
   },
   "outputs": [
    {
     "data": {
      "text/html": [
       "<HTMLRemove>\n",
       "<h3> <code>class</code> <span style=\"color:Brown\">Card</span> <em></em><a href=\"https://github.com/Netflix/metaflow/tree/master/metaflow/plugins/cards/card_client.py#L22\" style=\"float:right\">[source]</a></h3><p><blockquote>`Card`&nbsp;represents&nbsp;an&nbsp;individual&nbsp;Metaflow&nbsp;Card,&nbsp;a&nbsp;single&nbsp;HTML&nbsp;file,&nbsp;produced&nbsp;by<br>the&nbsp;card&nbsp;`@card`&nbsp;decorator.&nbsp;`Card`s&nbsp;are&nbsp;contained&nbsp;by&nbsp;`CardContainer`,&nbsp;returned&nbsp;by<br>`get_cards`.<br><br>Note&nbsp;that&nbsp;the&nbsp;contents&nbsp;of&nbsp;the&nbsp;card,&nbsp;an&nbsp;HTML&nbsp;file,&nbsp;is&nbsp;retrieved&nbsp;lazily&nbsp;when&nbsp;you&nbsp;call<br>`Card.get`&nbsp;for&nbsp;the&nbsp;first&nbsp;time&nbsp;or&nbsp;when&nbsp;the&nbsp;card&nbsp;is&nbsp;rendered&nbsp;in&nbsp;a&nbsp;notebook.</blockquote></p>\n",
       "</HTMLRemove>\n",
       "<DocSection type=\"class\" name=\"Card\" module=\"metaflow.cards\" show_import=\"False\" heading_level=\"3\" link=\"https://github.com/Netflix/metaflow/tree/master/metaflow/plugins/cards/card_client.py#L22\">\n",
       "<SigArgSection>\n",
       "<SigArg name=\"\" />\n",
       "</SigArgSection>\n",
       "<Description summary=\"`Card` represents an individual Metaflow Card, a single HTML file, produced by\\nthe card `@card` decorator. `Card`s are contained by `CardContainer`, returned by\\n`get_cards`.\" extended_summary=\"Note that the contents of the card, an HTML file, is retrieved lazily when you call\\n`Card.get` for the first time or when the card is rendered in a notebook.\" />\n",
       "\n",
       "</DocSection>"
      ],
      "text/plain": [
       "<nbdoc.showdoc.ShowDoc at 0x107389ed0>"
      ]
     },
     "execution_count": 4,
     "metadata": {},
     "output_type": "execute_result"
    }
   ],
   "source": [
    "ShowDoc(Card, spoofstr='', skip_sections='Attributes')"
   ]
  },
  {
   "cell_type": "code",
   "execution_count": 5,
   "id": "6d76de09",
   "metadata": {
    "execution": {
     "iopub.execute_input": "2024-01-19T07:15:35.467723Z",
     "iopub.status.busy": "2024-01-19T07:15:35.467630Z",
     "iopub.status.idle": "2024-01-19T07:15:35.470142Z",
     "shell.execute_reply": "2024-01-19T07:15:35.469901Z"
    }
   },
   "outputs": [
    {
     "data": {
      "text/html": [
       "<HTMLRemove>\n",
       "<h4> <code>method</code> <span style=\"color:Brown\">Card.get</span> <em>(self) -> str</em><a href=\"https://github.com/Netflix/metaflow/tree/master/metaflow/plugins/cards/card_client.py#L69\" style=\"float:right\">[source]</a></h4><p><blockquote>Retrieves&nbsp;the&nbsp;HTML&nbsp;contents&nbsp;of&nbsp;the&nbsp;card&nbsp;from&nbsp;the<br>Metaflow&nbsp;datastore.<br><br>Returns<br>-------<br>str<br>&nbsp;&nbsp;&nbsp;&nbsp;HTML&nbsp;contents&nbsp;of&nbsp;the&nbsp;card.</blockquote></p>\n",
       "</HTMLRemove>\n",
       "<DocSection type=\"method\" name=\"Card.get\" module=\"metaflow.cards\" show_import=\"False\" heading_level=\"4\" link=\"https://github.com/Netflix/metaflow/tree/master/metaflow/plugins/cards/card_client.py#L69\">\n",
       "<SigArgSection>\n",
       "<SigArg name=\"self\" />\n",
       "</SigArgSection>\n",
       "<Description summary=\"Retrieves the HTML contents of the card from the\\nMetaflow datastore.\" />\n",
       "<ParamSection name=\"Returns\">\n",
       "\t<Parameter type=\"str\" desc=\"HTML contents of the card.\" />\n",
       "</ParamSection>\n",
       "</DocSection>"
      ],
      "text/plain": [
       "<nbdoc.showdoc.ShowDoc at 0x106dd32d0>"
      ]
     },
     "execution_count": 5,
     "metadata": {},
     "output_type": "execute_result"
    }
   ],
   "source": [
    "ShowDoc(Card.get)"
   ]
  },
  {
   "cell_type": "code",
   "execution_count": 6,
   "id": "69f97d00",
   "metadata": {
    "execution": {
     "iopub.execute_input": "2024-01-19T07:15:35.472674Z",
     "iopub.status.busy": "2024-01-19T07:15:35.472579Z",
     "iopub.status.idle": "2024-01-19T07:15:35.475150Z",
     "shell.execute_reply": "2024-01-19T07:15:35.474868Z"
    }
   },
   "outputs": [
    {
     "data": {
      "text/html": [
       "<HTMLRemove>\n",
       "<h4> <code>method</code> <span style=\"color:Brown\">Card.view</span> <em>(self) -> None</em><a href=\"https://github.com/Netflix/metaflow/tree/master/metaflow/plugins/cards/card_client.py#L107\" style=\"float:right\">[source]</a></h4><p><blockquote>Opens&nbsp;the&nbsp;card&nbsp;in&nbsp;a&nbsp;local&nbsp;web&nbsp;browser.<br><br>This&nbsp;call&nbsp;uses&nbsp;Python's&nbsp;built-in&nbsp;[`webbrowser`](https://docs.python.org/3/library/webbrowser.html)<br>module&nbsp;to&nbsp;open&nbsp;the&nbsp;card.</blockquote></p>\n",
       "</HTMLRemove>\n",
       "<DocSection type=\"method\" name=\"Card.view\" module=\"metaflow.cards\" show_import=\"False\" heading_level=\"4\" link=\"https://github.com/Netflix/metaflow/tree/master/metaflow/plugins/cards/card_client.py#L107\">\n",
       "<SigArgSection>\n",
       "<SigArg name=\"self\" />\n",
       "</SigArgSection>\n",
       "<Description summary=\"Opens the card in a local web browser.\" extended_summary=\"This call uses Python's built-in [`webbrowser`](https://docs.python.org/3/library/webbrowser.html)\\nmodule to open the card.\" />\n",
       "\n",
       "</DocSection>"
      ],
      "text/plain": [
       "<nbdoc.showdoc.ShowDoc at 0x1073944d0>"
      ]
     },
     "execution_count": 6,
     "metadata": {},
     "output_type": "execute_result"
    }
   ],
   "source": [
    "ShowDoc(Card.view)"
   ]
  },
  {
   "cell_type": "markdown",
   "id": "1de46198",
   "metadata": {},
   "source": [
    "## Card components\n",
    "\n",
    "You can customize the contents of a card easily using *card components*, a set of visual elements included in Metaflow which are documented below. See [Easy Custom Reports with Card Components](/metaflow/visualizing-results/easy-custom-reports-with-card-components) for instructions.\n",
    "\n",
    "The components are added to cards in `@step` methods (or functions called from steps), using [the `current.card` object](/api/current#card)."
   ]
  },
  {
   "cell_type": "code",
   "execution_count": 7,
   "id": "53a776e9",
   "metadata": {
    "execution": {
     "iopub.execute_input": "2024-01-19T07:15:35.477498Z",
     "iopub.status.busy": "2024-01-19T07:15:35.477406Z",
     "iopub.status.idle": "2024-01-19T07:15:35.478984Z",
     "shell.execute_reply": "2024-01-19T07:15:35.478743Z"
    }
   },
   "outputs": [],
   "source": [
    "#meta:tag=hide\n",
    "\n",
    "from metaflow.cards import Markdown, Image, Artifact, Table, VegaChart, ProgressBar"
   ]
  },
  {
   "cell_type": "markdown",
   "id": "8452845b",
   "metadata": {},
   "source": [
    "### Markdown"
   ]
  },
  {
   "cell_type": "code",
   "execution_count": 8,
   "id": "752c4a43",
   "metadata": {
    "execution": {
     "iopub.execute_input": "2024-01-19T07:15:35.480873Z",
     "iopub.status.busy": "2024-01-19T07:15:35.480774Z",
     "iopub.status.idle": "2024-01-19T07:15:35.486948Z",
     "shell.execute_reply": "2024-01-19T07:15:35.486750Z"
    },
    "scrolled": true
   },
   "outputs": [
    {
     "data": {
      "text/html": [
       "<HTMLRemove>\n",
       "<h3> <code>class</code> <span style=\"color:Brown\">Markdown</span> <em>(text=None)</em><a href=\"https://github.com/Netflix/metaflow/tree/master/metaflow/plugins/cards/card_modules/components.py#L659\" style=\"float:right\">[source]</a></h3><strong>metaflow.cards</strong><p><blockquote>A&nbsp;block&nbsp;of&nbsp;text&nbsp;formatted&nbsp;in&nbsp;Markdown.<br><br>Example:<br>```<br>current.card.append(<br>&nbsp;&nbsp;&nbsp;&nbsp;Markdown(\"#&nbsp;This&nbsp;is&nbsp;a&nbsp;header&nbsp;appended&nbsp;from&nbsp;`@step`&nbsp;code\")<br>)<br>```<br><br>Parameters<br>----------<br>text&nbsp;:&nbsp;str<br>&nbsp;&nbsp;&nbsp;&nbsp;Text&nbsp;formatted&nbsp;in&nbsp;Markdown.</blockquote></p>\n",
       "</HTMLRemove>\n",
       "<DocSection type=\"class\" name=\"Markdown\" module=\"metaflow.cards\" show_import=\"True\" heading_level=\"3\" link=\"https://github.com/Netflix/metaflow/tree/master/metaflow/plugins/cards/card_modules/components.py#L659\">\n",
       "<SigArgSection>\n",
       "<SigArg name=\"text\" default=\"None\" />\n",
       "</SigArgSection>\n",
       "<Description summary=\"A block of text formatted in Markdown.\" extended_summary=\"Example:\\n```\\ncurrent.card.append(\\n    Markdown(&#34;# This is a header appended from `@step` code&#34;)\\n)\\n```\" />\n",
       "<ParamSection name=\"Parameters\">\n",
       "\t<Parameter name=\"text\" type=\"str\" desc=\"Text formatted in Markdown.\" />\n",
       "</ParamSection>\n",
       "</DocSection>"
      ],
      "text/plain": [
       "<nbdoc.showdoc.ShowDoc at 0x1073907d0>"
      ]
     },
     "execution_count": 8,
     "metadata": {},
     "output_type": "execute_result"
    }
   ],
   "source": [
    "ShowDoc(Markdown, show_import=True, skip_sections='Attributes')"
   ]
  },
  {
   "cell_type": "code",
   "execution_count": 9,
   "id": "d9210681",
   "metadata": {
    "execution": {
     "iopub.execute_input": "2024-01-19T07:15:35.488924Z",
     "iopub.status.busy": "2024-01-19T07:15:35.488803Z",
     "iopub.status.idle": "2024-01-19T07:15:35.491392Z",
     "shell.execute_reply": "2024-01-19T07:15:35.491034Z"
    }
   },
   "outputs": [
    {
     "data": {
      "text/html": [
       "<HTMLRemove>\n",
       "<h4> <code>method</code> <span style=\"color:Brown\">Markdown.update</span> <em>(self, text=None)</em><a href=\"https://github.com/Netflix/metaflow/tree/master/metaflow/plugins/cards/card_modules/components.py#L678\" style=\"float:right\">[source]</a></h4><p><blockquote>Update&nbsp;the&nbsp;markdown&nbsp;content&nbsp;of&nbsp;this&nbsp;component.<br>Use&nbsp;this&nbsp;to&nbsp;refresh&nbsp;content&nbsp;of&nbsp;a&nbsp;dynamic&nbsp;card.<br><br>Parameters<br>----------<br>text&nbsp;:&nbsp;str<br>&nbsp;&nbsp;&nbsp;&nbsp;Text&nbsp;formatted&nbsp;in&nbsp;Markdown.</blockquote></p>\n",
       "</HTMLRemove>\n",
       "<DocSection type=\"method\" name=\"Markdown.update\" module=\"metaflow.cards\" show_import=\"False\" heading_level=\"4\" link=\"https://github.com/Netflix/metaflow/tree/master/metaflow/plugins/cards/card_modules/components.py#L678\">\n",
       "<SigArgSection>\n",
       "<SigArg name=\"self\" /><SigArg name=\"text\" default=\"None\" />\n",
       "</SigArgSection>\n",
       "<Description summary=\"Update the markdown content of this component.\\nUse this to refresh content of a dynamic card.\" />\n",
       "<ParamSection name=\"Parameters\">\n",
       "\t<Parameter name=\"text\" type=\"str\" desc=\"Text formatted in Markdown.\" />\n",
       "</ParamSection>\n",
       "</DocSection>"
      ],
      "text/plain": [
       "<nbdoc.showdoc.ShowDoc at 0x10735b610>"
      ]
     },
     "execution_count": 9,
     "metadata": {},
     "output_type": "execute_result"
    }
   ],
   "source": [
    "ShowDoc(Markdown.update)"
   ]
  },
  {
   "cell_type": "markdown",
   "id": "a208dd7f",
   "metadata": {},
   "source": [
    "### Image"
   ]
  },
  {
   "cell_type": "code",
   "execution_count": 10,
   "id": "9c198774",
   "metadata": {
    "execution": {
     "iopub.execute_input": "2024-01-19T07:15:35.493931Z",
     "iopub.status.busy": "2024-01-19T07:15:35.493826Z",
     "iopub.status.idle": "2024-01-19T07:15:35.500904Z",
     "shell.execute_reply": "2024-01-19T07:15:35.500651Z"
    }
   },
   "outputs": [
    {
     "data": {
      "text/html": [
       "<HTMLRemove>\n",
       "<h3> <code>class</code> <span style=\"color:Brown\">Image</span> <em>(src=None, label=None, disable_updates: bool = True)</em><a href=\"https://github.com/Netflix/metaflow/tree/master/metaflow/plugins/cards/card_modules/components.py#L247\" style=\"float:right\">[source]</a></h3><strong>metaflow.cards</strong><p><blockquote>An&nbsp;image.<br><br>`Images&nbsp;can&nbsp;be&nbsp;created&nbsp;directly&nbsp;from&nbsp;PNG/JPG/GIF&nbsp;`bytes`,&nbsp;`PIL.Image`s,<br>or&nbsp;Matplotlib&nbsp;figures.&nbsp;Note&nbsp;that&nbsp;the&nbsp;image&nbsp;data&nbsp;is&nbsp;embedded&nbsp;in&nbsp;the&nbsp;card,<br>so&nbsp;no&nbsp;external&nbsp;files&nbsp;are&nbsp;required&nbsp;to&nbsp;show&nbsp;the&nbsp;image.<br><br>Example:&nbsp;Create&nbsp;an&nbsp;`Image`&nbsp;from&nbsp;bytes:<br>```<br>current.card.append(<br>&nbsp;&nbsp;&nbsp;&nbsp;Image(<br>&nbsp;&nbsp;&nbsp;&nbsp;&nbsp;&nbsp;&nbsp;&nbsp;requests.get(\"https://www.gif-vif.com/hacker-cat.gif\").content,<br>&nbsp;&nbsp;&nbsp;&nbsp;&nbsp;&nbsp;&nbsp;&nbsp;\"Image&nbsp;From&nbsp;Bytes\"<br>&nbsp;&nbsp;&nbsp;&nbsp;)<br>)<br>```<br><br>Example:&nbsp;Create&nbsp;an&nbsp;`Image`&nbsp;from&nbsp;a&nbsp;Matplotlib&nbsp;figure<br>```<br>import&nbsp;pandas&nbsp;as&nbsp;pd<br>import&nbsp;numpy&nbsp;as&nbsp;np<br>current.card.append(<br>&nbsp;&nbsp;&nbsp;&nbsp;Image.from_matplotlib(<br>&nbsp;&nbsp;&nbsp;&nbsp;&nbsp;&nbsp;&nbsp;&nbsp;pandas.DataFrame(<br>&nbsp;&nbsp;&nbsp;&nbsp;&nbsp;&nbsp;&nbsp;&nbsp;&nbsp;&nbsp;&nbsp;&nbsp;np.random.randint(0,&nbsp;100,&nbsp;size=(15,&nbsp;4)),<br>&nbsp;&nbsp;&nbsp;&nbsp;&nbsp;&nbsp;&nbsp;&nbsp;&nbsp;&nbsp;&nbsp;&nbsp;columns=list(\"ABCD\"),<br>&nbsp;&nbsp;&nbsp;&nbsp;&nbsp;&nbsp;&nbsp;&nbsp;).plot()<br>&nbsp;&nbsp;&nbsp;&nbsp;)<br>)<br>```<br><br>Example:&nbsp;Create&nbsp;an&nbsp;`Image`&nbsp;from&nbsp;a&nbsp;[PIL](https://pillow.readthedocs.io/)&nbsp;Image<br>```<br>from&nbsp;PIL&nbsp;import&nbsp;Image&nbsp;as&nbsp;PILImage<br>current.card.append(<br>&nbsp;&nbsp;&nbsp;&nbsp;Image.from_pil_image(<br>&nbsp;&nbsp;&nbsp;&nbsp;&nbsp;&nbsp;&nbsp;&nbsp;PILImage.fromarray(np.random.randn(1024,&nbsp;768),&nbsp;\"RGB\"),<br>&nbsp;&nbsp;&nbsp;&nbsp;&nbsp;&nbsp;&nbsp;&nbsp;\"From&nbsp;PIL&nbsp;Image\"<br>&nbsp;&nbsp;&nbsp;&nbsp;)<br>)<br>```<br><br>Parameters<br>----------<br>src&nbsp;:&nbsp;bytes<br>&nbsp;&nbsp;&nbsp;&nbsp;The&nbsp;image&nbsp;data&nbsp;in&nbsp;`bytes`.<br>label&nbsp;:&nbsp;str<br>&nbsp;&nbsp;&nbsp;&nbsp;Optional&nbsp;label&nbsp;for&nbsp;the&nbsp;image.</blockquote></p>\n",
       "</HTMLRemove>\n",
       "<DocSection type=\"class\" name=\"Image\" module=\"metaflow.cards\" show_import=\"True\" heading_level=\"3\" link=\"https://github.com/Netflix/metaflow/tree/master/metaflow/plugins/cards/card_modules/components.py#L247\">\n",
       "<SigArgSection>\n",
       "<SigArg name=\"src\" default=\"None\" /><SigArg name=\"label\" default=\"None\" /><SigArg name=\"disable_updates\" type=\"bool\" default=\"True\" />\n",
       "</SigArgSection>\n",
       "<Description summary=\"An image.\" extended_summary=\"`Images can be created directly from PNG/JPG/GIF `bytes`, `PIL.Image`s,\\nor Matplotlib figures. Note that the image data is embedded in the card,\\nso no external files are required to show the image.\\n\\nExample: Create an `Image` from bytes:\\n```\\ncurrent.card.append(\\n    Image(\\n        requests.get(&#34;https://www.gif-vif.com/hacker-cat.gif&#34;).content,\\n        &#34;Image From Bytes&#34;\\n    )\\n)\\n```\\n\\nExample: Create an `Image` from a Matplotlib figure\\n```\\nimport pandas as pd\\nimport numpy as np\\ncurrent.card.append(\\n    Image.from_matplotlib(\\n        pandas.DataFrame(\\n            np.random.randint(0, 100, size=(15, 4)),\\n            columns=list(&#34;ABCD&#34;),\\n        ).plot()\\n    )\\n)\\n```\\n\\nExample: Create an `Image` from a [PIL](https://pillow.readthedocs.io/) Image\\n```\\nfrom PIL import Image as PILImage\\ncurrent.card.append(\\n    Image.from_pil_image(\\n        PILImage.fromarray(np.random.randn(1024, 768), &#34;RGB&#34;),\\n        &#34;From PIL Image&#34;\\n    )\\n)\\n```\" />\n",
       "<ParamSection name=\"Parameters\">\n",
       "\t<Parameter name=\"src\" type=\"bytes\" desc=\"The image data in `bytes`.\" />\n",
       "\t<Parameter name=\"label\" type=\"str\" desc=\"Optional label for the image.\" />\n",
       "</ParamSection>\n",
       "<ParamSection name=\"Attributes\">\n",
       "\t<Parameter name=\"component_id\" />\n",
       "</ParamSection>\n",
       "</DocSection>"
      ],
      "text/plain": [
       "<nbdoc.showdoc.ShowDoc at 0x10738b790>"
      ]
     },
     "execution_count": 10,
     "metadata": {},
     "output_type": "execute_result"
    }
   ],
   "source": [
    "ShowDoc(Image, show_import=True)"
   ]
  },
  {
   "cell_type": "code",
   "execution_count": 11,
   "id": "da3999a9",
   "metadata": {
    "execution": {
     "iopub.execute_input": "2024-01-19T07:15:35.503194Z",
     "iopub.status.busy": "2024-01-19T07:15:35.503100Z",
     "iopub.status.idle": "2024-01-19T07:15:35.505809Z",
     "shell.execute_reply": "2024-01-19T07:15:35.505575Z"
    },
    "scrolled": true
   },
   "outputs": [
    {
     "data": {
      "text/html": [
       "<HTMLRemove>\n",
       "<h4> <code>method</code> <span style=\"color:Brown\">Image.from_matplotlib</span> <em>(plot, label: Optional[str] = None, disable_updates: bool = False)</em><a href=\"https://github.com/Netflix/metaflow/tree/master/metaflow/plugins/cards/card_modules/components.py#L553\" style=\"float:right\">[source]</a></h4><p><blockquote>Create&nbsp;an&nbsp;`Image`&nbsp;from&nbsp;a&nbsp;Matplotlib&nbsp;plot.<br><br>Parameters<br>----------<br>plot&nbsp;:&nbsp;&nbsp;matplotlib.figure.Figure&nbsp;or&nbsp;matplotlib.axes.Axes&nbsp;or&nbsp;matplotlib.axes._subplots.AxesSubplot<br>&nbsp;&nbsp;&nbsp;&nbsp;a&nbsp;PIL&nbsp;axes&nbsp;(plot)&nbsp;object.<br>label&nbsp;:&nbsp;str,&nbsp;optional<br>&nbsp;&nbsp;&nbsp;&nbsp;Optional&nbsp;label&nbsp;for&nbsp;the&nbsp;image.</blockquote></p>\n",
       "</HTMLRemove>\n",
       "<DocSection type=\"method\" name=\"Image.from_matplotlib\" module=\"metaflow.cards\" show_import=\"False\" heading_level=\"4\" link=\"https://github.com/Netflix/metaflow/tree/master/metaflow/plugins/cards/card_modules/components.py#L553\">\n",
       "<SigArgSection>\n",
       "<SigArg name=\"plot\" /><SigArg name=\"label\" type=\"Optional\" default=\"None\" /><SigArg name=\"disable_updates\" type=\"bool\" default=\"False\" />\n",
       "</SigArgSection>\n",
       "<Description summary=\"Create an `Image` from a Matplotlib plot.\" />\n",
       "<ParamSection name=\"Parameters\">\n",
       "\t<Parameter name=\"plot\" type=\"matplotlib.figure.Figure or matplotlib.axes.Axes or matplotlib.axes._subplots.AxesSubplot\" desc=\"a PIL axes (plot) object.\" />\n",
       "\t<Parameter name=\"label\" type=\"str, optional\" desc=\"Optional label for the image.\" />\n",
       "</ParamSection>\n",
       "</DocSection>"
      ],
      "text/plain": [
       "<nbdoc.showdoc.ShowDoc at 0x107425310>"
      ]
     },
     "execution_count": 11,
     "metadata": {},
     "output_type": "execute_result"
    }
   ],
   "source": [
    "ShowDoc(Image.from_matplotlib)"
   ]
  },
  {
   "cell_type": "code",
   "execution_count": 12,
   "id": "432ec2c6",
   "metadata": {
    "execution": {
     "iopub.execute_input": "2024-01-19T07:15:35.508031Z",
     "iopub.status.busy": "2024-01-19T07:15:35.507938Z",
     "iopub.status.idle": "2024-01-19T07:15:35.510571Z",
     "shell.execute_reply": "2024-01-19T07:15:35.510341Z"
    },
    "scrolled": true
   },
   "outputs": [
    {
     "data": {
      "text/html": [
       "<HTMLRemove>\n",
       "<h4> <code>method</code> <span style=\"color:Brown\">Image.from_pil_image</span> <em>(pilimage, label: Optional[str] = None, disable_updates: bool = False)</em><a href=\"https://github.com/Netflix/metaflow/tree/master/metaflow/plugins/cards/card_modules/components.py#L519\" style=\"float:right\">[source]</a></h4><p><blockquote>Create&nbsp;an&nbsp;`Image`&nbsp;from&nbsp;a&nbsp;PIL&nbsp;image.<br><br>Parameters<br>----------<br>pilimage&nbsp;:&nbsp;PIL.Image<br>&nbsp;&nbsp;&nbsp;&nbsp;a&nbsp;PIL&nbsp;image&nbsp;object.<br>label&nbsp;:&nbsp;str,&nbsp;optional<br>&nbsp;&nbsp;&nbsp;&nbsp;Optional&nbsp;label&nbsp;for&nbsp;the&nbsp;image.</blockquote></p>\n",
       "</HTMLRemove>\n",
       "<DocSection type=\"method\" name=\"Image.from_pil_image\" module=\"metaflow.cards\" show_import=\"False\" heading_level=\"4\" link=\"https://github.com/Netflix/metaflow/tree/master/metaflow/plugins/cards/card_modules/components.py#L519\">\n",
       "<SigArgSection>\n",
       "<SigArg name=\"pilimage\" /><SigArg name=\"label\" type=\"Optional\" default=\"None\" /><SigArg name=\"disable_updates\" type=\"bool\" default=\"False\" />\n",
       "</SigArgSection>\n",
       "<Description summary=\"Create an `Image` from a PIL image.\" />\n",
       "<ParamSection name=\"Parameters\">\n",
       "\t<Parameter name=\"pilimage\" type=\"PIL.Image\" desc=\"a PIL image object.\" />\n",
       "\t<Parameter name=\"label\" type=\"str, optional\" desc=\"Optional label for the image.\" />\n",
       "</ParamSection>\n",
       "</DocSection>"
      ],
      "text/plain": [
       "<nbdoc.showdoc.ShowDoc at 0x107425f90>"
      ]
     },
     "execution_count": 12,
     "metadata": {},
     "output_type": "execute_result"
    }
   ],
   "source": [
    "ShowDoc(Image.from_pil_image)"
   ]
  },
  {
   "cell_type": "markdown",
   "id": "9a401910",
   "metadata": {},
   "source": [
    "### Artifact"
   ]
  },
  {
   "cell_type": "code",
   "execution_count": 13,
   "id": "da4cf95b",
   "metadata": {
    "execution": {
     "iopub.execute_input": "2024-01-19T07:15:35.512727Z",
     "iopub.status.busy": "2024-01-19T07:15:35.512646Z",
     "iopub.status.idle": "2024-01-19T07:15:35.517374Z",
     "shell.execute_reply": "2024-01-19T07:15:35.517149Z"
    }
   },
   "outputs": [
    {
     "data": {
      "text/html": [
       "<HTMLRemove>\n",
       "<h3> <code>class</code> <span style=\"color:Brown\">Artifact</span> <em>(artifact: Any, name: Optional[str] = None, compressed: bool = True)</em><a href=\"https://github.com/Netflix/metaflow/tree/master/metaflow/plugins/cards/card_modules/components.py#L63\" style=\"float:right\">[source]</a></h3><strong>metaflow.cards</strong><p><blockquote>A&nbsp;pretty-printed&nbsp;version&nbsp;of&nbsp;any&nbsp;Python&nbsp;object.<br><br>Large&nbsp;objects&nbsp;are&nbsp;truncated&nbsp;using&nbsp;Python's&nbsp;built-in&nbsp;[`reprlib`](https://docs.python.org/3/library/reprlib.html).<br><br>Example:<br>```<br>from&nbsp;datetime&nbsp;import&nbsp;datetime<br>current.card.append(Artifact({'now':&nbsp;datetime.utcnow()}))<br>```<br><br>Parameters<br>----------<br>artifact&nbsp;:&nbsp;object<br>&nbsp;&nbsp;&nbsp;&nbsp;Any&nbsp;Python&nbsp;object.<br>name&nbsp;:&nbsp;str,&nbsp;optional<br>&nbsp;&nbsp;&nbsp;&nbsp;Optional&nbsp;label&nbsp;for&nbsp;the&nbsp;object.<br>compressed&nbsp;:&nbsp;bool,&nbsp;default:&nbsp;True<br>&nbsp;&nbsp;&nbsp;&nbsp;Use&nbsp;a&nbsp;truncated&nbsp;representation.</blockquote></p>\n",
       "</HTMLRemove>\n",
       "<DocSection type=\"class\" name=\"Artifact\" module=\"metaflow.cards\" show_import=\"True\" heading_level=\"3\" link=\"https://github.com/Netflix/metaflow/tree/master/metaflow/plugins/cards/card_modules/components.py#L63\">\n",
       "<SigArgSection>\n",
       "<SigArg name=\"artifact\" type=\"Any\" /><SigArg name=\"name\" type=\"Optional\" default=\"None\" /><SigArg name=\"compressed\" type=\"bool\" default=\"True\" />\n",
       "</SigArgSection>\n",
       "<Description summary=\"A pretty-printed version of any Python object.\" extended_summary=\"Large objects are truncated using Python's built-in [`reprlib`](https://docs.python.org/3/library/reprlib.html).\\n\\nExample:\\n```\\nfrom datetime import datetime\\ncurrent.card.append(Artifact({'now': datetime.utcnow()}))\\n```\" />\n",
       "<ParamSection name=\"Parameters\">\n",
       "\t<Parameter name=\"artifact\" type=\"object\" desc=\"Any Python object.\" />\n",
       "\t<Parameter name=\"name\" type=\"str, optional\" desc=\"Optional label for the object.\" />\n",
       "\t<Parameter name=\"compressed\" type=\"bool, default: True\" desc=\"Use a truncated representation.\" />\n",
       "</ParamSection>\n",
       "</DocSection>"
      ],
      "text/plain": [
       "<nbdoc.showdoc.ShowDoc at 0x107426f50>"
      ]
     },
     "execution_count": 13,
     "metadata": {},
     "output_type": "execute_result"
    }
   ],
   "source": [
    "ShowDoc(Artifact, show_import=True, skip_sections='Attributes')"
   ]
  },
  {
   "cell_type": "markdown",
   "id": "725519c8",
   "metadata": {},
   "source": [
    "### Table"
   ]
  },
  {
   "cell_type": "code",
   "execution_count": 14,
   "id": "7d1a016c",
   "metadata": {
    "execution": {
     "iopub.execute_input": "2024-01-19T07:15:35.519126Z",
     "iopub.status.busy": "2024-01-19T07:15:35.519039Z",
     "iopub.status.idle": "2024-01-19T07:15:35.524482Z",
     "shell.execute_reply": "2024-01-19T07:15:35.524171Z"
    }
   },
   "outputs": [
    {
     "data": {
      "text/html": [
       "<HTMLRemove>\n",
       "<h3> <code>class</code> <span style=\"color:Brown\">Table</span> <em>(data: Optional[List[List[Union[str, metaflow.plugins.cards.card_modules.card.MetaflowCardComponent]]]] = None, headers: Optional[List[str]] = None, disable_updates: bool = False)</em><a href=\"https://github.com/Netflix/metaflow/tree/master/metaflow/plugins/cards/card_modules/components.py#L109\" style=\"float:right\">[source]</a></h3><strong>metaflow.cards</strong><p><blockquote>A&nbsp;table.<br><br>The&nbsp;contents&nbsp;of&nbsp;the&nbsp;table&nbsp;can&nbsp;be&nbsp;text&nbsp;or&nbsp;numerical&nbsp;data,&nbsp;a&nbsp;Pandas&nbsp;dataframe,<br>or&nbsp;other&nbsp;card&nbsp;components:&nbsp;`Artifact`,&nbsp;`Image`,&nbsp;`Markdown`&nbsp;objects.<br><br>Example:&nbsp;Text&nbsp;and&nbsp;artifacts<br>```<br>from&nbsp;metaflow.cards&nbsp;import&nbsp;Table,&nbsp;Artifact<br>current.card.append(<br>&nbsp;&nbsp;&nbsp;&nbsp;Table([<br>&nbsp;&nbsp;&nbsp;&nbsp;&nbsp;&nbsp;&nbsp;&nbsp;['first&nbsp;row',&nbsp;Artifact({'a':&nbsp;2})],<br>&nbsp;&nbsp;&nbsp;&nbsp;&nbsp;&nbsp;&nbsp;&nbsp;['second&nbsp;row',&nbsp;Artifact(3)]<br>&nbsp;&nbsp;&nbsp;&nbsp;])<br>)<br>```<br><br>Example:&nbsp;Table&nbsp;from&nbsp;a&nbsp;Pandas&nbsp;dataframe<br>```<br>from&nbsp;metaflow.cards&nbsp;import&nbsp;Table<br>import&nbsp;pandas&nbsp;as&nbsp;pd<br>import&nbsp;numpy&nbsp;as&nbsp;np<br>current.card.append(<br>&nbsp;&nbsp;&nbsp;&nbsp;Table.from_dataframe(<br>&nbsp;&nbsp;&nbsp;&nbsp;&nbsp;&nbsp;&nbsp;&nbsp;pd.DataFrame(<br>&nbsp;&nbsp;&nbsp;&nbsp;&nbsp;&nbsp;&nbsp;&nbsp;&nbsp;&nbsp;&nbsp;&nbsp;np.random.randint(0,&nbsp;100,&nbsp;size=(15,&nbsp;4)),<br>&nbsp;&nbsp;&nbsp;&nbsp;&nbsp;&nbsp;&nbsp;&nbsp;&nbsp;&nbsp;&nbsp;&nbsp;columns=list(\"ABCD\")<br>&nbsp;&nbsp;&nbsp;&nbsp;&nbsp;&nbsp;&nbsp;&nbsp;)<br>&nbsp;&nbsp;&nbsp;&nbsp;)<br>)<br>```<br><br>Parameters<br>----------<br>data&nbsp;:&nbsp;List[List[str&nbsp;or&nbsp;MetaflowCardComponent]],&nbsp;optional<br>&nbsp;&nbsp;&nbsp;&nbsp;List&nbsp;(rows)&nbsp;of&nbsp;lists&nbsp;(columns).&nbsp;Each&nbsp;item&nbsp;can&nbsp;be&nbsp;a&nbsp;string&nbsp;or&nbsp;a&nbsp;`MetaflowCardComponent`.<br>headers&nbsp;:&nbsp;List[str],&nbsp;optional<br>&nbsp;&nbsp;&nbsp;&nbsp;Optional&nbsp;header&nbsp;row&nbsp;for&nbsp;the&nbsp;table.</blockquote></p>\n",
       "</HTMLRemove>\n",
       "<DocSection type=\"class\" name=\"Table\" module=\"metaflow.cards\" show_import=\"True\" heading_level=\"3\" link=\"https://github.com/Netflix/metaflow/tree/master/metaflow/plugins/cards/card_modules/components.py#L109\">\n",
       "<SigArgSection>\n",
       "<SigArg name=\"data\" type=\"Optional\" default=\"None\" /><SigArg name=\"headers\" type=\"Optional\" default=\"None\" /><SigArg name=\"disable_updates\" type=\"bool\" default=\"False\" />\n",
       "</SigArgSection>\n",
       "<Description summary=\"A table.\" extended_summary=\"The contents of the table can be text or numerical data, a Pandas dataframe,\\nor other card components: `Artifact`, `Image`, `Markdown` objects.\\n\\nExample: Text and artifacts\\n```\\nfrom metaflow.cards import Table, Artifact\\ncurrent.card.append(\\n    Table([\\n        ['first row', Artifact({'a': 2})],\\n        ['second row', Artifact(3)]\\n    ])\\n)\\n```\\n\\nExample: Table from a Pandas dataframe\\n```\\nfrom metaflow.cards import Table\\nimport pandas as pd\\nimport numpy as np\\ncurrent.card.append(\\n    Table.from_dataframe(\\n        pd.DataFrame(\\n            np.random.randint(0, 100, size=(15, 4)),\\n            columns=list(&#34;ABCD&#34;)\\n        )\\n    )\\n)\\n```\" />\n",
       "<ParamSection name=\"Parameters\">\n",
       "\t<Parameter name=\"data\" type=\"List[List[str or MetaflowCardComponent]], optional\" desc=\"List (rows) of lists (columns). Each item can be a string or a `MetaflowCardComponent`.\" />\n",
       "\t<Parameter name=\"headers\" type=\"List[str], optional\" desc=\"Optional header row for the table.\" />\n",
       "</ParamSection>\n",
       "<ParamSection name=\"Attributes\">\n",
       "\t<Parameter name=\"component_id\" />\n",
       "</ParamSection>\n",
       "</DocSection>"
      ],
      "text/plain": [
       "<nbdoc.showdoc.ShowDoc at 0x107420590>"
      ]
     },
     "execution_count": 14,
     "metadata": {},
     "output_type": "execute_result"
    }
   ],
   "source": [
    "ShowDoc(Table, show_import=True)"
   ]
  },
  {
   "cell_type": "code",
   "execution_count": 15,
   "id": "1e65fe26",
   "metadata": {
    "execution": {
     "iopub.execute_input": "2024-01-19T07:15:35.526665Z",
     "iopub.status.busy": "2024-01-19T07:15:35.526577Z",
     "iopub.status.idle": "2024-01-19T07:15:35.529095Z",
     "shell.execute_reply": "2024-01-19T07:15:35.528825Z"
    }
   },
   "outputs": [
    {
     "data": {
      "text/html": [
       "<HTMLRemove>\n",
       "<h4> <code>method</code> <span style=\"color:Brown\">Table.from_dataframe</span> <em>(dataframe=None, truncate: bool = True)</em><a href=\"https://github.com/Netflix/metaflow/tree/master/metaflow/plugins/cards/card_modules/components.py#L179\" style=\"float:right\">[source]</a></h4><p><blockquote>Create&nbsp;a&nbsp;`Table`&nbsp;based&nbsp;on&nbsp;a&nbsp;Pandas&nbsp;dataframe.<br><br>Parameters<br>----------<br>dataframe&nbsp;:&nbsp;Optional[pandas.DataFrame]<br>&nbsp;&nbsp;&nbsp;&nbsp;Pandas&nbsp;dataframe.<br>truncate&nbsp;:&nbsp;bool,&nbsp;default:&nbsp;True<br>&nbsp;&nbsp;&nbsp;&nbsp;Truncate&nbsp;large&nbsp;dataframe&nbsp;instead&nbsp;of&nbsp;showing&nbsp;all&nbsp;rows&nbsp;(default:&nbsp;True).</blockquote></p>\n",
       "</HTMLRemove>\n",
       "<DocSection type=\"method\" name=\"Table.from_dataframe\" module=\"metaflow.cards\" show_import=\"False\" heading_level=\"4\" link=\"https://github.com/Netflix/metaflow/tree/master/metaflow/plugins/cards/card_modules/components.py#L179\">\n",
       "<SigArgSection>\n",
       "<SigArg name=\"dataframe\" default=\"None\" /><SigArg name=\"truncate\" type=\"bool\" default=\"True\" />\n",
       "</SigArgSection>\n",
       "<Description summary=\"Create a `Table` based on a Pandas dataframe.\" />\n",
       "<ParamSection name=\"Parameters\">\n",
       "\t<Parameter name=\"dataframe\" type=\"Optional[pandas.DataFrame]\" desc=\"Pandas dataframe.\" />\n",
       "\t<Parameter name=\"truncate\" type=\"bool, default: True\" desc=\"Truncate large dataframe instead of showing all rows (default: True).\" />\n",
       "</ParamSection>\n",
       "</DocSection>"
      ],
      "text/plain": [
       "<nbdoc.showdoc.ShowDoc at 0x107435d50>"
      ]
     },
     "execution_count": 15,
     "metadata": {},
     "output_type": "execute_result"
    }
   ],
   "source": [
    "ShowDoc(Table.from_dataframe)"
   ]
  },
  {
   "cell_type": "markdown",
   "id": "3e77bc40",
   "metadata": {},
   "source": [
    "### VegaChart"
   ]
  },
  {
   "cell_type": "code",
   "execution_count": 16,
   "id": "95806342",
   "metadata": {
    "execution": {
     "iopub.execute_input": "2024-01-19T07:15:35.530840Z",
     "iopub.status.busy": "2024-01-19T07:15:35.530756Z",
     "iopub.status.idle": "2024-01-19T07:15:35.537154Z",
     "shell.execute_reply": "2024-01-19T07:15:35.536888Z"
    }
   },
   "outputs": [
    {
     "data": {
      "text/html": [
       "<HTMLRemove>\n",
       "<h3> <code>class</code> <span style=\"color:Brown\">VegaChart</span> <em>(spec: dict, show_controls: bool = False)</em><a href=\"https://github.com/Netflix/metaflow/tree/master/metaflow/plugins/cards/card_modules/components.py#L788\" style=\"float:right\">[source]</a></h3><strong>metaflow.cards</strong><p><blockquote>Create&nbsp;a&nbsp;chart&nbsp;based&nbsp;on&nbsp;a&nbsp;Vega&nbsp;Lite&nbsp;specification.<br><br>Parameters<br>----------<br>spec&nbsp;:&nbsp;dict<br>&nbsp;&nbsp;&nbsp;&nbsp;Vega&nbsp;Lite&nbsp;chart&nbsp;specification&nbsp;as&nbsp;a&nbsp;dictionary.<br>show_controls&nbsp;:&nbsp;bool,&nbsp;optional<br>&nbsp;&nbsp;&nbsp;&nbsp;Show&nbsp;Vega&nbsp;controls&nbsp;for&nbsp;downloading&nbsp;the&nbsp;chart&nbsp;image&nbsp;etc.</blockquote></p>\n",
       "</HTMLRemove>\n",
       "<DocSection type=\"class\" name=\"VegaChart\" module=\"metaflow.cards\" show_import=\"True\" heading_level=\"3\" link=\"https://github.com/Netflix/metaflow/tree/master/metaflow/plugins/cards/card_modules/components.py#L788\">\n",
       "<SigArgSection>\n",
       "<SigArg name=\"spec\" type=\"dict\" /><SigArg name=\"show_controls\" type=\"bool\" default=\"False\" />\n",
       "</SigArgSection>\n",
       "<Description summary=\"Create a chart based on a Vega Lite specification.\" />\n",
       "<ParamSection name=\"Parameters\">\n",
       "\t<Parameter name=\"spec\" type=\"dict\" desc=\"Vega Lite chart specification as a dictionary.\" />\n",
       "\t<Parameter name=\"show_controls\" type=\"bool, optional\" desc=\"Show Vega controls for downloading the chart image etc.\" />\n",
       "</ParamSection>\n",
       "<ParamSection name=\"Attributes\">\n",
       "\t<Parameter name=\"component_id\" />\n",
       "</ParamSection>\n",
       "</DocSection>"
      ],
      "text/plain": [
       "<nbdoc.showdoc.ShowDoc at 0x1074348d0>"
      ]
     },
     "execution_count": 16,
     "metadata": {},
     "output_type": "execute_result"
    }
   ],
   "source": [
    "ShowDoc(VegaChart, show_import=True)"
   ]
  },
  {
   "cell_type": "code",
   "execution_count": 17,
   "id": "b852d84f",
   "metadata": {
    "execution": {
     "iopub.execute_input": "2024-01-19T07:15:35.539369Z",
     "iopub.status.busy": "2024-01-19T07:15:35.539274Z",
     "iopub.status.idle": "2024-01-19T07:15:35.541774Z",
     "shell.execute_reply": "2024-01-19T07:15:35.541546Z"
    }
   },
   "outputs": [
    {
     "data": {
      "text/html": [
       "<HTMLRemove>\n",
       "<h4> <code>method</code> <span style=\"color:Brown\">VegaChart.from_altair_chart</span> <em>(altair_chart)</em><a href=\"https://github.com/Netflix/metaflow/tree/master/metaflow/plugins/cards/card_modules/components.py#L835\" style=\"float:right\">[source]</a></h4><p><blockquote>Create&nbsp;a&nbsp;chart&nbsp;based&nbsp;on&nbsp;an&nbsp;Altair&nbsp;Chart&nbsp;object.<br><br>Parameters<br>----------<br>chart&nbsp;:&nbsp;altair.Chart<br>&nbsp;&nbsp;&nbsp;&nbsp;An&nbsp;Altair&nbsp;Chart&nbsp;object.</blockquote></p>\n",
       "</HTMLRemove>\n",
       "<DocSection type=\"method\" name=\"VegaChart.from_altair_chart\" module=\"metaflow.cards\" show_import=\"False\" heading_level=\"4\" link=\"https://github.com/Netflix/metaflow/tree/master/metaflow/plugins/cards/card_modules/components.py#L835\">\n",
       "<SigArgSection>\n",
       "<SigArg name=\"altair_chart\" />\n",
       "</SigArgSection>\n",
       "<Description summary=\"Create a chart based on an Altair Chart object.\" />\n",
       "<ParamSection name=\"Parameters\">\n",
       "\t<Parameter name=\"chart\" type=\"altair.Chart\" desc=\"An Altair Chart object.\" />\n",
       "</ParamSection>\n",
       "</DocSection>"
      ],
      "text/plain": [
       "<nbdoc.showdoc.ShowDoc at 0x107419350>"
      ]
     },
     "execution_count": 17,
     "metadata": {},
     "output_type": "execute_result"
    }
   ],
   "source": [
    "ShowDoc(VegaChart.from_altair_chart)"
   ]
  },
  {
   "cell_type": "code",
   "execution_count": 18,
   "id": "1636aa90",
   "metadata": {
    "execution": {
     "iopub.execute_input": "2024-01-19T07:15:35.543857Z",
     "iopub.status.busy": "2024-01-19T07:15:35.543748Z",
     "iopub.status.idle": "2024-01-19T07:15:35.546048Z",
     "shell.execute_reply": "2024-01-19T07:15:35.545834Z"
    }
   },
   "outputs": [
    {
     "data": {
      "text/html": [
       "<HTMLRemove>\n",
       "<h4> <code>method</code> <span style=\"color:Brown\">VegaChart.update</span> <em>(self, spec=None)</em><a href=\"https://github.com/Netflix/metaflow/tree/master/metaflow/plugins/cards/card_modules/components.py#L809\" style=\"float:right\">[source]</a></h4><p><blockquote>Update&nbsp;the&nbsp;chart&nbsp;specification&nbsp;and&nbsp;data.<br>Use&nbsp;this&nbsp;to&nbsp;refresh&nbsp;content&nbsp;of&nbsp;a&nbsp;dynamic&nbsp;card.<br><br>Parameters<br>----------<br>spec&nbsp;:&nbsp;dict<br>&nbsp;&nbsp;&nbsp;&nbsp;The&nbsp;updated&nbsp;chart&nbsp;Vega&nbsp;Lite&nbsp;specifcation</blockquote></p>\n",
       "</HTMLRemove>\n",
       "<DocSection type=\"method\" name=\"VegaChart.update\" module=\"metaflow.cards\" show_import=\"False\" heading_level=\"4\" link=\"https://github.com/Netflix/metaflow/tree/master/metaflow/plugins/cards/card_modules/components.py#L809\">\n",
       "<SigArgSection>\n",
       "<SigArg name=\"self\" /><SigArg name=\"spec\" default=\"None\" />\n",
       "</SigArgSection>\n",
       "<Description summary=\"Update the chart specification and data.\\nUse this to refresh content of a dynamic card.\" />\n",
       "<ParamSection name=\"Parameters\">\n",
       "\t<Parameter name=\"spec\" type=\"dict\" desc=\"The updated chart Vega Lite specifcation\" />\n",
       "</ParamSection>\n",
       "</DocSection>"
      ],
      "text/plain": [
       "<nbdoc.showdoc.ShowDoc at 0x107418390>"
      ]
     },
     "execution_count": 18,
     "metadata": {},
     "output_type": "execute_result"
    }
   ],
   "source": [
    "ShowDoc(VegaChart.update)"
   ]
  },
  {
   "cell_type": "markdown",
   "id": "b4b356ef",
   "metadata": {},
   "source": [
    "### ProgressBar"
   ]
  },
  {
   "cell_type": "code",
   "execution_count": 19,
   "id": "5484e8cc",
   "metadata": {
    "execution": {
     "iopub.execute_input": "2024-01-19T07:15:35.548184Z",
     "iopub.status.busy": "2024-01-19T07:15:35.548102Z",
     "iopub.status.idle": "2024-01-19T07:15:35.554004Z",
     "shell.execute_reply": "2024-01-19T07:15:35.553780Z"
    }
   },
   "outputs": [
    {
     "data": {
      "text/html": [
       "<HTMLRemove>\n",
       "<h3> <code>class</code> <span style=\"color:Brown\">ProgressBar</span> <em>(max: int = 100, label: str = None, value: int = 0, unit: str = None, metadata: str = None)</em><a href=\"https://github.com/Netflix/metaflow/tree/master/metaflow/plugins/cards/card_modules/components.py#L701\" style=\"float:right\">[source]</a></h3><strong>metaflow.cards</strong><p><blockquote>A&nbsp;Progress&nbsp;bar&nbsp;for&nbsp;tracking&nbsp;progress&nbsp;of&nbsp;any&nbsp;task.<br><br>Example:<br>```<br>progress_bar&nbsp;=&nbsp;ProgressBar(<br>&nbsp;&nbsp;&nbsp;&nbsp;max=100,<br>&nbsp;&nbsp;&nbsp;&nbsp;label=\"Progress&nbsp;Bar\",<br>&nbsp;&nbsp;&nbsp;&nbsp;value=0,<br>&nbsp;&nbsp;&nbsp;&nbsp;unit=\"%\",<br>&nbsp;&nbsp;&nbsp;&nbsp;metadata=\"0.1&nbsp;items/s\"<br>)<br>current.card.append(<br>&nbsp;&nbsp;&nbsp;&nbsp;progress_bar<br>)<br>for&nbsp;i&nbsp;in&nbsp;range(100):<br>&nbsp;&nbsp;&nbsp;&nbsp;progress_bar.update(i,&nbsp;metadata=\"%s&nbsp;items/s\"&nbsp;%&nbsp;i)<br><br>```<br><br>Parameters<br>----------<br>max&nbsp;:&nbsp;int<br>&nbsp;&nbsp;&nbsp;&nbsp;The&nbsp;maximum&nbsp;value&nbsp;of&nbsp;the&nbsp;progress&nbsp;bar.<br>label&nbsp;:&nbsp;str,&nbsp;optional<br>&nbsp;&nbsp;&nbsp;&nbsp;Optional&nbsp;label&nbsp;for&nbsp;the&nbsp;progress&nbsp;bar.<br>value&nbsp;:&nbsp;int,&nbsp;optional<br>&nbsp;&nbsp;&nbsp;&nbsp;Optional&nbsp;initial&nbsp;value&nbsp;of&nbsp;the&nbsp;progress&nbsp;bar.<br>unit&nbsp;:&nbsp;str,&nbsp;optional<br>&nbsp;&nbsp;&nbsp;&nbsp;Optional&nbsp;unit&nbsp;for&nbsp;the&nbsp;progress&nbsp;bar.<br>metadata&nbsp;:&nbsp;str,&nbsp;optional<br>&nbsp;&nbsp;&nbsp;&nbsp;Optional&nbsp;additional&nbsp;information&nbsp;to&nbsp;show&nbsp;on&nbsp;the&nbsp;progress&nbsp;bar.</blockquote></p>\n",
       "</HTMLRemove>\n",
       "<DocSection type=\"class\" name=\"ProgressBar\" module=\"metaflow.cards\" show_import=\"True\" heading_level=\"3\" link=\"https://github.com/Netflix/metaflow/tree/master/metaflow/plugins/cards/card_modules/components.py#L701\">\n",
       "<SigArgSection>\n",
       "<SigArg name=\"max\" type=\"int\" default=\"100\" /><SigArg name=\"label\" type=\"str\" default=\"None\" /><SigArg name=\"value\" type=\"int\" default=\"0\" /><SigArg name=\"unit\" type=\"str\" default=\"None\" /><SigArg name=\"metadata\" type=\"str\" default=\"None\" />\n",
       "</SigArgSection>\n",
       "<Description summary=\"A Progress bar for tracking progress of any task.\" extended_summary=\"Example:\\n```\\nprogress_bar = ProgressBar(\\n    max=100,\\n    label=&#34;Progress Bar&#34;,\\n    value=0,\\n    unit=&#34;%&#34;,\\n    metadata=&#34;0.1 items/s&#34;\\n)\\ncurrent.card.append(\\n    progress_bar\\n)\\nfor i in range(100):\\n    progress_bar.update(i, metadata=&#34;%s items/s&#34; % i)\\n\\n```\" />\n",
       "<ParamSection name=\"Parameters\">\n",
       "\t<Parameter name=\"max\" type=\"int\" desc=\"The maximum value of the progress bar.\" />\n",
       "\t<Parameter name=\"label\" type=\"str, optional\" desc=\"Optional label for the progress bar.\" />\n",
       "\t<Parameter name=\"value\" type=\"int, optional\" desc=\"Optional initial value of the progress bar.\" />\n",
       "\t<Parameter name=\"unit\" type=\"str, optional\" desc=\"Optional unit for the progress bar.\" />\n",
       "\t<Parameter name=\"metadata\" type=\"str, optional\" desc=\"Optional additional information to show on the progress bar.\" />\n",
       "</ParamSection>\n",
       "<ParamSection name=\"Attributes\">\n",
       "\t<Parameter name=\"component_id\" />\n",
       "</ParamSection>\n",
       "</DocSection>"
      ],
      "text/plain": [
       "<nbdoc.showdoc.ShowDoc at 0x107358b10>"
      ]
     },
     "execution_count": 19,
     "metadata": {},
     "output_type": "execute_result"
    }
   ],
   "source": [
    "ShowDoc(ProgressBar, show_import=True)"
   ]
  },
  {
   "cell_type": "code",
   "execution_count": 20,
   "id": "7d6e7dab",
   "metadata": {
    "execution": {
     "iopub.execute_input": "2024-01-19T07:15:35.555957Z",
     "iopub.status.busy": "2024-01-19T07:15:35.555865Z",
     "iopub.status.idle": "2024-01-19T07:15:35.558103Z",
     "shell.execute_reply": "2024-01-19T07:15:35.557827Z"
    }
   },
   "outputs": [
    {
     "data": {
      "text/html": [
       "<HTMLRemove>\n",
       "<h4> <code>method</code> <span style=\"color:Brown\">ProgressBar.update</span> <em>(self, new_value: int, metadata: str = None)</em><a href=\"https://github.com/Netflix/metaflow/tree/master/metaflow/plugins/cards/card_modules/components.py#L754\" style=\"float:right\">[source]</a></h4><p><blockquote>Update&nbsp;the&nbsp;progress&nbsp;bar&nbsp;status.<br>Use&nbsp;this&nbsp;to&nbsp;refresh&nbsp;content&nbsp;of&nbsp;a&nbsp;dynamic&nbsp;card.<br><br>Parameters<br>----------<br>new_value&nbsp;:&nbsp;int<br>&nbsp;&nbsp;&nbsp;&nbsp;Updated&nbsp;value&nbsp;of&nbsp;the&nbsp;progress&nbsp;bar<br>metadata&nbsp;:&nbsp;str<br>&nbsp;&nbsp;&nbsp;&nbsp;Updated&nbsp;additional&nbsp;information</blockquote></p>\n",
       "</HTMLRemove>\n",
       "<DocSection type=\"method\" name=\"ProgressBar.update\" module=\"metaflow.cards\" show_import=\"False\" heading_level=\"4\" link=\"https://github.com/Netflix/metaflow/tree/master/metaflow/plugins/cards/card_modules/components.py#L754\">\n",
       "<SigArgSection>\n",
       "<SigArg name=\"self\" /><SigArg name=\"new_value\" type=\"int\" /><SigArg name=\"metadata\" type=\"str\" default=\"None\" />\n",
       "</SigArgSection>\n",
       "<Description summary=\"Update the progress bar status.\\nUse this to refresh content of a dynamic card.\" />\n",
       "<ParamSection name=\"Parameters\">\n",
       "\t<Parameter name=\"new_value\" type=\"int\" desc=\"Updated value of the progress bar\" />\n",
       "\t<Parameter name=\"metadata\" type=\"str\" desc=\"Updated additional information\" />\n",
       "</ParamSection>\n",
       "</DocSection>"
      ],
      "text/plain": [
       "<nbdoc.showdoc.ShowDoc at 0x107440d10>"
      ]
     },
     "execution_count": 20,
     "metadata": {},
     "output_type": "execute_result"
    }
   ],
   "source": [
    "ShowDoc(ProgressBar.update)"
   ]
  },
  {
   "cell_type": "markdown",
   "id": "a6040f3e",
   "metadata": {},
   "source": [
    "## Defining a custom card\n",
    "\n",
    "You can define custom cards types (`T` in `@card(type=T)`) by creating a Python package that includes a class that derives from `MetaflowCard`, documented below. Read more in [Advanced, Shareable Cards with Card Templates](/metaflow/visualizing-results/advanced-shareable-cards-with-card-templates).\n",
    "\n",
    "Find detailed instructions, a starter template, and an example of a [simple static custom card](https://github.com/outerbounds/metaflow-card-html) and [an example of a dynamic card]( https://github.com/outerbounds/metaflow-card-scatter3d)."
   ]
  },
  {
   "cell_type": "code",
   "execution_count": 21,
   "id": "3dc4881f",
   "metadata": {
    "execution": {
     "iopub.execute_input": "2024-01-19T07:15:35.560164Z",
     "iopub.status.busy": "2024-01-19T07:15:35.560083Z",
     "iopub.status.idle": "2024-01-19T07:15:35.561622Z",
     "shell.execute_reply": "2024-01-19T07:15:35.561308Z"
    }
   },
   "outputs": [],
   "source": [
    "#meta:tag=hide\n",
    "from metaflow.cards import MetaflowCard"
   ]
  },
  {
   "cell_type": "code",
   "execution_count": 22,
   "id": "6210f683",
   "metadata": {
    "execution": {
     "iopub.execute_input": "2024-01-19T07:15:35.563496Z",
     "iopub.status.busy": "2024-01-19T07:15:35.563406Z",
     "iopub.status.idle": "2024-01-19T07:15:35.567630Z",
     "shell.execute_reply": "2024-01-19T07:15:35.567296Z"
    }
   },
   "outputs": [
    {
     "data": {
      "text/html": [
       "<HTMLRemove>\n",
       "<h3> <code>class</code> <span style=\"color:Brown\">MetaflowCard</span> <em>options</em><a href=\"https://github.com/Netflix/metaflow/tree/master/metaflow/plugins/cards/card_modules/card.py#L7\" style=\"float:right\">[source]</a></h3><strong>metaflow.cards</strong><p><blockquote>Metaflow&nbsp;cards&nbsp;derive&nbsp;from&nbsp;this&nbsp;base&nbsp;class.<br><br>Subclasses&nbsp;of&nbsp;this&nbsp;class&nbsp;are&nbsp;called&nbsp;*card&nbsp;types*.&nbsp;The&nbsp;desired&nbsp;card<br>type&nbsp;`T`&nbsp;is&nbsp;defined&nbsp;in&nbsp;the&nbsp;`@card`&nbsp;decorator&nbsp;as&nbsp;`@card(type=T)`.<br><br>After&nbsp;a&nbsp;task&nbsp;with&nbsp;`@card(type=T,&nbsp;options=S)`&nbsp;finishes&nbsp;executing,&nbsp;Metaflow&nbsp;instantiates<br>a&nbsp;subclass&nbsp;`C`&nbsp;of&nbsp;`MetaflowCard`&nbsp;that&nbsp;has&nbsp;its&nbsp;`type`&nbsp;attribute&nbsp;set&nbsp;to&nbsp;`T`,&nbsp;i.e.&nbsp;`C.type=T`.<br>The&nbsp;constructor&nbsp;is&nbsp;given&nbsp;the&nbsp;options&nbsp;dictionary&nbsp;`S`&nbsp;that&nbsp;contains&nbsp;arbitrary<br>JSON-encodable&nbsp;data&nbsp;that&nbsp;is&nbsp;passed&nbsp;to&nbsp;the&nbsp;instance,&nbsp;parametrizing&nbsp;the&nbsp;card.&nbsp;The&nbsp;subclass<br>may&nbsp;override&nbsp;the&nbsp;constructor&nbsp;to&nbsp;capture&nbsp;and&nbsp;process&nbsp;the&nbsp;options.<br><br>The&nbsp;subclass&nbsp;needs&nbsp;to&nbsp;implement&nbsp;a&nbsp;`render(task)`&nbsp;method&nbsp;that&nbsp;produces&nbsp;the&nbsp;card<br>contents&nbsp;in&nbsp;HTML,&nbsp;given&nbsp;the&nbsp;finished&nbsp;task&nbsp;that&nbsp;is&nbsp;represented&nbsp;by&nbsp;a&nbsp;`Task`&nbsp;object.<br><br>Attributes<br>----------<br>type&nbsp;:&nbsp;str<br>&nbsp;&nbsp;&nbsp;&nbsp;Card&nbsp;type&nbsp;string.&nbsp;Note&nbsp;that&nbsp;this&nbsp;should&nbsp;be&nbsp;a&nbsp;globally&nbsp;unique&nbsp;name,&nbsp;similar&nbsp;to&nbsp;a<br>&nbsp;&nbsp;&nbsp;&nbsp;Python&nbsp;package&nbsp;name,&nbsp;to&nbsp;avoid&nbsp;name&nbsp;clashes&nbsp;between&nbsp;different&nbsp;custom&nbsp;cards.<br><br>Parameters<br>----------<br>options&nbsp;:&nbsp;Dict<br>&nbsp;&nbsp;&nbsp;&nbsp;JSON-encodable&nbsp;dictionary&nbsp;containing&nbsp;user-definable&nbsp;options&nbsp;for&nbsp;the&nbsp;class.</blockquote></p>\n",
       "</HTMLRemove>\n",
       "<DocSection type=\"class\" name=\"MetaflowCard\" module=\"metaflow.cards\" show_import=\"True\" heading_level=\"3\" link=\"https://github.com/Netflix/metaflow/tree/master/metaflow/plugins/cards/card_modules/card.py#L7\">\n",
       "<SigArgSection>\n",
       "<SigArg name=\"options\" />\n",
       "</SigArgSection>\n",
       "<Description summary=\"Metaflow cards derive from this base class.\" extended_summary=\"Subclasses of this class are called *card types*. The desired card\\ntype `T` is defined in the `@card` decorator as `@card(type=T)`.\\n\\nAfter a task with `@card(type=T, options=S)` finishes executing, Metaflow instantiates\\na subclass `C` of `MetaflowCard` that has its `type` attribute set to `T`, i.e. `C.type=T`.\\nThe constructor is given the options dictionary `S` that contains arbitrary\\nJSON-encodable data that is passed to the instance, parametrizing the card. The subclass\\nmay override the constructor to capture and process the options.\\n\\nThe subclass needs to implement a `render(task)` method that produces the card\\ncontents in HTML, given the finished task that is represented by a `Task` object.\" />\n",
       "<ParamSection name=\"Parameters\">\n",
       "\t<Parameter name=\"options\" type=\"Dict\" desc=\"JSON-encodable dictionary containing user-definable options for the class.\" />\n",
       "</ParamSection>\n",
       "<ParamSection name=\"Attributes\">\n",
       "\t<Parameter name=\"type\" type=\"str\" desc=\"Card type string. Note that this should be a globally unique name, similar to a\\nPython package name, to avoid name clashes between different custom cards.\" />\n",
       "</ParamSection>\n",
       "</DocSection>"
      ],
      "text/plain": [
       "<nbdoc.showdoc.ShowDoc at 0x107441fd0>"
      ]
     },
     "execution_count": 22,
     "metadata": {},
     "output_type": "execute_result"
    }
   ],
   "source": [
    "ShowDoc(MetaflowCard, show_import=True, spoofstr='options')"
   ]
  },
  {
   "cell_type": "code",
   "execution_count": 23,
   "id": "c71b83c5",
   "metadata": {
    "execution": {
     "iopub.execute_input": "2024-01-19T07:15:35.569766Z",
     "iopub.status.busy": "2024-01-19T07:15:35.569641Z",
     "iopub.status.idle": "2024-01-19T07:15:35.572289Z",
     "shell.execute_reply": "2024-01-19T07:15:35.571863Z"
    }
   },
   "outputs": [
    {
     "data": {
      "text/html": [
       "<HTMLRemove>\n",
       "<h4> <code>method</code> <span style=\"color:Brown\">MetaflowCard.render</span> <em>(self, task) -> str</em><a href=\"https://github.com/Netflix/metaflow/tree/master/metaflow/plugins/cards/card_modules/card.py#L80\" style=\"float:right\">[source]</a></h4><p><blockquote>Produce&nbsp;custom&nbsp;card&nbsp;contents&nbsp;in&nbsp;HTML.&nbsp;The&nbsp;HTML&nbsp;returned&nbsp;by&nbsp;this&nbsp;method<br>represents&nbsp;the&nbsp;final&nbsp;card&nbsp;contents.<br><br>Subclasses&nbsp;override&nbsp;this&nbsp;method&nbsp;to&nbsp;customize&nbsp;the&nbsp;card&nbsp;contents.<br><br>Note&nbsp;that&nbsp;dynamic&nbsp;cards&nbsp;can&nbsp;also&nbsp;access&nbsp;an&nbsp;attribute<br>`self.runtime_data`&nbsp;inside&nbsp;this&nbsp;method&nbsp;to&nbsp;retrieve&nbsp;the&nbsp;latest&nbsp;user-defined<br>runtime&nbsp;data,&nbsp;i.e.&nbsp;the&nbsp;latest&nbsp;`data`&nbsp;object&nbsp;passed&nbsp;in&nbsp;to&nbsp;`render_runtime`<br>or&nbsp;`refresh`.<br><br>Parameters<br>----------<br>task&nbsp;:&nbsp;Task<br>&nbsp;&nbsp;&nbsp;&nbsp;A&nbsp;`Task`&nbsp;object&nbsp;that&nbsp;allows&nbsp;you&nbsp;to&nbsp;access&nbsp;data&nbsp;from&nbsp;the&nbsp;finished&nbsp;task&nbsp;and&nbsp;tasks<br>&nbsp;&nbsp;&nbsp;&nbsp;preceding&nbsp;it.<br><br>Returns<br>-------<br>str<br>&nbsp;&nbsp;&nbsp;&nbsp;Card&nbsp;contents&nbsp;as&nbsp;an&nbsp;HTML&nbsp;string.</blockquote></p>\n",
       "</HTMLRemove>\n",
       "<DocSection type=\"method\" name=\"MetaflowCard.render\" module=\"metaflow.cards\" show_import=\"False\" heading_level=\"4\" link=\"https://github.com/Netflix/metaflow/tree/master/metaflow/plugins/cards/card_modules/card.py#L80\">\n",
       "<SigArgSection>\n",
       "<SigArg name=\"self\" /><SigArg name=\"task\" />\n",
       "</SigArgSection>\n",
       "<Description summary=\"Produce custom card contents in HTML. The HTML returned by this method\\nrepresents the final card contents.\" extended_summary=\"Subclasses override this method to customize the card contents.\\n\\nNote that dynamic cards can also access an attribute\\n`self.runtime_data` inside this method to retrieve the latest user-defined\\nruntime data, i.e. the latest `data` object passed in to `render_runtime`\\nor `refresh`.\" />\n",
       "<ParamSection name=\"Parameters\">\n",
       "\t<Parameter name=\"task\" type=\"Task\" desc=\"A `Task` object that allows you to access data from the finished task and tasks\\npreceding it.\" />\n",
       "</ParamSection>\n",
       "<ParamSection name=\"Returns\">\n",
       "\t<Parameter type=\"str\" desc=\"Card contents as an HTML string.\" />\n",
       "</ParamSection>\n",
       "</DocSection>"
      ],
      "text/plain": [
       "<nbdoc.showdoc.ShowDoc at 0x1074415d0>"
      ]
     },
     "execution_count": 23,
     "metadata": {},
     "output_type": "execute_result"
    }
   ],
   "source": [
    "ShowDoc(MetaflowCard.render)"
   ]
  },
  {
   "cell_type": "code",
   "execution_count": 24,
   "id": "e2c444ee",
   "metadata": {
    "execution": {
     "iopub.execute_input": "2024-01-19T07:15:35.574647Z",
     "iopub.status.busy": "2024-01-19T07:15:35.574529Z",
     "iopub.status.idle": "2024-01-19T07:15:35.577568Z",
     "shell.execute_reply": "2024-01-19T07:15:35.577317Z"
    }
   },
   "outputs": [
    {
     "data": {
      "text/html": [
       "<HTMLRemove>\n",
       "<h4> <code>method</code> <span style=\"color:Brown\">MetaflowCard.render_runtime</span> <em>(self, task, data)</em><a href=\"https://github.com/Netflix/metaflow/tree/master/metaflow/plugins/cards/card_modules/card.py#L105\" style=\"float:right\">[source]</a></h4><p><blockquote>Produce&nbsp;intermediate&nbsp;custom&nbsp;card&nbsp;contents&nbsp;in&nbsp;HTML.&nbsp;The&nbsp;HTML&nbsp;returned&nbsp;by<br>this&nbsp;method&nbsp;represents&nbsp;a&nbsp;runtime&nbsp;snapshot&nbsp;of&nbsp;a&nbsp;dynamic&nbsp;card.<br><br>Subclasses&nbsp;may&nbsp;override&nbsp;this&nbsp;method&nbsp;to&nbsp;customize&nbsp;the&nbsp;card&nbsp;contents&nbsp;while&nbsp;a<br>task&nbsp;is&nbsp;executing,&nbsp;making&nbsp;the&nbsp;card&nbsp;dynamic.<br><br>Note&nbsp;that&nbsp;in&nbsp;contrast&nbsp;to&nbsp;`render`,&nbsp;the&nbsp;`task`&nbsp;object<br>passed&nbsp;to&nbsp;this&nbsp;method&nbsp;does&nbsp;not&nbsp;allow&nbsp;you&nbsp;to&nbsp;access&nbsp;artifacts&nbsp;from&nbsp;the<br>currently&nbsp;running&nbsp;task,&nbsp;since&nbsp;they&nbsp;are&nbsp;not&nbsp;yet&nbsp;available.&nbsp;Instead,&nbsp;you<br>can&nbsp;use&nbsp;the&nbsp;`data`&nbsp;dictionary&nbsp;to&nbsp;retrieve&nbsp;runtime&nbsp;data&nbsp;passed<br>in&nbsp;the&nbsp;user-facing&nbsp;`refresh`&nbsp;method.<br><br>Parameters<br>----------<br>task&nbsp;:&nbsp;Task<br>&nbsp;&nbsp;&nbsp;&nbsp;A&nbsp;`Task`&nbsp;object&nbsp;that&nbsp;allows&nbsp;you&nbsp;to&nbsp;access&nbsp;data&nbsp;from&nbsp;tasks<br>&nbsp;&nbsp;&nbsp;&nbsp;preceding&nbsp;it&nbsp;the&nbsp;currently&nbsp;running&nbsp;task.<br>data&nbsp;:&nbsp;dict<br>&nbsp;&nbsp;&nbsp;&nbsp;A&nbsp;dictionary&nbsp;containing&nbsp;user-defined&nbsp;runtime&nbsp;data.<br><br>Returns<br>-------<br>str<br>&nbsp;&nbsp;&nbsp;&nbsp;Card&nbsp;contents&nbsp;as&nbsp;an&nbsp;HTML&nbsp;string.</blockquote></p>\n",
       "</HTMLRemove>\n",
       "<DocSection type=\"method\" name=\"MetaflowCard.render_runtime\" module=\"metaflow.cards\" show_import=\"False\" heading_level=\"4\" link=\"https://github.com/Netflix/metaflow/tree/master/metaflow/plugins/cards/card_modules/card.py#L105\">\n",
       "<SigArgSection>\n",
       "<SigArg name=\"self\" /><SigArg name=\"task\" /><SigArg name=\"data\" />\n",
       "</SigArgSection>\n",
       "<Description summary=\"Produce intermediate custom card contents in HTML. The HTML returned by\\nthis method represents a runtime snapshot of a dynamic card.\" extended_summary=\"Subclasses may override this method to customize the card contents while a\\ntask is executing, making the card dynamic.\\n\\nNote that in contrast to `render`, the `task` object\\npassed to this method does not allow you to access artifacts from the\\ncurrently running task, since they are not yet available. Instead, you\\ncan use the `data` dictionary to retrieve runtime data passed\\nin the user-facing `refresh` method.\" />\n",
       "<ParamSection name=\"Parameters\">\n",
       "\t<Parameter name=\"task\" type=\"Task\" desc=\"A `Task` object that allows you to access data from tasks\\npreceding it the currently running task.\" />\n",
       "\t<Parameter name=\"data\" type=\"dict\" desc=\"A dictionary containing user-defined runtime data.\" />\n",
       "</ParamSection>\n",
       "<ParamSection name=\"Returns\">\n",
       "\t<Parameter type=\"str\" desc=\"Card contents as an HTML string.\" />\n",
       "</ParamSection>\n",
       "</DocSection>"
      ],
      "text/plain": [
       "<nbdoc.showdoc.ShowDoc at 0x10737ad90>"
      ]
     },
     "execution_count": 24,
     "metadata": {},
     "output_type": "execute_result"
    }
   ],
   "source": [
    "ShowDoc(MetaflowCard.render_runtime)"
   ]
  },
  {
   "cell_type": "code",
   "execution_count": 25,
   "id": "e360ce50",
   "metadata": {
    "execution": {
     "iopub.execute_input": "2024-01-19T07:15:35.579874Z",
     "iopub.status.busy": "2024-01-19T07:15:35.579792Z",
     "iopub.status.idle": "2024-01-19T07:15:35.582129Z",
     "shell.execute_reply": "2024-01-19T07:15:35.581929Z"
    }
   },
   "outputs": [
    {
     "data": {
      "text/html": [
       "<HTMLRemove>\n",
       "<h4> <code>method</code> <span style=\"color:Brown\">MetaflowCard.refresh</span> <em>(self, task, data)</em><a href=\"https://github.com/Netflix/metaflow/tree/master/metaflow/plugins/cards/card_modules/card.py#L134\" style=\"float:right\">[source]</a></h4><p><blockquote>Produce&nbsp;a&nbsp;runtime&nbsp;data&nbsp;JSON&nbsp;that&nbsp;is&nbsp;passed&nbsp;to&nbsp;the&nbsp;card&nbsp;Javascript<br>on&nbsp;the&nbsp;client-side.<br><br>Subclasses&nbsp;may&nbsp;override&nbsp;this&nbsp;method&nbsp;to&nbsp;customize&nbsp;the&nbsp;card&nbsp;contents&nbsp;while&nbsp;a<br>task&nbsp;is&nbsp;executing,&nbsp;making&nbsp;the&nbsp;card&nbsp;dynamic.<br><br>A&nbsp;JSON-encoded&nbsp;dictionary&nbsp;returned&nbsp;by&nbsp;this&nbsp;method&nbsp;is&nbsp;passed&nbsp;to&nbsp;the<br>`metaflow_card_update`&nbsp;Javascript&nbsp;method&nbsp;on&nbsp;the&nbsp;client-side&nbsp;card&nbsp;to<br>update&nbsp;its&nbsp;contents&nbsp;live.&nbsp;You&nbsp;can&nbsp;perform&nbsp;arbitrary&nbsp;preprocessing<br>and&nbsp;refinement&nbsp;of&nbsp;the&nbsp;data&nbsp;passed&nbsp;to&nbsp;Javascript&nbsp;in&nbsp;this&nbsp;method.&nbsp;Or,<br>you&nbsp;may&nbsp;simply&nbsp;return&nbsp;the&nbsp;user-defined&nbsp;`data`&nbsp;as-is.<br><br>Note&nbsp;that&nbsp;in&nbsp;contrast&nbsp;to&nbsp;`render`,&nbsp;the&nbsp;`task`&nbsp;object<br>passed&nbsp;to&nbsp;this&nbsp;method&nbsp;does&nbsp;not&nbsp;allow&nbsp;you&nbsp;to&nbsp;access&nbsp;artifacts&nbsp;from&nbsp;the<br>currently&nbsp;running&nbsp;task,&nbsp;since&nbsp;they&nbsp;are&nbsp;not&nbsp;yet&nbsp;available.&nbsp;Instead,&nbsp;you<br>can&nbsp;use&nbsp;the&nbsp;`data`&nbsp;dictionary&nbsp;to&nbsp;retrieve&nbsp;runtime&nbsp;data&nbsp;passed<br>in&nbsp;the&nbsp;user-facing&nbsp;`refresh`&nbsp;method.<br><br>Parameters<br>----------<br>task&nbsp;:&nbsp;Task<br>&nbsp;&nbsp;&nbsp;&nbsp;A&nbsp;`Task`&nbsp;object&nbsp;that&nbsp;allows&nbsp;you&nbsp;to&nbsp;access&nbsp;data&nbsp;from&nbsp;tasks<br>&nbsp;&nbsp;&nbsp;&nbsp;preceding&nbsp;it&nbsp;the&nbsp;currently&nbsp;running&nbsp;task.<br>data&nbsp;:&nbsp;dict<br>&nbsp;&nbsp;&nbsp;&nbsp;A&nbsp;dictionary&nbsp;containing&nbsp;user-defined&nbsp;runtime&nbsp;data.<br><br>Returns<br>-------<br>dict<br>&nbsp;&nbsp;&nbsp;&nbsp;Dictionary&nbsp;passed&nbsp;to&nbsp;the&nbsp;card&nbsp;on&nbsp;the&nbsp;client-side</blockquote></p>\n",
       "</HTMLRemove>\n",
       "<DocSection type=\"method\" name=\"MetaflowCard.refresh\" module=\"metaflow.cards\" show_import=\"False\" heading_level=\"4\" link=\"https://github.com/Netflix/metaflow/tree/master/metaflow/plugins/cards/card_modules/card.py#L134\">\n",
       "<SigArgSection>\n",
       "<SigArg name=\"self\" /><SigArg name=\"task\" /><SigArg name=\"data\" />\n",
       "</SigArgSection>\n",
       "<Description summary=\"Produce a runtime data JSON that is passed to the card Javascript\\non the client-side.\" extended_summary=\"Subclasses may override this method to customize the card contents while a\\ntask is executing, making the card dynamic.\\n\\nA JSON-encoded dictionary returned by this method is passed to the\\n`metaflow_card_update` Javascript method on the client-side card to\\nupdate its contents live. You can perform arbitrary preprocessing\\nand refinement of the data passed to Javascript in this method. Or,\\nyou may simply return the user-defined `data` as-is.\\n\\nNote that in contrast to `render`, the `task` object\\npassed to this method does not allow you to access artifacts from the\\ncurrently running task, since they are not yet available. Instead, you\\ncan use the `data` dictionary to retrieve runtime data passed\\nin the user-facing `refresh` method.\" />\n",
       "<ParamSection name=\"Parameters\">\n",
       "\t<Parameter name=\"task\" type=\"Task\" desc=\"A `Task` object that allows you to access data from tasks\\npreceding it the currently running task.\" />\n",
       "\t<Parameter name=\"data\" type=\"dict\" desc=\"A dictionary containing user-defined runtime data.\" />\n",
       "</ParamSection>\n",
       "<ParamSection name=\"Returns\">\n",
       "\t<Parameter type=\"dict\" desc=\"Dictionary passed to the card on the client-side\" />\n",
       "</ParamSection>\n",
       "</DocSection>"
      ],
      "text/plain": [
       "<nbdoc.showdoc.ShowDoc at 0x107378bd0>"
      ]
     },
     "execution_count": 25,
     "metadata": {},
     "output_type": "execute_result"
    }
   ],
   "source": [
    "ShowDoc(MetaflowCard.refresh)"
   ]
  },
  {
   "cell_type": "code",
   "execution_count": null,
   "id": "a946709f",
   "metadata": {},
   "outputs": [],
   "source": []
  }
 ],
 "metadata": {
  "kernelspec": {
   "display_name": "Python 3 (ipykernel)",
   "language": "python",
   "name": "python3"
  },
  "language_info": {
   "codemirror_mode": {
    "name": "ipython",
    "version": 3
   },
   "file_extension": ".py",
   "mimetype": "text/x-python",
   "name": "python",
   "nbconvert_exporter": "python",
   "pygments_lexer": "ipython3",
   "version": "3.11.0"
  }
 },
 "nbformat": 4,
 "nbformat_minor": 5
}
