{
 "cells": [
  {
   "cell_type": "markdown",
   "id": "eb7388b6",
   "metadata": {},
   "source": [
    "# Cards - Visualizing results"
   ]
  },
  {
   "cell_type": "markdown",
   "id": "576777f8",
   "metadata": {},
   "source": [
    "Metaflow Cards allows you to produce [human readable reports in workflows](/metaflow/visualizing-results). Use the following APIs to enable, customize, and access cards:\n",
    "\n",
    " - **Enable cards** by adding [the `@card` decorator](/api/step-decorators/card) in any step.\n",
    " - **Specify card contents** with [card components](#card-components).\n",
    " - **Populate card components** with [the `current` object](/api/current#card).\n",
    " - **Retrive cards** with [the `get_cards` method](#retrieving-cards) or on the command line with the `card` commands.\n",
    " - **Create fully custom, shareable cards** with custom [`MetaflowCard` classes](#defining-a-custom-card)."
   ]
  },
  {
   "cell_type": "code",
   "execution_count": 1,
   "id": "a5ef9454",
   "metadata": {
    "execution": {
     "iopub.execute_input": "2023-06-03T08:02:34.514661Z",
     "iopub.status.busy": "2023-06-03T08:02:34.514569Z",
     "iopub.status.idle": "2023-06-03T08:02:34.875883Z",
     "shell.execute_reply": "2023-06-03T08:02:34.875607Z"
    }
   },
   "outputs": [],
   "source": [
    "#meta:tag=hide\n",
    "from functools import partial\n",
    "from nbdoc.showdoc import ShowDoc\n",
    "ShowDoc = partial(ShowDoc, module_nm='metaflow.cards')\n",
    "\n",
    "from metaflow.cards import get_cards\n",
    "from metaflow.plugins.cards.card_client import CardContainer, Card"
   ]
  },
  {
   "cell_type": "markdown",
   "id": "ab418a7b",
   "metadata": {},
   "source": [
    "## Retrieving cards\n",
    "\n",
    "To retrieve a card after a run has finished, use the `get_cards` function e.g. in a notebook or the `card get` command on the CLI.\n",
    "\n",
    "Since a task can contain multiple cards `get_cards` returns a container object, `CardContainer`, which holds `Card` objects corresponding to individual cards. Notably both `CardContainer` and `Card` objects contain a function that allow them to visualize cards in the notebook output cell automatically, so a single `get_cards` call can be used to show all cards of a step in a notebook."
   ]
  },
  {
   "cell_type": "code",
   "execution_count": 2,
   "id": "09970e68",
   "metadata": {
    "execution": {
     "iopub.execute_input": "2023-06-03T08:02:34.878268Z",
     "iopub.status.busy": "2023-06-03T08:02:34.878112Z",
     "iopub.status.idle": "2023-06-03T08:02:34.882839Z",
     "shell.execute_reply": "2023-06-03T08:02:34.882614Z"
    }
   },
   "outputs": [
    {
     "data": {
      "text/html": [
       "<HTMLRemove>\n",
       "<h3> <code>function</code> <span style=\"color:Brown\">get_cards</span> <em>(task: Union[str, ForwardRef('Task')], id: Optional[str] = None, type: Optional[str] = None, follow_resumed: bool = True) -> metaflow.plugins.cards.card_client.CardContainer</em><a href=\"https://github.com/Netflix/metaflow/tree/master/metaflow/plugins/cards/card_client.py#L207\" style=\"float:right\">[source]</a></h3><strong>metaflow.cards</strong><p><blockquote>Get&nbsp;cards&nbsp;related&nbsp;to&nbsp;a&nbsp;`Task`.<br><br>Note&nbsp;that&nbsp;`get_cards`&nbsp;resolves&nbsp;the&nbsp;cards&nbsp;contained&nbsp;by&nbsp;the&nbsp;task,&nbsp;but&nbsp;it&nbsp;doesn't&nbsp;actually<br>retrieve&nbsp;them&nbsp;from&nbsp;the&nbsp;datastore.&nbsp;Actual&nbsp;card&nbsp;contents&nbsp;are&nbsp;retrieved&nbsp;lazily&nbsp;either&nbsp;when<br>the&nbsp;card&nbsp;is&nbsp;rendered&nbsp;in&nbsp;a&nbsp;notebook&nbsp;to&nbsp;when&nbsp;you&nbsp;call&nbsp;`Card.get`.&nbsp;This&nbsp;means&nbsp;that<br>`get_cards`&nbsp;is&nbsp;a&nbsp;fast&nbsp;call&nbsp;even&nbsp;when&nbsp;individual&nbsp;cards&nbsp;contain&nbsp;a&nbsp;lot&nbsp;of&nbsp;data.<br><br>Parameters<br>----------<br>task&nbsp;:&nbsp;str&nbsp;or&nbsp;`Task`<br>&nbsp;&nbsp;&nbsp;&nbsp;A&nbsp;`Task`&nbsp;object&nbsp;or&nbsp;pathspec&nbsp;`{flow_name}/{run_id}/{step_name}/{task_id}`&nbsp;that<br>&nbsp;&nbsp;&nbsp;&nbsp;uniquely&nbsp;identifies&nbsp;a&nbsp;task.<br>id&nbsp;:&nbsp;str,&nbsp;optional<br>&nbsp;&nbsp;&nbsp;&nbsp;The&nbsp;ID&nbsp;of&nbsp;card&nbsp;to&nbsp;retrieve&nbsp;if&nbsp;multiple&nbsp;cards&nbsp;are&nbsp;present.<br>type&nbsp;:&nbsp;str,&nbsp;optional<br>&nbsp;&nbsp;&nbsp;&nbsp;The&nbsp;type&nbsp;of&nbsp;card&nbsp;to&nbsp;retrieve&nbsp;if&nbsp;multiple&nbsp;cards&nbsp;are&nbsp;present.<br>follow_resumed&nbsp;:&nbsp;bool,&nbsp;default:&nbsp;True<br>&nbsp;&nbsp;&nbsp;&nbsp;If&nbsp;the&nbsp;task&nbsp;has&nbsp;been&nbsp;resumed,&nbsp;then&nbsp;setting&nbsp;this&nbsp;flag&nbsp;will&nbsp;resolve&nbsp;the&nbsp;card&nbsp;for<br>&nbsp;&nbsp;&nbsp;&nbsp;the&nbsp;origin&nbsp;task.<br><br>Returns<br>-------<br>CardContainer<br>&nbsp;&nbsp;&nbsp;&nbsp;A&nbsp;list-like&nbsp;object&nbsp;that&nbsp;holds&nbsp;`Card`&nbsp;objects.</blockquote></p>\n",
       "</HTMLRemove>\n",
       "<DocSection type=\"function\" name=\"get_cards\" module=\"metaflow.cards\" show_import=\"True\" heading_level=\"3\" link=\"https://github.com/Netflix/metaflow/tree/master/metaflow/plugins/cards/card_client.py#L207\">\n",
       "<SigArgSection>\n",
       "<SigArg name=\"task\" type=\"Union\" /><SigArg name=\"id\" type=\"Optional\" default=\"None\" /><SigArg name=\"type\" type=\"Optional\" default=\"None\" /><SigArg name=\"follow_resumed\" type=\"bool\" default=\"True\" />\n",
       "</SigArgSection>\n",
       "<Description summary=\"Get cards related to a `Task`.\" extended_summary=\"Note that `get_cards` resolves the cards contained by the task, but it doesn't actually\\nretrieve them from the datastore. Actual card contents are retrieved lazily either when\\nthe card is rendered in a notebook to when you call `Card.get`. This means that\\n`get_cards` is a fast call even when individual cards contain a lot of data.\" />\n",
       "<ParamSection name=\"Parameters\">\n",
       "\t<Parameter name=\"task\" type=\"str or `Task`\" desc=\"A `Task` object or pathspec `{flow_name}/{run_id}/{step_name}/{task_id}` that\\nuniquely identifies a task.\" />\n",
       "\t<Parameter name=\"id\" type=\"str, optional\" desc=\"The ID of card to retrieve if multiple cards are present.\" />\n",
       "\t<Parameter name=\"type\" type=\"str, optional\" desc=\"The type of card to retrieve if multiple cards are present.\" />\n",
       "\t<Parameter name=\"follow_resumed\" type=\"bool, default: True\" desc=\"If the task has been resumed, then setting this flag will resolve the card for\\nthe origin task.\" />\n",
       "</ParamSection>\n",
       "<ParamSection name=\"Returns\">\n",
       "\t<Parameter type=\"CardContainer\" desc=\"A list-like object that holds `Card` objects.\" />\n",
       "</ParamSection>\n",
       "</DocSection>"
      ],
      "text/plain": [
       "<nbdoc.showdoc.ShowDoc at 0x107a459d0>"
      ]
     },
     "execution_count": 2,
     "metadata": {},
     "output_type": "execute_result"
    }
   ],
   "source": [
    "ShowDoc(get_cards, show_import=True)"
   ]
  },
  {
   "cell_type": "code",
   "execution_count": 3,
   "id": "c65fa811",
   "metadata": {
    "execution": {
     "iopub.execute_input": "2023-06-03T08:02:34.884729Z",
     "iopub.status.busy": "2023-06-03T08:02:34.884646Z",
     "iopub.status.idle": "2023-06-03T08:02:34.888426Z",
     "shell.execute_reply": "2023-06-03T08:02:34.888179Z"
    }
   },
   "outputs": [
    {
     "data": {
      "text/html": [
       "<HTMLRemove>\n",
       "<h3> <code>class</code> <span style=\"color:Brown\">CardContainer</span> <em></em><a href=\"https://github.com/Netflix/metaflow/tree/master/metaflow/plugins/cards/card_client.py#L128\" style=\"float:right\">[source]</a></h3><p><blockquote>`CardContainer`&nbsp;is&nbsp;an&nbsp;immutable&nbsp;list-like&nbsp;object,&nbsp;returned&nbsp;by&nbsp;`get_cards`,<br>which&nbsp;contains&nbsp;individual&nbsp;`Card`s.<br><br>Notably,&nbsp;`CardContainer`&nbsp;contains&nbsp;a&nbsp;special<br>`_repr_html_`&nbsp;function&nbsp;which&nbsp;renders&nbsp;cards&nbsp;automatically&nbsp;in&nbsp;an&nbsp;output<br>cell&nbsp;of&nbsp;a&nbsp;notebook.<br><br>The&nbsp;following&nbsp;operations&nbsp;are&nbsp;supported:<br>```<br>cards&nbsp;=&nbsp;get_cards(MyTask)<br><br>#&nbsp;retrieve&nbsp;by&nbsp;index<br>first_card&nbsp;=&nbsp;cards[0]<br><br>#&nbsp;check&nbsp;length<br>if&nbsp;len(cards)&nbsp;>&nbsp;1:<br>&nbsp;&nbsp;&nbsp;&nbsp;print('many&nbsp;cards&nbsp;present!')<br><br>#&nbsp;iteration<br>list_of_cards&nbsp;=&nbsp;list(cards)<br>```</blockquote></p>\n",
       "</HTMLRemove>\n",
       "<DocSection type=\"class\" name=\"CardContainer\" module=\"metaflow.cards\" show_import=\"False\" heading_level=\"3\" link=\"https://github.com/Netflix/metaflow/tree/master/metaflow/plugins/cards/card_client.py#L128\">\n",
       "<SigArgSection>\n",
       "<SigArg name=\"\" />\n",
       "</SigArgSection>\n",
       "<Description summary=\"`CardContainer` is an immutable list-like object, returned by `get_cards`,\\nwhich contains individual `Card`s.\" extended_summary=\"Notably, `CardContainer` contains a special\\n`_repr_html_` function which renders cards automatically in an output\\ncell of a notebook.\\n\\nThe following operations are supported:\\n```\\ncards = get_cards(MyTask)\\n\\n# retrieve by index\\nfirst_card = cards[0]\\n\\n# check length\\nif len(cards) > 1:\\n    print('many cards present!')\\n\\n# iteration\\nlist_of_cards = list(cards)\\n```\" />\n",
       "\n",
       "</DocSection>"
      ],
      "text/plain": [
       "<nbdoc.showdoc.ShowDoc at 0x107a9f490>"
      ]
     },
     "execution_count": 3,
     "metadata": {},
     "output_type": "execute_result"
    }
   ],
   "source": [
    "ShowDoc(CardContainer,  spoofstr='')"
   ]
  },
  {
   "cell_type": "code",
   "execution_count": 4,
   "id": "de91c8c9",
   "metadata": {
    "execution": {
     "iopub.execute_input": "2023-06-03T08:02:34.890394Z",
     "iopub.status.busy": "2023-06-03T08:02:34.890262Z",
     "iopub.status.idle": "2023-06-03T08:02:34.894253Z",
     "shell.execute_reply": "2023-06-03T08:02:34.893918Z"
    }
   },
   "outputs": [
    {
     "data": {
      "text/html": [
       "<HTMLRemove>\n",
       "<h3> <code>class</code> <span style=\"color:Brown\">Card</span> <em></em><a href=\"https://github.com/Netflix/metaflow/tree/master/metaflow/plugins/cards/card_client.py#L22\" style=\"float:right\">[source]</a></h3><p><blockquote>`Card`&nbsp;represents&nbsp;an&nbsp;individual&nbsp;Metaflow&nbsp;Card,&nbsp;a&nbsp;single&nbsp;HTML&nbsp;file,&nbsp;produced&nbsp;by<br>the&nbsp;card&nbsp;`@card`&nbsp;decorator.&nbsp;`Card`s&nbsp;are&nbsp;contained&nbsp;by&nbsp;`CardContainer`,&nbsp;returned&nbsp;by<br>`get_cards`.<br><br>Note&nbsp;that&nbsp;the&nbsp;contents&nbsp;of&nbsp;the&nbsp;card,&nbsp;an&nbsp;HTML&nbsp;file,&nbsp;is&nbsp;retrieved&nbsp;lazily&nbsp;when&nbsp;you&nbsp;call<br>`Card.get`&nbsp;for&nbsp;the&nbsp;first&nbsp;time&nbsp;or&nbsp;when&nbsp;the&nbsp;card&nbsp;is&nbsp;rendered&nbsp;in&nbsp;a&nbsp;notebook.</blockquote></p>\n",
       "</HTMLRemove>\n",
       "<DocSection type=\"class\" name=\"Card\" module=\"metaflow.cards\" show_import=\"False\" heading_level=\"3\" link=\"https://github.com/Netflix/metaflow/tree/master/metaflow/plugins/cards/card_client.py#L22\">\n",
       "<SigArgSection>\n",
       "<SigArg name=\"\" />\n",
       "</SigArgSection>\n",
       "<Description summary=\"`Card` represents an individual Metaflow Card, a single HTML file, produced by\\nthe card `@card` decorator. `Card`s are contained by `CardContainer`, returned by\\n`get_cards`.\" extended_summary=\"Note that the contents of the card, an HTML file, is retrieved lazily when you call\\n`Card.get` for the first time or when the card is rendered in a notebook.\" />\n",
       "<ParamSection name=\"Attributes\">\n",
       "\t<Parameter name=\"id\" desc=\"The ID of the card, if specified with `@card(id=ID)`.\" />\n",
       "\t<Parameter name=\"path\" desc=\"The path of the card in the datastore which uniquely\\nidentifies the card.\\n\\nReturns\\n-------\\nstr\\n    Path to the card\" />\n",
       "</ParamSection>\n",
       "</DocSection>"
      ],
      "text/plain": [
       "<nbdoc.showdoc.ShowDoc at 0x10626e690>"
      ]
     },
     "execution_count": 4,
     "metadata": {},
     "output_type": "execute_result"
    }
   ],
   "source": [
    "ShowDoc(Card, spoofstr='')"
   ]
  },
  {
   "cell_type": "code",
   "execution_count": 5,
   "id": "6d76de09",
   "metadata": {
    "execution": {
     "iopub.execute_input": "2023-06-03T08:02:34.896737Z",
     "iopub.status.busy": "2023-06-03T08:02:34.896626Z",
     "iopub.status.idle": "2023-06-03T08:02:34.899161Z",
     "shell.execute_reply": "2023-06-03T08:02:34.898895Z"
    }
   },
   "outputs": [
    {
     "data": {
      "text/html": [
       "<HTMLRemove>\n",
       "<h4> <code>method</code> <span style=\"color:Brown\">Card.get</span> <em>(self) -> str</em><a href=\"https://github.com/Netflix/metaflow/tree/master/metaflow/plugins/cards/card_client.py#L60\" style=\"float:right\">[source]</a></h4><p><blockquote>Retrieves&nbsp;the&nbsp;HTML&nbsp;contents&nbsp;of&nbsp;the&nbsp;card&nbsp;from&nbsp;the<br>Metaflow&nbsp;datastore.<br><br>Returns<br>-------<br>str<br>&nbsp;&nbsp;&nbsp;&nbsp;HTML&nbsp;contents&nbsp;of&nbsp;the&nbsp;card.</blockquote></p>\n",
       "</HTMLRemove>\n",
       "<DocSection type=\"method\" name=\"Card.get\" module=\"metaflow.cards\" show_import=\"False\" heading_level=\"4\" link=\"https://github.com/Netflix/metaflow/tree/master/metaflow/plugins/cards/card_client.py#L60\">\n",
       "<SigArgSection>\n",
       "<SigArg name=\"self\" />\n",
       "</SigArgSection>\n",
       "<Description summary=\"Retrieves the HTML contents of the card from the\\nMetaflow datastore.\" />\n",
       "<ParamSection name=\"Returns\">\n",
       "\t<Parameter type=\"str\" desc=\"HTML contents of the card.\" />\n",
       "</ParamSection>\n",
       "</DocSection>"
      ],
      "text/plain": [
       "<nbdoc.showdoc.ShowDoc at 0x105e23c90>"
      ]
     },
     "execution_count": 5,
     "metadata": {},
     "output_type": "execute_result"
    }
   ],
   "source": [
    "ShowDoc(Card.get)"
   ]
  },
  {
   "cell_type": "code",
   "execution_count": 6,
   "id": "69f97d00",
   "metadata": {
    "execution": {
     "iopub.execute_input": "2023-06-03T08:02:34.901273Z",
     "iopub.status.busy": "2023-06-03T08:02:34.901182Z",
     "iopub.status.idle": "2023-06-03T08:02:34.903480Z",
     "shell.execute_reply": "2023-06-03T08:02:34.903226Z"
    }
   },
   "outputs": [
    {
     "data": {
      "text/html": [
       "<HTMLRemove>\n",
       "<h4> <code>method</code> <span style=\"color:Brown\">Card.view</span> <em>(self) -> None</em><a href=\"https://github.com/Netflix/metaflow/tree/master/metaflow/plugins/cards/card_client.py#L98\" style=\"float:right\">[source]</a></h4><p><blockquote>Opens&nbsp;the&nbsp;card&nbsp;in&nbsp;a&nbsp;local&nbsp;web&nbsp;browser.<br><br>This&nbsp;call&nbsp;uses&nbsp;Python's&nbsp;built-in&nbsp;[`webbrowser`](https://docs.python.org/3/library/webbrowser.html)<br>module&nbsp;to&nbsp;open&nbsp;the&nbsp;card.</blockquote></p>\n",
       "</HTMLRemove>\n",
       "<DocSection type=\"method\" name=\"Card.view\" module=\"metaflow.cards\" show_import=\"False\" heading_level=\"4\" link=\"https://github.com/Netflix/metaflow/tree/master/metaflow/plugins/cards/card_client.py#L98\">\n",
       "<SigArgSection>\n",
       "<SigArg name=\"self\" />\n",
       "</SigArgSection>\n",
       "<Description summary=\"Opens the card in a local web browser.\" extended_summary=\"This call uses Python's built-in [`webbrowser`](https://docs.python.org/3/library/webbrowser.html)\\nmodule to open the card.\" />\n",
       "\n",
       "</DocSection>"
      ],
      "text/plain": [
       "<nbdoc.showdoc.ShowDoc at 0x107ae0250>"
      ]
     },
     "execution_count": 6,
     "metadata": {},
     "output_type": "execute_result"
    }
   ],
   "source": [
    "ShowDoc(Card.view)"
   ]
  },
  {
   "cell_type": "markdown",
   "id": "1de46198",
   "metadata": {},
   "source": [
    "## Card components\n",
    "\n",
    "You can customize the contents of a card easily using *card components*, a set of visual elements included in Metaflow which are documented below. See [Easy Custom Reports with Card Components](/metaflow/visualizing-results/easy-custom-reports-with-card-components) for instructions.\n",
    "\n",
    "The components are added to cards in `@step` methods (or functions called from steps), using [the `current.card` object](/api/current#card)."
   ]
  },
  {
   "cell_type": "code",
   "execution_count": 7,
   "id": "53a776e9",
   "metadata": {
    "execution": {
     "iopub.execute_input": "2023-06-03T08:02:34.905460Z",
     "iopub.status.busy": "2023-06-03T08:02:34.905369Z",
     "iopub.status.idle": "2023-06-03T08:02:34.907028Z",
     "shell.execute_reply": "2023-06-03T08:02:34.906761Z"
    }
   },
   "outputs": [],
   "source": [
    "#meta:tag=hide\n",
    "\n",
    "from metaflow.cards import Markdown, Image, Artifact, Table"
   ]
  },
  {
   "cell_type": "markdown",
   "id": "8452845b",
   "metadata": {},
   "source": [
    "### Markdown"
   ]
  },
  {
   "cell_type": "code",
   "execution_count": 8,
   "id": "752c4a43",
   "metadata": {
    "execution": {
     "iopub.execute_input": "2023-06-03T08:02:34.909068Z",
     "iopub.status.busy": "2023-06-03T08:02:34.908962Z",
     "iopub.status.idle": "2023-06-03T08:02:34.913352Z",
     "shell.execute_reply": "2023-06-03T08:02:34.913128Z"
    },
    "scrolled": true
   },
   "outputs": [
    {
     "data": {
      "text/html": [
       "<HTMLRemove>\n",
       "<h3> <code>class</code> <span style=\"color:Brown\">Markdown</span> <em>(text=None)</em><a href=\"https://github.com/Netflix/metaflow/tree/master/metaflow/plugins/cards/card_modules/components.py#L420\" style=\"float:right\">[source]</a></h3><strong>metaflow.cards</strong><p><blockquote>A&nbsp;block&nbsp;of&nbsp;text&nbsp;formatted&nbsp;in&nbsp;Markdown.<br><br>Example:<br>```<br>current.card.append(<br>&nbsp;&nbsp;&nbsp;&nbsp;Markdown(\"#&nbsp;This&nbsp;is&nbsp;a&nbsp;header&nbsp;appended&nbsp;from&nbsp;`@step`&nbsp;code\")<br>)<br>```<br><br>Parameters<br>----------<br>text&nbsp;:&nbsp;str<br>&nbsp;&nbsp;&nbsp;&nbsp;Text&nbsp;formatted&nbsp;in&nbsp;Markdown.</blockquote></p>\n",
       "</HTMLRemove>\n",
       "<DocSection type=\"class\" name=\"Markdown\" module=\"metaflow.cards\" show_import=\"True\" heading_level=\"3\" link=\"https://github.com/Netflix/metaflow/tree/master/metaflow/plugins/cards/card_modules/components.py#L420\">\n",
       "<SigArgSection>\n",
       "<SigArg name=\"text\" default=\"None\" />\n",
       "</SigArgSection>\n",
       "<Description summary=\"A block of text formatted in Markdown.\" extended_summary=\"Example:\\n```\\ncurrent.card.append(\\n    Markdown(&#34;# This is a header appended from `@step` code&#34;)\\n)\\n```\" />\n",
       "<ParamSection name=\"Parameters\">\n",
       "\t<Parameter name=\"text\" type=\"str\" desc=\"Text formatted in Markdown.\" />\n",
       "</ParamSection>\n",
       "</DocSection>"
      ],
      "text/plain": [
       "<nbdoc.showdoc.ShowDoc at 0x106e8b050>"
      ]
     },
     "execution_count": 8,
     "metadata": {},
     "output_type": "execute_result"
    }
   ],
   "source": [
    "ShowDoc(Markdown, show_import=True)"
   ]
  },
  {
   "cell_type": "markdown",
   "id": "a208dd7f",
   "metadata": {},
   "source": [
    "### Image"
   ]
  },
  {
   "cell_type": "code",
   "execution_count": 9,
   "id": "9c198774",
   "metadata": {
    "execution": {
     "iopub.execute_input": "2023-06-03T08:02:34.915055Z",
     "iopub.status.busy": "2023-06-03T08:02:34.914975Z",
     "iopub.status.idle": "2023-06-03T08:02:34.919728Z",
     "shell.execute_reply": "2023-06-03T08:02:34.919522Z"
    }
   },
   "outputs": [
    {
     "data": {
      "text/html": [
       "<HTMLRemove>\n",
       "<h3> <code>class</code> <span style=\"color:Brown\">Image</span> <em>(src=None, label=None)</em><a href=\"https://github.com/Netflix/metaflow/tree/master/metaflow/plugins/cards/card_modules/components.py#L165\" style=\"float:right\">[source]</a></h3><strong>metaflow.cards</strong><p><blockquote>An&nbsp;image.<br><br>`Images&nbsp;can&nbsp;be&nbsp;created&nbsp;directly&nbsp;from&nbsp;PNG/JPG/GIF&nbsp;`bytes`,&nbsp;`PIL.Image`s,<br>or&nbsp;Matplotlib&nbsp;figures.&nbsp;Note&nbsp;that&nbsp;the&nbsp;image&nbsp;data&nbsp;is&nbsp;embedded&nbsp;in&nbsp;the&nbsp;card,<br>so&nbsp;no&nbsp;external&nbsp;files&nbsp;are&nbsp;required&nbsp;to&nbsp;show&nbsp;the&nbsp;image.<br><br>Example:&nbsp;Create&nbsp;an&nbsp;`Image`&nbsp;from&nbsp;bytes:<br>```<br>current.card.append(<br>&nbsp;&nbsp;&nbsp;&nbsp;Image(<br>&nbsp;&nbsp;&nbsp;&nbsp;&nbsp;&nbsp;&nbsp;&nbsp;requests.get(\"https://www.gif-vif.com/hacker-cat.gif\").content,<br>&nbsp;&nbsp;&nbsp;&nbsp;&nbsp;&nbsp;&nbsp;&nbsp;\"Image&nbsp;From&nbsp;Bytes\"<br>&nbsp;&nbsp;&nbsp;&nbsp;)<br>)<br>```<br><br>Example:&nbsp;Create&nbsp;an&nbsp;`Image`&nbsp;from&nbsp;a&nbsp;Matplotlib&nbsp;figure<br>```<br>import&nbsp;pandas&nbsp;as&nbsp;pd<br>import&nbsp;numpy&nbsp;as&nbsp;np<br>current.card.append(<br>&nbsp;&nbsp;&nbsp;&nbsp;Image.from_matplotlib(<br>&nbsp;&nbsp;&nbsp;&nbsp;&nbsp;&nbsp;&nbsp;&nbsp;pandas.DataFrame(<br>&nbsp;&nbsp;&nbsp;&nbsp;&nbsp;&nbsp;&nbsp;&nbsp;&nbsp;&nbsp;&nbsp;&nbsp;np.random.randint(0,&nbsp;100,&nbsp;size=(15,&nbsp;4)),<br>&nbsp;&nbsp;&nbsp;&nbsp;&nbsp;&nbsp;&nbsp;&nbsp;&nbsp;&nbsp;&nbsp;&nbsp;columns=list(\"ABCD\"),<br>&nbsp;&nbsp;&nbsp;&nbsp;&nbsp;&nbsp;&nbsp;&nbsp;).plot()<br>&nbsp;&nbsp;&nbsp;&nbsp;)<br>)<br>```<br><br>Example:&nbsp;Create&nbsp;an&nbsp;`Image`&nbsp;from&nbsp;a&nbsp;[PIL](https://pillow.readthedocs.io/)&nbsp;Image<br>```<br>from&nbsp;PIL&nbsp;import&nbsp;Image&nbsp;as&nbsp;PILImage<br>current.card.append(<br>&nbsp;&nbsp;&nbsp;&nbsp;Image.from_pil_image(<br>&nbsp;&nbsp;&nbsp;&nbsp;&nbsp;&nbsp;&nbsp;&nbsp;PILImage.fromarray(np.random.randn(1024,&nbsp;768),&nbsp;\"RGB\"),<br>&nbsp;&nbsp;&nbsp;&nbsp;&nbsp;&nbsp;&nbsp;&nbsp;\"From&nbsp;PIL&nbsp;Image\"<br>&nbsp;&nbsp;&nbsp;&nbsp;)<br>)<br>```<br><br>Parameters<br>----------<br>src&nbsp;:&nbsp;bytes<br>&nbsp;&nbsp;&nbsp;&nbsp;The&nbsp;image&nbsp;data&nbsp;in&nbsp;`bytes`.<br>label&nbsp;:&nbsp;str<br>&nbsp;&nbsp;&nbsp;&nbsp;Optional&nbsp;label&nbsp;for&nbsp;the&nbsp;image.</blockquote></p>\n",
       "</HTMLRemove>\n",
       "<DocSection type=\"class\" name=\"Image\" module=\"metaflow.cards\" show_import=\"True\" heading_level=\"3\" link=\"https://github.com/Netflix/metaflow/tree/master/metaflow/plugins/cards/card_modules/components.py#L165\">\n",
       "<SigArgSection>\n",
       "<SigArg name=\"src\" default=\"None\" /><SigArg name=\"label\" default=\"None\" />\n",
       "</SigArgSection>\n",
       "<Description summary=\"An image.\" extended_summary=\"`Images can be created directly from PNG/JPG/GIF `bytes`, `PIL.Image`s,\\nor Matplotlib figures. Note that the image data is embedded in the card,\\nso no external files are required to show the image.\\n\\nExample: Create an `Image` from bytes:\\n```\\ncurrent.card.append(\\n    Image(\\n        requests.get(&#34;https://www.gif-vif.com/hacker-cat.gif&#34;).content,\\n        &#34;Image From Bytes&#34;\\n    )\\n)\\n```\\n\\nExample: Create an `Image` from a Matplotlib figure\\n```\\nimport pandas as pd\\nimport numpy as np\\ncurrent.card.append(\\n    Image.from_matplotlib(\\n        pandas.DataFrame(\\n            np.random.randint(0, 100, size=(15, 4)),\\n            columns=list(&#34;ABCD&#34;),\\n        ).plot()\\n    )\\n)\\n```\\n\\nExample: Create an `Image` from a [PIL](https://pillow.readthedocs.io/) Image\\n```\\nfrom PIL import Image as PILImage\\ncurrent.card.append(\\n    Image.from_pil_image(\\n        PILImage.fromarray(np.random.randn(1024, 768), &#34;RGB&#34;),\\n        &#34;From PIL Image&#34;\\n    )\\n)\\n```\" />\n",
       "<ParamSection name=\"Parameters\">\n",
       "\t<Parameter name=\"src\" type=\"bytes\" desc=\"The image data in `bytes`.\" />\n",
       "\t<Parameter name=\"label\" type=\"str\" desc=\"Optional label for the image.\" />\n",
       "</ParamSection>\n",
       "</DocSection>"
      ],
      "text/plain": [
       "<nbdoc.showdoc.ShowDoc at 0x107aa5e10>"
      ]
     },
     "execution_count": 9,
     "metadata": {},
     "output_type": "execute_result"
    }
   ],
   "source": [
    "ShowDoc(Image, show_import=True)"
   ]
  },
  {
   "cell_type": "code",
   "execution_count": 10,
   "id": "da3999a9",
   "metadata": {
    "execution": {
     "iopub.execute_input": "2023-06-03T08:02:34.921617Z",
     "iopub.status.busy": "2023-06-03T08:02:34.921500Z",
     "iopub.status.idle": "2023-06-03T08:02:34.924387Z",
     "shell.execute_reply": "2023-06-03T08:02:34.924144Z"
    },
    "scrolled": true
   },
   "outputs": [
    {
     "data": {
      "text/html": [
       "<HTMLRemove>\n",
       "<h4> <code>method</code> <span style=\"color:Brown\">Image.from_matplotlib</span> <em>(plot, label: Optional[str] = None)</em><a href=\"https://github.com/Netflix/metaflow/tree/master/metaflow/plugins/cards/card_modules/components.py#L314\" style=\"float:right\">[source]</a></h4><p><blockquote>Create&nbsp;an&nbsp;`Image`&nbsp;from&nbsp;a&nbsp;Matplotlib&nbsp;plot.<br><br>Parameters<br>----------<br>plot&nbsp;:&nbsp;&nbsp;matplotlib.figure.Figure&nbsp;or&nbsp;matplotlib.axes.Axes&nbsp;or&nbsp;matplotlib.axes._subplots.AxesSubplot<br>&nbsp;&nbsp;&nbsp;&nbsp;a&nbsp;PIL&nbsp;axes&nbsp;(plot)&nbsp;object.<br>label&nbsp;:&nbsp;str,&nbsp;optional<br>&nbsp;&nbsp;&nbsp;&nbsp;Optional&nbsp;label&nbsp;for&nbsp;the&nbsp;image.</blockquote></p>\n",
       "</HTMLRemove>\n",
       "<DocSection type=\"method\" name=\"Image.from_matplotlib\" module=\"metaflow.cards\" show_import=\"False\" heading_level=\"4\" link=\"https://github.com/Netflix/metaflow/tree/master/metaflow/plugins/cards/card_modules/components.py#L314\">\n",
       "<SigArgSection>\n",
       "<SigArg name=\"plot\" /><SigArg name=\"label\" type=\"Optional\" default=\"None\" />\n",
       "</SigArgSection>\n",
       "<Description summary=\"Create an `Image` from a Matplotlib plot.\" />\n",
       "<ParamSection name=\"Parameters\">\n",
       "\t<Parameter name=\"plot\" type=\"matplotlib.figure.Figure or matplotlib.axes.Axes or matplotlib.axes._subplots.AxesSubplot\" desc=\"a PIL axes (plot) object.\" />\n",
       "\t<Parameter name=\"label\" type=\"str, optional\" desc=\"Optional label for the image.\" />\n",
       "</ParamSection>\n",
       "</DocSection>"
      ],
      "text/plain": [
       "<nbdoc.showdoc.ShowDoc at 0x107afa5d0>"
      ]
     },
     "execution_count": 10,
     "metadata": {},
     "output_type": "execute_result"
    }
   ],
   "source": [
    "ShowDoc(Image.from_matplotlib)"
   ]
  },
  {
   "cell_type": "code",
   "execution_count": 11,
   "id": "432ec2c6",
   "metadata": {
    "execution": {
     "iopub.execute_input": "2023-06-03T08:02:34.927020Z",
     "iopub.status.busy": "2023-06-03T08:02:34.926914Z",
     "iopub.status.idle": "2023-06-03T08:02:34.929548Z",
     "shell.execute_reply": "2023-06-03T08:02:34.929297Z"
    },
    "scrolled": true
   },
   "outputs": [
    {
     "data": {
      "text/html": [
       "<HTMLRemove>\n",
       "<h4> <code>method</code> <span style=\"color:Brown\">Image.from_pil_image</span> <em>(pilimage, label: Optional[str] = None)</em><a href=\"https://github.com/Netflix/metaflow/tree/master/metaflow/plugins/cards/card_modules/components.py#L266\" style=\"float:right\">[source]</a></h4><p><blockquote>Create&nbsp;an&nbsp;`Image`&nbsp;from&nbsp;a&nbsp;PIL&nbsp;image.<br><br>Parameters<br>----------<br>pilimage&nbsp;:&nbsp;PIL.Image<br>&nbsp;&nbsp;&nbsp;&nbsp;a&nbsp;PIL&nbsp;image&nbsp;object.<br>label&nbsp;:&nbsp;str,&nbsp;optional<br>&nbsp;&nbsp;&nbsp;&nbsp;Optional&nbsp;label&nbsp;for&nbsp;the&nbsp;image.</blockquote></p>\n",
       "</HTMLRemove>\n",
       "<DocSection type=\"method\" name=\"Image.from_pil_image\" module=\"metaflow.cards\" show_import=\"False\" heading_level=\"4\" link=\"https://github.com/Netflix/metaflow/tree/master/metaflow/plugins/cards/card_modules/components.py#L266\">\n",
       "<SigArgSection>\n",
       "<SigArg name=\"pilimage\" /><SigArg name=\"label\" type=\"Optional\" default=\"None\" />\n",
       "</SigArgSection>\n",
       "<Description summary=\"Create an `Image` from a PIL image.\" />\n",
       "<ParamSection name=\"Parameters\">\n",
       "\t<Parameter name=\"pilimage\" type=\"PIL.Image\" desc=\"a PIL image object.\" />\n",
       "\t<Parameter name=\"label\" type=\"str, optional\" desc=\"Optional label for the image.\" />\n",
       "</ParamSection>\n",
       "</DocSection>"
      ],
      "text/plain": [
       "<nbdoc.showdoc.ShowDoc at 0x107afb550>"
      ]
     },
     "execution_count": 11,
     "metadata": {},
     "output_type": "execute_result"
    }
   ],
   "source": [
    "ShowDoc(Image.from_pil_image)"
   ]
  },
  {
   "cell_type": "markdown",
   "id": "9a401910",
   "metadata": {},
   "source": [
    "### Artifact"
   ]
  },
  {
   "cell_type": "code",
   "execution_count": 12,
   "id": "da4cf95b",
   "metadata": {
    "execution": {
     "iopub.execute_input": "2023-06-03T08:02:34.932017Z",
     "iopub.status.busy": "2023-06-03T08:02:34.931923Z",
     "iopub.status.idle": "2023-06-03T08:02:34.935710Z",
     "shell.execute_reply": "2023-06-03T08:02:34.935441Z"
    }
   },
   "outputs": [
    {
     "data": {
      "text/html": [
       "<HTMLRemove>\n",
       "<h3> <code>class</code> <span style=\"color:Brown\">Artifact</span> <em>(artifact: Any, name: Optional[str] = None, compressed: bool = True)</em><a href=\"https://github.com/Netflix/metaflow/tree/master/metaflow/plugins/cards/card_modules/components.py#L20\" style=\"float:right\">[source]</a></h3><strong>metaflow.cards</strong><p><blockquote>A&nbsp;pretty-printed&nbsp;version&nbsp;of&nbsp;any&nbsp;Python&nbsp;object.<br><br>Large&nbsp;objects&nbsp;are&nbsp;truncated&nbsp;using&nbsp;Python's&nbsp;built-in&nbsp;[`reprlib`](https://docs.python.org/3/library/reprlib.html).<br><br>Example:<br>```<br>from&nbsp;datetime&nbsp;import&nbsp;datetime<br>current.card.append(Artifact({'now':&nbsp;datetime.utcnow()}))<br>```<br><br>Parameters<br>----------<br>artifact&nbsp;:&nbsp;object<br>&nbsp;&nbsp;&nbsp;&nbsp;Any&nbsp;Python&nbsp;object.<br>name&nbsp;:&nbsp;str,&nbsp;optional<br>&nbsp;&nbsp;&nbsp;&nbsp;Optional&nbsp;label&nbsp;for&nbsp;the&nbsp;object.<br>compressed&nbsp;:&nbsp;bool,&nbsp;default:&nbsp;True<br>&nbsp;&nbsp;&nbsp;&nbsp;Use&nbsp;a&nbsp;truncated&nbsp;representation.</blockquote></p>\n",
       "</HTMLRemove>\n",
       "<DocSection type=\"class\" name=\"Artifact\" module=\"metaflow.cards\" show_import=\"True\" heading_level=\"3\" link=\"https://github.com/Netflix/metaflow/tree/master/metaflow/plugins/cards/card_modules/components.py#L20\">\n",
       "<SigArgSection>\n",
       "<SigArg name=\"artifact\" type=\"Any\" /><SigArg name=\"name\" type=\"Optional\" default=\"None\" /><SigArg name=\"compressed\" type=\"bool\" default=\"True\" />\n",
       "</SigArgSection>\n",
       "<Description summary=\"A pretty-printed version of any Python object.\" extended_summary=\"Large objects are truncated using Python's built-in [`reprlib`](https://docs.python.org/3/library/reprlib.html).\\n\\nExample:\\n```\\nfrom datetime import datetime\\ncurrent.card.append(Artifact({'now': datetime.utcnow()}))\\n```\" />\n",
       "<ParamSection name=\"Parameters\">\n",
       "\t<Parameter name=\"artifact\" type=\"object\" desc=\"Any Python object.\" />\n",
       "\t<Parameter name=\"name\" type=\"str, optional\" desc=\"Optional label for the object.\" />\n",
       "\t<Parameter name=\"compressed\" type=\"bool, default: True\" desc=\"Use a truncated representation.\" />\n",
       "</ParamSection>\n",
       "</DocSection>"
      ],
      "text/plain": [
       "<nbdoc.showdoc.ShowDoc at 0x107afb050>"
      ]
     },
     "execution_count": 12,
     "metadata": {},
     "output_type": "execute_result"
    }
   ],
   "source": [
    "ShowDoc(Artifact, show_import=True)"
   ]
  },
  {
   "cell_type": "markdown",
   "id": "725519c8",
   "metadata": {},
   "source": [
    "### Table"
   ]
  },
  {
   "cell_type": "code",
   "execution_count": 13,
   "id": "7d1a016c",
   "metadata": {
    "execution": {
     "iopub.execute_input": "2023-06-03T08:02:34.937574Z",
     "iopub.status.busy": "2023-06-03T08:02:34.937504Z",
     "iopub.status.idle": "2023-06-03T08:02:34.941614Z",
     "shell.execute_reply": "2023-06-03T08:02:34.941366Z"
    }
   },
   "outputs": [
    {
     "data": {
      "text/html": [
       "<HTMLRemove>\n",
       "<h3> <code>class</code> <span style=\"color:Brown\">Table</span> <em>(data: Optional[List[List[Union[str, metaflow.plugins.cards.card_modules.card.MetaflowCardComponent]]]] = None, headers: Optional[List[str]] = None)</em><a href=\"https://github.com/Netflix/metaflow/tree/master/metaflow/plugins/cards/card_modules/components.py#L58\" style=\"float:right\">[source]</a></h3><strong>metaflow.cards</strong><p><blockquote>A&nbsp;table.<br><br>The&nbsp;contents&nbsp;of&nbsp;the&nbsp;table&nbsp;can&nbsp;be&nbsp;text&nbsp;or&nbsp;numerical&nbsp;data,&nbsp;a&nbsp;Pandas&nbsp;dataframe,<br>or&nbsp;other&nbsp;card&nbsp;components:&nbsp;`Artifact`,&nbsp;`Image`,&nbsp;`Markdown`&nbsp;objects.<br><br>Example:&nbsp;Text&nbsp;and&nbsp;artifacts<br>```<br>from&nbsp;metaflow.cards&nbsp;import&nbsp;Table,&nbsp;Artifact<br>current.card.append(<br>&nbsp;&nbsp;&nbsp;&nbsp;Table([<br>&nbsp;&nbsp;&nbsp;&nbsp;&nbsp;&nbsp;&nbsp;&nbsp;['first&nbsp;row',&nbsp;Artifact({'a':&nbsp;2})],<br>&nbsp;&nbsp;&nbsp;&nbsp;&nbsp;&nbsp;&nbsp;&nbsp;['second&nbsp;row',&nbsp;Artifact(3)]<br>&nbsp;&nbsp;&nbsp;&nbsp;])<br>)<br>```<br><br>Example:&nbsp;Table&nbsp;from&nbsp;a&nbsp;Pandas&nbsp;dataframe<br>```<br>from&nbsp;metaflow.cards&nbsp;import&nbsp;Table<br>import&nbsp;pandas&nbsp;as&nbsp;pd<br>import&nbsp;numpy&nbsp;as&nbsp;np<br>current.card.append(<br>&nbsp;&nbsp;&nbsp;&nbsp;Table.from_dataframe(<br>&nbsp;&nbsp;&nbsp;&nbsp;&nbsp;&nbsp;&nbsp;&nbsp;pd.DataFrame(<br>&nbsp;&nbsp;&nbsp;&nbsp;&nbsp;&nbsp;&nbsp;&nbsp;&nbsp;&nbsp;&nbsp;&nbsp;np.random.randint(0,&nbsp;100,&nbsp;size=(15,&nbsp;4)),<br>&nbsp;&nbsp;&nbsp;&nbsp;&nbsp;&nbsp;&nbsp;&nbsp;&nbsp;&nbsp;&nbsp;&nbsp;columns=list(\"ABCD\")<br>&nbsp;&nbsp;&nbsp;&nbsp;&nbsp;&nbsp;&nbsp;&nbsp;)<br>&nbsp;&nbsp;&nbsp;&nbsp;)<br>)<br>```<br><br>Parameters<br>----------<br>data&nbsp;:&nbsp;List[List[str&nbsp;or&nbsp;MetaflowCardComponent]],&nbsp;optional<br>&nbsp;&nbsp;&nbsp;&nbsp;List&nbsp;(rows)&nbsp;of&nbsp;lists&nbsp;(columns).&nbsp;Each&nbsp;item&nbsp;can&nbsp;be&nbsp;a&nbsp;string&nbsp;or&nbsp;a&nbsp;`MetaflowCardComponent`.<br>headers&nbsp;:&nbsp;List[str],&nbsp;optional<br>&nbsp;&nbsp;&nbsp;&nbsp;Optional&nbsp;header&nbsp;row&nbsp;for&nbsp;the&nbsp;table.</blockquote></p>\n",
       "</HTMLRemove>\n",
       "<DocSection type=\"class\" name=\"Table\" module=\"metaflow.cards\" show_import=\"True\" heading_level=\"3\" link=\"https://github.com/Netflix/metaflow/tree/master/metaflow/plugins/cards/card_modules/components.py#L58\">\n",
       "<SigArgSection>\n",
       "<SigArg name=\"data\" type=\"Optional\" default=\"None\" /><SigArg name=\"headers\" type=\"Optional\" default=\"None\" />\n",
       "</SigArgSection>\n",
       "<Description summary=\"A table.\" extended_summary=\"The contents of the table can be text or numerical data, a Pandas dataframe,\\nor other card components: `Artifact`, `Image`, `Markdown` objects.\\n\\nExample: Text and artifacts\\n```\\nfrom metaflow.cards import Table, Artifact\\ncurrent.card.append(\\n    Table([\\n        ['first row', Artifact({'a': 2})],\\n        ['second row', Artifact(3)]\\n    ])\\n)\\n```\\n\\nExample: Table from a Pandas dataframe\\n```\\nfrom metaflow.cards import Table\\nimport pandas as pd\\nimport numpy as np\\ncurrent.card.append(\\n    Table.from_dataframe(\\n        pd.DataFrame(\\n            np.random.randint(0, 100, size=(15, 4)),\\n            columns=list(&#34;ABCD&#34;)\\n        )\\n    )\\n)\\n```\" />\n",
       "<ParamSection name=\"Parameters\">\n",
       "\t<Parameter name=\"data\" type=\"List[List[str or MetaflowCardComponent]], optional\" desc=\"List (rows) of lists (columns). Each item can be a string or a `MetaflowCardComponent`.\" />\n",
       "\t<Parameter name=\"headers\" type=\"List[str], optional\" desc=\"Optional header row for the table.\" />\n",
       "</ParamSection>\n",
       "</DocSection>"
      ],
      "text/plain": [
       "<nbdoc.showdoc.ShowDoc at 0x107ad4110>"
      ]
     },
     "execution_count": 13,
     "metadata": {},
     "output_type": "execute_result"
    }
   ],
   "source": [
    "ShowDoc(Table, show_import=True)"
   ]
  },
  {
   "cell_type": "code",
   "execution_count": 14,
   "id": "1e65fe26",
   "metadata": {
    "execution": {
     "iopub.execute_input": "2023-06-03T08:02:34.944176Z",
     "iopub.status.busy": "2023-06-03T08:02:34.944054Z",
     "iopub.status.idle": "2023-06-03T08:02:34.946653Z",
     "shell.execute_reply": "2023-06-03T08:02:34.946409Z"
    }
   },
   "outputs": [
    {
     "data": {
      "text/html": [
       "<HTMLRemove>\n",
       "<h4> <code>method</code> <span style=\"color:Brown\">Table.from_dataframe</span> <em>(dataframe=None, truncate: bool = True)</em><a href=\"https://github.com/Netflix/metaflow/tree/master/metaflow/plugins/cards/card_modules/components.py#L114\" style=\"float:right\">[source]</a></h4><p><blockquote>Create&nbsp;a&nbsp;`Table`&nbsp;based&nbsp;on&nbsp;a&nbsp;Pandas&nbsp;dataframe.<br><br>Parameters<br>----------<br>dataframe&nbsp;:&nbsp;Optional[pandas.DataFrame]<br>&nbsp;&nbsp;&nbsp;&nbsp;Pandas&nbsp;dataframe.<br>truncate&nbsp;:&nbsp;bool,&nbsp;default:&nbsp;True<br>&nbsp;&nbsp;&nbsp;&nbsp;Truncate&nbsp;large&nbsp;dataframe&nbsp;instead&nbsp;of&nbsp;showing&nbsp;all&nbsp;rows&nbsp;(default:&nbsp;True).</blockquote></p>\n",
       "</HTMLRemove>\n",
       "<DocSection type=\"method\" name=\"Table.from_dataframe\" module=\"metaflow.cards\" show_import=\"False\" heading_level=\"4\" link=\"https://github.com/Netflix/metaflow/tree/master/metaflow/plugins/cards/card_modules/components.py#L114\">\n",
       "<SigArgSection>\n",
       "<SigArg name=\"dataframe\" default=\"None\" /><SigArg name=\"truncate\" type=\"bool\" default=\"True\" />\n",
       "</SigArgSection>\n",
       "<Description summary=\"Create a `Table` based on a Pandas dataframe.\" />\n",
       "<ParamSection name=\"Parameters\">\n",
       "\t<Parameter name=\"dataframe\" type=\"Optional[pandas.DataFrame]\" desc=\"Pandas dataframe.\" />\n",
       "\t<Parameter name=\"truncate\" type=\"bool, default: True\" desc=\"Truncate large dataframe instead of showing all rows (default: True).\" />\n",
       "</ParamSection>\n",
       "</DocSection>"
      ],
      "text/plain": [
       "<nbdoc.showdoc.ShowDoc at 0x107b03d90>"
      ]
     },
     "execution_count": 14,
     "metadata": {},
     "output_type": "execute_result"
    }
   ],
   "source": [
    "ShowDoc(Table.from_dataframe)"
   ]
  },
  {
   "cell_type": "markdown",
   "id": "a6040f3e",
   "metadata": {},
   "source": [
    "## Defining a custom card\n",
    "\n",
    "You can define custom cards types (`T` in `@card(type=T)`) by creating a Python package that includes a class that derives from `MetaflowCard`, documented below.\n",
    "\n",
    "Find detailed instructions, a starter template, and an example of a simple custom card at [https://github.com/outerbounds/metaflow-card-html]( https://github.com/outerbounds/metaflow-card-html)."
   ]
  },
  {
   "cell_type": "code",
   "execution_count": 15,
   "id": "3dc4881f",
   "metadata": {
    "execution": {
     "iopub.execute_input": "2023-06-03T08:02:34.949374Z",
     "iopub.status.busy": "2023-06-03T08:02:34.949255Z",
     "iopub.status.idle": "2023-06-03T08:02:34.951036Z",
     "shell.execute_reply": "2023-06-03T08:02:34.950792Z"
    }
   },
   "outputs": [],
   "source": [
    "#meta:tag=hide\n",
    "from metaflow.cards import MetaflowCard"
   ]
  },
  {
   "cell_type": "code",
   "execution_count": 16,
   "id": "6210f683",
   "metadata": {
    "execution": {
     "iopub.execute_input": "2023-06-03T08:02:34.953263Z",
     "iopub.status.busy": "2023-06-03T08:02:34.953163Z",
     "iopub.status.idle": "2023-06-03T08:02:34.956464Z",
     "shell.execute_reply": "2023-06-03T08:02:34.956149Z"
    }
   },
   "outputs": [
    {
     "data": {
      "text/html": [
       "<HTMLRemove>\n",
       "<h3> <code>class</code> <span style=\"color:Brown\">MetaflowCard</span> <em>options</em><a href=\"https://github.com/Netflix/metaflow/tree/master/metaflow/plugins/cards/card_modules/card.py#L7\" style=\"float:right\">[source]</a></h3><strong>metaflow.cards</strong><p><blockquote>Metaflow&nbsp;cards&nbsp;derive&nbsp;from&nbsp;this&nbsp;base&nbsp;class.<br><br>Subclasses&nbsp;of&nbsp;this&nbsp;class&nbsp;are&nbsp;called&nbsp;*card&nbsp;types*.&nbsp;The&nbsp;desired&nbsp;card<br>type&nbsp;`T`&nbsp;is&nbsp;defined&nbsp;in&nbsp;the&nbsp;`@card`&nbsp;decorator&nbsp;as&nbsp;`@card(type=T)`.<br><br>After&nbsp;a&nbsp;task&nbsp;with&nbsp;`@card(type=T,&nbsp;options=S)`&nbsp;finishes&nbsp;executing,&nbsp;Metaflow&nbsp;instantiates<br>a&nbsp;subclass&nbsp;`C`&nbsp;of&nbsp;`MetaflowCard`&nbsp;that&nbsp;has&nbsp;its&nbsp;`type`&nbsp;attribute&nbsp;set&nbsp;to&nbsp;`T`,&nbsp;i.e.&nbsp;`C.type=T`.<br>The&nbsp;constructor&nbsp;is&nbsp;given&nbsp;the&nbsp;options&nbsp;dictionary&nbsp;`S`&nbsp;that&nbsp;contains&nbsp;arbitrary<br>JSON-encodable&nbsp;data&nbsp;that&nbsp;is&nbsp;passed&nbsp;to&nbsp;the&nbsp;instance,&nbsp;parametrizing&nbsp;the&nbsp;card.&nbsp;The&nbsp;subclass<br>may&nbsp;override&nbsp;the&nbsp;constructor&nbsp;to&nbsp;capture&nbsp;and&nbsp;process&nbsp;the&nbsp;options.<br><br>The&nbsp;subclass&nbsp;needs&nbsp;to&nbsp;implement&nbsp;a&nbsp;`render(task)`&nbsp;method&nbsp;that&nbsp;produces&nbsp;the&nbsp;card<br>contents&nbsp;in&nbsp;HTML,&nbsp;given&nbsp;the&nbsp;finished&nbsp;task&nbsp;that&nbsp;is&nbsp;represented&nbsp;by&nbsp;a&nbsp;`Task`&nbsp;object.<br><br>Attributes<br>----------<br>type&nbsp;:&nbsp;str<br>&nbsp;&nbsp;&nbsp;&nbsp;Card&nbsp;type&nbsp;string.&nbsp;Note&nbsp;that&nbsp;this&nbsp;should&nbsp;be&nbsp;a&nbsp;globally&nbsp;unique&nbsp;name,&nbsp;similar&nbsp;to&nbsp;a<br>&nbsp;&nbsp;&nbsp;&nbsp;Python&nbsp;package&nbsp;name,&nbsp;to&nbsp;avoid&nbsp;name&nbsp;clashes&nbsp;between&nbsp;different&nbsp;custom&nbsp;cards.<br><br>Parameters<br>----------<br>options&nbsp;:&nbsp;Dict<br>&nbsp;&nbsp;&nbsp;&nbsp;JSON-encodable&nbsp;dictionary&nbsp;containing&nbsp;user-definable&nbsp;options&nbsp;for&nbsp;the&nbsp;class.</blockquote></p>\n",
       "</HTMLRemove>\n",
       "<DocSection type=\"class\" name=\"MetaflowCard\" module=\"metaflow.cards\" show_import=\"True\" heading_level=\"3\" link=\"https://github.com/Netflix/metaflow/tree/master/metaflow/plugins/cards/card_modules/card.py#L7\">\n",
       "<SigArgSection>\n",
       "<SigArg name=\"options\" />\n",
       "</SigArgSection>\n",
       "<Description summary=\"Metaflow cards derive from this base class.\" extended_summary=\"Subclasses of this class are called *card types*. The desired card\\ntype `T` is defined in the `@card` decorator as `@card(type=T)`.\\n\\nAfter a task with `@card(type=T, options=S)` finishes executing, Metaflow instantiates\\na subclass `C` of `MetaflowCard` that has its `type` attribute set to `T`, i.e. `C.type=T`.\\nThe constructor is given the options dictionary `S` that contains arbitrary\\nJSON-encodable data that is passed to the instance, parametrizing the card. The subclass\\nmay override the constructor to capture and process the options.\\n\\nThe subclass needs to implement a `render(task)` method that produces the card\\ncontents in HTML, given the finished task that is represented by a `Task` object.\" />\n",
       "<ParamSection name=\"Parameters\">\n",
       "\t<Parameter name=\"options\" type=\"Dict\" desc=\"JSON-encodable dictionary containing user-definable options for the class.\" />\n",
       "</ParamSection>\n",
       "<ParamSection name=\"Attributes\">\n",
       "\t<Parameter name=\"type\" type=\"str\" desc=\"Card type string. Note that this should be a globally unique name, similar to a\\nPython package name, to avoid name clashes between different custom cards.\" />\n",
       "</ParamSection>\n",
       "</DocSection>"
      ],
      "text/plain": [
       "<nbdoc.showdoc.ShowDoc at 0x107b007d0>"
      ]
     },
     "execution_count": 16,
     "metadata": {},
     "output_type": "execute_result"
    }
   ],
   "source": [
    "ShowDoc(MetaflowCard, show_import=True, spoofstr='options')"
   ]
  },
  {
   "cell_type": "code",
   "execution_count": 17,
   "id": "c71b83c5",
   "metadata": {
    "execution": {
     "iopub.execute_input": "2023-06-03T08:02:34.958378Z",
     "iopub.status.busy": "2023-06-03T08:02:34.958282Z",
     "iopub.status.idle": "2023-06-03T08:02:34.960737Z",
     "shell.execute_reply": "2023-06-03T08:02:34.960445Z"
    }
   },
   "outputs": [
    {
     "data": {
      "text/html": [
       "<HTMLRemove>\n",
       "<h4> <code>method</code> <span style=\"color:Brown\">MetaflowCard.render</span> <em>(self, task) -> str</em><a href=\"https://github.com/Netflix/metaflow/tree/master/metaflow/plugins/cards/card_modules/card.py#L52\" style=\"float:right\">[source]</a></h4><p><blockquote>Produce&nbsp;custom&nbsp;card&nbsp;contents&nbsp;in&nbsp;HTML.<br><br>Subclasses&nbsp;override&nbsp;this&nbsp;method&nbsp;to&nbsp;customize&nbsp;the&nbsp;card&nbsp;contents.<br><br>Parameters<br>----------<br>task&nbsp;:&nbsp;Task<br>&nbsp;&nbsp;&nbsp;&nbsp;A&nbsp;`Task`&nbsp;object&nbsp;that&nbsp;allows&nbsp;you&nbsp;to&nbsp;access&nbsp;data&nbsp;from&nbsp;the&nbsp;finished&nbsp;task&nbsp;and&nbsp;tasks<br>&nbsp;&nbsp;&nbsp;&nbsp;preceding&nbsp;it.<br><br>Returns<br>-------<br>str<br>&nbsp;&nbsp;&nbsp;&nbsp;Card&nbsp;contents&nbsp;as&nbsp;an&nbsp;HTML&nbsp;string.</blockquote></p>\n",
       "</HTMLRemove>\n",
       "<DocSection type=\"method\" name=\"MetaflowCard.render\" module=\"metaflow.cards\" show_import=\"False\" heading_level=\"4\" link=\"https://github.com/Netflix/metaflow/tree/master/metaflow/plugins/cards/card_modules/card.py#L52\">\n",
       "<SigArgSection>\n",
       "<SigArg name=\"self\" /><SigArg name=\"task\" />\n",
       "</SigArgSection>\n",
       "<Description summary=\"Produce custom card contents in HTML.\" extended_summary=\"Subclasses override this method to customize the card contents.\" />\n",
       "<ParamSection name=\"Parameters\">\n",
       "\t<Parameter name=\"task\" type=\"Task\" desc=\"A `Task` object that allows you to access data from the finished task and tasks\\npreceding it.\" />\n",
       "</ParamSection>\n",
       "<ParamSection name=\"Returns\">\n",
       "\t<Parameter type=\"str\" desc=\"Card contents as an HTML string.\" />\n",
       "</ParamSection>\n",
       "</DocSection>"
      ],
      "text/plain": [
       "<nbdoc.showdoc.ShowDoc at 0x107b00e50>"
      ]
     },
     "execution_count": 17,
     "metadata": {},
     "output_type": "execute_result"
    }
   ],
   "source": [
    "ShowDoc(MetaflowCard.render)"
   ]
  },
  {
   "cell_type": "code",
   "execution_count": null,
   "id": "e2c444ee",
   "metadata": {},
   "outputs": [],
   "source": []
  }
 ],
 "metadata": {
  "kernelspec": {
   "display_name": "Python 3 (ipykernel)",
   "language": "python",
   "name": "python3"
  },
  "language_info": {
   "codemirror_mode": {
    "name": "ipython",
    "version": 3
   },
   "file_extension": ".py",
   "mimetype": "text/x-python",
   "name": "python",
   "nbconvert_exporter": "python",
   "pygments_lexer": "ipython3",
   "version": "3.11.0"
  }
 },
 "nbformat": 4,
 "nbformat_minor": 5
}
