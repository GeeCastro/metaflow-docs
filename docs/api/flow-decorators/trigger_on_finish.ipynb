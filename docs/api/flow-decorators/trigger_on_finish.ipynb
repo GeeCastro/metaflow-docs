{
 "cells": [
  {
   "cell_type": "markdown",
   "id": "d1023227",
   "metadata": {},
   "source": [
    "# @trigger_on_finish\n",
    "\n",
    "Use the `@trigger_on_finish` decorator to trigger a flow [deployed on Argo Workflows](/production/scheduling-metaflow-flows/scheduling-with-argo-workflows) when another flow finishes.\n",
    "\n",
    "Read more in [Triggering Flows Based on Other Flows](/production/event-triggering/flow-events)."
   ]
  },
  {
   "cell_type": "code",
   "execution_count": 1,
   "id": "8d5bb116",
   "metadata": {
    "execution": {
     "iopub.execute_input": "2023-06-03T08:02:44.730839Z",
     "iopub.status.busy": "2023-06-03T08:02:44.730641Z",
     "iopub.status.idle": "2023-06-03T08:02:45.021916Z",
     "shell.execute_reply": "2023-06-03T08:02:45.021542Z"
    }
   },
   "outputs": [],
   "source": [
    "#meta:tag=hide\n",
    "from functools import partial\n",
    "from nbdoc.showdoc import ShowDoc\n",
    "ShowDoc = partial(ShowDoc, module_nm='metaflow')\n",
    "\n",
    "from metaflow import trigger_on_finish"
   ]
  },
  {
   "cell_type": "code",
   "execution_count": 2,
   "id": "29af6ee3",
   "metadata": {
    "execution": {
     "iopub.execute_input": "2023-06-03T08:02:45.024159Z",
     "iopub.status.busy": "2023-06-03T08:02:45.024002Z",
     "iopub.status.idle": "2023-06-03T08:02:45.029973Z",
     "shell.execute_reply": "2023-06-03T08:02:45.029718Z"
    }
   },
   "outputs": [
    {
     "data": {
      "text/html": [
       "<HTMLRemove>\n",
       "<h3> <code>decorator</code> <span style=\"color:Brown\">@trigger_on_finish</span> <em>(...)</em><a href=\"https://github.com/Netflix/metaflow/tree/master/metaflow/plugins/events_decorator.py#L142\" style=\"float:right\">[source]</a></h3><strong>metaflow</strong><p><blockquote>Specifies&nbsp;the&nbsp;flow(s)&nbsp;that&nbsp;this&nbsp;flow&nbsp;depends&nbsp;on.<br><br>```<br>@trigger_on_finish(flow='FooFlow')<br>```<br>or<br>```<br>@trigger_on_finish(flows=['FooFlow',&nbsp;'BarFlow'])<br>```<br>This&nbsp;decorator&nbsp;respects&nbsp;the&nbsp;@project&nbsp;decorator&nbsp;and&nbsp;triggers&nbsp;the&nbsp;flow<br>when&nbsp;upstream&nbsp;runs&nbsp;within&nbsp;the&nbsp;same&nbsp;namespace&nbsp;complete&nbsp;successfully<br><br>Additionally,&nbsp;you&nbsp;can&nbsp;specify&nbsp;project&nbsp;aware&nbsp;upstream&nbsp;flow&nbsp;dependencies<br>by&nbsp;specifying&nbsp;the&nbsp;fully&nbsp;qualified&nbsp;project_flow_name.<br>```<br>@trigger_on_finish(flow='my_project.branch.my_branch.FooFlow')<br>```<br>or<br>```<br>@trigger_on_finish(flows=['my_project.branch.my_branch.FooFlow',&nbsp;'BarFlow'])<br>```<br><br>Parameters<br>----------<br>flow&nbsp;:&nbsp;str,&nbsp;optional<br>&nbsp;&nbsp;&nbsp;&nbsp;Upstream&nbsp;flow&nbsp;dependency&nbsp;for&nbsp;this&nbsp;flow.<br>flows&nbsp;:&nbsp;List[str],&nbsp;optional<br>&nbsp;&nbsp;&nbsp;&nbsp;Upstream&nbsp;flow&nbsp;dependencies&nbsp;for&nbsp;this&nbsp;flow.<br>options&nbsp;:&nbsp;dict,&nbsp;optional<br>&nbsp;&nbsp;&nbsp;&nbsp;Backend-specific&nbsp;configuration&nbsp;for&nbsp;tuning&nbsp;eventing&nbsp;behavior.</blockquote></p>\n",
       "</HTMLRemove>\n",
       "<DocSection type=\"decorator\" name=\"trigger_on_finish\" module=\"metaflow\" show_import=\"True\" heading_level=\"3\" link=\"https://github.com/Netflix/metaflow/tree/master/metaflow/plugins/events_decorator.py#L142\">\n",
       "<SigArgSection>\n",
       "<SigArg name=\"...\" />\n",
       "</SigArgSection>\n",
       "<Description summary=\"Specifies the flow(s) that this flow depends on.\" extended_summary=\"```\\n@trigger_on_finish(flow='FooFlow')\\n```\\nor\\n```\\n@trigger_on_finish(flows=['FooFlow', 'BarFlow'])\\n```\\nThis decorator respects the @project decorator and triggers the flow\\nwhen upstream runs within the same namespace complete successfully\\n\\nAdditionally, you can specify project aware upstream flow dependencies\\nby specifying the fully qualified project_flow_name.\\n```\\n@trigger_on_finish(flow='my_project.branch.my_branch.FooFlow')\\n```\\nor\\n```\\n@trigger_on_finish(flows=['my_project.branch.my_branch.FooFlow', 'BarFlow'])\\n```\" />\n",
       "<ParamSection name=\"Parameters\">\n",
       "\t<Parameter name=\"flow\" type=\"str, optional\" desc=\"Upstream flow dependency for this flow.\" />\n",
       "\t<Parameter name=\"flows\" type=\"List[str], optional\" desc=\"Upstream flow dependencies for this flow.\" />\n",
       "\t<Parameter name=\"options\" type=\"dict, optional\" desc=\"Backend-specific configuration for tuning eventing behavior.\" />\n",
       "</ParamSection>\n",
       "</DocSection>"
      ],
      "text/plain": [
       "<nbdoc.showdoc.ShowDoc at 0x10462ae90>"
      ]
     },
     "execution_count": 2,
     "metadata": {},
     "output_type": "execute_result"
    }
   ],
   "source": [
    "ShowDoc(trigger_on_finish, show_import=True)"
   ]
  },
  {
   "cell_type": "code",
   "execution_count": null,
   "id": "0a84d95f",
   "metadata": {},
   "outputs": [],
   "source": []
  }
 ],
 "metadata": {
  "kernelspec": {
   "display_name": "Python 3 (ipykernel)",
   "language": "python",
   "name": "python3"
  },
  "language_info": {
   "codemirror_mode": {
    "name": "ipython",
    "version": 3
   },
   "file_extension": ".py",
   "mimetype": "text/x-python",
   "name": "python",
   "nbconvert_exporter": "python",
   "pygments_lexer": "ipython3",
   "version": "3.11.0"
  }
 },
 "nbformat": 4,
 "nbformat_minor": 5
}
