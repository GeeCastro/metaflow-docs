{
 "cells": [
  {
   "cell_type": "markdown",
   "id": "d1023227",
   "metadata": {},
   "source": [
    "# @project\n",
    "\n",
    "The `@project` decorator makes it convenient to create isolated [Metaflow namespaces](/scaling/tagging) and\n",
    "corresponding [proudction deployments](/production/scheduling-metaflow-flows/introduction). When\n",
    "multiple flows use the same project name, they can fetch data across them safely using [the Client API](/metaflow/client), without interference from other users running the same flows.\n",
    "\n",
    "By itself, `@project` doesn't change the behavior besides [exposing new attributes in the `current` object](/api/current#project). It alters the flow names when they are deployed in production, allowing multiple parallel deployments.\n",
    "\n",
    "For more information, see [Coordinating Larger Metaflow Projects](/production/coordinating-larger-metaflow-projects)."
   ]
  },
  {
   "cell_type": "code",
   "execution_count": 1,
   "id": "8d5bb116",
   "metadata": {
    "execution": {
     "iopub.execute_input": "2024-01-19T07:20:04.467205Z",
     "iopub.status.busy": "2024-01-19T07:20:04.467118Z",
     "iopub.status.idle": "2024-01-19T07:20:04.705863Z",
     "shell.execute_reply": "2024-01-19T07:20:04.705564Z"
    }
   },
   "outputs": [],
   "source": [
    "#meta:tag=hide\n",
    "from functools import partial\n",
    "from nbdoc.showdoc import ShowDoc\n",
    "ShowDoc = partial(ShowDoc, module_nm='metaflow')\n",
    "\n",
    "from metaflow import project"
   ]
  },
  {
   "cell_type": "code",
   "execution_count": 2,
   "id": "29af6ee3",
   "metadata": {
    "execution": {
     "iopub.execute_input": "2024-01-19T07:20:04.708116Z",
     "iopub.status.busy": "2024-01-19T07:20:04.707968Z",
     "iopub.status.idle": "2024-01-19T07:20:04.713310Z",
     "shell.execute_reply": "2024-01-19T07:20:04.712989Z"
    }
   },
   "outputs": [
    {
     "data": {
      "text/html": [
       "<HTMLRemove>\n",
       "<h3> <code>decorator</code> <span style=\"color:Brown\">@project</span> <em>(...)</em><a href=\"https://github.com/Netflix/metaflow/tree/master/metaflow/plugins/project_decorator.py#L15\" style=\"float:right\">[source]</a></h3><strong>metaflow</strong><p><blockquote>Specifies&nbsp;what&nbsp;flows&nbsp;belong&nbsp;to&nbsp;the&nbsp;same&nbsp;project.<br><br>A&nbsp;project-specific&nbsp;namespace&nbsp;is&nbsp;created&nbsp;for&nbsp;all&nbsp;flows&nbsp;that<br>use&nbsp;the&nbsp;same&nbsp;`@project(name)`.<br><br>Parameters<br>----------<br>name&nbsp;:&nbsp;str<br>&nbsp;&nbsp;&nbsp;&nbsp;Project&nbsp;name.&nbsp;Make&nbsp;sure&nbsp;that&nbsp;the&nbsp;name&nbsp;is&nbsp;unique&nbsp;amongst&nbsp;all<br>&nbsp;&nbsp;&nbsp;&nbsp;projects&nbsp;that&nbsp;use&nbsp;the&nbsp;same&nbsp;production&nbsp;scheduler.&nbsp;The&nbsp;name&nbsp;may<br>&nbsp;&nbsp;&nbsp;&nbsp;contain&nbsp;only&nbsp;lowercase&nbsp;alphanumeric&nbsp;characters&nbsp;and&nbsp;underscores.</blockquote></p>\n",
       "</HTMLRemove>\n",
       "<DocSection type=\"decorator\" name=\"project\" module=\"metaflow\" show_import=\"True\" heading_level=\"3\" link=\"https://github.com/Netflix/metaflow/tree/master/metaflow/plugins/project_decorator.py#L15\">\n",
       "<SigArgSection>\n",
       "<SigArg name=\"...\" />\n",
       "</SigArgSection>\n",
       "<Description summary=\"Specifies what flows belong to the same project.\" extended_summary=\"A project-specific namespace is created for all flows that\\nuse the same `@project(name)`.\" />\n",
       "<ParamSection name=\"Parameters\">\n",
       "\t<Parameter name=\"name\" type=\"str\" desc=\"Project name. Make sure that the name is unique amongst all\\nprojects that use the same production scheduler. The name may\\ncontain only lowercase alphanumeric characters and underscores.\" />\n",
       "</ParamSection>\n",
       "</DocSection>"
      ],
      "text/plain": [
       "<nbdoc.showdoc.ShowDoc at 0x108d7a6d0>"
      ]
     },
     "execution_count": 2,
     "metadata": {},
     "output_type": "execute_result"
    }
   ],
   "source": [
    "ShowDoc(project, skip_sections='Attributes', show_import=True)"
   ]
  },
  {
   "cell_type": "code",
   "execution_count": null,
   "id": "0a84d95f",
   "metadata": {},
   "outputs": [],
   "source": []
  }
 ],
 "metadata": {
  "kernelspec": {
   "display_name": "Python 3",
   "language": "python",
   "name": "python3"
  },
  "language_info": {
   "codemirror_mode": {
    "name": "ipython",
    "version": 3
   },
   "file_extension": ".py",
   "mimetype": "text/x-python",
   "name": "python",
   "nbconvert_exporter": "python",
   "pygments_lexer": "ipython3",
   "version": "3.11.0"
  }
 },
 "nbformat": 4,
 "nbformat_minor": 5
}
