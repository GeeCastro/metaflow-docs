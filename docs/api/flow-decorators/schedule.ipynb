{
 "cells": [
  {
   "cell_type": "markdown",
   "id": "d1023227",
   "metadata": {},
   "source": [
    "# @schedule\n",
    "\n",
    "The `@schedule` decorator specifies the times when the flow should be run when deployed to an external orchestrator like AWS Step Functions or Argo Workflows.\n",
    "\n",
    "For more information, see [Scheduling Metaflow Flows](/production/scheduling-metaflow-flows/introduction)."
   ]
  },
  {
   "cell_type": "code",
   "execution_count": 1,
   "id": "8d5bb116",
   "metadata": {
    "execution": {
     "iopub.execute_input": "2022-07-25T22:37:56.423160Z",
     "iopub.status.busy": "2022-07-25T22:37:56.420446Z",
     "iopub.status.idle": "2022-07-25T22:37:57.154431Z",
     "shell.execute_reply": "2022-07-25T22:37:57.155288Z"
    }
   },
   "outputs": [],
   "source": [
    "#meta:tag=hide\n",
    "from functools import partial\n",
    "from nbdoc.showdoc import ShowDoc\n",
    "ShowDoc = partial(ShowDoc, module_nm='metaflow')\n",
    "\n",
    "from metaflow import schedule"
   ]
  },
  {
   "cell_type": "code",
   "execution_count": 2,
   "id": "29af6ee3",
   "metadata": {
    "execution": {
     "iopub.execute_input": "2022-07-25T22:37:57.162990Z",
     "iopub.status.busy": "2022-07-25T22:37:57.160639Z",
     "iopub.status.idle": "2022-07-25T22:37:57.172289Z",
     "shell.execute_reply": "2022-07-25T22:37:57.173197Z"
    }
   },
   "outputs": [
    {
     "data": {
      "text/html": [
       "<HTMLRemove>\n",
       "<h3> <code>decorator</code> <span style=\"color:Brown\">@schedule</span> <em>(...)</em><a href=\"https://github.com/Netflix/metaflow/tree/master/metaflow/plugins/aws/step_functions/schedule_decorator.py#L4\" style=\"float:right\">[source]</a></h3><strong>metaflow</strong><p><blockquote>Specifies&nbsp;the&nbsp;times&nbsp;when&nbsp;the&nbsp;flow&nbsp;should&nbsp;be&nbsp;run&nbsp;when&nbsp;running&nbsp;on&nbsp;a<br>production&nbsp;scheduler.<br><br>Parameters<br>----------<br>hourly&nbsp;:&nbsp;bool<br>&nbsp;&nbsp;&nbsp;&nbsp;Run&nbsp;the&nbsp;workflow&nbsp;hourly&nbsp;(Default:&nbsp;False).<br>daily&nbsp;:&nbsp;bool<br>&nbsp;&nbsp;&nbsp;&nbsp;Run&nbsp;the&nbsp;workflow&nbsp;daily&nbsp;(Default:&nbsp;True).<br>weekly&nbsp;:&nbsp;bool<br>&nbsp;&nbsp;&nbsp;&nbsp;Run&nbsp;the&nbsp;workflow&nbsp;weekly&nbsp;(Default:&nbsp;False).<br>cron&nbsp;:&nbsp;str<br>&nbsp;&nbsp;&nbsp;&nbsp;Run&nbsp;the&nbsp;workflow&nbsp;at&nbsp;[a&nbsp;custom&nbsp;Cron&nbsp;schedule](https://docs.aws.amazon.com/eventbridge/latest/userguide/scheduled-events.html#cron-expressions)<br>&nbsp;&nbsp;&nbsp;&nbsp;specified&nbsp;by&nbsp;this&nbsp;expression.</blockquote></p>\n",
       "</HTMLRemove>\n",
       "<DocSection type=\"decorator\" name=\"schedule\" module=\"metaflow\" show_import=\"True\" heading_level=\"3\" link=\"https://github.com/Netflix/metaflow/tree/master/metaflow/plugins/aws/step_functions/schedule_decorator.py#L4\">\n",
       "<SigArgSection>\n",
       "<SigArg name=\"...\" />\n",
       "</SigArgSection>\n",
       "<Description summary=\"Specifies the times when the flow should be run when running on a\\nproduction scheduler.\" />\n",
       "<ParamSection name=\"Parameters\">\n",
       "\t<Parameter name=\"hourly\" type=\"bool\" desc=\"Run the workflow hourly (Default: False).\" />\n",
       "\t<Parameter name=\"daily\" type=\"bool\" desc=\"Run the workflow daily (Default: True).\" />\n",
       "\t<Parameter name=\"weekly\" type=\"bool\" desc=\"Run the workflow weekly (Default: False).\" />\n",
       "\t<Parameter name=\"cron\" type=\"str\" desc=\"Run the workflow at [a custom Cron schedule](https://docs.aws.amazon.com/eventbridge/latest/userguide/scheduled-events.html#cron-expressions)\\nspecified by this expression.\" />\n",
       "</ParamSection>\n",
       "</DocSection>"
      ],
      "text/plain": [
       "<nbdoc.showdoc.ShowDoc at 0x7ffc57de3760>"
      ]
     },
     "execution_count": 2,
     "metadata": {},
     "output_type": "execute_result"
    }
   ],
   "source": [
    "ShowDoc(schedule,  skip_sections='Attributes', show_import=True)"
   ]
  },
  {
   "cell_type": "code",
   "execution_count": null,
   "id": "0a84d95f",
   "metadata": {},
   "outputs": [],
   "source": []
  }
 ],
 "metadata": {
  "kernelspec": {
   "display_name": "Python 3",
   "language": "python",
   "name": "python3"
  },
  "language_info": {
   "codemirror_mode": {
    "name": "ipython",
    "version": 3
   },
   "file_extension": ".py",
   "mimetype": "text/x-python",
   "name": "python",
   "nbconvert_exporter": "python",
   "pygments_lexer": "ipython3",
   "version": "3.9.1"
  }
 },
 "nbformat": 4,
 "nbformat_minor": 5
}
