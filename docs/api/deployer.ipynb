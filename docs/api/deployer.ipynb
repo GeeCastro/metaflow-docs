{
 "cells": [
  {
   "cell_type": "markdown",
   "id": "c0ed0370",
   "metadata": {},
   "source": [
    "# Deployer - Deploying flows programmatically"
   ]
  },
  {
   "cell_type": "markdown",
   "id": "318e7974",
   "metadata": {},
   "source": [
    "The `Deployer` class allows you to manage [production deployments](/production/introduction) programmatically. For an overview, see [Deploying flows programmatically](/metaflow/managing-flows/deployer)."
   ]
  },
  {
   "cell_type": "code",
   "execution_count": 1,
   "id": "d4c02781",
   "metadata": {
    "execution": {
     "iopub.execute_input": "2024-05-28T03:59:53.292277Z",
     "iopub.status.busy": "2024-05-28T03:59:53.292089Z",
     "iopub.status.idle": "2024-05-28T03:59:53.599154Z",
     "shell.execute_reply": "2024-05-28T03:59:53.598652Z"
    }
   },
   "outputs": [],
   "source": [
    "#meta:tag=hide\n",
    "from functools import partial\n",
    "from nbdoc.showdoc import ShowDoc\n",
    "ShowDoc = partial(ShowDoc, module_nm='metaflow')\n",
    "\n",
    "from metaflow import Deployer as RealDeployer\n",
    "from metaflow.runner.deployer import DeployerImpl\n",
    "from metaflow.runner.deployer import TriggeredRun\n",
    "\n",
    "class Deployer:\n",
    "    def argo_workflows(self) -> 'ArgoWorkflowsDeployer':\n",
    "        \"\"\"\n",
    "        Returns a deployer specific to Argo Workflows.\n",
    "\n",
    "        Returns\n",
    "        -------\n",
    "        ArgoWorkflowsDeployer\n",
    "            a deployer class specific to Argo Workflows\n",
    "        \"\"\"\n",
    "    \n",
    "    def step_functions(self) -> 'StepFunctionsDeployer':\n",
    "        \"\"\"\n",
    "        Returns a deployer specific to Step Functions.\n",
    "\n",
    "        Returns\n",
    "        -------\n",
    "        StepFunctionsDeployer\n",
    "            a deployer class specific to Step Functions\n",
    "        \"\"\"\n",
    "\n",
    "Deployer.__doc__ = RealDeployer.__doc__\n",
    "       "
   ]
  },
  {
   "cell_type": "markdown",
   "id": "4e89ee3c",
   "metadata": {},
   "source": [
    "Metaflow supports [various production orchestrators](/production/scheduling-metaflow-flows/introduction), each offering slightly different functionalities. All of them operate with the same high-level interfaces, exposed through the `Deployer` API:\n",
    "\n",
    "1. Start by instantiating the top-level `Deployer` object.\n",
    "2. Choose a production orchestrator through the functions of `Deployer`.\n",
    "3. Deploy a flow by calling an implementation-specific `create()` function that returns a `DeployedFlow` representing a flow that is deployed but not yet running.\n",
    "4. The `DeployedFlow` is ready to execute automatically if it is scheduled with [`@schedule`](/api/flow-decorators/schedule), [`@trigger`](/api/flow-decorators/trigger), \n",
    "and [`@trigger_on_finish`](/api/flow-decorators/trigger_on_finish) decorators.\n",
    "5. Optionally, you can trigger a run explictly by calling `DeployedFlow.trigger()` that returns a `TriggeredRun`  representing a run that will start executing.\n",
    "6. Once the run has started executing, `TriggeredRun.run` returns a corresponding [`Run` object](/api/client#run).\n",
    "\n",
    "### Example\n",
    "\n",
    "```python\n",
    "import time\n",
    "from metaflow import Deployer\n",
    "deployed_flow = Deployer('helloflow.py').argo_workflows().create()\n",
    "print('Production token', deployed_flow.production_token)\n",
    "triggered_run = deployed_flow.trigger()\n",
    "while triggered_run.run is None:\n",
    "    print(f'Waiting for the run to start')\n",
    "    time.sleep(1)\n",
    "print('Run started', triggered_run.run)\n",
    "print('Terminating the flow', triggered_run.terminate())\n",
    "```\n",
    "\n",
    "Note that you can replace `argo_workflows()` above with `step_functions()` without changing anything\n",
    "else in the code.\n",
    "\n",
    "In addition to this basic functionality, each implementation-specific object exposes additional functions for managing deployed flows and runs, as documented below."
   ]
  },
  {
   "cell_type": "markdown",
   "id": "45816c6d",
   "metadata": {},
   "source": [
    "## Common `Deployer`"
   ]
  },
  {
   "cell_type": "code",
   "execution_count": 2,
   "id": "7fdb7184",
   "metadata": {
    "execution": {
     "iopub.execute_input": "2024-05-28T03:59:53.602322Z",
     "iopub.status.busy": "2024-05-28T03:59:53.602100Z",
     "iopub.status.idle": "2024-05-28T03:59:53.610438Z",
     "shell.execute_reply": "2024-05-28T03:59:53.610130Z"
    }
   },
   "outputs": [
    {
     "data": {
      "text/html": [
       "<HTMLRemove>\n",
       "<h3> <code>class</code> <span style=\"color:Brown\">Deployer</span> <em>flow_file, show_output=True, profile=None, env=None, cwd=None, **kwargs</em><a href=\"https://github.com/Netflix/metaflow/tree/master/\" style=\"float:right\">[source]</a></h3><p><blockquote>Use&nbsp;the&nbsp;`Deployer`&nbsp;class&nbsp;to&nbsp;configure&nbsp;and&nbsp;access&nbsp;one&nbsp;of&nbsp;the&nbsp;production<br>orchestrators&nbsp;supported&nbsp;by&nbsp;Metaflow.<br><br>Parameters<br>----------<br>flow_file&nbsp;:&nbsp;str<br>&nbsp;&nbsp;&nbsp;&nbsp;Path&nbsp;to&nbsp;the&nbsp;flow&nbsp;file&nbsp;to&nbsp;deploy.<br>show_output&nbsp;:&nbsp;bool,&nbsp;default&nbsp;True<br>&nbsp;&nbsp;&nbsp;&nbsp;Show&nbsp;the&nbsp;'stdout'&nbsp;and&nbsp;'stderr'&nbsp;to&nbsp;the&nbsp;console&nbsp;by&nbsp;default.<br>profile&nbsp;:&nbsp;Optional[str],&nbsp;default&nbsp;None<br>&nbsp;&nbsp;&nbsp;&nbsp;Metaflow&nbsp;profile&nbsp;to&nbsp;use&nbsp;for&nbsp;the&nbsp;deployment.&nbsp;If&nbsp;not&nbsp;specified,&nbsp;the&nbsp;default<br>&nbsp;&nbsp;&nbsp;&nbsp;profile&nbsp;is&nbsp;used.<br>env&nbsp;:&nbsp;Optional[Dict[str,&nbsp;str]],&nbsp;default&nbsp;None<br>&nbsp;&nbsp;&nbsp;&nbsp;Additional&nbsp;environment&nbsp;variables&nbsp;to&nbsp;set&nbsp;for&nbsp;the&nbsp;deployment.<br>cwd&nbsp;:&nbsp;Optional[str],&nbsp;default&nbsp;None<br>&nbsp;&nbsp;&nbsp;&nbsp;The&nbsp;directory&nbsp;to&nbsp;run&nbsp;the&nbsp;subprocess&nbsp;in;&nbsp;if&nbsp;not&nbsp;specified,&nbsp;the&nbsp;current<br>&nbsp;&nbsp;&nbsp;&nbsp;directory&nbsp;is&nbsp;used.<br>**kwargs&nbsp;:&nbsp;Any<br>&nbsp;&nbsp;&nbsp;&nbsp;Additional&nbsp;arguments&nbsp;that&nbsp;you&nbsp;would&nbsp;pass&nbsp;to&nbsp;`python&nbsp;myflow.py`&nbsp;before<br>&nbsp;&nbsp;&nbsp;&nbsp;the&nbsp;deployment&nbsp;command.</blockquote></p>\n",
       "</HTMLRemove>\n",
       "<DocSection type=\"class\" name=\"Deployer\" module=\"metaflow\" show_import=\"False\" heading_level=\"3\" link=\"https://github.com/Netflix/metaflow/tree/master/\">\n",
       "<SigArgSection>\n",
       "<SigArg name=\"flow_file, show_output=True, profile=None, env=None, cwd=None, **kwargs\" />\n",
       "</SigArgSection>\n",
       "<Description summary=\"Use the `Deployer` class to configure and access one of the production\\norchestrators supported by Metaflow.\" />\n",
       "<ParamSection name=\"Parameters\">\n",
       "\t<Parameter name=\"flow_file\" type=\"str\" desc=\"Path to the flow file to deploy.\" />\n",
       "\t<Parameter name=\"show_output\" type=\"bool, default True\" desc=\"Show the 'stdout' and 'stderr' to the console by default.\" />\n",
       "\t<Parameter name=\"profile\" type=\"Optional[str], default None\" desc=\"Metaflow profile to use for the deployment. If not specified, the default\\nprofile is used.\" />\n",
       "\t<Parameter name=\"env\" type=\"Optional[Dict[str, str]], default None\" desc=\"Additional environment variables to set for the deployment.\" />\n",
       "\t<Parameter name=\"cwd\" type=\"Optional[str], default None\" desc=\"The directory to run the subprocess in; if not specified, the current\\ndirectory is used.\" />\n",
       "\t<Parameter name=\"**kwargs\" type=\"Any\" desc=\"Additional arguments that you would pass to `python myflow.py` before\\nthe deployment command.\" />\n",
       "</ParamSection>\n",
       "</DocSection>"
      ],
      "text/plain": [
       "<nbdoc.showdoc.ShowDoc at 0x10652be50>"
      ]
     },
     "execution_count": 2,
     "metadata": {},
     "output_type": "execute_result"
    }
   ],
   "source": [
    "ShowDoc(Deployer, spoofstr=('flow_file, show_output=True, profile=None, env=None, cwd=None, **kwargs'))"
   ]
  },
  {
   "cell_type": "code",
   "execution_count": 3,
   "id": "84c83820",
   "metadata": {
    "execution": {
     "iopub.execute_input": "2024-05-28T03:59:53.612888Z",
     "iopub.status.busy": "2024-05-28T03:59:53.612783Z",
     "iopub.status.idle": "2024-05-28T03:59:53.615668Z",
     "shell.execute_reply": "2024-05-28T03:59:53.615357Z"
    }
   },
   "outputs": [
    {
     "data": {
      "text/html": [
       "<HTMLRemove>\n",
       "<h4> <code>method</code> <span style=\"color:Brown\">Deployer.argo_workflows</span> <em>(self) -> 'ArgoWorkflowsDeployer'</em><a href=\"https://github.com/Netflix/metaflow/tree/master/__main__.py#L11\" style=\"float:right\">[source]</a></h4><p><blockquote>Returns&nbsp;a&nbsp;deployer&nbsp;specific&nbsp;to&nbsp;Argo&nbsp;Workflows.<br><br>Returns<br>-------<br>ArgoWorkflowsDeployer<br>&nbsp;&nbsp;&nbsp;&nbsp;a&nbsp;deployer&nbsp;class&nbsp;specific&nbsp;to&nbsp;Argo&nbsp;Workflows</blockquote></p>\n",
       "</HTMLRemove>\n",
       "<DocSection type=\"method\" name=\"Deployer.argo_workflows\" module=\"metaflow\" show_import=\"False\" heading_level=\"4\" link=\"https://github.com/Netflix/metaflow/tree/master/__main__.py#L11\">\n",
       "<SigArgSection>\n",
       "<SigArg name=\"self\" />\n",
       "</SigArgSection>\n",
       "<Description summary=\"Returns a deployer specific to Argo Workflows.\" />\n",
       "<ParamSection name=\"Returns\">\n",
       "\t<Parameter type=\"ArgoWorkflowsDeployer\" desc=\"a deployer class specific to Argo Workflows\" />\n",
       "</ParamSection>\n",
       "</DocSection>"
      ],
      "text/plain": [
       "<nbdoc.showdoc.ShowDoc at 0x10a10f010>"
      ]
     },
     "execution_count": 3,
     "metadata": {},
     "output_type": "execute_result"
    }
   ],
   "source": [
    "ShowDoc(Deployer.argo_workflows)"
   ]
  },
  {
   "cell_type": "code",
   "execution_count": 4,
   "id": "eb814b83",
   "metadata": {
    "scrolled": true
   },
   "outputs": [
    {
     "data": {
      "text/html": [
       "<HTMLRemove>\n",
       "<h4> <code>method</code> <span style=\"color:Brown\">Deployer.step_functions</span> <em>(self) -> 'StepFunctionsDeployer'</em><a href=\"https://github.com/Netflix/metaflow/tree/master/__main__.py#L21\" style=\"float:right\">[source]</a></h4><p><blockquote>Returns&nbsp;a&nbsp;deployer&nbsp;specific&nbsp;to&nbsp;Step&nbsp;Functions.<br><br>Returns<br>-------<br>StepFunctionsDeployer<br>&nbsp;&nbsp;&nbsp;&nbsp;a&nbsp;deployer&nbsp;class&nbsp;specific&nbsp;to&nbsp;Step&nbsp;Functions</blockquote></p>\n",
       "</HTMLRemove>\n",
       "<DocSection type=\"method\" name=\"Deployer.step_functions\" module=\"metaflow\" show_import=\"False\" heading_level=\"4\" link=\"https://github.com/Netflix/metaflow/tree/master/__main__.py#L21\">\n",
       "<SigArgSection>\n",
       "<SigArg name=\"self\" />\n",
       "</SigArgSection>\n",
       "<Description summary=\"Returns a deployer specific to Step Functions.\" />\n",
       "<ParamSection name=\"Returns\">\n",
       "\t<Parameter type=\"StepFunctionsDeployer\" desc=\"a deployer class specific to Step Functions\" />\n",
       "</ParamSection>\n",
       "</DocSection>"
      ],
      "text/plain": [
       "<nbdoc.showdoc.ShowDoc at 0x10a126090>"
      ]
     },
     "execution_count": 4,
     "metadata": {},
     "output_type": "execute_result"
    }
   ],
   "source": [
    "ShowDoc(Deployer.step_functions)"
   ]
  },
  {
   "cell_type": "markdown",
   "id": "33b6e0bf",
   "metadata": {},
   "source": [
    "## Deploy Argo Workflows with `ArgoWorkflowsDeployer`"
   ]
  },
  {
   "cell_type": "code",
   "execution_count": 5,
   "id": "e42db208",
   "metadata": {},
   "outputs": [
    {
     "data": {
      "text/html": [
       "<HTMLRemove>\n",
       "<h4> <code>method</code> <span style=\"color:Brown\">ArgoWorkflowsDeployer.create</span> <em>(self, **kwargs)</em><a href=\"https://github.com/Netflix/metaflow/tree/master/__main__.py#L52\" style=\"float:right\">[source]</a></h4><p><blockquote>Create&nbsp;a&nbsp;deployed&nbsp;flow&nbsp;using&nbsp;the&nbsp;deployer&nbsp;implementation.<br><br>Parameters<br>----------<br>**kwargs&nbsp;:&nbsp;Any<br>&nbsp;&nbsp;&nbsp;&nbsp;Additional&nbsp;arguments&nbsp;to&nbsp;pass&nbsp;to&nbsp;`create`&nbsp;corresponding&nbsp;to&nbsp;the<br>&nbsp;&nbsp;&nbsp;&nbsp;command&nbsp;line&nbsp;arguments&nbsp;of&nbsp;`create`<br><br>Returns<br>-------<br>DeployedFlow<br>&nbsp;&nbsp;&nbsp;&nbsp;DeployedFlow&nbsp;object&nbsp;representing&nbsp;the&nbsp;deployed&nbsp;flow.<br><br>Raises<br>------<br>Exception<br>&nbsp;&nbsp;&nbsp;&nbsp;If&nbsp;there&nbsp;is&nbsp;an&nbsp;error&nbsp;during&nbsp;deployment.</blockquote></p>\n",
       "</HTMLRemove>\n",
       "<DocSection type=\"method\" name=\"ArgoWorkflowsDeployer.create\" module=\"metaflow\" show_import=\"False\" heading_level=\"4\" link=\"https://github.com/Netflix/metaflow/tree/master/__main__.py#L52\">\n",
       "<SigArgSection>\n",
       "<SigArg name=\"self\" /><SigArg name=\"**kwargs\" />\n",
       "</SigArgSection>\n",
       "<Description summary=\"Create a deployed flow using the deployer implementation.\" />\n",
       "<ParamSection name=\"Parameters\">\n",
       "\t<Parameter name=\"**kwargs\" type=\"Any\" desc=\"Additional arguments to pass to `create` corresponding to the\\ncommand line arguments of `create`\" />\n",
       "</ParamSection>\n",
       "<ParamSection name=\"Returns\">\n",
       "\t<Parameter type=\"DeployedFlow\" desc=\"DeployedFlow object representing the deployed flow.\" />\n",
       "</ParamSection>\n",
       "<ParamSection name=\"Raises\">\n",
       "\t<Parameter type=\"Exception\" desc=\"If there is an error during deployment.\" />\n",
       "</ParamSection>\n",
       "</DocSection>"
      ],
      "text/plain": [
       "<nbdoc.showdoc.ShowDoc at 0x10a147b10>"
      ]
     },
     "execution_count": 5,
     "metadata": {},
     "output_type": "execute_result"
    }
   ],
   "source": [
    "from metaflow.plugins.argo.argo_workflows_deployer import production_token as argo_production_token\n",
    "from metaflow.plugins.argo.argo_workflows_deployer import delete as argo_delete\n",
    "from metaflow.plugins.argo.argo_workflows_deployer import trigger as argo_trigger\n",
    "from metaflow.plugins.argo.argo_workflows_deployer import terminate as argo_terminate\n",
    "from metaflow.plugins.argo.argo_workflows_deployer import suspend as argo_suspend\n",
    "from metaflow.plugins.argo.argo_workflows_deployer import unsuspend as argo_unsuspend\n",
    "from metaflow.plugins.argo.argo_workflows_deployer import status as argo_status\n",
    "\n",
    "class ArgoWorkflowsTriggeredRun:\n",
    "    \n",
    "    @property\n",
    "    def run(self):\n",
    "        pass\n",
    "    \n",
    "    def terminate(self):\n",
    "        pass\n",
    "    \n",
    "    def suspend(self):\n",
    "        pass\n",
    "    \n",
    "    def unsuspend(self):\n",
    "        pass\n",
    "    \n",
    "    def status(self):\n",
    "        pass\n",
    "    \n",
    "ArgoWorkflowsTriggeredRun.__doc__ = TriggeredRun.__doc__\n",
    "ArgoWorkflowsTriggeredRun.run.__doc__ = TriggeredRun.run.__doc__\n",
    "ArgoWorkflowsTriggeredRun.terminate.__doc__ = argo_terminate.__doc__\n",
    "ArgoWorkflowsTriggeredRun.suspend.__doc__ = argo_suspend.__doc__\n",
    "ArgoWorkflowsTriggeredRun.unsuspend.__doc__ = argo_unsuspend.__doc__\n",
    "ArgoWorkflowsTriggeredRun.status.__doc__ = argo_status.__doc__\n",
    "\n",
    "\n",
    "class ArgoWorkflowsDeployedFlow:\n",
    "    @property\n",
    "    def production_token(self):\n",
    "        pass\n",
    "    \n",
    "    def trigger(self) -> 'ArgoWorkflowsTriggeredRun':\n",
    "        pass\n",
    "    \n",
    "    def delete(self):\n",
    "        pass\n",
    "\n",
    "    \n",
    "ArgoWorkflowsDeployedFlow.production_token.__doc__ = argo_production_token.__doc__\n",
    "ArgoWorkflowsDeployedFlow.trigger.__doc__ = argo_trigger.__doc__\n",
    "ArgoWorkflowsDeployedFlow.delete.__doc__ = argo_delete.__doc__\n",
    "\n",
    "class ArgoWorkflowsDeployer:\n",
    "    def create(self, **kwargs):\n",
    "        pass\n",
    "\n",
    "ArgoWorkflowsDeployer.create.__doc__ = DeployerImpl.create.__doc__\n",
    "\n",
    "ShowDoc(ArgoWorkflowsDeployer.create)"
   ]
  },
  {
   "cell_type": "markdown",
   "id": "b6ee3b2a",
   "metadata": {},
   "source": [
    "### Manage a flow deployed on Argo Workflows with `ArgoWorkflowsDeployedFlow`"
   ]
  },
  {
   "cell_type": "code",
   "execution_count": 6,
   "id": "ec96e44b",
   "metadata": {
    "scrolled": true
   },
   "outputs": [
    {
     "data": {
      "text/html": [
       "<HTMLRemove>\n",
       "<h4> <code>property</code> <span style=\"color:Brown\">ArgoWorkflowsDeployedFlow.production_token</span> <em></em></h4><p><blockquote>Get&nbsp;the&nbsp;production&nbsp;token&nbsp;for&nbsp;the&nbsp;deployed&nbsp;flow.<br><br>Returns<br>-------<br>str,&nbsp;optional<br>&nbsp;&nbsp;&nbsp;&nbsp;The&nbsp;production&nbsp;token,&nbsp;None&nbsp;if&nbsp;it&nbsp;cannot&nbsp;be&nbsp;retrieved.</blockquote></p>\n",
       "</HTMLRemove>\n",
       "<DocSection type=\"property\" name=\"ArgoWorkflowsDeployedFlow.production_token\" module=\"__main__\" show_import=\"False\" heading_level=\"4\">\n",
       "\n",
       "<Description summary=\"Get the production token for the deployed flow.\\n\" />\n",
       "<ParamSection name=\"Returns\">\n",
       "<Parameter type=\"str, optional\" desc=\"The production token, None if it cannot be retrieved.\" />\n",
       "</ParamSection>\n",
       "</DocSection>"
      ],
      "text/plain": [
       "<nbdoc.showdoc.ShowDoc at 0x10a12ac10>"
      ]
     },
     "execution_count": 6,
     "metadata": {},
     "output_type": "execute_result"
    }
   ],
   "source": [
    "ShowDoc(ArgoWorkflowsDeployedFlow.production_token)"
   ]
  },
  {
   "cell_type": "code",
   "execution_count": 7,
   "id": "102d67b4",
   "metadata": {
    "scrolled": true
   },
   "outputs": [
    {
     "data": {
      "text/html": [
       "<HTMLRemove>\n",
       "<h4> <code>method</code> <span style=\"color:Brown\">ArgoWorkflowsDeployedFlow.trigger</span> <em>(self) -> 'ArgoWorkflowsTriggeredRun'</em><a href=\"https://github.com/Netflix/metaflow/tree/master/__main__.py#L40\" style=\"float:right\">[source]</a></h4><p><blockquote>Trigger&nbsp;a&nbsp;new&nbsp;run&nbsp;for&nbsp;the&nbsp;deployed&nbsp;flow.<br><br>Parameters<br>----------<br>**kwargs&nbsp;:&nbsp;Any<br>&nbsp;&nbsp;&nbsp;&nbsp;Additional&nbsp;arguments&nbsp;to&nbsp;pass&nbsp;to&nbsp;the&nbsp;trigger&nbsp;command,&nbsp;`Parameters`&nbsp;in&nbsp;particular<br><br>Returns<br>-------<br>ArgoWorkflowsTriggeredRun<br>&nbsp;&nbsp;&nbsp;&nbsp;The&nbsp;triggered&nbsp;run&nbsp;instance.<br><br>Raises<br>------<br>Exception<br>&nbsp;&nbsp;&nbsp;&nbsp;If&nbsp;there&nbsp;is&nbsp;an&nbsp;error&nbsp;during&nbsp;the&nbsp;trigger&nbsp;process.</blockquote></p>\n",
       "</HTMLRemove>\n",
       "<DocSection type=\"method\" name=\"ArgoWorkflowsDeployedFlow.trigger\" module=\"metaflow\" show_import=\"False\" heading_level=\"4\" link=\"https://github.com/Netflix/metaflow/tree/master/__main__.py#L40\">\n",
       "<SigArgSection>\n",
       "<SigArg name=\"self\" />\n",
       "</SigArgSection>\n",
       "<Description summary=\"Trigger a new run for the deployed flow.\" />\n",
       "<ParamSection name=\"Parameters\">\n",
       "\t<Parameter name=\"**kwargs\" type=\"Any\" desc=\"Additional arguments to pass to the trigger command, `Parameters` in particular\" />\n",
       "</ParamSection>\n",
       "<ParamSection name=\"Returns\">\n",
       "\t<Parameter type=\"ArgoWorkflowsTriggeredRun\" desc=\"The triggered run instance.\" />\n",
       "</ParamSection>\n",
       "<ParamSection name=\"Raises\">\n",
       "\t<Parameter type=\"Exception\" desc=\"If there is an error during the trigger process.\" />\n",
       "</ParamSection>\n",
       "</DocSection>"
      ],
      "text/plain": [
       "<nbdoc.showdoc.ShowDoc at 0x10a12a590>"
      ]
     },
     "execution_count": 7,
     "metadata": {},
     "output_type": "execute_result"
    }
   ],
   "source": [
    "ShowDoc(ArgoWorkflowsDeployedFlow.trigger)"
   ]
  },
  {
   "cell_type": "code",
   "execution_count": 8,
   "id": "0cdcc724",
   "metadata": {},
   "outputs": [
    {
     "data": {
      "text/html": [
       "<HTMLRemove>\n",
       "<h4> <code>method</code> <span style=\"color:Brown\">ArgoWorkflowsDeployedFlow.delete</span> <em>(self)</em><a href=\"https://github.com/Netflix/metaflow/tree/master/__main__.py#L43\" style=\"float:right\">[source]</a></h4><p><blockquote>Delete&nbsp;the&nbsp;deployed&nbsp;flow.<br><br>Parameters<br>----------<br>**kwargs&nbsp;:&nbsp;Any<br>&nbsp;&nbsp;&nbsp;&nbsp;Additional&nbsp;arguments&nbsp;to&nbsp;pass&nbsp;to&nbsp;the&nbsp;delete&nbsp;command.<br><br>Returns<br>-------<br>bool<br>&nbsp;&nbsp;&nbsp;&nbsp;True&nbsp;if&nbsp;the&nbsp;command&nbsp;was&nbsp;successful,&nbsp;False&nbsp;otherwise.</blockquote></p>\n",
       "</HTMLRemove>\n",
       "<DocSection type=\"method\" name=\"ArgoWorkflowsDeployedFlow.delete\" module=\"metaflow\" show_import=\"False\" heading_level=\"4\" link=\"https://github.com/Netflix/metaflow/tree/master/__main__.py#L43\">\n",
       "<SigArgSection>\n",
       "<SigArg name=\"self\" />\n",
       "</SigArgSection>\n",
       "<Description summary=\"Delete the deployed flow.\" />\n",
       "<ParamSection name=\"Parameters\">\n",
       "\t<Parameter name=\"**kwargs\" type=\"Any\" desc=\"Additional arguments to pass to the delete command.\" />\n",
       "</ParamSection>\n",
       "<ParamSection name=\"Returns\">\n",
       "\t<Parameter type=\"bool\" desc=\"True if the command was successful, False otherwise.\" />\n",
       "</ParamSection>\n",
       "</DocSection>"
      ],
      "text/plain": [
       "<nbdoc.showdoc.ShowDoc at 0x10a10ebd0>"
      ]
     },
     "execution_count": 8,
     "metadata": {},
     "output_type": "execute_result"
    }
   ],
   "source": [
    "ShowDoc(ArgoWorkflowsDeployedFlow.delete)"
   ]
  },
  {
   "cell_type": "markdown",
   "id": "5feab7c3",
   "metadata": {},
   "source": [
    "### Manage a run triggered on Argo Workflows with `ArgoWorkflowsTriggeredRun`"
   ]
  },
  {
   "cell_type": "code",
   "execution_count": 9,
   "id": "91ecd0e3",
   "metadata": {
    "scrolled": true
   },
   "outputs": [
    {
     "data": {
      "text/html": [
       "<HTMLRemove>\n",
       "<h4> <code>property</code> <span style=\"color:Brown\">ArgoWorkflowsTriggeredRun.run</span> <em></em></h4><p><blockquote>Retrieve&nbsp;the&nbsp;`Run`&nbsp;object&nbsp;for&nbsp;the&nbsp;triggered&nbsp;run.<br><br>Note&nbsp;that&nbsp;Metaflow&nbsp;`Run`&nbsp;becomes&nbsp;available&nbsp;only&nbsp;when&nbsp;the&nbsp;`start`&nbsp;task<br>has&nbsp;started&nbsp;executing.<br><br>Returns<br>-------<br>Run,&nbsp;optional<br>&nbsp;&nbsp;&nbsp;&nbsp;Metaflow&nbsp;Run&nbsp;object&nbsp;if&nbsp;the&nbsp;`start`&nbsp;step&nbsp;has&nbsp;started&nbsp;executing,&nbsp;otherwise&nbsp;None.</blockquote></p>\n",
       "</HTMLRemove>\n",
       "<DocSection type=\"property\" name=\"ArgoWorkflowsTriggeredRun.run\" module=\"__main__\" show_import=\"False\" heading_level=\"4\">\n",
       "\n",
       "<Description summary=\"Retrieve the `Run` object for the triggered run.\\n\\nNote that Metaflow `Run` becomes available only when the `start` task\\nhas started executing.\\n\" />\n",
       "<ParamSection name=\"Returns\">\n",
       "<Parameter type=\"Run, optional\" desc=\"Metaflow Run object if the `start` step has started executing, otherwise None.\" />\n",
       "</ParamSection>\n",
       "</DocSection>"
      ],
      "text/plain": [
       "<nbdoc.showdoc.ShowDoc at 0x10a13be90>"
      ]
     },
     "execution_count": 9,
     "metadata": {},
     "output_type": "execute_result"
    }
   ],
   "source": [
    "ShowDoc(ArgoWorkflowsTriggeredRun.run)"
   ]
  },
  {
   "cell_type": "code",
   "execution_count": 10,
   "id": "48a0300d",
   "metadata": {
    "scrolled": true
   },
   "outputs": [
    {
     "data": {
      "text/html": [
       "<HTMLRemove>\n",
       "<h4> <code>method</code> <span style=\"color:Brown\">ArgoWorkflowsTriggeredRun.terminate</span> <em>(self)</em><a href=\"https://github.com/Netflix/metaflow/tree/master/__main__.py#L15\" style=\"float:right\">[source]</a></h4><p><blockquote>Terminate&nbsp;the&nbsp;running&nbsp;workflow.<br><br>Parameters<br>----------<br>**kwargs&nbsp;:&nbsp;Any<br>&nbsp;&nbsp;&nbsp;&nbsp;Additional&nbsp;arguments&nbsp;to&nbsp;pass&nbsp;to&nbsp;the&nbsp;terminate&nbsp;command.<br><br>Returns<br>-------<br>bool<br>&nbsp;&nbsp;&nbsp;&nbsp;True&nbsp;if&nbsp;the&nbsp;command&nbsp;was&nbsp;successful,&nbsp;False&nbsp;otherwise.</blockquote></p>\n",
       "</HTMLRemove>\n",
       "<DocSection type=\"method\" name=\"ArgoWorkflowsTriggeredRun.terminate\" module=\"metaflow\" show_import=\"False\" heading_level=\"4\" link=\"https://github.com/Netflix/metaflow/tree/master/__main__.py#L15\">\n",
       "<SigArgSection>\n",
       "<SigArg name=\"self\" />\n",
       "</SigArgSection>\n",
       "<Description summary=\"Terminate the running workflow.\" />\n",
       "<ParamSection name=\"Parameters\">\n",
       "\t<Parameter name=\"**kwargs\" type=\"Any\" desc=\"Additional arguments to pass to the terminate command.\" />\n",
       "</ParamSection>\n",
       "<ParamSection name=\"Returns\">\n",
       "\t<Parameter type=\"bool\" desc=\"True if the command was successful, False otherwise.\" />\n",
       "</ParamSection>\n",
       "</DocSection>"
      ],
      "text/plain": [
       "<nbdoc.showdoc.ShowDoc at 0x10a12bad0>"
      ]
     },
     "execution_count": 10,
     "metadata": {},
     "output_type": "execute_result"
    }
   ],
   "source": [
    "ShowDoc(ArgoWorkflowsTriggeredRun.terminate)"
   ]
  },
  {
   "cell_type": "code",
   "execution_count": 11,
   "id": "48a9708f",
   "metadata": {
    "scrolled": true
   },
   "outputs": [
    {
     "data": {
      "text/html": [
       "<HTMLRemove>\n",
       "<h4> <code>method</code> <span style=\"color:Brown\">ArgoWorkflowsTriggeredRun.suspend</span> <em>(self)</em><a href=\"https://github.com/Netflix/metaflow/tree/master/__main__.py#L18\" style=\"float:right\">[source]</a></h4><p><blockquote>Suspend&nbsp;the&nbsp;running&nbsp;workflow.<br><br>Parameters<br>----------<br>**kwargs&nbsp;:&nbsp;Any<br>&nbsp;&nbsp;&nbsp;&nbsp;Additional&nbsp;arguments&nbsp;to&nbsp;pass&nbsp;to&nbsp;the&nbsp;suspend&nbsp;command.<br><br>Returns<br>-------<br>bool<br>&nbsp;&nbsp;&nbsp;&nbsp;True&nbsp;if&nbsp;the&nbsp;command&nbsp;was&nbsp;successful,&nbsp;False&nbsp;otherwise.</blockquote></p>\n",
       "</HTMLRemove>\n",
       "<DocSection type=\"method\" name=\"ArgoWorkflowsTriggeredRun.suspend\" module=\"metaflow\" show_import=\"False\" heading_level=\"4\" link=\"https://github.com/Netflix/metaflow/tree/master/__main__.py#L18\">\n",
       "<SigArgSection>\n",
       "<SigArg name=\"self\" />\n",
       "</SigArgSection>\n",
       "<Description summary=\"Suspend the running workflow.\" />\n",
       "<ParamSection name=\"Parameters\">\n",
       "\t<Parameter name=\"**kwargs\" type=\"Any\" desc=\"Additional arguments to pass to the suspend command.\" />\n",
       "</ParamSection>\n",
       "<ParamSection name=\"Returns\">\n",
       "\t<Parameter type=\"bool\" desc=\"True if the command was successful, False otherwise.\" />\n",
       "</ParamSection>\n",
       "</DocSection>"
      ],
      "text/plain": [
       "<nbdoc.showdoc.ShowDoc at 0x10a126410>"
      ]
     },
     "execution_count": 11,
     "metadata": {},
     "output_type": "execute_result"
    }
   ],
   "source": [
    "ShowDoc(ArgoWorkflowsTriggeredRun.suspend)"
   ]
  },
  {
   "cell_type": "code",
   "execution_count": 12,
   "id": "7979106a",
   "metadata": {
    "scrolled": true
   },
   "outputs": [
    {
     "data": {
      "text/html": [
       "<HTMLRemove>\n",
       "<h4> <code>method</code> <span style=\"color:Brown\">ArgoWorkflowsTriggeredRun.unsuspend</span> <em>(self)</em><a href=\"https://github.com/Netflix/metaflow/tree/master/__main__.py#L21\" style=\"float:right\">[source]</a></h4><p><blockquote>Unsuspend&nbsp;the&nbsp;suspended&nbsp;workflow.<br><br>Parameters<br>----------<br>**kwargs&nbsp;:&nbsp;Any<br>&nbsp;&nbsp;&nbsp;&nbsp;Additional&nbsp;arguments&nbsp;to&nbsp;pass&nbsp;to&nbsp;the&nbsp;unsuspend&nbsp;command.<br><br>Returns<br>-------<br>bool<br>&nbsp;&nbsp;&nbsp;&nbsp;True&nbsp;if&nbsp;the&nbsp;command&nbsp;was&nbsp;successful,&nbsp;False&nbsp;otherwise.</blockquote></p>\n",
       "</HTMLRemove>\n",
       "<DocSection type=\"method\" name=\"ArgoWorkflowsTriggeredRun.unsuspend\" module=\"metaflow\" show_import=\"False\" heading_level=\"4\" link=\"https://github.com/Netflix/metaflow/tree/master/__main__.py#L21\">\n",
       "<SigArgSection>\n",
       "<SigArg name=\"self\" />\n",
       "</SigArgSection>\n",
       "<Description summary=\"Unsuspend the suspended workflow.\" />\n",
       "<ParamSection name=\"Parameters\">\n",
       "\t<Parameter name=\"**kwargs\" type=\"Any\" desc=\"Additional arguments to pass to the unsuspend command.\" />\n",
       "</ParamSection>\n",
       "<ParamSection name=\"Returns\">\n",
       "\t<Parameter type=\"bool\" desc=\"True if the command was successful, False otherwise.\" />\n",
       "</ParamSection>\n",
       "</DocSection>"
      ],
      "text/plain": [
       "<nbdoc.showdoc.ShowDoc at 0x10a142290>"
      ]
     },
     "execution_count": 12,
     "metadata": {},
     "output_type": "execute_result"
    }
   ],
   "source": [
    "ShowDoc(ArgoWorkflowsTriggeredRun.unsuspend)"
   ]
  },
  {
   "cell_type": "code",
   "execution_count": 13,
   "id": "7e7a5516",
   "metadata": {},
   "outputs": [
    {
     "data": {
      "text/html": [
       "<HTMLRemove>\n",
       "<h4> <code>method</code> <span style=\"color:Brown\">ArgoWorkflowsTriggeredRun.status</span> <em>(self)</em><a href=\"https://github.com/Netflix/metaflow/tree/master/__main__.py#L24\" style=\"float:right\">[source]</a></h4><p><blockquote>Get&nbsp;the&nbsp;status&nbsp;of&nbsp;the&nbsp;triggered&nbsp;run.<br><br>Returns<br>-------<br>str,&nbsp;optional<br>&nbsp;&nbsp;&nbsp;&nbsp;The&nbsp;status&nbsp;of&nbsp;the&nbsp;workflow&nbsp;considering&nbsp;the&nbsp;run&nbsp;object,&nbsp;or&nbsp;None&nbsp;if&nbsp;the&nbsp;status&nbsp;could&nbsp;not&nbsp;be&nbsp;retrieved.</blockquote></p>\n",
       "</HTMLRemove>\n",
       "<DocSection type=\"method\" name=\"ArgoWorkflowsTriggeredRun.status\" module=\"metaflow\" show_import=\"False\" heading_level=\"4\" link=\"https://github.com/Netflix/metaflow/tree/master/__main__.py#L24\">\n",
       "<SigArgSection>\n",
       "<SigArg name=\"self\" />\n",
       "</SigArgSection>\n",
       "<Description summary=\"Get the status of the triggered run.\" />\n",
       "<ParamSection name=\"Returns\">\n",
       "\t<Parameter type=\"str, optional\" desc=\"The status of the workflow considering the run object, or None if the status could not be retrieved.\" />\n",
       "</ParamSection>\n",
       "</DocSection>"
      ],
      "text/plain": [
       "<nbdoc.showdoc.ShowDoc at 0x10a142fd0>"
      ]
     },
     "execution_count": 13,
     "metadata": {},
     "output_type": "execute_result"
    }
   ],
   "source": [
    "ShowDoc(ArgoWorkflowsTriggeredRun.status)"
   ]
  },
  {
   "cell_type": "markdown",
   "id": "8d9ae378",
   "metadata": {},
   "source": [
    "## Deploy Step Functions with `StepFunctionsDeployer`"
   ]
  },
  {
   "cell_type": "code",
   "execution_count": 14,
   "id": "834cf398",
   "metadata": {},
   "outputs": [
    {
     "data": {
      "text/html": [
       "<HTMLRemove>\n",
       "<h4> <code>method</code> <span style=\"color:Brown\">StepFunctionsDeployer.create</span> <em>(self, **kwargs) -> 'StepFunctionsDeployedFlow'</em><a href=\"https://github.com/Netflix/metaflow/tree/master/__main__.py#L42\" style=\"float:right\">[source]</a></h4><p><blockquote>Create&nbsp;a&nbsp;deployed&nbsp;flow&nbsp;using&nbsp;the&nbsp;deployer&nbsp;implementation.<br><br>Parameters<br>----------<br>**kwargs&nbsp;:&nbsp;Any<br>&nbsp;&nbsp;&nbsp;&nbsp;Additional&nbsp;arguments&nbsp;to&nbsp;pass&nbsp;to&nbsp;`create`&nbsp;corresponding&nbsp;to&nbsp;the<br>&nbsp;&nbsp;&nbsp;&nbsp;command&nbsp;line&nbsp;arguments&nbsp;of&nbsp;`create`<br><br>Returns<br>-------<br>DeployedFlow<br>&nbsp;&nbsp;&nbsp;&nbsp;DeployedFlow&nbsp;object&nbsp;representing&nbsp;the&nbsp;deployed&nbsp;flow.<br><br>Raises<br>------<br>Exception<br>&nbsp;&nbsp;&nbsp;&nbsp;If&nbsp;there&nbsp;is&nbsp;an&nbsp;error&nbsp;during&nbsp;deployment.</blockquote></p>\n",
       "</HTMLRemove>\n",
       "<DocSection type=\"method\" name=\"StepFunctionsDeployer.create\" module=\"metaflow\" show_import=\"False\" heading_level=\"4\" link=\"https://github.com/Netflix/metaflow/tree/master/__main__.py#L42\">\n",
       "<SigArgSection>\n",
       "<SigArg name=\"self\" /><SigArg name=\"**kwargs\" />\n",
       "</SigArgSection>\n",
       "<Description summary=\"Create a deployed flow using the deployer implementation.\" />\n",
       "<ParamSection name=\"Parameters\">\n",
       "\t<Parameter name=\"**kwargs\" type=\"Any\" desc=\"Additional arguments to pass to `create` corresponding to the\\ncommand line arguments of `create`\" />\n",
       "</ParamSection>\n",
       "<ParamSection name=\"Returns\">\n",
       "\t<Parameter type=\"DeployedFlow\" desc=\"DeployedFlow object representing the deployed flow.\" />\n",
       "</ParamSection>\n",
       "<ParamSection name=\"Raises\">\n",
       "\t<Parameter type=\"Exception\" desc=\"If there is an error during deployment.\" />\n",
       "</ParamSection>\n",
       "</DocSection>"
      ],
      "text/plain": [
       "<nbdoc.showdoc.ShowDoc at 0x10a160fd0>"
      ]
     },
     "execution_count": 14,
     "metadata": {},
     "output_type": "execute_result"
    }
   ],
   "source": [
    "from metaflow.plugins.aws.step_functions.step_functions_deployer import production_token as sfn_production_token\n",
    "from metaflow.plugins.aws.step_functions.step_functions_deployer import list_runs as sfn_list_runs\n",
    "from metaflow.plugins.aws.step_functions.step_functions_deployer import delete as sfn_delete\n",
    "from metaflow.plugins.aws.step_functions.step_functions_deployer import trigger as sfn_trigger\n",
    "from metaflow.plugins.aws.step_functions.step_functions_deployer import terminate as sfn_terminate\n",
    "\n",
    "class StepFunctionsTriggeredRun:\n",
    "    \n",
    "    @property\n",
    "    def run(self):\n",
    "        pass\n",
    "    \n",
    "    def terminate(self):\n",
    "        pass\n",
    "    \n",
    "\n",
    "StepFunctionsTriggeredRun.__doc__ = TriggeredRun.__doc__\n",
    "StepFunctionsTriggeredRun.run.__doc__ = TriggeredRun.run.__doc__\n",
    "StepFunctionsTriggeredRun.terminate.__doc__ = sfn_terminate.__doc__\n",
    "\n",
    "\n",
    "class StepFunctionsDeployedFlow:\n",
    "    @property\n",
    "    def production_token(self):\n",
    "        pass\n",
    "    \n",
    "    def trigger(self) -> 'StepFunctionsTriggeredRun':\n",
    "        pass\n",
    "    \n",
    "    def delete(self):\n",
    "        pass\n",
    "\n",
    "    def list_runs(self, states):\n",
    "        pass\n",
    "    \n",
    "StepFunctionsDeployedFlow.production_token.__doc__ = sfn_production_token.__doc__\n",
    "StepFunctionsDeployedFlow.trigger.__doc__ = sfn_trigger.__doc__\n",
    "StepFunctionsDeployedFlow.delete.__doc__ = sfn_delete.__doc__\n",
    "StepFunctionsDeployedFlow.list_runs.__doc__ = sfn_list_runs.__doc__\n",
    "\n",
    "class StepFunctionsDeployer:\n",
    "    def create(self, **kwargs) -> 'StepFunctionsDeployedFlow':\n",
    "        pass\n",
    "\n",
    "StepFunctionsDeployer.create.__doc__ = DeployerImpl.create.__doc__\n",
    "\n",
    "ShowDoc(StepFunctionsDeployer.create)"
   ]
  },
  {
   "cell_type": "markdown",
   "id": "27e0e3fa",
   "metadata": {},
   "source": [
    "### Manage a flow deployed on Step Functions with `StepFunctionsDeployedFlow`"
   ]
  },
  {
   "cell_type": "code",
   "execution_count": 15,
   "id": "0dddad99",
   "metadata": {},
   "outputs": [
    {
     "data": {
      "text/html": [
       "<HTMLRemove>\n",
       "<h4> <code>property</code> <span style=\"color:Brown\">StepFunctionsDeployedFlow.production_token</span> <em></em></h4><p><blockquote>Get&nbsp;the&nbsp;production&nbsp;token&nbsp;for&nbsp;the&nbsp;deployed&nbsp;flow.<br><br>Returns<br>-------<br>str,&nbsp;optional<br>&nbsp;&nbsp;&nbsp;&nbsp;The&nbsp;production&nbsp;token,&nbsp;None&nbsp;if&nbsp;it&nbsp;cannot&nbsp;be&nbsp;retrieved.</blockquote></p>\n",
       "</HTMLRemove>\n",
       "<DocSection type=\"property\" name=\"StepFunctionsDeployedFlow.production_token\" module=\"__main__\" show_import=\"False\" heading_level=\"4\">\n",
       "\n",
       "<Description summary=\"Get the production token for the deployed flow.\\n\" />\n",
       "<ParamSection name=\"Returns\">\n",
       "<Parameter type=\"str, optional\" desc=\"The production token, None if it cannot be retrieved.\" />\n",
       "</ParamSection>\n",
       "</DocSection>"
      ],
      "text/plain": [
       "<nbdoc.showdoc.ShowDoc at 0x10a1272d0>"
      ]
     },
     "execution_count": 15,
     "metadata": {},
     "output_type": "execute_result"
    }
   ],
   "source": [
    "ShowDoc(StepFunctionsDeployedFlow.production_token)"
   ]
  },
  {
   "cell_type": "code",
   "execution_count": 16,
   "id": "4fa049eb",
   "metadata": {},
   "outputs": [
    {
     "data": {
      "text/html": [
       "<HTMLRemove>\n",
       "<h4> <code>method</code> <span style=\"color:Brown\">StepFunctionsDeployedFlow.trigger</span> <em>(self) -> 'StepFunctionsTriggeredRun'</em><a href=\"https://github.com/Netflix/metaflow/tree/master/__main__.py#L27\" style=\"float:right\">[source]</a></h4><p><blockquote>Trigger&nbsp;a&nbsp;new&nbsp;run&nbsp;for&nbsp;the&nbsp;deployed&nbsp;flow.<br><br>Parameters<br>----------<br>**kwargs&nbsp;:&nbsp;Any<br>&nbsp;&nbsp;&nbsp;&nbsp;Additional&nbsp;arguments&nbsp;to&nbsp;pass&nbsp;to&nbsp;the&nbsp;trigger&nbsp;command,&nbsp;`Parameters`&nbsp;in&nbsp;particular<br><br>Returns<br>-------<br>StepFunctionsTriggeredRun<br>&nbsp;&nbsp;&nbsp;&nbsp;The&nbsp;triggered&nbsp;run&nbsp;instance.<br><br>Raises<br>------<br>Exception<br>&nbsp;&nbsp;&nbsp;&nbsp;If&nbsp;there&nbsp;is&nbsp;an&nbsp;error&nbsp;during&nbsp;the&nbsp;trigger&nbsp;process.</blockquote></p>\n",
       "</HTMLRemove>\n",
       "<DocSection type=\"method\" name=\"StepFunctionsDeployedFlow.trigger\" module=\"metaflow\" show_import=\"False\" heading_level=\"4\" link=\"https://github.com/Netflix/metaflow/tree/master/__main__.py#L27\">\n",
       "<SigArgSection>\n",
       "<SigArg name=\"self\" />\n",
       "</SigArgSection>\n",
       "<Description summary=\"Trigger a new run for the deployed flow.\" />\n",
       "<ParamSection name=\"Parameters\">\n",
       "\t<Parameter name=\"**kwargs\" type=\"Any\" desc=\"Additional arguments to pass to the trigger command, `Parameters` in particular\" />\n",
       "</ParamSection>\n",
       "<ParamSection name=\"Returns\">\n",
       "\t<Parameter type=\"StepFunctionsTriggeredRun\" desc=\"The triggered run instance.\" />\n",
       "</ParamSection>\n",
       "<ParamSection name=\"Raises\">\n",
       "\t<Parameter type=\"Exception\" desc=\"If there is an error during the trigger process.\" />\n",
       "</ParamSection>\n",
       "</DocSection>"
      ],
      "text/plain": [
       "<nbdoc.showdoc.ShowDoc at 0x10a141450>"
      ]
     },
     "execution_count": 16,
     "metadata": {},
     "output_type": "execute_result"
    }
   ],
   "source": [
    "ShowDoc(StepFunctionsDeployedFlow.trigger)"
   ]
  },
  {
   "cell_type": "code",
   "execution_count": 17,
   "id": "f4f2d783",
   "metadata": {},
   "outputs": [
    {
     "data": {
      "text/html": [
       "<HTMLRemove>\n",
       "<h4> <code>method</code> <span style=\"color:Brown\">StepFunctionsDeployedFlow.delete</span> <em>(self)</em><a href=\"https://github.com/Netflix/metaflow/tree/master/__main__.py#L30\" style=\"float:right\">[source]</a></h4><p><blockquote>Delete&nbsp;the&nbsp;deployed&nbsp;flow.<br><br>Parameters<br>----------<br>**kwargs&nbsp;:&nbsp;Any<br>&nbsp;&nbsp;&nbsp;&nbsp;Additional&nbsp;arguments&nbsp;to&nbsp;pass&nbsp;to&nbsp;the&nbsp;delete&nbsp;command.<br><br>Returns<br>-------<br>bool<br>&nbsp;&nbsp;&nbsp;&nbsp;True&nbsp;if&nbsp;the&nbsp;command&nbsp;was&nbsp;successful,&nbsp;False&nbsp;otherwise.</blockquote></p>\n",
       "</HTMLRemove>\n",
       "<DocSection type=\"method\" name=\"StepFunctionsDeployedFlow.delete\" module=\"metaflow\" show_import=\"False\" heading_level=\"4\" link=\"https://github.com/Netflix/metaflow/tree/master/__main__.py#L30\">\n",
       "<SigArgSection>\n",
       "<SigArg name=\"self\" />\n",
       "</SigArgSection>\n",
       "<Description summary=\"Delete the deployed flow.\" />\n",
       "<ParamSection name=\"Parameters\">\n",
       "\t<Parameter name=\"**kwargs\" type=\"Any\" desc=\"Additional arguments to pass to the delete command.\" />\n",
       "</ParamSection>\n",
       "<ParamSection name=\"Returns\">\n",
       "\t<Parameter type=\"bool\" desc=\"True if the command was successful, False otherwise.\" />\n",
       "</ParamSection>\n",
       "</DocSection>"
      ],
      "text/plain": [
       "<nbdoc.showdoc.ShowDoc at 0x10a147cd0>"
      ]
     },
     "execution_count": 17,
     "metadata": {},
     "output_type": "execute_result"
    }
   ],
   "source": [
    "ShowDoc(StepFunctionsDeployedFlow.delete)"
   ]
  },
  {
   "cell_type": "code",
   "execution_count": 18,
   "id": "a88c5e2d",
   "metadata": {},
   "outputs": [
    {
     "data": {
      "text/html": [
       "<HTMLRemove>\n",
       "<h4> <code>method</code> <span style=\"color:Brown\">StepFunctionsDeployedFlow.list_runs</span> <em>(self, states)</em><a href=\"https://github.com/Netflix/metaflow/tree/master/__main__.py#L33\" style=\"float:right\">[source]</a></h4><p><blockquote>List&nbsp;runs&nbsp;of&nbsp;the&nbsp;deployed&nbsp;flow.<br><br>Parameters<br>----------<br>states&nbsp;:&nbsp;Optional[List[str]],&nbsp;optional<br>&nbsp;&nbsp;&nbsp;&nbsp;A&nbsp;list&nbsp;of&nbsp;states&nbsp;to&nbsp;filter&nbsp;the&nbsp;runs&nbsp;by.&nbsp;Allowed&nbsp;values&nbsp;are:<br>&nbsp;&nbsp;&nbsp;&nbsp;RUNNING,&nbsp;SUCCEEDED,&nbsp;FAILED,&nbsp;TIMED_OUT,&nbsp;ABORTED.<br>&nbsp;&nbsp;&nbsp;&nbsp;If&nbsp;not&nbsp;provided,&nbsp;all&nbsp;states&nbsp;will&nbsp;be&nbsp;considered.<br><br>Returns<br>-------<br>List[TriggeredRun]<br>&nbsp;&nbsp;&nbsp;&nbsp;A&nbsp;list&nbsp;of&nbsp;TriggeredRun&nbsp;objects&nbsp;representing&nbsp;the&nbsp;runs&nbsp;of&nbsp;the&nbsp;deployed&nbsp;flow.<br><br>Raises<br>------<br>ValueError<br>&nbsp;&nbsp;&nbsp;&nbsp;If&nbsp;any&nbsp;of&nbsp;the&nbsp;provided&nbsp;states&nbsp;are&nbsp;invalid&nbsp;or&nbsp;if&nbsp;there&nbsp;are&nbsp;duplicate&nbsp;states.</blockquote></p>\n",
       "</HTMLRemove>\n",
       "<DocSection type=\"method\" name=\"StepFunctionsDeployedFlow.list_runs\" module=\"metaflow\" show_import=\"False\" heading_level=\"4\" link=\"https://github.com/Netflix/metaflow/tree/master/__main__.py#L33\">\n",
       "<SigArgSection>\n",
       "<SigArg name=\"self\" /><SigArg name=\"states\" />\n",
       "</SigArgSection>\n",
       "<Description summary=\"List runs of the deployed flow.\" />\n",
       "<ParamSection name=\"Parameters\">\n",
       "\t<Parameter name=\"states\" type=\"Optional[List[str]], optional\" desc=\"A list of states to filter the runs by. Allowed values are:\\nRUNNING, SUCCEEDED, FAILED, TIMED_OUT, ABORTED.\\nIf not provided, all states will be considered.\" />\n",
       "</ParamSection>\n",
       "<ParamSection name=\"Returns\">\n",
       "\t<Parameter type=\"List[TriggeredRun]\" desc=\"A list of TriggeredRun objects representing the runs of the deployed flow.\" />\n",
       "</ParamSection>\n",
       "<ParamSection name=\"Raises\">\n",
       "\t<Parameter type=\"ValueError\" desc=\"If any of the provided states are invalid or if there are duplicate states.\" />\n",
       "</ParamSection>\n",
       "</DocSection>"
      ],
      "text/plain": [
       "<nbdoc.showdoc.ShowDoc at 0x10a162310>"
      ]
     },
     "execution_count": 18,
     "metadata": {},
     "output_type": "execute_result"
    }
   ],
   "source": [
    "ShowDoc(StepFunctionsDeployedFlow.list_runs)"
   ]
  },
  {
   "cell_type": "markdown",
   "id": "699d0ec4",
   "metadata": {},
   "source": [
    "### Manage a run triggered on Step Functions with `StepFunctionsTriggeredRun`"
   ]
  },
  {
   "cell_type": "code",
   "execution_count": 19,
   "id": "a4ab8559",
   "metadata": {},
   "outputs": [
    {
     "data": {
      "text/html": [
       "<HTMLRemove>\n",
       "<h4> <code>property</code> <span style=\"color:Brown\">StepFunctionsTriggeredRun.run</span> <em></em></h4><p><blockquote>Retrieve&nbsp;the&nbsp;`Run`&nbsp;object&nbsp;for&nbsp;the&nbsp;triggered&nbsp;run.<br><br>Note&nbsp;that&nbsp;Metaflow&nbsp;`Run`&nbsp;becomes&nbsp;available&nbsp;only&nbsp;when&nbsp;the&nbsp;`start`&nbsp;task<br>has&nbsp;started&nbsp;executing.<br><br>Returns<br>-------<br>Run,&nbsp;optional<br>&nbsp;&nbsp;&nbsp;&nbsp;Metaflow&nbsp;Run&nbsp;object&nbsp;if&nbsp;the&nbsp;`start`&nbsp;step&nbsp;has&nbsp;started&nbsp;executing,&nbsp;otherwise&nbsp;None.</blockquote></p>\n",
       "</HTMLRemove>\n",
       "<DocSection type=\"property\" name=\"StepFunctionsTriggeredRun.run\" module=\"__main__\" show_import=\"False\" heading_level=\"4\">\n",
       "\n",
       "<Description summary=\"Retrieve the `Run` object for the triggered run.\\n\\nNote that Metaflow `Run` becomes available only when the `start` task\\nhas started executing.\\n\" />\n",
       "<ParamSection name=\"Returns\">\n",
       "<Parameter type=\"Run, optional\" desc=\"Metaflow Run object if the `start` step has started executing, otherwise None.\" />\n",
       "</ParamSection>\n",
       "</DocSection>"
      ],
      "text/plain": [
       "<nbdoc.showdoc.ShowDoc at 0x10a161a50>"
      ]
     },
     "execution_count": 19,
     "metadata": {},
     "output_type": "execute_result"
    }
   ],
   "source": [
    "ShowDoc(StepFunctionsTriggeredRun.run)"
   ]
  },
  {
   "cell_type": "code",
   "execution_count": 20,
   "id": "5e2ec6b7",
   "metadata": {},
   "outputs": [
    {
     "data": {
      "text/html": [
       "<HTMLRemove>\n",
       "<h4> <code>method</code> <span style=\"color:Brown\">StepFunctionsTriggeredRun.terminate</span> <em>(self)</em><a href=\"https://github.com/Netflix/metaflow/tree/master/__main__.py#L13\" style=\"float:right\">[source]</a></h4><p><blockquote>Terminate&nbsp;the&nbsp;running&nbsp;workflow.<br><br>Parameters<br>----------<br>**kwargs&nbsp;:&nbsp;Any<br>&nbsp;&nbsp;&nbsp;&nbsp;Additional&nbsp;arguments&nbsp;to&nbsp;pass&nbsp;to&nbsp;the&nbsp;terminate&nbsp;command.<br><br>Returns<br>-------<br>bool<br>&nbsp;&nbsp;&nbsp;&nbsp;True&nbsp;if&nbsp;the&nbsp;command&nbsp;was&nbsp;successful,&nbsp;False&nbsp;otherwise.</blockquote></p>\n",
       "</HTMLRemove>\n",
       "<DocSection type=\"method\" name=\"StepFunctionsTriggeredRun.terminate\" module=\"metaflow\" show_import=\"False\" heading_level=\"4\" link=\"https://github.com/Netflix/metaflow/tree/master/__main__.py#L13\">\n",
       "<SigArgSection>\n",
       "<SigArg name=\"self\" />\n",
       "</SigArgSection>\n",
       "<Description summary=\"Terminate the running workflow.\" />\n",
       "<ParamSection name=\"Parameters\">\n",
       "\t<Parameter name=\"**kwargs\" type=\"Any\" desc=\"Additional arguments to pass to the terminate command.\" />\n",
       "</ParamSection>\n",
       "<ParamSection name=\"Returns\">\n",
       "\t<Parameter type=\"bool\" desc=\"True if the command was successful, False otherwise.\" />\n",
       "</ParamSection>\n",
       "</DocSection>"
      ],
      "text/plain": [
       "<nbdoc.showdoc.ShowDoc at 0x10a140890>"
      ]
     },
     "execution_count": 20,
     "metadata": {},
     "output_type": "execute_result"
    }
   ],
   "source": [
    "ShowDoc(StepFunctionsTriggeredRun.terminate)"
   ]
  },
  {
   "cell_type": "code",
   "execution_count": null,
   "id": "a03b8aab",
   "metadata": {},
   "outputs": [],
   "source": []
  }
 ],
 "metadata": {
  "kernelspec": {
   "display_name": "Python 3 (ipykernel)",
   "language": "python",
   "name": "python3"
  },
  "language_info": {
   "codemirror_mode": {
    "name": "ipython",
    "version": 3
   },
   "file_extension": ".py",
   "mimetype": "text/x-python",
   "name": "python",
   "nbconvert_exporter": "python",
   "pygments_lexer": "ipython3",
   "version": "3.11.0"
  }
 },
 "nbformat": 4,
 "nbformat_minor": 5
}
